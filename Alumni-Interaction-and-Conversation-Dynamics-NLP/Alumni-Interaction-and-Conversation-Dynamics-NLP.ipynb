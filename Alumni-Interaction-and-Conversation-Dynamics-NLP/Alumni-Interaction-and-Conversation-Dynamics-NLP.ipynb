{
 "cells": [
  {
   "cell_type": "markdown",
   "metadata": {},
   "source": [
    "# Exploring Alumni Interaction and Conversation Dynamics\n",
    "\n",
    "####  *by Yusuf Abolarinwa*\n",
    "\n",
    "#### Tags: *Alumni Networks, WhatsApp Conversations, Group Dynamics, Sentiment Analysis, Natural Language Processing (NLP)*\n",
    "\n",
    "#### - Background \n",
    "\n",
    "Education is so much more than the certificates and degrees we receive. It is about the lessons we learn, the people we meet, and the relationships we build along the way. Alumni networks, which are a key part of the educational journey, help keep these relationships alive long after graduation. These networks offer alumni a way to stay connected, share ideas, and continue growing both personally and professionally. \n",
    "\n",
    "With instant messaging platforms like WhatsApp being commonly used for closer digital interactions, it is important to stay connected and informed about what’s happening with former peers and how conversations unfold. My project aims to explore the quality of interactions within my department’s alumni WhatsApp group through sentiment analysis. By analyzing the emotions and engagement in these conversations, I seek to provide insights into how we stay connected, share experiences, and continue building relationships after graduation.\n",
    "\n",
    "#### - Challenges \n",
    "              \n",
    " - **Privacy and Ethical Considerations:** Analyzing WhatsApp conversations involves accessing potentially sensitive personal data. To address this, I ensure the anonymization of alumni phone numbers and any other identifying details, safeguarding privacy while maintaining ethical standards throughout the analysis process.\n",
    "\n",
    " - **Informal Language:** WhatsApp conversations often include slang, emojis, and informal language, which can complicate sentiment analysis. \n",
    "\n",
    " - **Data Noise:** WhatsApp conversations may contain excessive noise, such as irrelevant content, off-topic discussions, or incomplete sentences, which can complicate the sentiment analysis process. Cleaning the data and filtering out irrelevant content is essential to obtaining meaningful insights.\n"
   ]
  },
  {
   "cell_type": "markdown",
   "metadata": {},
   "source": [
    "## Import important libraries"
   ]
  },
  {
   "cell_type": "code",
   "execution_count": 1,
   "metadata": {},
   "outputs": [],
   "source": [
    "import pandas as pd\n",
    "import numpy as np\n",
    "\n",
    "import datetime\n",
    "from os import path\n",
    "import zipfile\n",
    "import re\n",
    "import collections\n",
    "from collections import Counter\n",
    "\n",
    "import matplotlib\n",
    "import matplotlib.pyplot as plt\n",
    "import seaborn as sns\n",
    "import plotly.graph_objects as go\n",
    "import plotly.express as px\n",
    "import networkx as nx\n",
    "\n",
    "\n",
    "import emoji\n",
    "from PIL import Image\n",
    "from wordcloud import WordCloud, STOPWORDS, ImageColorGenerator\n",
    "\n",
    "\n",
    "import random\n",
    "from sklearn.feature_extraction.text import TfidfVectorizer\n",
    "from sklearn.decomposition import LatentDirichletAllocation\n",
    "from gensim.models import CoherenceModel\n",
    "import gensim\n",
    "from gensim import corpora\n",
    "gensim.utils.random.seed(42)\n",
    "import pyLDAvis\n",
    "import pyLDAvis.gensim\n",
    "import pyLDAvis.gensim_models as gensimvis\n",
    "import optuna\n",
    "from gensim.models import LdaModel\n",
    "\n",
    "import nltk \n",
    "from nltk.corpus import stopwords\n",
    "from nltk.tokenize import word_tokenize\n",
    "from nltk.stem import WordNetLemmatizer\n",
    "\n",
    "import warnings\n",
    "warnings.filterwarnings(\"ignore\", category=DeprecationWarning)\n"
   ]
  },
  {
   "cell_type": "markdown",
   "metadata": {},
   "source": [
    "## Read data"
   ]
  },
  {
   "cell_type": "markdown",
   "metadata": {},
   "source": [
    "#### - Open Whatsapp zip folder & extract text file"
   ]
  },
  {
   "cell_type": "code",
   "execution_count": null,
   "metadata": {},
   "outputs": [],
   "source": [
    "# File paths\n",
    "zip_path = \"C:\\\\Users\\\\DELL\\\\Desktop\\\\Alumni-Interaction-and-Conversation-Dynamics-NLP\\\\data\\\\raw\\\\WhatsApp Chat with Certified Statisticians.zip\"\n",
    "txt_file_path = \"WhatsApp Chat with Certified Statisticians.txt\"\n",
    "\n",
    "# Extract text from ZIP\n",
    "with zipfile.ZipFile(zip_path, 'r') as zip_ref:\n",
    "    with zip_ref.open(txt_file_path) as file:\n",
    "        text_block = file.read().decode('utf-8')"
   ]
  },
  {
   "cell_type": "markdown",
   "metadata": {},
   "source": [
    "#### - Extract chats/posts/messages"
   ]
  },
  {
   "cell_type": "code",
   "execution_count": 3,
   "metadata": {},
   "outputs": [],
   "source": [
    "# Regular expression to extract messages\n",
    "pattern = r\"(\\d{1,2}/\\d{1,2}/\\d{2,4}, \\d{1,2}:\\d{2} ?[APMapm]*) - ([^:]+): (.+)\"\n",
    "matches = re.findall(pattern, text_block)\n",
    "\n",
    "# Convert to DataFrame\n",
    "df_raw = pd.DataFrame(matches, columns=[\"timestamp\", \"member\", \"message\"])\n",
    "# df_raw.head()"
   ]
  },
  {
   "cell_type": "markdown",
   "metadata": {},
   "source": [
    "#### - Anonymization of member's identity/phone number"
   ]
  },
  {
   "cell_type": "code",
   "execution_count": 4,
   "metadata": {},
   "outputs": [],
   "source": [
    "# Anonymize member's identity in the whatsapp group\n",
    "member_mapping = {member: f\"STA14_{i+1}\" for i, member in enumerate(df_raw[\"member\"].unique())}\n",
    "df_raw[\"member\"] = df_raw[\"member\"].map(member_mapping)"
   ]
  },
  {
   "cell_type": "code",
   "execution_count": 5,
   "metadata": {},
   "outputs": [
    {
     "data": {
      "text/html": [
       "<div>\n",
       "<style scoped>\n",
       "    .dataframe tbody tr th:only-of-type {\n",
       "        vertical-align: middle;\n",
       "    }\n",
       "\n",
       "    .dataframe tbody tr th {\n",
       "        vertical-align: top;\n",
       "    }\n",
       "\n",
       "    .dataframe thead th {\n",
       "        text-align: right;\n",
       "    }\n",
       "</style>\n",
       "<table border=\"1\" class=\"dataframe\">\n",
       "  <thead>\n",
       "    <tr style=\"text-align: right;\">\n",
       "      <th></th>\n",
       "      <th>timestamp</th>\n",
       "      <th>member</th>\n",
       "      <th>message</th>\n",
       "    </tr>\n",
       "  </thead>\n",
       "  <tbody>\n",
       "    <tr>\n",
       "      <th>0</th>\n",
       "      <td>8/7/22, 5:44 PM</td>\n",
       "      <td>STA14_1</td>\n",
       "      <td>MOVING TO UK🇬🇧 VIA STUDIES: A ROUGH ESTIMATE.</td>\n",
       "    </tr>\n",
       "    <tr>\n",
       "      <th>1</th>\n",
       "      <td>8/8/22, 6:22 AM</td>\n",
       "      <td>STA14_2</td>\n",
       "      <td>OPEN HEAVEN DEVOTIONAL</td>\n",
       "    </tr>\n",
       "    <tr>\n",
       "      <th>2</th>\n",
       "      <td>8/9/22, 6:53 PM</td>\n",
       "      <td>STA14_1</td>\n",
       "      <td>https://twitter.com/easyfckingmoney/status/155...</td>\n",
       "    </tr>\n",
       "    <tr>\n",
       "      <th>3</th>\n",
       "      <td>8/9/22, 7:01 PM</td>\n",
       "      <td>STA14_3</td>\n",
       "      <td>&lt;Media omitted&gt;</td>\n",
       "    </tr>\n",
       "    <tr>\n",
       "      <th>4</th>\n",
       "      <td>8/9/22, 8:50 PM</td>\n",
       "      <td>STA14_1</td>\n",
       "      <td>&lt;Media omitted&gt;</td>\n",
       "    </tr>\n",
       "  </tbody>\n",
       "</table>\n",
       "</div>"
      ],
      "text/plain": [
       "         timestamp   member                                            message\n",
       "0  8/7/22, 5:44 PM  STA14_1      MOVING TO UK🇬🇧 VIA STUDIES: A ROUGH ESTIMATE.\n",
       "1  8/8/22, 6:22 AM  STA14_2                             OPEN HEAVEN DEVOTIONAL\n",
       "2  8/9/22, 6:53 PM  STA14_1  https://twitter.com/easyfckingmoney/status/155...\n",
       "3  8/9/22, 7:01 PM  STA14_3                                    <Media omitted>\n",
       "4  8/9/22, 8:50 PM  STA14_1                                    <Media omitted>"
      ]
     },
     "execution_count": 5,
     "metadata": {},
     "output_type": "execute_result"
    }
   ],
   "source": [
    "df_raw.head()"
   ]
  },
  {
   "cell_type": "markdown",
   "metadata": {},
   "source": [
    "#### - Extracting more features for robust analysis"
   ]
  },
  {
   "cell_type": "code",
   "execution_count": 6,
   "metadata": {},
   "outputs": [],
   "source": [
    "# Convert Timestamp column to datetime format\n",
    "df_raw[\"timestamp\"] = pd.to_datetime(df_raw[\"timestamp\"], format=\"%m/%d/%y, %I:%M %p\", errors=\"coerce\")\n",
    "\n",
    "# Extract Date, Time, Day, and Hour\n",
    "df_raw[\"date\"] = df_raw[\"timestamp\"].dt.date\n",
    "df_raw[\"time\"] = df_raw[\"timestamp\"].dt.time\n",
    "df_raw[\"day_of_week\"] = df_raw[\"timestamp\"].dt.day_name()\n",
    "df_raw[\"hour\"] = df_raw[\"timestamp\"].dt.hour\n",
    "\n",
    "# Extract Message Length & Word Count\n",
    "df_raw[\"message_length\"] = df_raw[\"message\"].apply(len)\n",
    "df_raw[\"word_count\"] = df_raw[\"message\"].apply(lambda x: len(x.split()))\n",
    "\n",
    "# Extract Hashtags\n",
    "df_raw[\"hashtags\"] = df_raw[\"message\"].apply(lambda x: re.findall(r\"#\\w+\", x))\n",
    "\n",
    "# Extract Mentions\n",
    "df_raw[\"mentions\"] = df_raw[\"message\"].apply(lambda x: re.findall(r\"@[\\w]+\", x))\n",
    "\n",
    "# Extract Emojis using emoji.emoji_list()\n",
    "df_raw[\"emojis\"] = df_raw[\"message\"].apply(lambda x: [e['emoji'] for e in emoji.emoji_list(x)])"
   ]
  },
  {
   "cell_type": "code",
   "execution_count": 7,
   "metadata": {},
   "outputs": [
    {
     "data": {
      "text/plain": [
       "(3159, 12)"
      ]
     },
     "execution_count": 7,
     "metadata": {},
     "output_type": "execute_result"
    }
   ],
   "source": [
    "df_raw.shape"
   ]
  },
  {
   "cell_type": "markdown",
   "metadata": {},
   "source": [
    "## Text Preprocessing"
   ]
  },
  {
   "cell_type": "code",
   "execution_count": 8,
   "metadata": {},
   "outputs": [],
   "source": [
    "def chat_wrangle(df_raw):\n",
    "    \"\"\"\n",
    "    Clean the WhatsApp chat DataFrame by removing irrelevant content, duplicates,\n",
    "    and performing basic text preprocessing.\n",
    "    \n",
    "    Parameters:\n",
    "        df (pd.DataFrame): DataFrame containing the WhatsApp chat data.\n",
    "        \n",
    "    Returns:\n",
    "        pd.DataFrame: Cleaned DataFrame ready for analysis.\n",
    "    \"\"\"\n",
    "\n",
    "    \n",
    "    # 2. Remove duplicate messages (if any)\n",
    "    df_raw = df_raw.drop_duplicates(subset=[\"timestamp\", \"member\", \"message\"], keep='first')\n",
    "    \n",
    "    # 3. Remove rows where 'timestamp' or 'message' is missing or invalid\n",
    "    df_raw = df_raw.dropna(subset=[\"timestamp\", \"message\"])\n",
    "\n",
    "    # 4. Strip leading/trailing whitespaces from 'message' column\n",
    "    df_raw[\"message\"] = df_raw[\"message\"].apply(lambda x: x.strip() if isinstance(x, str) else x)\n",
    "\n",
    "    # 5. Optional: Remove any empty messages (in case there's something like \"<Media omitted>\")\n",
    "    df_raw = df_raw[df_raw[\"message\"].str.strip() != \"\"]\n",
    "    \n",
    "    # 6. Reset index\n",
    "    df_raw = df_raw.reset_index(drop=True)\n",
    "\n",
    "    return df_raw"
   ]
  },
  {
   "cell_type": "code",
   "execution_count": 9,
   "metadata": {},
   "outputs": [],
   "source": [
    "df0 = chat_wrangle(df_raw)\n",
    "df = df0.copy()"
   ]
  },
  {
   "cell_type": "code",
   "execution_count": 10,
   "metadata": {},
   "outputs": [
    {
     "data": {
      "text/html": [
       "<div>\n",
       "<style scoped>\n",
       "    .dataframe tbody tr th:only-of-type {\n",
       "        vertical-align: middle;\n",
       "    }\n",
       "\n",
       "    .dataframe tbody tr th {\n",
       "        vertical-align: top;\n",
       "    }\n",
       "\n",
       "    .dataframe thead th {\n",
       "        text-align: right;\n",
       "    }\n",
       "</style>\n",
       "<table border=\"1\" class=\"dataframe\">\n",
       "  <thead>\n",
       "    <tr style=\"text-align: right;\">\n",
       "      <th></th>\n",
       "      <th>timestamp</th>\n",
       "      <th>member</th>\n",
       "      <th>message</th>\n",
       "      <th>date</th>\n",
       "      <th>time</th>\n",
       "      <th>day_of_week</th>\n",
       "      <th>hour</th>\n",
       "      <th>message_length</th>\n",
       "      <th>word_count</th>\n",
       "      <th>hashtags</th>\n",
       "      <th>mentions</th>\n",
       "      <th>emojis</th>\n",
       "    </tr>\n",
       "  </thead>\n",
       "  <tbody>\n",
       "    <tr>\n",
       "      <th>0</th>\n",
       "      <td>2022-08-07 17:44:00</td>\n",
       "      <td>STA14_1</td>\n",
       "      <td>MOVING TO UK🇬🇧 VIA STUDIES: A ROUGH ESTIMATE.</td>\n",
       "      <td>2022-08-07</td>\n",
       "      <td>17:44:00</td>\n",
       "      <td>Sunday</td>\n",
       "      <td>17</td>\n",
       "      <td>45</td>\n",
       "      <td>8</td>\n",
       "      <td>[]</td>\n",
       "      <td>[]</td>\n",
       "      <td>[🇬🇧]</td>\n",
       "    </tr>\n",
       "    <tr>\n",
       "      <th>1</th>\n",
       "      <td>2022-08-08 06:22:00</td>\n",
       "      <td>STA14_2</td>\n",
       "      <td>OPEN HEAVEN DEVOTIONAL</td>\n",
       "      <td>2022-08-08</td>\n",
       "      <td>06:22:00</td>\n",
       "      <td>Monday</td>\n",
       "      <td>6</td>\n",
       "      <td>22</td>\n",
       "      <td>3</td>\n",
       "      <td>[]</td>\n",
       "      <td>[]</td>\n",
       "      <td>[]</td>\n",
       "    </tr>\n",
       "    <tr>\n",
       "      <th>2</th>\n",
       "      <td>2022-08-09 18:53:00</td>\n",
       "      <td>STA14_1</td>\n",
       "      <td>https://twitter.com/easyfckingmoney/status/155...</td>\n",
       "      <td>2022-08-09</td>\n",
       "      <td>18:53:00</td>\n",
       "      <td>Tuesday</td>\n",
       "      <td>18</td>\n",
       "      <td>92</td>\n",
       "      <td>1</td>\n",
       "      <td>[]</td>\n",
       "      <td>[]</td>\n",
       "      <td>[]</td>\n",
       "    </tr>\n",
       "    <tr>\n",
       "      <th>3</th>\n",
       "      <td>2022-08-09 19:01:00</td>\n",
       "      <td>STA14_3</td>\n",
       "      <td>&lt;Media omitted&gt;</td>\n",
       "      <td>2022-08-09</td>\n",
       "      <td>19:01:00</td>\n",
       "      <td>Tuesday</td>\n",
       "      <td>19</td>\n",
       "      <td>15</td>\n",
       "      <td>2</td>\n",
       "      <td>[]</td>\n",
       "      <td>[]</td>\n",
       "      <td>[]</td>\n",
       "    </tr>\n",
       "    <tr>\n",
       "      <th>4</th>\n",
       "      <td>2022-08-09 20:50:00</td>\n",
       "      <td>STA14_1</td>\n",
       "      <td>&lt;Media omitted&gt;</td>\n",
       "      <td>2022-08-09</td>\n",
       "      <td>20:50:00</td>\n",
       "      <td>Tuesday</td>\n",
       "      <td>20</td>\n",
       "      <td>15</td>\n",
       "      <td>2</td>\n",
       "      <td>[]</td>\n",
       "      <td>[]</td>\n",
       "      <td>[]</td>\n",
       "    </tr>\n",
       "    <tr>\n",
       "      <th>5</th>\n",
       "      <td>2022-08-10 02:53:00</td>\n",
       "      <td>STA14_2</td>\n",
       "      <td>OPEN HEAVEN DEVOTIONS</td>\n",
       "      <td>2022-08-10</td>\n",
       "      <td>02:53:00</td>\n",
       "      <td>Wednesday</td>\n",
       "      <td>2</td>\n",
       "      <td>22</td>\n",
       "      <td>3</td>\n",
       "      <td>[]</td>\n",
       "      <td>[]</td>\n",
       "      <td>[]</td>\n",
       "    </tr>\n",
       "    <tr>\n",
       "      <th>6</th>\n",
       "      <td>2022-08-11 03:42:00</td>\n",
       "      <td>STA14_2</td>\n",
       "      <td>OPEN HEAVENS DEVOTIONAL</td>\n",
       "      <td>2022-08-11</td>\n",
       "      <td>03:42:00</td>\n",
       "      <td>Thursday</td>\n",
       "      <td>3</td>\n",
       "      <td>23</td>\n",
       "      <td>3</td>\n",
       "      <td>[]</td>\n",
       "      <td>[]</td>\n",
       "      <td>[]</td>\n",
       "    </tr>\n",
       "    <tr>\n",
       "      <th>7</th>\n",
       "      <td>2022-08-11 23:55:00</td>\n",
       "      <td>STA14_2</td>\n",
       "      <td>OPEN HEAVENS DEVOTIONAL</td>\n",
       "      <td>2022-08-11</td>\n",
       "      <td>23:55:00</td>\n",
       "      <td>Thursday</td>\n",
       "      <td>23</td>\n",
       "      <td>24</td>\n",
       "      <td>3</td>\n",
       "      <td>[]</td>\n",
       "      <td>[]</td>\n",
       "      <td>[]</td>\n",
       "    </tr>\n",
       "    <tr>\n",
       "      <th>8</th>\n",
       "      <td>2022-08-15 08:21:00</td>\n",
       "      <td>STA14_2</td>\n",
       "      <td>OPEN HEAVENS DAILY DEVOTIONAL 2022</td>\n",
       "      <td>2022-08-15</td>\n",
       "      <td>08:21:00</td>\n",
       "      <td>Monday</td>\n",
       "      <td>8</td>\n",
       "      <td>34</td>\n",
       "      <td>5</td>\n",
       "      <td>[]</td>\n",
       "      <td>[]</td>\n",
       "      <td>[]</td>\n",
       "    </tr>\n",
       "    <tr>\n",
       "      <th>9</th>\n",
       "      <td>2022-08-16 07:59:00</td>\n",
       "      <td>STA14_2</td>\n",
       "      <td>OPEN HEAVENS DEVOTIONAL</td>\n",
       "      <td>2022-08-16</td>\n",
       "      <td>07:59:00</td>\n",
       "      <td>Tuesday</td>\n",
       "      <td>7</td>\n",
       "      <td>24</td>\n",
       "      <td>3</td>\n",
       "      <td>[]</td>\n",
       "      <td>[]</td>\n",
       "      <td>[]</td>\n",
       "    </tr>\n",
       "  </tbody>\n",
       "</table>\n",
       "</div>"
      ],
      "text/plain": [
       "            timestamp   member  \\\n",
       "0 2022-08-07 17:44:00  STA14_1   \n",
       "1 2022-08-08 06:22:00  STA14_2   \n",
       "2 2022-08-09 18:53:00  STA14_1   \n",
       "3 2022-08-09 19:01:00  STA14_3   \n",
       "4 2022-08-09 20:50:00  STA14_1   \n",
       "5 2022-08-10 02:53:00  STA14_2   \n",
       "6 2022-08-11 03:42:00  STA14_2   \n",
       "7 2022-08-11 23:55:00  STA14_2   \n",
       "8 2022-08-15 08:21:00  STA14_2   \n",
       "9 2022-08-16 07:59:00  STA14_2   \n",
       "\n",
       "                                             message        date      time  \\\n",
       "0      MOVING TO UK🇬🇧 VIA STUDIES: A ROUGH ESTIMATE.  2022-08-07  17:44:00   \n",
       "1                             OPEN HEAVEN DEVOTIONAL  2022-08-08  06:22:00   \n",
       "2  https://twitter.com/easyfckingmoney/status/155...  2022-08-09  18:53:00   \n",
       "3                                    <Media omitted>  2022-08-09  19:01:00   \n",
       "4                                    <Media omitted>  2022-08-09  20:50:00   \n",
       "5                              OPEN HEAVEN DEVOTIONS  2022-08-10  02:53:00   \n",
       "6                            OPEN HEAVENS DEVOTIONAL  2022-08-11  03:42:00   \n",
       "7                            OPEN HEAVENS DEVOTIONAL  2022-08-11  23:55:00   \n",
       "8                 OPEN HEAVENS DAILY DEVOTIONAL 2022  2022-08-15  08:21:00   \n",
       "9                            OPEN HEAVENS DEVOTIONAL  2022-08-16  07:59:00   \n",
       "\n",
       "  day_of_week  hour  message_length  word_count hashtags mentions emojis  \n",
       "0      Sunday    17              45           8       []       []   [🇬🇧]  \n",
       "1      Monday     6              22           3       []       []     []  \n",
       "2     Tuesday    18              92           1       []       []     []  \n",
       "3     Tuesday    19              15           2       []       []     []  \n",
       "4     Tuesday    20              15           2       []       []     []  \n",
       "5   Wednesday     2              22           3       []       []     []  \n",
       "6    Thursday     3              23           3       []       []     []  \n",
       "7    Thursday    23              24           3       []       []     []  \n",
       "8      Monday     8              34           5       []       []     []  \n",
       "9     Tuesday     7              24           3       []       []     []  "
      ]
     },
     "execution_count": 10,
     "metadata": {},
     "output_type": "execute_result"
    }
   ],
   "source": [
    "df.head(10)"
   ]
  },
  {
   "cell_type": "markdown",
   "metadata": {},
   "source": [
    "#### - Final Inspection: Go/no-go"
   ]
  },
  {
   "cell_type": "code",
   "execution_count": 11,
   "metadata": {},
   "outputs": [
    {
     "name": "stdout",
     "output_type": "stream",
     "text": [
      "<class 'pandas.core.frame.DataFrame'>\n",
      "RangeIndex: 3091 entries, 0 to 3090\n",
      "Data columns (total 12 columns):\n",
      " #   Column          Non-Null Count  Dtype         \n",
      "---  ------          --------------  -----         \n",
      " 0   timestamp       3091 non-null   datetime64[ns]\n",
      " 1   member          3091 non-null   object        \n",
      " 2   message         3091 non-null   object        \n",
      " 3   date            3091 non-null   object        \n",
      " 4   time            3091 non-null   object        \n",
      " 5   day_of_week     3091 non-null   object        \n",
      " 6   hour            3091 non-null   int32         \n",
      " 7   message_length  3091 non-null   int64         \n",
      " 8   word_count      3091 non-null   int64         \n",
      " 9   hashtags        3091 non-null   object        \n",
      " 10  mentions        3091 non-null   object        \n",
      " 11  emojis          3091 non-null   object        \n",
      "dtypes: datetime64[ns](1), int32(1), int64(2), object(8)\n",
      "memory usage: 277.8+ KB\n"
     ]
    }
   ],
   "source": [
    "df.info()"
   ]
  },
  {
   "cell_type": "markdown",
   "metadata": {},
   "source": [
    "## Chat engagements among Alumni"
   ]
  },
  {
   "cell_type": "markdown",
   "metadata": {},
   "source": [
    "#### - Quick overview"
   ]
  },
  {
   "cell_type": "code",
   "execution_count": 12,
   "metadata": {},
   "outputs": [
    {
     "name": "stdout",
     "output_type": "stream",
     "text": [
      "Total Chat Engagements\n",
      "****************\n",
      "Messages: 3091\n",
      "Average message length: 28.1362018764154\n",
      "Media messages: 343\n",
      "Emojis: 1040\n",
      "Links: 33\n"
     ]
    }
   ],
   "source": [
    "def split_count(text):\n",
    "\n",
    "    emoji_list = []\n",
    "    data = re.findall(r'[^\\s\\u1f300-\\u1f5ff]', text)\n",
    "    for word in data:\n",
    "        if any(char in emoji.distinct_emoji_list(text) for char in word):\n",
    "            emoji_list.append(word)\n",
    "\n",
    "    return emoji_list\n",
    "\n",
    "total_messages = df.shape[0]\n",
    "avg_message_length = df['message_length'].mean()\n",
    "media_messages = df[df['message'] == '<Media omitted>'].shape[0]\n",
    "df[\"emoji\"] = df[\"message\"].apply(split_count)\n",
    "emojis = sum(df['emoji'].str.len())\n",
    "URLPATTERN = r'(https?://\\S+)'\n",
    "df['urlcount'] = df.message.apply(lambda x: re.findall(URLPATTERN, x)).str.len()\n",
    "links = np.sum(df.urlcount)\n",
    "\n",
    "print(\"Total Chat Engagements\")\n",
    "print(\"****************\")\n",
    "print(\"Messages:\", total_messages)\n",
    "print(\"Average message length:\", avg_message_length)\n",
    "print(\"Media messages:\", media_messages)\n",
    "print(\"Emojis:\", emojis)\n",
    "print(\"Links:\", links)\n"
   ]
  },
  {
   "cell_type": "markdown",
   "metadata": {},
   "source": [
    "#### - Engagements per individual in the group chat"
   ]
  },
  {
   "cell_type": "code",
   "execution_count": 13,
   "metadata": {},
   "outputs": [
    {
     "data": {
      "text/html": [
       "<div>\n",
       "<style scoped>\n",
       "    .dataframe tbody tr th:only-of-type {\n",
       "        vertical-align: middle;\n",
       "    }\n",
       "\n",
       "    .dataframe tbody tr th {\n",
       "        vertical-align: top;\n",
       "    }\n",
       "\n",
       "    .dataframe thead th {\n",
       "        text-align: right;\n",
       "    }\n",
       "</style>\n",
       "<table border=\"1\" class=\"dataframe\">\n",
       "  <thead>\n",
       "    <tr style=\"text-align: right;\">\n",
       "      <th></th>\n",
       "      <th>messages_sent</th>\n",
       "      <th>words_per_message</th>\n",
       "      <th>emojis_per_message</th>\n",
       "      <th>links_per_message</th>\n",
       "    </tr>\n",
       "    <tr>\n",
       "      <th>member</th>\n",
       "      <th></th>\n",
       "      <th></th>\n",
       "      <th></th>\n",
       "      <th></th>\n",
       "    </tr>\n",
       "  </thead>\n",
       "  <tbody>\n",
       "    <tr>\n",
       "      <th>STA14_2</th>\n",
       "      <td>880</td>\n",
       "      <td>3.385227</td>\n",
       "      <td>0.0</td>\n",
       "      <td>0.000000</td>\n",
       "    </tr>\n",
       "    <tr>\n",
       "      <th>STA14_1</th>\n",
       "      <td>329</td>\n",
       "      <td>4.054711</td>\n",
       "      <td>0.0</td>\n",
       "      <td>0.030395</td>\n",
       "    </tr>\n",
       "    <tr>\n",
       "      <th>STA14_6</th>\n",
       "      <td>211</td>\n",
       "      <td>3.810427</td>\n",
       "      <td>0.0</td>\n",
       "      <td>0.000000</td>\n",
       "    </tr>\n",
       "    <tr>\n",
       "      <th>STA14_4</th>\n",
       "      <td>160</td>\n",
       "      <td>4.012500</td>\n",
       "      <td>0.0</td>\n",
       "      <td>0.000000</td>\n",
       "    </tr>\n",
       "    <tr>\n",
       "      <th>STA14_19</th>\n",
       "      <td>129</td>\n",
       "      <td>3.635659</td>\n",
       "      <td>0.0</td>\n",
       "      <td>0.023256</td>\n",
       "    </tr>\n",
       "    <tr>\n",
       "      <th>...</th>\n",
       "      <td>...</td>\n",
       "      <td>...</td>\n",
       "      <td>...</td>\n",
       "      <td>...</td>\n",
       "    </tr>\n",
       "    <tr>\n",
       "      <th>STA14_28</th>\n",
       "      <td>1</td>\n",
       "      <td>4.000000</td>\n",
       "      <td>0.0</td>\n",
       "      <td>0.000000</td>\n",
       "    </tr>\n",
       "    <tr>\n",
       "      <th>STA14_78</th>\n",
       "      <td>1</td>\n",
       "      <td>4.000000</td>\n",
       "      <td>0.0</td>\n",
       "      <td>0.000000</td>\n",
       "    </tr>\n",
       "    <tr>\n",
       "      <th>STA14_79</th>\n",
       "      <td>1</td>\n",
       "      <td>8.000000</td>\n",
       "      <td>0.0</td>\n",
       "      <td>0.000000</td>\n",
       "    </tr>\n",
       "    <tr>\n",
       "      <th>STA14_59</th>\n",
       "      <td>1</td>\n",
       "      <td>2.000000</td>\n",
       "      <td>0.0</td>\n",
       "      <td>0.000000</td>\n",
       "    </tr>\n",
       "    <tr>\n",
       "      <th>STA14_72</th>\n",
       "      <td>1</td>\n",
       "      <td>2.000000</td>\n",
       "      <td>0.0</td>\n",
       "      <td>0.000000</td>\n",
       "    </tr>\n",
       "  </tbody>\n",
       "</table>\n",
       "<p>79 rows × 4 columns</p>\n",
       "</div>"
      ],
      "text/plain": [
       "          messages_sent  words_per_message  emojis_per_message  \\\n",
       "member                                                           \n",
       "STA14_2             880           3.385227                 0.0   \n",
       "STA14_1             329           4.054711                 0.0   \n",
       "STA14_6             211           3.810427                 0.0   \n",
       "STA14_4             160           4.012500                 0.0   \n",
       "STA14_19            129           3.635659                 0.0   \n",
       "...                 ...                ...                 ...   \n",
       "STA14_28              1           4.000000                 0.0   \n",
       "STA14_78              1           4.000000                 0.0   \n",
       "STA14_79              1           8.000000                 0.0   \n",
       "STA14_59              1           2.000000                 0.0   \n",
       "STA14_72              1           2.000000                 0.0   \n",
       "\n",
       "          links_per_message  \n",
       "member                       \n",
       "STA14_2            0.000000  \n",
       "STA14_1            0.030395  \n",
       "STA14_6            0.000000  \n",
       "STA14_4            0.000000  \n",
       "STA14_19           0.023256  \n",
       "...                     ...  \n",
       "STA14_28           0.000000  \n",
       "STA14_78           0.000000  \n",
       "STA14_79           0.000000  \n",
       "STA14_59           0.000000  \n",
       "STA14_72           0.000000  \n",
       "\n",
       "[79 rows x 4 columns]"
      ]
     },
     "execution_count": 13,
     "metadata": {},
     "output_type": "execute_result"
    }
   ],
   "source": [
    "# Calculate messages sent per member\n",
    "messages_sent = df.groupby('member')['message'].count()\n",
    "\n",
    "# Calculate words per message\n",
    "df['words_per_message'] = df['message'].apply(lambda x: len(x.split()) if isinstance(x, str) else 0)\n",
    "words_per_message = df.groupby('member')['words_per_message'].mean()\n",
    "\n",
    "# Calculate emojis sent per message\n",
    "df['emojis_per_message'] = df['emojis'].apply(lambda x: len(x) if isinstance(x, str) else 0)\n",
    "emojis_per_message = df.groupby('member')['emojis_per_message'].mean()\n",
    "\n",
    "# Calculate links sent per message\n",
    "df['links_per_message'] = df['message'].apply(lambda x: len(re.findall(r'http\\S+', x)) if isinstance(x, str) else 0)\n",
    "links_per_message = df.groupby('member')['links_per_message'].mean()\n",
    "\n",
    "# Combine stats into a single dataframe\n",
    "stats_df = pd.concat([messages_sent, words_per_message, emojis_per_message, links_per_message], axis=1)\n",
    "stats_df.columns = ['messages_sent', 'words_per_message', 'emojis_per_message', 'links_per_message']\n",
    "\n",
    "# Sort by messages sent in descending order\n",
    "stats_df = stats_df.sort_values('messages_sent', ascending=False)\n",
    "\n",
    "# Print results\n",
    "stats_df"
   ]
  },
  {
   "cell_type": "markdown",
   "metadata": {},
   "source": [
    "##  Communication Patterns Among Alumni in Whatsapp Conversations"
   ]
  },
  {
   "cell_type": "markdown",
   "metadata": {},
   "source": [
    "#### - Most used words"
   ]
  },
  {
   "cell_type": "code",
   "execution_count": 14,
   "metadata": {},
   "outputs": [],
   "source": [
    "# Remove \"media omitted\" messages and preprocess text\n",
    "text = \" \".join(df[\"message\"].dropna().astype(str))\n",
    "text = re.sub(r\"\\bmedia omitted\\b\", \"\", text, flags=re.IGNORECASE)  # Remove media messages\n",
    "text = re.sub(r\"[^\\w\\s]\", \"\",text.lower())  # Remove punctuation"
   ]
  },
  {
   "cell_type": "code",
   "execution_count": 15,
   "metadata": {},
   "outputs": [
    {
     "data": {
      "application/vnd.plotly.v1+json": {
       "config": {
        "plotlyServerURL": "https://plot.ly"
       },
       "data": [
        {
         "hovertemplate": "Word=%{x}<br>Frequency=%{y}<extra></extra>",
         "legendgroup": "",
         "marker": {
          "color": "#25D366",
          "pattern": {
           "shape": ""
          }
         },
         "name": "",
         "orientation": "v",
         "showlegend": false,
         "textposition": "auto",
         "type": "bar",
         "x": [
          "open",
          "devotional",
          "heavens",
          "daily",
          "birthday",
          "happy",
          "congratulations",
          "dey",
          "thanks",
          "na"
         ],
         "xaxis": "x",
         "y": {
          "bdata": "aQNgA1MDMgHxANIAnQB5AFgAVQA=",
          "dtype": "i2"
         },
         "yaxis": "y"
        }
       ],
       "layout": {
        "barmode": "relative",
        "legend": {
         "tracegroupgap": 0
        },
        "template": {
         "data": {
          "bar": [
           {
            "error_x": {
             "color": "#2a3f5f"
            },
            "error_y": {
             "color": "#2a3f5f"
            },
            "marker": {
             "line": {
              "color": "#E5ECF6",
              "width": 0.5
             },
             "pattern": {
              "fillmode": "overlay",
              "size": 10,
              "solidity": 0.2
             }
            },
            "type": "bar"
           }
          ],
          "barpolar": [
           {
            "marker": {
             "line": {
              "color": "#E5ECF6",
              "width": 0.5
             },
             "pattern": {
              "fillmode": "overlay",
              "size": 10,
              "solidity": 0.2
             }
            },
            "type": "barpolar"
           }
          ],
          "carpet": [
           {
            "aaxis": {
             "endlinecolor": "#2a3f5f",
             "gridcolor": "white",
             "linecolor": "white",
             "minorgridcolor": "white",
             "startlinecolor": "#2a3f5f"
            },
            "baxis": {
             "endlinecolor": "#2a3f5f",
             "gridcolor": "white",
             "linecolor": "white",
             "minorgridcolor": "white",
             "startlinecolor": "#2a3f5f"
            },
            "type": "carpet"
           }
          ],
          "choropleth": [
           {
            "colorbar": {
             "outlinewidth": 0,
             "ticks": ""
            },
            "type": "choropleth"
           }
          ],
          "contour": [
           {
            "colorbar": {
             "outlinewidth": 0,
             "ticks": ""
            },
            "colorscale": [
             [
              0,
              "#0d0887"
             ],
             [
              0.1111111111111111,
              "#46039f"
             ],
             [
              0.2222222222222222,
              "#7201a8"
             ],
             [
              0.3333333333333333,
              "#9c179e"
             ],
             [
              0.4444444444444444,
              "#bd3786"
             ],
             [
              0.5555555555555556,
              "#d8576b"
             ],
             [
              0.6666666666666666,
              "#ed7953"
             ],
             [
              0.7777777777777778,
              "#fb9f3a"
             ],
             [
              0.8888888888888888,
              "#fdca26"
             ],
             [
              1,
              "#f0f921"
             ]
            ],
            "type": "contour"
           }
          ],
          "contourcarpet": [
           {
            "colorbar": {
             "outlinewidth": 0,
             "ticks": ""
            },
            "type": "contourcarpet"
           }
          ],
          "heatmap": [
           {
            "colorbar": {
             "outlinewidth": 0,
             "ticks": ""
            },
            "colorscale": [
             [
              0,
              "#0d0887"
             ],
             [
              0.1111111111111111,
              "#46039f"
             ],
             [
              0.2222222222222222,
              "#7201a8"
             ],
             [
              0.3333333333333333,
              "#9c179e"
             ],
             [
              0.4444444444444444,
              "#bd3786"
             ],
             [
              0.5555555555555556,
              "#d8576b"
             ],
             [
              0.6666666666666666,
              "#ed7953"
             ],
             [
              0.7777777777777778,
              "#fb9f3a"
             ],
             [
              0.8888888888888888,
              "#fdca26"
             ],
             [
              1,
              "#f0f921"
             ]
            ],
            "type": "heatmap"
           }
          ],
          "histogram": [
           {
            "marker": {
             "pattern": {
              "fillmode": "overlay",
              "size": 10,
              "solidity": 0.2
             }
            },
            "type": "histogram"
           }
          ],
          "histogram2d": [
           {
            "colorbar": {
             "outlinewidth": 0,
             "ticks": ""
            },
            "colorscale": [
             [
              0,
              "#0d0887"
             ],
             [
              0.1111111111111111,
              "#46039f"
             ],
             [
              0.2222222222222222,
              "#7201a8"
             ],
             [
              0.3333333333333333,
              "#9c179e"
             ],
             [
              0.4444444444444444,
              "#bd3786"
             ],
             [
              0.5555555555555556,
              "#d8576b"
             ],
             [
              0.6666666666666666,
              "#ed7953"
             ],
             [
              0.7777777777777778,
              "#fb9f3a"
             ],
             [
              0.8888888888888888,
              "#fdca26"
             ],
             [
              1,
              "#f0f921"
             ]
            ],
            "type": "histogram2d"
           }
          ],
          "histogram2dcontour": [
           {
            "colorbar": {
             "outlinewidth": 0,
             "ticks": ""
            },
            "colorscale": [
             [
              0,
              "#0d0887"
             ],
             [
              0.1111111111111111,
              "#46039f"
             ],
             [
              0.2222222222222222,
              "#7201a8"
             ],
             [
              0.3333333333333333,
              "#9c179e"
             ],
             [
              0.4444444444444444,
              "#bd3786"
             ],
             [
              0.5555555555555556,
              "#d8576b"
             ],
             [
              0.6666666666666666,
              "#ed7953"
             ],
             [
              0.7777777777777778,
              "#fb9f3a"
             ],
             [
              0.8888888888888888,
              "#fdca26"
             ],
             [
              1,
              "#f0f921"
             ]
            ],
            "type": "histogram2dcontour"
           }
          ],
          "mesh3d": [
           {
            "colorbar": {
             "outlinewidth": 0,
             "ticks": ""
            },
            "type": "mesh3d"
           }
          ],
          "parcoords": [
           {
            "line": {
             "colorbar": {
              "outlinewidth": 0,
              "ticks": ""
             }
            },
            "type": "parcoords"
           }
          ],
          "pie": [
           {
            "automargin": true,
            "type": "pie"
           }
          ],
          "scatter": [
           {
            "fillpattern": {
             "fillmode": "overlay",
             "size": 10,
             "solidity": 0.2
            },
            "type": "scatter"
           }
          ],
          "scatter3d": [
           {
            "line": {
             "colorbar": {
              "outlinewidth": 0,
              "ticks": ""
             }
            },
            "marker": {
             "colorbar": {
              "outlinewidth": 0,
              "ticks": ""
             }
            },
            "type": "scatter3d"
           }
          ],
          "scattercarpet": [
           {
            "marker": {
             "colorbar": {
              "outlinewidth": 0,
              "ticks": ""
             }
            },
            "type": "scattercarpet"
           }
          ],
          "scattergeo": [
           {
            "marker": {
             "colorbar": {
              "outlinewidth": 0,
              "ticks": ""
             }
            },
            "type": "scattergeo"
           }
          ],
          "scattergl": [
           {
            "marker": {
             "colorbar": {
              "outlinewidth": 0,
              "ticks": ""
             }
            },
            "type": "scattergl"
           }
          ],
          "scattermap": [
           {
            "marker": {
             "colorbar": {
              "outlinewidth": 0,
              "ticks": ""
             }
            },
            "type": "scattermap"
           }
          ],
          "scattermapbox": [
           {
            "marker": {
             "colorbar": {
              "outlinewidth": 0,
              "ticks": ""
             }
            },
            "type": "scattermapbox"
           }
          ],
          "scatterpolar": [
           {
            "marker": {
             "colorbar": {
              "outlinewidth": 0,
              "ticks": ""
             }
            },
            "type": "scatterpolar"
           }
          ],
          "scatterpolargl": [
           {
            "marker": {
             "colorbar": {
              "outlinewidth": 0,
              "ticks": ""
             }
            },
            "type": "scatterpolargl"
           }
          ],
          "scatterternary": [
           {
            "marker": {
             "colorbar": {
              "outlinewidth": 0,
              "ticks": ""
             }
            },
            "type": "scatterternary"
           }
          ],
          "surface": [
           {
            "colorbar": {
             "outlinewidth": 0,
             "ticks": ""
            },
            "colorscale": [
             [
              0,
              "#0d0887"
             ],
             [
              0.1111111111111111,
              "#46039f"
             ],
             [
              0.2222222222222222,
              "#7201a8"
             ],
             [
              0.3333333333333333,
              "#9c179e"
             ],
             [
              0.4444444444444444,
              "#bd3786"
             ],
             [
              0.5555555555555556,
              "#d8576b"
             ],
             [
              0.6666666666666666,
              "#ed7953"
             ],
             [
              0.7777777777777778,
              "#fb9f3a"
             ],
             [
              0.8888888888888888,
              "#fdca26"
             ],
             [
              1,
              "#f0f921"
             ]
            ],
            "type": "surface"
           }
          ],
          "table": [
           {
            "cells": {
             "fill": {
              "color": "#EBF0F8"
             },
             "line": {
              "color": "white"
             }
            },
            "header": {
             "fill": {
              "color": "#C8D4E3"
             },
             "line": {
              "color": "white"
             }
            },
            "type": "table"
           }
          ]
         },
         "layout": {
          "annotationdefaults": {
           "arrowcolor": "#2a3f5f",
           "arrowhead": 0,
           "arrowwidth": 1
          },
          "autotypenumbers": "strict",
          "coloraxis": {
           "colorbar": {
            "outlinewidth": 0,
            "ticks": ""
           }
          },
          "colorscale": {
           "diverging": [
            [
             0,
             "#8e0152"
            ],
            [
             0.1,
             "#c51b7d"
            ],
            [
             0.2,
             "#de77ae"
            ],
            [
             0.3,
             "#f1b6da"
            ],
            [
             0.4,
             "#fde0ef"
            ],
            [
             0.5,
             "#f7f7f7"
            ],
            [
             0.6,
             "#e6f5d0"
            ],
            [
             0.7,
             "#b8e186"
            ],
            [
             0.8,
             "#7fbc41"
            ],
            [
             0.9,
             "#4d9221"
            ],
            [
             1,
             "#276419"
            ]
           ],
           "sequential": [
            [
             0,
             "#0d0887"
            ],
            [
             0.1111111111111111,
             "#46039f"
            ],
            [
             0.2222222222222222,
             "#7201a8"
            ],
            [
             0.3333333333333333,
             "#9c179e"
            ],
            [
             0.4444444444444444,
             "#bd3786"
            ],
            [
             0.5555555555555556,
             "#d8576b"
            ],
            [
             0.6666666666666666,
             "#ed7953"
            ],
            [
             0.7777777777777778,
             "#fb9f3a"
            ],
            [
             0.8888888888888888,
             "#fdca26"
            ],
            [
             1,
             "#f0f921"
            ]
           ],
           "sequentialminus": [
            [
             0,
             "#0d0887"
            ],
            [
             0.1111111111111111,
             "#46039f"
            ],
            [
             0.2222222222222222,
             "#7201a8"
            ],
            [
             0.3333333333333333,
             "#9c179e"
            ],
            [
             0.4444444444444444,
             "#bd3786"
            ],
            [
             0.5555555555555556,
             "#d8576b"
            ],
            [
             0.6666666666666666,
             "#ed7953"
            ],
            [
             0.7777777777777778,
             "#fb9f3a"
            ],
            [
             0.8888888888888888,
             "#fdca26"
            ],
            [
             1,
             "#f0f921"
            ]
           ]
          },
          "colorway": [
           "#636efa",
           "#EF553B",
           "#00cc96",
           "#ab63fa",
           "#FFA15A",
           "#19d3f3",
           "#FF6692",
           "#B6E880",
           "#FF97FF",
           "#FECB52"
          ],
          "font": {
           "color": "#2a3f5f"
          },
          "geo": {
           "bgcolor": "white",
           "lakecolor": "white",
           "landcolor": "#E5ECF6",
           "showlakes": true,
           "showland": true,
           "subunitcolor": "white"
          },
          "hoverlabel": {
           "align": "left"
          },
          "hovermode": "closest",
          "mapbox": {
           "style": "light"
          },
          "paper_bgcolor": "white",
          "plot_bgcolor": "#E5ECF6",
          "polar": {
           "angularaxis": {
            "gridcolor": "white",
            "linecolor": "white",
            "ticks": ""
           },
           "bgcolor": "#E5ECF6",
           "radialaxis": {
            "gridcolor": "white",
            "linecolor": "white",
            "ticks": ""
           }
          },
          "scene": {
           "xaxis": {
            "backgroundcolor": "#E5ECF6",
            "gridcolor": "white",
            "gridwidth": 2,
            "linecolor": "white",
            "showbackground": true,
            "ticks": "",
            "zerolinecolor": "white"
           },
           "yaxis": {
            "backgroundcolor": "#E5ECF6",
            "gridcolor": "white",
            "gridwidth": 2,
            "linecolor": "white",
            "showbackground": true,
            "ticks": "",
            "zerolinecolor": "white"
           },
           "zaxis": {
            "backgroundcolor": "#E5ECF6",
            "gridcolor": "white",
            "gridwidth": 2,
            "linecolor": "white",
            "showbackground": true,
            "ticks": "",
            "zerolinecolor": "white"
           }
          },
          "shapedefaults": {
           "line": {
            "color": "#2a3f5f"
           }
          },
          "ternary": {
           "aaxis": {
            "gridcolor": "white",
            "linecolor": "white",
            "ticks": ""
           },
           "baxis": {
            "gridcolor": "white",
            "linecolor": "white",
            "ticks": ""
           },
           "bgcolor": "#E5ECF6",
           "caxis": {
            "gridcolor": "white",
            "linecolor": "white",
            "ticks": ""
           }
          },
          "title": {
           "x": 0.05
          },
          "xaxis": {
           "automargin": true,
           "gridcolor": "white",
           "linecolor": "white",
           "ticks": "",
           "title": {
            "standoff": 15
           },
           "zerolinecolor": "white",
           "zerolinewidth": 2
          },
          "yaxis": {
           "automargin": true,
           "gridcolor": "white",
           "linecolor": "white",
           "ticks": "",
           "title": {
            "standoff": 15
           },
           "zerolinecolor": "white",
           "zerolinewidth": 2
          }
         }
        },
        "title": {
         "text": "Top 10 Most Used Words"
        },
        "xaxis": {
         "anchor": "y",
         "domain": [
          0,
          1
         ],
         "tickangle": -45,
         "title": {
          "text": "Word"
         }
        },
        "yaxis": {
         "anchor": "x",
         "domain": [
          0,
          1
         ],
         "title": {
          "text": "Frequency"
         }
        }
       }
      }
     },
     "metadata": {},
     "output_type": "display_data"
    }
   ],
   "source": [
    "# Tokenize and remove stopwords\n",
    "words = word_tokenize(text)\n",
    "filtered_words = [w for w in words if w not in set(stopwords.words(\"english\"))]\n",
    "\n",
    "# Count top 10 words\n",
    "words_df = pd.DataFrame(Counter(filtered_words).most_common(10), columns=[\"Word\", \"Frequency\"])\n",
    "\n",
    "# Plot\n",
    "px.bar(words_df, x=\"Word\", y=\"Frequency\", title=\"Top 10 Most Used Words\",  \n",
    "       color_discrete_sequence=[\"#25D366\"]).update_layout(xaxis_tickangle=-45).show()\n"
   ]
  },
  {
   "cell_type": "markdown",
   "metadata": {},
   "source": [
    "#### - Most used emojis"
   ]
  },
  {
   "cell_type": "code",
   "execution_count": 16,
   "metadata": {},
   "outputs": [
    {
     "data": {
      "application/vnd.plotly.v1+json": {
       "config": {
        "plotlyServerURL": "https://plot.ly"
       },
       "data": [
        {
         "hovertemplate": "Frequency=%{x}<br>Emoji=%{y}<extra></extra>",
         "legendgroup": "",
         "marker": {
          "color": "#25D366",
          "pattern": {
           "shape": ""
          }
         },
         "name": "",
         "orientation": "h",
         "showlegend": false,
         "textposition": "auto",
         "type": "bar",
         "x": {
          "bdata": "GQAaACIAMQAzAEQARQBPAGwA9wA=",
          "dtype": "i2"
         },
         "xaxis": "x",
         "y": [
          "😆",
          "🙏",
          "🎁",
          "🎊",
          "🎈",
          "🤣",
          "🥳",
          "🎂",
          "🎉",
          "😂"
         ],
         "yaxis": "y"
        }
       ],
       "layout": {
        "barmode": "relative",
        "height": 600,
        "legend": {
         "tracegroupgap": 0
        },
        "template": {
         "data": {
          "bar": [
           {
            "error_x": {
             "color": "#2a3f5f"
            },
            "error_y": {
             "color": "#2a3f5f"
            },
            "marker": {
             "line": {
              "color": "#E5ECF6",
              "width": 0.5
             },
             "pattern": {
              "fillmode": "overlay",
              "size": 10,
              "solidity": 0.2
             }
            },
            "type": "bar"
           }
          ],
          "barpolar": [
           {
            "marker": {
             "line": {
              "color": "#E5ECF6",
              "width": 0.5
             },
             "pattern": {
              "fillmode": "overlay",
              "size": 10,
              "solidity": 0.2
             }
            },
            "type": "barpolar"
           }
          ],
          "carpet": [
           {
            "aaxis": {
             "endlinecolor": "#2a3f5f",
             "gridcolor": "white",
             "linecolor": "white",
             "minorgridcolor": "white",
             "startlinecolor": "#2a3f5f"
            },
            "baxis": {
             "endlinecolor": "#2a3f5f",
             "gridcolor": "white",
             "linecolor": "white",
             "minorgridcolor": "white",
             "startlinecolor": "#2a3f5f"
            },
            "type": "carpet"
           }
          ],
          "choropleth": [
           {
            "colorbar": {
             "outlinewidth": 0,
             "ticks": ""
            },
            "type": "choropleth"
           }
          ],
          "contour": [
           {
            "colorbar": {
             "outlinewidth": 0,
             "ticks": ""
            },
            "colorscale": [
             [
              0,
              "#0d0887"
             ],
             [
              0.1111111111111111,
              "#46039f"
             ],
             [
              0.2222222222222222,
              "#7201a8"
             ],
             [
              0.3333333333333333,
              "#9c179e"
             ],
             [
              0.4444444444444444,
              "#bd3786"
             ],
             [
              0.5555555555555556,
              "#d8576b"
             ],
             [
              0.6666666666666666,
              "#ed7953"
             ],
             [
              0.7777777777777778,
              "#fb9f3a"
             ],
             [
              0.8888888888888888,
              "#fdca26"
             ],
             [
              1,
              "#f0f921"
             ]
            ],
            "type": "contour"
           }
          ],
          "contourcarpet": [
           {
            "colorbar": {
             "outlinewidth": 0,
             "ticks": ""
            },
            "type": "contourcarpet"
           }
          ],
          "heatmap": [
           {
            "colorbar": {
             "outlinewidth": 0,
             "ticks": ""
            },
            "colorscale": [
             [
              0,
              "#0d0887"
             ],
             [
              0.1111111111111111,
              "#46039f"
             ],
             [
              0.2222222222222222,
              "#7201a8"
             ],
             [
              0.3333333333333333,
              "#9c179e"
             ],
             [
              0.4444444444444444,
              "#bd3786"
             ],
             [
              0.5555555555555556,
              "#d8576b"
             ],
             [
              0.6666666666666666,
              "#ed7953"
             ],
             [
              0.7777777777777778,
              "#fb9f3a"
             ],
             [
              0.8888888888888888,
              "#fdca26"
             ],
             [
              1,
              "#f0f921"
             ]
            ],
            "type": "heatmap"
           }
          ],
          "histogram": [
           {
            "marker": {
             "pattern": {
              "fillmode": "overlay",
              "size": 10,
              "solidity": 0.2
             }
            },
            "type": "histogram"
           }
          ],
          "histogram2d": [
           {
            "colorbar": {
             "outlinewidth": 0,
             "ticks": ""
            },
            "colorscale": [
             [
              0,
              "#0d0887"
             ],
             [
              0.1111111111111111,
              "#46039f"
             ],
             [
              0.2222222222222222,
              "#7201a8"
             ],
             [
              0.3333333333333333,
              "#9c179e"
             ],
             [
              0.4444444444444444,
              "#bd3786"
             ],
             [
              0.5555555555555556,
              "#d8576b"
             ],
             [
              0.6666666666666666,
              "#ed7953"
             ],
             [
              0.7777777777777778,
              "#fb9f3a"
             ],
             [
              0.8888888888888888,
              "#fdca26"
             ],
             [
              1,
              "#f0f921"
             ]
            ],
            "type": "histogram2d"
           }
          ],
          "histogram2dcontour": [
           {
            "colorbar": {
             "outlinewidth": 0,
             "ticks": ""
            },
            "colorscale": [
             [
              0,
              "#0d0887"
             ],
             [
              0.1111111111111111,
              "#46039f"
             ],
             [
              0.2222222222222222,
              "#7201a8"
             ],
             [
              0.3333333333333333,
              "#9c179e"
             ],
             [
              0.4444444444444444,
              "#bd3786"
             ],
             [
              0.5555555555555556,
              "#d8576b"
             ],
             [
              0.6666666666666666,
              "#ed7953"
             ],
             [
              0.7777777777777778,
              "#fb9f3a"
             ],
             [
              0.8888888888888888,
              "#fdca26"
             ],
             [
              1,
              "#f0f921"
             ]
            ],
            "type": "histogram2dcontour"
           }
          ],
          "mesh3d": [
           {
            "colorbar": {
             "outlinewidth": 0,
             "ticks": ""
            },
            "type": "mesh3d"
           }
          ],
          "parcoords": [
           {
            "line": {
             "colorbar": {
              "outlinewidth": 0,
              "ticks": ""
             }
            },
            "type": "parcoords"
           }
          ],
          "pie": [
           {
            "automargin": true,
            "type": "pie"
           }
          ],
          "scatter": [
           {
            "fillpattern": {
             "fillmode": "overlay",
             "size": 10,
             "solidity": 0.2
            },
            "type": "scatter"
           }
          ],
          "scatter3d": [
           {
            "line": {
             "colorbar": {
              "outlinewidth": 0,
              "ticks": ""
             }
            },
            "marker": {
             "colorbar": {
              "outlinewidth": 0,
              "ticks": ""
             }
            },
            "type": "scatter3d"
           }
          ],
          "scattercarpet": [
           {
            "marker": {
             "colorbar": {
              "outlinewidth": 0,
              "ticks": ""
             }
            },
            "type": "scattercarpet"
           }
          ],
          "scattergeo": [
           {
            "marker": {
             "colorbar": {
              "outlinewidth": 0,
              "ticks": ""
             }
            },
            "type": "scattergeo"
           }
          ],
          "scattergl": [
           {
            "marker": {
             "colorbar": {
              "outlinewidth": 0,
              "ticks": ""
             }
            },
            "type": "scattergl"
           }
          ],
          "scattermap": [
           {
            "marker": {
             "colorbar": {
              "outlinewidth": 0,
              "ticks": ""
             }
            },
            "type": "scattermap"
           }
          ],
          "scattermapbox": [
           {
            "marker": {
             "colorbar": {
              "outlinewidth": 0,
              "ticks": ""
             }
            },
            "type": "scattermapbox"
           }
          ],
          "scatterpolar": [
           {
            "marker": {
             "colorbar": {
              "outlinewidth": 0,
              "ticks": ""
             }
            },
            "type": "scatterpolar"
           }
          ],
          "scatterpolargl": [
           {
            "marker": {
             "colorbar": {
              "outlinewidth": 0,
              "ticks": ""
             }
            },
            "type": "scatterpolargl"
           }
          ],
          "scatterternary": [
           {
            "marker": {
             "colorbar": {
              "outlinewidth": 0,
              "ticks": ""
             }
            },
            "type": "scatterternary"
           }
          ],
          "surface": [
           {
            "colorbar": {
             "outlinewidth": 0,
             "ticks": ""
            },
            "colorscale": [
             [
              0,
              "#0d0887"
             ],
             [
              0.1111111111111111,
              "#46039f"
             ],
             [
              0.2222222222222222,
              "#7201a8"
             ],
             [
              0.3333333333333333,
              "#9c179e"
             ],
             [
              0.4444444444444444,
              "#bd3786"
             ],
             [
              0.5555555555555556,
              "#d8576b"
             ],
             [
              0.6666666666666666,
              "#ed7953"
             ],
             [
              0.7777777777777778,
              "#fb9f3a"
             ],
             [
              0.8888888888888888,
              "#fdca26"
             ],
             [
              1,
              "#f0f921"
             ]
            ],
            "type": "surface"
           }
          ],
          "table": [
           {
            "cells": {
             "fill": {
              "color": "#EBF0F8"
             },
             "line": {
              "color": "white"
             }
            },
            "header": {
             "fill": {
              "color": "#C8D4E3"
             },
             "line": {
              "color": "white"
             }
            },
            "type": "table"
           }
          ]
         },
         "layout": {
          "annotationdefaults": {
           "arrowcolor": "#2a3f5f",
           "arrowhead": 0,
           "arrowwidth": 1
          },
          "autotypenumbers": "strict",
          "coloraxis": {
           "colorbar": {
            "outlinewidth": 0,
            "ticks": ""
           }
          },
          "colorscale": {
           "diverging": [
            [
             0,
             "#8e0152"
            ],
            [
             0.1,
             "#c51b7d"
            ],
            [
             0.2,
             "#de77ae"
            ],
            [
             0.3,
             "#f1b6da"
            ],
            [
             0.4,
             "#fde0ef"
            ],
            [
             0.5,
             "#f7f7f7"
            ],
            [
             0.6,
             "#e6f5d0"
            ],
            [
             0.7,
             "#b8e186"
            ],
            [
             0.8,
             "#7fbc41"
            ],
            [
             0.9,
             "#4d9221"
            ],
            [
             1,
             "#276419"
            ]
           ],
           "sequential": [
            [
             0,
             "#0d0887"
            ],
            [
             0.1111111111111111,
             "#46039f"
            ],
            [
             0.2222222222222222,
             "#7201a8"
            ],
            [
             0.3333333333333333,
             "#9c179e"
            ],
            [
             0.4444444444444444,
             "#bd3786"
            ],
            [
             0.5555555555555556,
             "#d8576b"
            ],
            [
             0.6666666666666666,
             "#ed7953"
            ],
            [
             0.7777777777777778,
             "#fb9f3a"
            ],
            [
             0.8888888888888888,
             "#fdca26"
            ],
            [
             1,
             "#f0f921"
            ]
           ],
           "sequentialminus": [
            [
             0,
             "#0d0887"
            ],
            [
             0.1111111111111111,
             "#46039f"
            ],
            [
             0.2222222222222222,
             "#7201a8"
            ],
            [
             0.3333333333333333,
             "#9c179e"
            ],
            [
             0.4444444444444444,
             "#bd3786"
            ],
            [
             0.5555555555555556,
             "#d8576b"
            ],
            [
             0.6666666666666666,
             "#ed7953"
            ],
            [
             0.7777777777777778,
             "#fb9f3a"
            ],
            [
             0.8888888888888888,
             "#fdca26"
            ],
            [
             1,
             "#f0f921"
            ]
           ]
          },
          "colorway": [
           "#636efa",
           "#EF553B",
           "#00cc96",
           "#ab63fa",
           "#FFA15A",
           "#19d3f3",
           "#FF6692",
           "#B6E880",
           "#FF97FF",
           "#FECB52"
          ],
          "font": {
           "color": "#2a3f5f"
          },
          "geo": {
           "bgcolor": "white",
           "lakecolor": "white",
           "landcolor": "#E5ECF6",
           "showlakes": true,
           "showland": true,
           "subunitcolor": "white"
          },
          "hoverlabel": {
           "align": "left"
          },
          "hovermode": "closest",
          "mapbox": {
           "style": "light"
          },
          "paper_bgcolor": "white",
          "plot_bgcolor": "#E5ECF6",
          "polar": {
           "angularaxis": {
            "gridcolor": "white",
            "linecolor": "white",
            "ticks": ""
           },
           "bgcolor": "#E5ECF6",
           "radialaxis": {
            "gridcolor": "white",
            "linecolor": "white",
            "ticks": ""
           }
          },
          "scene": {
           "xaxis": {
            "backgroundcolor": "#E5ECF6",
            "gridcolor": "white",
            "gridwidth": 2,
            "linecolor": "white",
            "showbackground": true,
            "ticks": "",
            "zerolinecolor": "white"
           },
           "yaxis": {
            "backgroundcolor": "#E5ECF6",
            "gridcolor": "white",
            "gridwidth": 2,
            "linecolor": "white",
            "showbackground": true,
            "ticks": "",
            "zerolinecolor": "white"
           },
           "zaxis": {
            "backgroundcolor": "#E5ECF6",
            "gridcolor": "white",
            "gridwidth": 2,
            "linecolor": "white",
            "showbackground": true,
            "ticks": "",
            "zerolinecolor": "white"
           }
          },
          "shapedefaults": {
           "line": {
            "color": "#2a3f5f"
           }
          },
          "ternary": {
           "aaxis": {
            "gridcolor": "white",
            "linecolor": "white",
            "ticks": ""
           },
           "baxis": {
            "gridcolor": "white",
            "linecolor": "white",
            "ticks": ""
           },
           "bgcolor": "#E5ECF6",
           "caxis": {
            "gridcolor": "white",
            "linecolor": "white",
            "ticks": ""
           }
          },
          "title": {
           "x": 0.05
          },
          "xaxis": {
           "automargin": true,
           "gridcolor": "white",
           "linecolor": "white",
           "ticks": "",
           "title": {
            "standoff": 15
           },
           "zerolinecolor": "white",
           "zerolinewidth": 2
          },
          "yaxis": {
           "automargin": true,
           "gridcolor": "white",
           "linecolor": "white",
           "ticks": "",
           "title": {
            "standoff": 15
           },
           "zerolinecolor": "white",
           "zerolinewidth": 2
          }
         }
        },
        "title": {
         "text": "Top 10 Most Used Emojis"
        },
        "width": 900,
        "xaxis": {
         "anchor": "y",
         "domain": [
          0,
          1
         ],
         "title": {
          "text": "Frequency"
         }
        },
        "yaxis": {
         "anchor": "x",
         "domain": [
          0,
          1
         ],
         "title": {
          "text": "Emoji"
         }
        }
       }
      }
     },
     "metadata": {},
     "output_type": "display_data"
    }
   ],
   "source": [
    "# Extract and count emojis\n",
    "emoji_counts = Counter(char for msg in df[\"message\"].dropna().astype(str) for char in msg if emoji.is_emoji(char))\n",
    "\n",
    "# Create DataFrame (Top 10 emojis)\n",
    "emoji_df = pd.DataFrame(emoji_counts.most_common(10), columns=[\"Emoji\", \"Frequency\"]).sort_values(\"Frequency\")\n",
    "\n",
    "# Plot\n",
    "px.bar(emoji_df, x=\"Frequency\", y=\"Emoji\", title=\"Top 10 Most Used Emojis\", \n",
    "       color_discrete_sequence=[\"#25D366\"], orientation=\"h\").update_layout(width=900, height=600).show()"
   ]
  },
  {
   "cell_type": "markdown",
   "metadata": {},
   "source": [
    "#### - Overall Mood or Sentiment Dynamics in Chat Conversations"
   ]
  },
  {
   "cell_type": "code",
   "execution_count": 17,
   "metadata": {},
   "outputs": [],
   "source": [
    "from nltk.sentiment import SentimentIntensityAnalyzer\n",
    "\n",
    "# Initialize sentiment analyzer\n",
    "sia = SentimentIntensityAnalyzer()\n",
    "\n",
    "# Ensure 'message' column exists and drop NaN values\n",
    "df[\"message\"] = df[\"message\"].astype(str).dropna()\n",
    "\n",
    "# Remove messages like \"Media omitted\"\n",
    "df = df[~df[\"message\"].str.contains(\"Media omitted\", na=False)]\n",
    "\n",
    "# Apply sentiment analysis\n",
    "df[\"sentiment\"] = df[\"message\"].apply(lambda msg: sia.polarity_scores(msg)[\"compound\"])\n",
    "\n",
    "# Classify messages based on sentiment scores\n",
    "df[\"mood\"] = df[\"sentiment\"].apply(lambda score: \n",
    "                                   \"Positive\" if score > 0.05 else \n",
    "                                   \"Negative\" if score < -0.05 else \"Neutral\")"
   ]
  },
  {
   "cell_type": "code",
   "execution_count": 18,
   "metadata": {},
   "outputs": [
    {
     "data": {
      "image/png": "[encoded data removed]",
      "text/plain": [
       "<Figure size 600x600 with 1 Axes>"
      ]
     },
     "metadata": {},
     "output_type": "display_data"
    }
   ],
   "source": [
    "# Count occurrences of each mood\n",
    "mood_counts = df[\"mood\"].value_counts()\n",
    "\n",
    "# Plot the mood distribution\n",
    "plt.figure(figsize=(6, 6))\n",
    "plt.pie(mood_counts, labels=mood_counts.index, autopct=\"%1.1f%%\", colors=[\"#25D366\", \"#BDC1C6\", \"#EA4335\"])\n",
    "plt.title(\"Alumni Overall Mood in Conversations\")\n",
    "plt.show()"
   ]
  },
  {
   "cell_type": "markdown",
   "metadata": {},
   "source": [
    "#### - Word Cloud"
   ]
  },
  {
   "cell_type": "code",
   "execution_count": 19,
   "metadata": {},
   "outputs": [
    {
     "data": {
      "image/png": "[encoded data removed]",
      "text/plain": [
       "<Figure size 800x800 with 1 Axes>"
      ]
     },
     "metadata": {},
     "output_type": "display_data"
    }
   ],
   "source": [
    "# Color map with shades of green\n",
    "shades_of_green = [\"#4CAF50\", \"#25D366\", \"#128C7E\", \"#075E54\"]\n",
    "\n",
    "# Generate and plot the word cloud\n",
    "plt.figure(figsize=(8, 8))\n",
    "wordcloud = WordCloud(width=1000, height=600, background_color=\"white\", \n",
    "                      colormap=\"Greens\", stopwords=STOPWORDS, \n",
    "                      min_font_size=12, contour_color='black', contour_width=1).generate(text)\n",
    "\n",
    "# Apply green color map\n",
    "wordcloud.recolor(color_func=lambda *args, **kwargs: np.random.choice(shades_of_green))\n",
    "\n",
    "# Show the word cloud\n",
    "plt.imshow(wordcloud, interpolation=\"bilinear\")\n",
    "plt.axis(\"off\")\n",
    "plt.show()"
   ]
  },
  {
   "cell_type": "markdown",
   "metadata": {},
   "source": [
    "#### - Peak Engagement Dates"
   ]
  },
  {
   "cell_type": "code",
   "execution_count": 20,
   "metadata": {},
   "outputs": [
    {
     "data": {
      "image/png": "[encoded data removed]",
      "text/plain": [
       "<Figure size 800x600 with 1 Axes>"
      ]
     },
     "metadata": {},
     "output_type": "display_data"
    }
   ],
   "source": [
    "# Prepare the data\n",
    "top_dates = df['date'].value_counts().head(10).reset_index()\n",
    "top_dates.columns = ['date', 'count']\n",
    "\n",
    "# Plot using Matplotlib and Seaborn\n",
    "plt.figure(figsize=(8, 6))\n",
    "sns.barplot(x='count', y='date', data=top_dates, color='#25D366')  # WhatsApp Green\n",
    "plt.title('Top 10 Dates with Highest Number of Messages')\n",
    "plt.xlabel('Number of Messages')\n",
    "plt.ylabel('Date')\n",
    "plt.tight_layout()\n",
    "plt.show()"
   ]
  },
  {
   "cell_type": "markdown",
   "metadata": {},
   "source": [
    "#### - Peak Interaction Times"
   ]
  },
  {
   "cell_type": "code",
   "execution_count": 21,
   "metadata": {},
   "outputs": [
    {
     "data": {
      "image/png": "[encoded data removed]",
      "text/plain": [
       "<Figure size 800x600 with 1 Axes>"
      ]
     },
     "metadata": {},
     "output_type": "display_data"
    }
   ],
   "source": [
    "# Convert time to string format (if not already) and remove any seconds\n",
    "df['time'] = pd.to_datetime(df['time'].astype(str).str[:5], format='%H:%M').dt.strftime('%I:%M %p')\n",
    "\n",
    "# Prepare the data for the top 10 most active times\n",
    "top_times = df['time'].value_counts().head(10).reset_index()\n",
    "top_times.columns = ['time', 'count']\n",
    "\n",
    "# Plot using Matplotlib and Seaborn\n",
    "plt.figure(figsize=(8, 6))\n",
    "sns.barplot(x='count', y='time', data=top_times, color='#25D366')\n",
    "plt.title('Most Active Times')\n",
    "plt.xlabel('Number of Messages')\n",
    "plt.ylabel('Time')\n",
    "plt.show()\n"
   ]
  },
  {
   "cell_type": "markdown",
   "metadata": {},
   "source": [
    "#### - Peak Engagement Hours"
   ]
  },
  {
   "cell_type": "code",
   "execution_count": 22,
   "metadata": {},
   "outputs": [
    {
     "data": {
      "image/png": "[encoded data removed]",
      "text/plain": [
       "<Figure size 800x600 with 1 Axes>"
      ]
     },
     "metadata": {},
     "output_type": "display_data"
    }
   ],
   "source": [
    "# Prepare the data for the top 10 most active hours\n",
    "top_hours = df['hour'].value_counts().head(10).reset_index()\n",
    "top_hours.columns = ['hour', 'count']\n",
    "\n",
    "# Sort the data by hour to ensure proper order\n",
    "top_hours['hour'] = top_hours['hour'].astype(str)  # Convert to string for categorical sorting\n",
    "top_hours.sort_values(by='count', ascending=False, inplace=True)\n",
    "\n",
    "# Plot a horizontal bar chart with hour as the y-axis\n",
    "plt.figure(figsize=(8, 6))\n",
    "sns.barplot(x='count', y='hour', data=top_hours, color='#25D366')\n",
    "plt.title('Most Active Hours')\n",
    "plt.xlabel('Number of Messages')\n",
    "plt.ylabel('Hour')\n",
    "plt.show()"
   ]
  },
  {
   "cell_type": "markdown",
   "metadata": {},
   "source": [
    "#### - Peak Engagement Days"
   ]
  },
  {
   "cell_type": "code",
   "execution_count": 23,
   "metadata": {},
   "outputs": [
    {
     "data": {
      "image/png": "[encoded data removed]",
      "text/plain": [
       "<Figure size 640x480 with 1 Axes>"
      ]
     },
     "metadata": {},
     "output_type": "display_data"
    }
   ],
   "source": [
    "# Prepare the data: extract day of the week and count occurrences\n",
    "top_days = df['date'].apply(lambda x: pd.to_datetime(x).day_name()).value_counts().reindex(\n",
    "    ['Monday', 'Tuesday', 'Wednesday', 'Thursday', 'Friday', 'Saturday', 'Sunday']\n",
    ").reset_index(name='count')\n",
    "\n",
    "top_days.columns = ['day_of_week', 'count']  # Rename 'index' to 'day_of_week'\n",
    "\n",
    "# Sort and plot\n",
    "top_days.sort_values(by='count', ascending=False, inplace=True)\n",
    "sns.barplot(x='count', y='day_of_week', data=top_days, color='#25D366')\n",
    "plt.title('Most Active Days of the Week')\n",
    "plt.xlabel('Number of Messages')\n",
    "plt.ylabel('Day of the Week')\n",
    "plt.show()\n"
   ]
  },
  {
   "cell_type": "markdown",
   "metadata": {},
   "source": [
    "#### - Engagement Heatmap"
   ]
  },
  {
   "cell_type": "code",
   "execution_count": 24,
   "metadata": {},
   "outputs": [
    {
     "data": {
      "application/vnd.plotly.v1+json": {
       "config": {
        "plotlyServerURL": "https://plot.ly"
       },
       "data": [
        {
         "coloraxis": "coloraxis",
         "hovertemplate": "Hour of Day: %{x}<br>Day of Week: %{y}<br>color: %{z}<extra></extra>",
         "name": "0",
         "type": "heatmap",
         "x": {
          "bdata": "AAAAAAEAAAACAAAAAwAAAAQAAAAFAAAABgAAAAcAAAAIAAAACQAAAAoAAAALAAAADAAAAA0AAAAOAAAADwAAABAAAAARAAAAEgAAABMAAAAUAAAAFQAAABYAAAAXAAAA",
          "dtype": "i4"
         },
         "xaxis": "x",
         "y": [
          "Friday",
          "Monday",
          "Saturday",
          "Sunday",
          "Thursday",
          "Tuesday",
          "Wednesday"
         ],
         "yaxis": "y",
         "z": {
          "bdata": "AAAAAAAASUAAAAAAAAAYQAAAAAAAADRAAAAAAAAAGEAAAAAAAABCQAAAAAAAAERAAAAAAACAV0AAAAAAAABDQAAAAAAAAEFAAAAAAABAX0AAAAAAAIBIQAAAAAAAAEdAAAAAAAAASUAAAAAAAAAuQAAAAAAAAPh/AAAAAACAREAAAAAAAEBWQAAAAAAAgFJAAAAAAACAQ0AAAAAAAABkQAAAAAAAwFpAAAAAAADAYEAAAAAAACBxQAAAAAAAgFNAAAAAAAAAO0AAAAAAAAAwQAAAAAAAABhAAAAAAAAAGEAAAAAAAAAzQAAAAAAAgE5AAAAAAABAUkAAAAAAAIBKQAAAAAAAwFlAAAAAAABAW0AAAAAAAAA1QAAAAAAAAE9AAAAAAAAAX0AAAAAAAMBVQAAAAAAAwFVAAAAAAAAAOUAAAAAAAAAiQAAAAAAAwFJAAAAAAAAAQ0AAAAAAAAA7QAAAAAAAgFhAAAAAAAAATEAAAAAAAIBQQAAAAAAAQFJAAAAAAACAQkAAAAAAAAA4QAAAAAAAADJAAAAAAAAANkAAAAAAAAA4QAAAAAAAgFJAAAAAAAAAREAAAAAAAIBDQAAAAAAA5JJAAAAAAABAf0AAAAAAAAA2QAAAAAAAQFVAAAAAAABgaEAAAAAAAMBfQAAAAAAAgEFAAAAAAAAAAEAAAAAAAMBRQAAAAAAAwGhAAAAAAAAAPkAAAAAAAMBYQAAAAAAAAEJAAAAAAACASEAAAAAAAIBgQAAAAAAAYGBAAAAAAAAAQUAAAAAAAAA6QAAAAAAAACpAAAAAAAAANkAAAAAAAAAiQAAAAAAAAE9AAAAAAAAAPEAAAAAAAABQQAAAAAAAAEVAAAAAAADAY0AAAAAAAIBRQAAAAAAAgFdAAAAAAACARUAAAAAAAAAYQAAAAAAAAEFAAAAAAACAQ0AAAAAAAAA0QAAAAAAAQFBAAAAAAABAUEAAAAAAAAB3QAAAAAAAQGRAAAAAAAAwcEAAAAAAAECCQAAAAAAAwGBAAAAAAAAAQkAAAAAAAAAsQAAAAAAAABhAAAAAAACAQ0AAAAAAAAA6QAAAAAAAAD5AAAAAAAAAO0AAAAAAAOBhQAAAAAAAAFRAAAAAAADgbkAAAAAAACBtQAAAAAAAAFVAAAAAAABAUEAAAAAAAABQQAAAAAAAgExAAAAAAAAANUAAAAAAAMBfQAAAAAAAwFNAAAAAAACAR0AAAAAAAIBQQAAAAAAAwGlAAAAAAADgYUAAAAAAAIBbQAAAAAAAAFFAAAAAAACAQUAAAAAAAAAwQAAAAAAAADJAAAAAAACASEAAAAAAAAAoQAAAAAAAAEJAAAAAAAAAU0AAAAAAAIBEQAAAAAAAgF9AAAAAAAAAUkAAAAAAAABSQAAAAAAAAEdAAAAAAABgY0AAAAAAAABAQAAAAAAAACRAAAAAAAAACEAAAAAAAABBQAAAAAAAgEBAAAAAAAAAUUAAAAAAAEBgQAAAAAAAAD9AAAAAAACASEAAAAAAAABXQAAAAAAAAE5AAAAAAAAAQkAAAAAAAAAuQAAAAAAAADdAAAAAAAAAO0AAAAAAAAA1QAAAAAAAADFAAAAAAACAREAAAAAAAABVQAAAAAAAAFRAAAAAAACAXkAAAAAAAABKQAAAAAAAACZAAAAAAAAAQ0AAAAAAAMBRQAAAAAAAADRAAAAAAABAVkAAAAAAAIBEQAAAAAAAAFxAAAAAAACAVkAAAAAAAMBSQAAAAAAAwGBAAAAAAACAV0AAAAAAAEBVQAAAAAAAAEhA",
          "dtype": "f8",
          "shape": "7, 24"
         }
        }
       ],
       "layout": {
        "coloraxis": {
         "colorscale": [
          [
           0,
           "#0d0887"
          ],
          [
           0.1111111111111111,
           "#46039f"
          ],
          [
           0.2222222222222222,
           "#7201a8"
          ],
          [
           0.3333333333333333,
           "#9c179e"
          ],
          [
           0.4444444444444444,
           "#bd3786"
          ],
          [
           0.5555555555555556,
           "#d8576b"
          ],
          [
           0.6666666666666666,
           "#ed7953"
          ],
          [
           0.7777777777777778,
           "#fb9f3a"
          ],
          [
           0.8888888888888888,
           "#fdca26"
          ],
          [
           1,
           "#f0f921"
          ]
         ]
        },
        "template": {
         "data": {
          "bar": [
           {
            "error_x": {
             "color": "#2a3f5f"
            },
            "error_y": {
             "color": "#2a3f5f"
            },
            "marker": {
             "line": {
              "color": "#E5ECF6",
              "width": 0.5
             },
             "pattern": {
              "fillmode": "overlay",
              "size": 10,
              "solidity": 0.2
             }
            },
            "type": "bar"
           }
          ],
          "barpolar": [
           {
            "marker": {
             "line": {
              "color": "#E5ECF6",
              "width": 0.5
             },
             "pattern": {
              "fillmode": "overlay",
              "size": 10,
              "solidity": 0.2
             }
            },
            "type": "barpolar"
           }
          ],
          "carpet": [
           {
            "aaxis": {
             "endlinecolor": "#2a3f5f",
             "gridcolor": "white",
             "linecolor": "white",
             "minorgridcolor": "white",
             "startlinecolor": "#2a3f5f"
            },
            "baxis": {
             "endlinecolor": "#2a3f5f",
             "gridcolor": "white",
             "linecolor": "white",
             "minorgridcolor": "white",
             "startlinecolor": "#2a3f5f"
            },
            "type": "carpet"
           }
          ],
          "choropleth": [
           {
            "colorbar": {
             "outlinewidth": 0,
             "ticks": ""
            },
            "type": "choropleth"
           }
          ],
          "contour": [
           {
            "colorbar": {
             "outlinewidth": 0,
             "ticks": ""
            },
            "colorscale": [
             [
              0,
              "#0d0887"
             ],
             [
              0.1111111111111111,
              "#46039f"
             ],
             [
              0.2222222222222222,
              "#7201a8"
             ],
             [
              0.3333333333333333,
              "#9c179e"
             ],
             [
              0.4444444444444444,
              "#bd3786"
             ],
             [
              0.5555555555555556,
              "#d8576b"
             ],
             [
              0.6666666666666666,
              "#ed7953"
             ],
             [
              0.7777777777777778,
              "#fb9f3a"
             ],
             [
              0.8888888888888888,
              "#fdca26"
             ],
             [
              1,
              "#f0f921"
             ]
            ],
            "type": "contour"
           }
          ],
          "contourcarpet": [
           {
            "colorbar": {
             "outlinewidth": 0,
             "ticks": ""
            },
            "type": "contourcarpet"
           }
          ],
          "heatmap": [
           {
            "colorbar": {
             "outlinewidth": 0,
             "ticks": ""
            },
            "colorscale": [
             [
              0,
              "#0d0887"
             ],
             [
              0.1111111111111111,
              "#46039f"
             ],
             [
              0.2222222222222222,
              "#7201a8"
             ],
             [
              0.3333333333333333,
              "#9c179e"
             ],
             [
              0.4444444444444444,
              "#bd3786"
             ],
             [
              0.5555555555555556,
              "#d8576b"
             ],
             [
              0.6666666666666666,
              "#ed7953"
             ],
             [
              0.7777777777777778,
              "#fb9f3a"
             ],
             [
              0.8888888888888888,
              "#fdca26"
             ],
             [
              1,
              "#f0f921"
             ]
            ],
            "type": "heatmap"
           }
          ],
          "histogram": [
           {
            "marker": {
             "pattern": {
              "fillmode": "overlay",
              "size": 10,
              "solidity": 0.2
             }
            },
            "type": "histogram"
           }
          ],
          "histogram2d": [
           {
            "colorbar": {
             "outlinewidth": 0,
             "ticks": ""
            },
            "colorscale": [
             [
              0,
              "#0d0887"
             ],
             [
              0.1111111111111111,
              "#46039f"
             ],
             [
              0.2222222222222222,
              "#7201a8"
             ],
             [
              0.3333333333333333,
              "#9c179e"
             ],
             [
              0.4444444444444444,
              "#bd3786"
             ],
             [
              0.5555555555555556,
              "#d8576b"
             ],
             [
              0.6666666666666666,
              "#ed7953"
             ],
             [
              0.7777777777777778,
              "#fb9f3a"
             ],
             [
              0.8888888888888888,
              "#fdca26"
             ],
             [
              1,
              "#f0f921"
             ]
            ],
            "type": "histogram2d"
           }
          ],
          "histogram2dcontour": [
           {
            "colorbar": {
             "outlinewidth": 0,
             "ticks": ""
            },
            "colorscale": [
             [
              0,
              "#0d0887"
             ],
             [
              0.1111111111111111,
              "#46039f"
             ],
             [
              0.2222222222222222,
              "#7201a8"
             ],
             [
              0.3333333333333333,
              "#9c179e"
             ],
             [
              0.4444444444444444,
              "#bd3786"
             ],
             [
              0.5555555555555556,
              "#d8576b"
             ],
             [
              0.6666666666666666,
              "#ed7953"
             ],
             [
              0.7777777777777778,
              "#fb9f3a"
             ],
             [
              0.8888888888888888,
              "#fdca26"
             ],
             [
              1,
              "#f0f921"
             ]
            ],
            "type": "histogram2dcontour"
           }
          ],
          "mesh3d": [
           {
            "colorbar": {
             "outlinewidth": 0,
             "ticks": ""
            },
            "type": "mesh3d"
           }
          ],
          "parcoords": [
           {
            "line": {
             "colorbar": {
              "outlinewidth": 0,
              "ticks": ""
             }
            },
            "type": "parcoords"
           }
          ],
          "pie": [
           {
            "automargin": true,
            "type": "pie"
           }
          ],
          "scatter": [
           {
            "fillpattern": {
             "fillmode": "overlay",
             "size": 10,
             "solidity": 0.2
            },
            "type": "scatter"
           }
          ],
          "scatter3d": [
           {
            "line": {
             "colorbar": {
              "outlinewidth": 0,
              "ticks": ""
             }
            },
            "marker": {
             "colorbar": {
              "outlinewidth": 0,
              "ticks": ""
             }
            },
            "type": "scatter3d"
           }
          ],
          "scattercarpet": [
           {
            "marker": {
             "colorbar": {
              "outlinewidth": 0,
              "ticks": ""
             }
            },
            "type": "scattercarpet"
           }
          ],
          "scattergeo": [
           {
            "marker": {
             "colorbar": {
              "outlinewidth": 0,
              "ticks": ""
             }
            },
            "type": "scattergeo"
           }
          ],
          "scattergl": [
           {
            "marker": {
             "colorbar": {
              "outlinewidth": 0,
              "ticks": ""
             }
            },
            "type": "scattergl"
           }
          ],
          "scattermap": [
           {
            "marker": {
             "colorbar": {
              "outlinewidth": 0,
              "ticks": ""
             }
            },
            "type": "scattermap"
           }
          ],
          "scattermapbox": [
           {
            "marker": {
             "colorbar": {
              "outlinewidth": 0,
              "ticks": ""
             }
            },
            "type": "scattermapbox"
           }
          ],
          "scatterpolar": [
           {
            "marker": {
             "colorbar": {
              "outlinewidth": 0,
              "ticks": ""
             }
            },
            "type": "scatterpolar"
           }
          ],
          "scatterpolargl": [
           {
            "marker": {
             "colorbar": {
              "outlinewidth": 0,
              "ticks": ""
             }
            },
            "type": "scatterpolargl"
           }
          ],
          "scatterternary": [
           {
            "marker": {
             "colorbar": {
              "outlinewidth": 0,
              "ticks": ""
             }
            },
            "type": "scatterternary"
           }
          ],
          "surface": [
           {
            "colorbar": {
             "outlinewidth": 0,
             "ticks": ""
            },
            "colorscale": [
             [
              0,
              "#0d0887"
             ],
             [
              0.1111111111111111,
              "#46039f"
             ],
             [
              0.2222222222222222,
              "#7201a8"
             ],
             [
              0.3333333333333333,
              "#9c179e"
             ],
             [
              0.4444444444444444,
              "#bd3786"
             ],
             [
              0.5555555555555556,
              "#d8576b"
             ],
             [
              0.6666666666666666,
              "#ed7953"
             ],
             [
              0.7777777777777778,
              "#fb9f3a"
             ],
             [
              0.8888888888888888,
              "#fdca26"
             ],
             [
              1,
              "#f0f921"
             ]
            ],
            "type": "surface"
           }
          ],
          "table": [
           {
            "cells": {
             "fill": {
              "color": "#EBF0F8"
             },
             "line": {
              "color": "white"
             }
            },
            "header": {
             "fill": {
              "color": "#C8D4E3"
             },
             "line": {
              "color": "white"
             }
            },
            "type": "table"
           }
          ]
         },
         "layout": {
          "annotationdefaults": {
           "arrowcolor": "#2a3f5f",
           "arrowhead": 0,
           "arrowwidth": 1
          },
          "autotypenumbers": "strict",
          "coloraxis": {
           "colorbar": {
            "outlinewidth": 0,
            "ticks": ""
           }
          },
          "colorscale": {
           "diverging": [
            [
             0,
             "#8e0152"
            ],
            [
             0.1,
             "#c51b7d"
            ],
            [
             0.2,
             "#de77ae"
            ],
            [
             0.3,
             "#f1b6da"
            ],
            [
             0.4,
             "#fde0ef"
            ],
            [
             0.5,
             "#f7f7f7"
            ],
            [
             0.6,
             "#e6f5d0"
            ],
            [
             0.7,
             "#b8e186"
            ],
            [
             0.8,
             "#7fbc41"
            ],
            [
             0.9,
             "#4d9221"
            ],
            [
             1,
             "#276419"
            ]
           ],
           "sequential": [
            [
             0,
             "#0d0887"
            ],
            [
             0.1111111111111111,
             "#46039f"
            ],
            [
             0.2222222222222222,
             "#7201a8"
            ],
            [
             0.3333333333333333,
             "#9c179e"
            ],
            [
             0.4444444444444444,
             "#bd3786"
            ],
            [
             0.5555555555555556,
             "#d8576b"
            ],
            [
             0.6666666666666666,
             "#ed7953"
            ],
            [
             0.7777777777777778,
             "#fb9f3a"
            ],
            [
             0.8888888888888888,
             "#fdca26"
            ],
            [
             1,
             "#f0f921"
            ]
           ],
           "sequentialminus": [
            [
             0,
             "#0d0887"
            ],
            [
             0.1111111111111111,
             "#46039f"
            ],
            [
             0.2222222222222222,
             "#7201a8"
            ],
            [
             0.3333333333333333,
             "#9c179e"
            ],
            [
             0.4444444444444444,
             "#bd3786"
            ],
            [
             0.5555555555555556,
             "#d8576b"
            ],
            [
             0.6666666666666666,
             "#ed7953"
            ],
            [
             0.7777777777777778,
             "#fb9f3a"
            ],
            [
             0.8888888888888888,
             "#fdca26"
            ],
            [
             1,
             "#f0f921"
            ]
           ]
          },
          "colorway": [
           "#636efa",
           "#EF553B",
           "#00cc96",
           "#ab63fa",
           "#FFA15A",
           "#19d3f3",
           "#FF6692",
           "#B6E880",
           "#FF97FF",
           "#FECB52"
          ],
          "font": {
           "color": "#2a3f5f"
          },
          "geo": {
           "bgcolor": "white",
           "lakecolor": "white",
           "landcolor": "#E5ECF6",
           "showlakes": true,
           "showland": true,
           "subunitcolor": "white"
          },
          "hoverlabel": {
           "align": "left"
          },
          "hovermode": "closest",
          "mapbox": {
           "style": "light"
          },
          "paper_bgcolor": "white",
          "plot_bgcolor": "#E5ECF6",
          "polar": {
           "angularaxis": {
            "gridcolor": "white",
            "linecolor": "white",
            "ticks": ""
           },
           "bgcolor": "#E5ECF6",
           "radialaxis": {
            "gridcolor": "white",
            "linecolor": "white",
            "ticks": ""
           }
          },
          "scene": {
           "xaxis": {
            "backgroundcolor": "#E5ECF6",
            "gridcolor": "white",
            "gridwidth": 2,
            "linecolor": "white",
            "showbackground": true,
            "ticks": "",
            "zerolinecolor": "white"
           },
           "yaxis": {
            "backgroundcolor": "#E5ECF6",
            "gridcolor": "white",
            "gridwidth": 2,
            "linecolor": "white",
            "showbackground": true,
            "ticks": "",
            "zerolinecolor": "white"
           },
           "zaxis": {
            "backgroundcolor": "#E5ECF6",
            "gridcolor": "white",
            "gridwidth": 2,
            "linecolor": "white",
            "showbackground": true,
            "ticks": "",
            "zerolinecolor": "white"
           }
          },
          "shapedefaults": {
           "line": {
            "color": "#2a3f5f"
           }
          },
          "ternary": {
           "aaxis": {
            "gridcolor": "white",
            "linecolor": "white",
            "ticks": ""
           },
           "baxis": {
            "gridcolor": "white",
            "linecolor": "white",
            "ticks": ""
           },
           "bgcolor": "#E5ECF6",
           "caxis": {
            "gridcolor": "white",
            "linecolor": "white",
            "ticks": ""
           }
          },
          "title": {
           "x": 0.05
          },
          "xaxis": {
           "automargin": true,
           "gridcolor": "white",
           "linecolor": "white",
           "ticks": "",
           "title": {
            "standoff": 15
           },
           "zerolinecolor": "white",
           "zerolinewidth": 2
          },
          "yaxis": {
           "automargin": true,
           "gridcolor": "white",
           "linecolor": "white",
           "ticks": "",
           "title": {
            "standoff": 15
           },
           "zerolinecolor": "white",
           "zerolinewidth": 2
          }
         }
        },
        "title": {
         "text": "Message Heatmap by Time and Day"
        },
        "xaxis": {
         "anchor": "y",
         "constrain": "domain",
         "domain": [
          0,
          1
         ],
         "scaleanchor": "y",
         "title": {
          "text": "Hour of Day"
         }
        },
        "yaxis": {
         "anchor": "x",
         "autorange": "reversed",
         "constrain": "domain",
         "domain": [
          0,
          1
         ],
         "title": {
          "text": "Day of Week"
         }
        }
       }
      }
     },
     "metadata": {},
     "output_type": "display_data"
    }
   ],
   "source": [
    "# Aggregate by hour and day of the week\n",
    "heatmap_data = df.groupby([df['day_of_week'], df['hour']])['word_count'].sum().unstack()\n",
    "fig = px.imshow(heatmap_data, labels={'x': 'Hour of Day', 'y': 'Day of Week'}, title=\"Message Heatmap by Time and Day\")\n",
    "fig.show()"
   ]
  },
  {
   "cell_type": "markdown",
   "metadata": {},
   "source": [
    "## Spotting Influential Alumni"
   ]
  },
  {
   "cell_type": "markdown",
   "metadata": {},
   "source": [
    "#### - Top Contributors"
   ]
  },
  {
   "cell_type": "code",
   "execution_count": 25,
   "metadata": {},
   "outputs": [
    {
     "data": {
      "image/png": "[encoded data removed]",
      "text/plain": [
       "<Figure size 800x600 with 1 Axes>"
      ]
     },
     "metadata": {},
     "output_type": "display_data"
    }
   ],
   "source": [
    "df['member'].value_counts().head(20).sort_values(ascending=True).plot(kind='barh',figsize=(8,6), color='#25D366')\n",
    "plt.title('Most Active Group Members')\n",
    "plt.ylabel('Member')\n",
    "plt.xlabel('No of Messages');"
   ]
  },
  {
   "cell_type": "markdown",
   "metadata": {},
   "source": [
    "#### - Least Contributing Members"
   ]
  },
  {
   "cell_type": "code",
   "execution_count": 26,
   "metadata": {},
   "outputs": [
    {
     "data": {
      "image/png": "[encoded data removed]",
      "text/plain": [
       "<Figure size 800x600 with 1 Axes>"
      ]
     },
     "metadata": {},
     "output_type": "display_data"
    }
   ],
   "source": [
    "df['member'].value_counts().tail(20).sort_values(ascending=True).plot(kind='barh',figsize=(8,6), color='#25D366')\n",
    "plt.title('Least Active Group Members')\n",
    "plt.ylabel('Member')\n",
    "plt.xlabel('No of Messages');"
   ]
  },
  {
   "cell_type": "markdown",
   "metadata": {},
   "source": [
    "#### - Monthly Messaging Trends"
   ]
  },
  {
   "cell_type": "code",
   "execution_count": 27,
   "metadata": {},
   "outputs": [
    {
     "data": {
      "application/vnd.plotly.v1+json": {
       "config": {
        "plotlyServerURL": "https://plot.ly"
       },
       "data": [
        {
         "marker": {
          "color": "#25D366"
         },
         "name": "Message Count",
         "type": "bar",
         "x": [
          "2022-08",
          "2022-09",
          "2022-10",
          "2022-11",
          "2022-12",
          "2023-01",
          "2023-02",
          "2023-03",
          "2023-04",
          "2023-05",
          "2023-06",
          "2023-07",
          "2023-08",
          "2023-09",
          "2023-10",
          "2023-11",
          "2023-12",
          "2024-01",
          "2024-02",
          "2024-03",
          "2024-04",
          "2024-05",
          "2024-06",
          "2024-07",
          "2024-08",
          "2024-09",
          "2024-10",
          "2024-11",
          "2024-12",
          "2025-01",
          "2025-02"
         ],
         "y": {
          "bdata": "+QBpA5cAowE3AYwCOg0TAZEBKQH9ANIA+wD9AfkAIQK4AMYBuADnAPsAKwHaAKoB6gGZAMABCgHcAN0AvgA=",
          "dtype": "i2"
         }
        },
        {
         "line": {
          "color": "red",
          "width": 2
         },
         "mode": "lines+markers",
         "name": "Trend",
         "type": "scatter",
         "x": [
          "2022-08",
          "2022-09",
          "2022-10",
          "2022-11",
          "2022-12",
          "2023-01",
          "2023-02",
          "2023-03",
          "2023-04",
          "2023-05",
          "2023-06",
          "2023-07",
          "2023-08",
          "2023-09",
          "2023-10",
          "2023-11",
          "2023-12",
          "2024-01",
          "2024-02",
          "2024-03",
          "2024-04",
          "2024-05",
          "2024-06",
          "2024-07",
          "2024-08",
          "2024-09",
          "2024-10",
          "2024-11",
          "2024-12",
          "2025-01",
          "2025-02"
         ],
         "y": {
          "bdata": "+QBpA5cAowE3AYwCOg0TAZEBKQH9ANIA+wD9AfkAIQK4AMYBuADnAPsAKwHaAKoB6gGZAMABCgHcAN0AvgA=",
          "dtype": "i2"
         }
        }
       ],
       "layout": {
        "template": {
         "data": {
          "bar": [
           {
            "error_x": {
             "color": "#2a3f5f"
            },
            "error_y": {
             "color": "#2a3f5f"
            },
            "marker": {
             "line": {
              "color": "#E5ECF6",
              "width": 0.5
             },
             "pattern": {
              "fillmode": "overlay",
              "size": 10,
              "solidity": 0.2
             }
            },
            "type": "bar"
           }
          ],
          "barpolar": [
           {
            "marker": {
             "line": {
              "color": "#E5ECF6",
              "width": 0.5
             },
             "pattern": {
              "fillmode": "overlay",
              "size": 10,
              "solidity": 0.2
             }
            },
            "type": "barpolar"
           }
          ],
          "carpet": [
           {
            "aaxis": {
             "endlinecolor": "#2a3f5f",
             "gridcolor": "white",
             "linecolor": "white",
             "minorgridcolor": "white",
             "startlinecolor": "#2a3f5f"
            },
            "baxis": {
             "endlinecolor": "#2a3f5f",
             "gridcolor": "white",
             "linecolor": "white",
             "minorgridcolor": "white",
             "startlinecolor": "#2a3f5f"
            },
            "type": "carpet"
           }
          ],
          "choropleth": [
           {
            "colorbar": {
             "outlinewidth": 0,
             "ticks": ""
            },
            "type": "choropleth"
           }
          ],
          "contour": [
           {
            "colorbar": {
             "outlinewidth": 0,
             "ticks": ""
            },
            "colorscale": [
             [
              0,
              "#0d0887"
             ],
             [
              0.1111111111111111,
              "#46039f"
             ],
             [
              0.2222222222222222,
              "#7201a8"
             ],
             [
              0.3333333333333333,
              "#9c179e"
             ],
             [
              0.4444444444444444,
              "#bd3786"
             ],
             [
              0.5555555555555556,
              "#d8576b"
             ],
             [
              0.6666666666666666,
              "#ed7953"
             ],
             [
              0.7777777777777778,
              "#fb9f3a"
             ],
             [
              0.8888888888888888,
              "#fdca26"
             ],
             [
              1,
              "#f0f921"
             ]
            ],
            "type": "contour"
           }
          ],
          "contourcarpet": [
           {
            "colorbar": {
             "outlinewidth": 0,
             "ticks": ""
            },
            "type": "contourcarpet"
           }
          ],
          "heatmap": [
           {
            "colorbar": {
             "outlinewidth": 0,
             "ticks": ""
            },
            "colorscale": [
             [
              0,
              "#0d0887"
             ],
             [
              0.1111111111111111,
              "#46039f"
             ],
             [
              0.2222222222222222,
              "#7201a8"
             ],
             [
              0.3333333333333333,
              "#9c179e"
             ],
             [
              0.4444444444444444,
              "#bd3786"
             ],
             [
              0.5555555555555556,
              "#d8576b"
             ],
             [
              0.6666666666666666,
              "#ed7953"
             ],
             [
              0.7777777777777778,
              "#fb9f3a"
             ],
             [
              0.8888888888888888,
              "#fdca26"
             ],
             [
              1,
              "#f0f921"
             ]
            ],
            "type": "heatmap"
           }
          ],
          "histogram": [
           {
            "marker": {
             "pattern": {
              "fillmode": "overlay",
              "size": 10,
              "solidity": 0.2
             }
            },
            "type": "histogram"
           }
          ],
          "histogram2d": [
           {
            "colorbar": {
             "outlinewidth": 0,
             "ticks": ""
            },
            "colorscale": [
             [
              0,
              "#0d0887"
             ],
             [
              0.1111111111111111,
              "#46039f"
             ],
             [
              0.2222222222222222,
              "#7201a8"
             ],
             [
              0.3333333333333333,
              "#9c179e"
             ],
             [
              0.4444444444444444,
              "#bd3786"
             ],
             [
              0.5555555555555556,
              "#d8576b"
             ],
             [
              0.6666666666666666,
              "#ed7953"
             ],
             [
              0.7777777777777778,
              "#fb9f3a"
             ],
             [
              0.8888888888888888,
              "#fdca26"
             ],
             [
              1,
              "#f0f921"
             ]
            ],
            "type": "histogram2d"
           }
          ],
          "histogram2dcontour": [
           {
            "colorbar": {
             "outlinewidth": 0,
             "ticks": ""
            },
            "colorscale": [
             [
              0,
              "#0d0887"
             ],
             [
              0.1111111111111111,
              "#46039f"
             ],
             [
              0.2222222222222222,
              "#7201a8"
             ],
             [
              0.3333333333333333,
              "#9c179e"
             ],
             [
              0.4444444444444444,
              "#bd3786"
             ],
             [
              0.5555555555555556,
              "#d8576b"
             ],
             [
              0.6666666666666666,
              "#ed7953"
             ],
             [
              0.7777777777777778,
              "#fb9f3a"
             ],
             [
              0.8888888888888888,
              "#fdca26"
             ],
             [
              1,
              "#f0f921"
             ]
            ],
            "type": "histogram2dcontour"
           }
          ],
          "mesh3d": [
           {
            "colorbar": {
             "outlinewidth": 0,
             "ticks": ""
            },
            "type": "mesh3d"
           }
          ],
          "parcoords": [
           {
            "line": {
             "colorbar": {
              "outlinewidth": 0,
              "ticks": ""
             }
            },
            "type": "parcoords"
           }
          ],
          "pie": [
           {
            "automargin": true,
            "type": "pie"
           }
          ],
          "scatter": [
           {
            "fillpattern": {
             "fillmode": "overlay",
             "size": 10,
             "solidity": 0.2
            },
            "type": "scatter"
           }
          ],
          "scatter3d": [
           {
            "line": {
             "colorbar": {
              "outlinewidth": 0,
              "ticks": ""
             }
            },
            "marker": {
             "colorbar": {
              "outlinewidth": 0,
              "ticks": ""
             }
            },
            "type": "scatter3d"
           }
          ],
          "scattercarpet": [
           {
            "marker": {
             "colorbar": {
              "outlinewidth": 0,
              "ticks": ""
             }
            },
            "type": "scattercarpet"
           }
          ],
          "scattergeo": [
           {
            "marker": {
             "colorbar": {
              "outlinewidth": 0,
              "ticks": ""
             }
            },
            "type": "scattergeo"
           }
          ],
          "scattergl": [
           {
            "marker": {
             "colorbar": {
              "outlinewidth": 0,
              "ticks": ""
             }
            },
            "type": "scattergl"
           }
          ],
          "scattermap": [
           {
            "marker": {
             "colorbar": {
              "outlinewidth": 0,
              "ticks": ""
             }
            },
            "type": "scattermap"
           }
          ],
          "scattermapbox": [
           {
            "marker": {
             "colorbar": {
              "outlinewidth": 0,
              "ticks": ""
             }
            },
            "type": "scattermapbox"
           }
          ],
          "scatterpolar": [
           {
            "marker": {
             "colorbar": {
              "outlinewidth": 0,
              "ticks": ""
             }
            },
            "type": "scatterpolar"
           }
          ],
          "scatterpolargl": [
           {
            "marker": {
             "colorbar": {
              "outlinewidth": 0,
              "ticks": ""
             }
            },
            "type": "scatterpolargl"
           }
          ],
          "scatterternary": [
           {
            "marker": {
             "colorbar": {
              "outlinewidth": 0,
              "ticks": ""
             }
            },
            "type": "scatterternary"
           }
          ],
          "surface": [
           {
            "colorbar": {
             "outlinewidth": 0,
             "ticks": ""
            },
            "colorscale": [
             [
              0,
              "#0d0887"
             ],
             [
              0.1111111111111111,
              "#46039f"
             ],
             [
              0.2222222222222222,
              "#7201a8"
             ],
             [
              0.3333333333333333,
              "#9c179e"
             ],
             [
              0.4444444444444444,
              "#bd3786"
             ],
             [
              0.5555555555555556,
              "#d8576b"
             ],
             [
              0.6666666666666666,
              "#ed7953"
             ],
             [
              0.7777777777777778,
              "#fb9f3a"
             ],
             [
              0.8888888888888888,
              "#fdca26"
             ],
             [
              1,
              "#f0f921"
             ]
            ],
            "type": "surface"
           }
          ],
          "table": [
           {
            "cells": {
             "fill": {
              "color": "#EBF0F8"
             },
             "line": {
              "color": "white"
             }
            },
            "header": {
             "fill": {
              "color": "#C8D4E3"
             },
             "line": {
              "color": "white"
             }
            },
            "type": "table"
           }
          ]
         },
         "layout": {
          "annotationdefaults": {
           "arrowcolor": "#2a3f5f",
           "arrowhead": 0,
           "arrowwidth": 1
          },
          "autotypenumbers": "strict",
          "coloraxis": {
           "colorbar": {
            "outlinewidth": 0,
            "ticks": ""
           }
          },
          "colorscale": {
           "diverging": [
            [
             0,
             "#8e0152"
            ],
            [
             0.1,
             "#c51b7d"
            ],
            [
             0.2,
             "#de77ae"
            ],
            [
             0.3,
             "#f1b6da"
            ],
            [
             0.4,
             "#fde0ef"
            ],
            [
             0.5,
             "#f7f7f7"
            ],
            [
             0.6,
             "#e6f5d0"
            ],
            [
             0.7,
             "#b8e186"
            ],
            [
             0.8,
             "#7fbc41"
            ],
            [
             0.9,
             "#4d9221"
            ],
            [
             1,
             "#276419"
            ]
           ],
           "sequential": [
            [
             0,
             "#0d0887"
            ],
            [
             0.1111111111111111,
             "#46039f"
            ],
            [
             0.2222222222222222,
             "#7201a8"
            ],
            [
             0.3333333333333333,
             "#9c179e"
            ],
            [
             0.4444444444444444,
             "#bd3786"
            ],
            [
             0.5555555555555556,
             "#d8576b"
            ],
            [
             0.6666666666666666,
             "#ed7953"
            ],
            [
             0.7777777777777778,
             "#fb9f3a"
            ],
            [
             0.8888888888888888,
             "#fdca26"
            ],
            [
             1,
             "#f0f921"
            ]
           ],
           "sequentialminus": [
            [
             0,
             "#0d0887"
            ],
            [
             0.1111111111111111,
             "#46039f"
            ],
            [
             0.2222222222222222,
             "#7201a8"
            ],
            [
             0.3333333333333333,
             "#9c179e"
            ],
            [
             0.4444444444444444,
             "#bd3786"
            ],
            [
             0.5555555555555556,
             "#d8576b"
            ],
            [
             0.6666666666666666,
             "#ed7953"
            ],
            [
             0.7777777777777778,
             "#fb9f3a"
            ],
            [
             0.8888888888888888,
             "#fdca26"
            ],
            [
             1,
             "#f0f921"
            ]
           ]
          },
          "colorway": [
           "#636efa",
           "#EF553B",
           "#00cc96",
           "#ab63fa",
           "#FFA15A",
           "#19d3f3",
           "#FF6692",
           "#B6E880",
           "#FF97FF",
           "#FECB52"
          ],
          "font": {
           "color": "#2a3f5f"
          },
          "geo": {
           "bgcolor": "white",
           "lakecolor": "white",
           "landcolor": "#E5ECF6",
           "showlakes": true,
           "showland": true,
           "subunitcolor": "white"
          },
          "hoverlabel": {
           "align": "left"
          },
          "hovermode": "closest",
          "mapbox": {
           "style": "light"
          },
          "paper_bgcolor": "white",
          "plot_bgcolor": "#E5ECF6",
          "polar": {
           "angularaxis": {
            "gridcolor": "white",
            "linecolor": "white",
            "ticks": ""
           },
           "bgcolor": "#E5ECF6",
           "radialaxis": {
            "gridcolor": "white",
            "linecolor": "white",
            "ticks": ""
           }
          },
          "scene": {
           "xaxis": {
            "backgroundcolor": "#E5ECF6",
            "gridcolor": "white",
            "gridwidth": 2,
            "linecolor": "white",
            "showbackground": true,
            "ticks": "",
            "zerolinecolor": "white"
           },
           "yaxis": {
            "backgroundcolor": "#E5ECF6",
            "gridcolor": "white",
            "gridwidth": 2,
            "linecolor": "white",
            "showbackground": true,
            "ticks": "",
            "zerolinecolor": "white"
           },
           "zaxis": {
            "backgroundcolor": "#E5ECF6",
            "gridcolor": "white",
            "gridwidth": 2,
            "linecolor": "white",
            "showbackground": true,
            "ticks": "",
            "zerolinecolor": "white"
           }
          },
          "shapedefaults": {
           "line": {
            "color": "#2a3f5f"
           }
          },
          "ternary": {
           "aaxis": {
            "gridcolor": "white",
            "linecolor": "white",
            "ticks": ""
           },
           "baxis": {
            "gridcolor": "white",
            "linecolor": "white",
            "ticks": ""
           },
           "bgcolor": "#E5ECF6",
           "caxis": {
            "gridcolor": "white",
            "linecolor": "white",
            "ticks": ""
           }
          },
          "title": {
           "x": 0.05
          },
          "xaxis": {
           "automargin": true,
           "gridcolor": "white",
           "linecolor": "white",
           "ticks": "",
           "title": {
            "standoff": 15
           },
           "zerolinecolor": "white",
           "zerolinewidth": 2
          },
          "yaxis": {
           "automargin": true,
           "gridcolor": "white",
           "linecolor": "white",
           "ticks": "",
           "title": {
            "standoff": 15
           },
           "zerolinecolor": "white",
           "zerolinewidth": 2
          }
         }
        },
        "title": {
         "text": "Monthly Messaging Progression"
        },
        "xaxis": {
         "tickangle": 45,
         "title": {
          "text": "Month"
         }
        },
        "yaxis": {
         "title": {
          "text": "Number of Messages"
         }
        }
       }
      }
     },
     "metadata": {},
     "output_type": "display_data"
    }
   ],
   "source": [
    "# Convert 'date' column to datetime\n",
    "df['date'] = pd.to_datetime(df['date'], errors='coerce')\n",
    "\n",
    "# Group by month for a bar plot of message counts\n",
    "df['month'] = df['date'].dt.to_period('M').astype(str)  # Convert to string for better formatting\n",
    "monthly_df = df.groupby('month')['word_count'].sum().reset_index()\n",
    "\n",
    "# Create a figure with both bar and line traces\n",
    "fig = go.Figure()\n",
    "\n",
    "# Add bar trace\n",
    "fig.add_trace(go.Bar(x=monthly_df['month'], y=monthly_df['word_count'], name='Message Count', \n",
    "                     marker_color='#25D366'))\n",
    "\n",
    "# Add line trace (representing the trend of message count)\n",
    "fig.add_trace(go.Scatter(x=monthly_df['month'], y=monthly_df['word_count'], mode='lines+markers', name='Trend',\n",
    "                         line=dict(color='red', width=2)))\n",
    "\n",
    "# Update layout and axes\n",
    "fig.update_layout(title=\"Monthly Messaging Progression\",\n",
    "                  xaxis_title=\"Month\", yaxis_title=\"Number of Messages\",\n",
    "                  xaxis_tickangle=45)\n",
    "\n",
    "fig.show()\n"
   ]
  },
  {
   "cell_type": "markdown",
   "metadata": {},
   "source": [
    "## Topic Modeling with Latent Dirichlet Allocation \n",
    "\n",
    "Latent Dirichlet Allocation (LDA) is a statistical model that is used for identifying thematic structures in a collection of documents or texts. This is a model that uses the Dirichlet distribution (a probability distribution that defines the likelihood of selecting certain topics) to model the distribution of topics within each document and the distribution of words within each topic.\n",
    "\n",
    "Employing LDA, I will be able to provide insights into the dominant topics or themes being discussed in the chat group. For instance, conversations focus on nostalgic chats, reunions, personal milestones, birthdays, celebrations, and so on."
   ]
  },
  {
   "cell_type": "markdown",
   "metadata": {},
   "source": [
    "#### - Stopword Removal & Tokenization\n",
    "Here, I cleaned the text by removing numbers, special characters, and stopwords, then broke it into tokens before vectorization"
   ]
  },
  {
   "cell_type": "code",
   "execution_count": 28,
   "metadata": {},
   "outputs": [],
   "source": [
    "stop_words = set(stopwords.words('english'))\n",
    "lemmatizer = WordNetLemmatizer()"
   ]
  },
  {
   "cell_type": "code",
   "execution_count": 29,
   "metadata": {},
   "outputs": [],
   "source": [
    "def preprocess(text):\n",
    "    text = re.sub(r'@\\d+|\\b\\d+\\b|[^a-zA-Z\\s]', '', text.lower())  # Remove numbers, special chars, and mentions\n",
    "    words = text.split()\n",
    "    words = [lemmatizer.lemmatize(word) for word in words if word not in stop_words]  # Lemmatization & stopword removal\n",
    "    return words  # Keep as a list for topic modeling\n",
    "    \n",
    "# Apply preprocessing function\n",
    "df['processed_message'] = df['message'].apply(preprocess)\n",
    "\n",
    "# Convert lists back to strings for LDA\n",
    "df['processed_message'] = df['processed_message'].apply(lambda x: ' '.join(x))"
   ]
  },
  {
   "cell_type": "code",
   "execution_count": 30,
   "metadata": {},
   "outputs": [
    {
     "data": {
      "text/plain": [
       "0                      moving uk via study rough estimate\n",
       "1                                  open heaven devotional\n",
       "2       httpstwittercomeasyfckingmoneystatustjclksmscv...\n",
       "5                                    open heaven devotion\n",
       "6                                  open heaven devotional\n",
       "                              ...                        \n",
       "3086                                         allah rahman\n",
       "3087                                       happy birthday\n",
       "3088                               birthday blessing sire\n",
       "3089                          thanks gallant statistician\n",
       "3090                         open heaven daily devotional\n",
       "Name: processed_message, Length: 2748, dtype: object"
      ]
     },
     "execution_count": 30,
     "metadata": {},
     "output_type": "execute_result"
    }
   ],
   "source": [
    "df['processed_message'] "
   ]
  },
  {
   "cell_type": "markdown",
   "metadata": {},
   "source": [
    "#### - TF-IDF vectorizer (only applicable to SKLEARN LDA model)"
   ]
  },
  {
   "cell_type": "code",
   "execution_count": 31,
   "metadata": {},
   "outputs": [],
   "source": [
    "# Initialize the TF-IDF vectorizer\n",
    "#vectorizer = TfidfVectorizer(max_df=0.95, min_df=2, stop_words='english')\n",
    "\n",
    "# Fit and transform\n",
    "#X_tfidf = vectorizer.fit_transform(df['processed_message'])"
   ]
  },
  {
   "cell_type": "markdown",
   "metadata": {},
   "source": [
    "#### - Convert text data into a usable format for LDA"
   ]
  },
  {
   "cell_type": "code",
   "execution_count": 32,
   "metadata": {},
   "outputs": [],
   "source": [
    "dictionary = corpora.Dictionary([text.split() for text in df['processed_message']])\n",
    "corpus = [dictionary.doc2bow(text.split()) for text in df['processed_message']]"
   ]
  },
  {
   "cell_type": "markdown",
   "metadata": {},
   "source": [
    "#### - Bayesian Optimization (Optuna) Hyperparameter Tuning\n",
    "\n",
    "Write the objective function for Optuna model tuning"
   ]
  },
  {
   "cell_type": "code",
   "execution_count": 33,
   "metadata": {},
   "outputs": [
    {
     "name": "stderr",
     "output_type": "stream",
     "text": [
      "[I 2025-03-15 03:19:18,557] A new study created in memory with name: no-name-02b645a5-94a9-4115-a043-7a2d65a64eb9\n",
      "[I 2025-03-15 03:19:27,777] Trial 0 finished with value: 0.5319099238673818 and parameters: {'num_topics': 46, 'alpha': 0.9147755500848866, 'beta': 0.5754085677460908}. Best is trial 0 with value: 0.5319099238673818.\n",
      "[I 2025-03-15 03:19:44,460] Trial 1 finished with value: 0.5012304556880539 and parameters: {'num_topics': 25, 'alpha': 0.39947186375543914, 'beta': 0.03345480463392182}. Best is trial 0 with value: 0.5319099238673818.\n",
      "[I 2025-03-15 03:19:51,886] Trial 2 finished with value: 0.4594898196595987 and parameters: {'num_topics': 15, 'alpha': 0.025255331504493512, 'beta': 0.6961490309188795}. Best is trial 0 with value: 0.5319099238673818.\n",
      "[I 2025-03-15 03:20:08,017] Trial 3 finished with value: 0.47680420088241504 and parameters: {'num_topics': 23, 'alpha': 0.30249376482727675, 'beta': 0.9707071721902875}. Best is trial 0 with value: 0.5319099238673818.\n",
      "[I 2025-03-15 03:20:15,843] Trial 4 finished with value: 0.5118197305130692 and parameters: {'num_topics': 13, 'alpha': 0.24315780263717923, 'beta': 0.3127963040240783}. Best is trial 0 with value: 0.5319099238673818.\n",
      "[I 2025-03-15 03:20:23,882] Trial 5 finished with value: 0.50619248384995 and parameters: {'num_topics': 18, 'alpha': 0.04024600569751682, 'beta': 0.2842356720710778}. Best is trial 0 with value: 0.5319099238673818.\n",
      "[I 2025-03-15 03:20:39,102] Trial 6 finished with value: 0.4912750288902583 and parameters: {'num_topics': 27, 'alpha': 0.02319779635061655, 'beta': 0.06996375643432856}. Best is trial 0 with value: 0.5319099238673818.\n",
      "[I 2025-03-15 03:20:54,304] Trial 7 finished with value: 0.5322636862243634 and parameters: {'num_topics': 23, 'alpha': 0.023139450997861164, 'beta': 0.015153188220059345}. Best is trial 7 with value: 0.5322636862243634.\n",
      "[I 2025-03-15 03:21:10,543] Trial 8 finished with value: 0.4547634101420267 and parameters: {'num_topics': 43, 'alpha': 0.01566009649641506, 'beta': 0.07255949200719072}. Best is trial 7 with value: 0.5322636862243634.\n",
      "[I 2025-03-15 03:21:25,949] Trial 9 finished with value: 0.5124503097828872 and parameters: {'num_topics': 28, 'alpha': 0.4688673995029207, 'beta': 0.13366634041475295}. Best is trial 7 with value: 0.5322636862243634.\n",
      "[I 2025-03-15 03:21:42,868] Trial 10 finished with value: 0.5083198079311234 and parameters: {'num_topics': 36, 'alpha': 0.07100323144147519, 'beta': 0.010933130445000836}. Best is trial 7 with value: 0.5322636862243634.\n",
      "[I 2025-03-15 03:21:51,358] Trial 11 finished with value: 0.5719827039888316 and parameters: {'num_topics': 48, 'alpha': 0.9347680693681363, 'beta': 0.011705166187070062}. Best is trial 11 with value: 0.5719827039888316.\n",
      "[I 2025-03-15 03:21:58,720] Trial 12 finished with value: 0.49672357583720966 and parameters: {'num_topics': 7, 'alpha': 0.010122962612238226, 'beta': 0.0100071989620825}. Best is trial 11 with value: 0.5719827039888316.\n",
      "[I 2025-03-15 03:22:15,169] Trial 13 finished with value: 0.5248044592707196 and parameters: {'num_topics': 37, 'alpha': 0.12605869551283747, 'beta': 0.02491303041874728}. Best is trial 11 with value: 0.5719827039888316.\n",
      "[I 2025-03-15 03:22:33,332] Trial 14 finished with value: 0.5251627315986442 and parameters: {'num_topics': 34, 'alpha': 0.11638833326325328, 'beta': 0.019314838296484487}. Best is trial 11 with value: 0.5719827039888316.\n",
      "[I 2025-03-15 03:22:52,321] Trial 15 finished with value: 0.46854915629312366 and parameters: {'num_topics': 50, 'alpha': 0.05687698411579553, 'beta': 0.03584871697014775}. Best is trial 11 with value: 0.5719827039888316.\n",
      "[I 2025-03-15 03:23:00,285] Trial 16 finished with value: 0.5866932817077031 and parameters: {'num_topics': 32, 'alpha': 0.7765203306375902, 'beta': 0.017626974837611078}. Best is trial 16 with value: 0.5866932817077031.\n",
      "[I 2025-03-15 03:23:16,179] Trial 17 finished with value: 0.5967347334330773 and parameters: {'num_topics': 41, 'alpha': 0.7875225045903348, 'beta': 0.04985915380656536}. Best is trial 17 with value: 0.5967347334330773.\n",
      "[I 2025-03-15 03:23:32,242] Trial 18 finished with value: 0.5924924323972598 and parameters: {'num_topics': 41, 'alpha': 0.596040010225358, 'beta': 0.05273318924619216}. Best is trial 17 with value: 0.5967347334330773.\n",
      "[I 2025-03-15 03:23:50,299] Trial 19 finished with value: 0.4973248406698532 and parameters: {'num_topics': 42, 'alpha': 0.19267785737946505, 'beta': 0.13110743642078618}. Best is trial 17 with value: 0.5967347334330773.\n",
      "[I 2025-03-15 03:24:05,904] Trial 20 finished with value: 0.5830785792735514 and parameters: {'num_topics': 41, 'alpha': 0.5444720854670054, 'beta': 0.052474022698323124}. Best is trial 17 with value: 0.5967347334330773.\n",
      "[I 2025-03-15 03:24:21,291] Trial 21 finished with value: 0.5998425446328678 and parameters: {'num_topics': 31, 'alpha': 0.5987605094514616, 'beta': 0.042992509240194744}. Best is trial 21 with value: 0.5998425446328678.\n",
      "[I 2025-03-15 03:24:29,882] Trial 22 finished with value: 0.5927409872292664 and parameters: {'num_topics': 39, 'alpha': 0.662080284924495, 'beta': 0.04451166004155491}. Best is trial 21 with value: 0.5998425446328678.\n",
      "[I 2025-03-15 03:24:45,591] Trial 23 finished with value: 0.4651218363353769 and parameters: {'num_topics': 31, 'alpha': 0.31717174309726187, 'beta': 0.034645937120009754}. Best is trial 21 with value: 0.5998425446328678.\n",
      "[I 2025-03-15 03:25:02,651] Trial 24 finished with value: 0.48726661059450865 and parameters: {'num_topics': 38, 'alpha': 0.19404183161432023, 'beta': 0.09629580505770904}. Best is trial 21 with value: 0.5998425446328678.\n",
      "[I 2025-03-15 03:25:11,346] Trial 25 finished with value: 0.5853131235741796 and parameters: {'num_topics': 45, 'alpha': 0.6367753666327008, 'beta': 0.05142262350496562}. Best is trial 21 with value: 0.5998425446328678.\n",
      "[I 2025-03-15 03:25:30,436] Trial 26 finished with value: 0.4505523687522433 and parameters: {'num_topics': 38, 'alpha': 0.37379909974190034, 'beta': 0.19782840084090425}. Best is trial 21 with value: 0.5998425446328678.\n",
      "[I 2025-03-15 03:25:39,442] Trial 27 finished with value: 0.5875740742093164 and parameters: {'num_topics': 31, 'alpha': 0.6687931617957587, 'beta': 0.024086815671874724}. Best is trial 21 with value: 0.5998425446328678.\n",
      "[I 2025-03-15 03:25:56,200] Trial 28 finished with value: 0.6071328706999154 and parameters: {'num_topics': 35, 'alpha': 0.9818770834709173, 'beta': 0.08165906756398034}. Best is trial 28 with value: 0.6071328706999154.\n",
      "[I 2025-03-15 03:26:11,970] Trial 29 finished with value: 0.5982771192522265 and parameters: {'num_topics': 34, 'alpha': 0.9021470395451835, 'beta': 0.08398557042208707}. Best is trial 28 with value: 0.6071328706999154.\n"
     ]
    },
    {
     "name": "stdout",
     "output_type": "stream",
     "text": [
      "Best Parameters: {'num_topics': 35, 'alpha': 0.9818770834709173, 'beta': 0.08165906756398034}\n"
     ]
    }
   ],
   "source": [
    "def objective(trial):\n",
    "    num_topics = trial.suggest_int(\"num_topics\", 5, 50)  # Tune number of topics\n",
    "    alpha = trial.suggest_float(\"alpha\", 0.01, 1, log=True)   # Use suggest_float with log=True\n",
    "    beta = trial.suggest_float(\"beta\", 0.01, 1, log=True)     # Same for beta\n",
    "\n",
    "    lda_model = LdaModel(\n",
    "        corpus=corpus,\n",
    "        id2word=dictionary,\n",
    "        num_topics=num_topics,\n",
    "        alpha=alpha,\n",
    "        eta=beta,\n",
    "        passes=10\n",
    "    )\n",
    "\n",
    "    coherence_model = CoherenceModel(model=lda_model, texts=[text.split() for text in df['processed_message']], dictionary=dictionary, coherence='c_v')\n",
    "    return coherence_model.get_coherence()\n",
    "\n",
    "# Run Bayesian Optimization\n",
    "study = optuna.create_study(direction=\"maximize\")\n",
    "study.optimize(objective, n_trials=30)  # 30 trials\n",
    "\n",
    "print(\"Best Parameters:\", study.best_params)\n"
   ]
  },
  {
   "cell_type": "code",
   "execution_count": 34,
   "metadata": {},
   "outputs": [],
   "source": [
    "best_params = study.best_params\n",
    "\n",
    "lda_best = LdaModel(\n",
    "    corpus=corpus,\n",
    "    id2word=dictionary,\n",
    "    num_topics=best_params['num_topics'],\n",
    "    alpha=best_params['alpha'],\n",
    "    eta=best_params['beta'],\n",
    "    passes=10,\n",
    "    random_state=42\n",
    ")"
   ]
  },
  {
   "cell_type": "markdown",
   "metadata": {},
   "source": [
    "#### - Extract the most representative words from each topic"
   ]
  },
  {
   "cell_type": "code",
   "execution_count": 35,
   "metadata": {},
   "outputs": [
    {
     "name": "stdout",
     "output_type": "stream",
     "text": [
      "Topic 0: bless, heaven, open, devotional, god, daily, dear, congratulation, yes, union\n",
      "Topic 1: heaven, devotional, open, daily, dear, happy, birthday, give, call, invite\n",
      "Topic 2: devotional, heaven, open, know, congratulation, even, welcome, edited, na, daily\n",
      "Topic 3: devotional, open, heaven, daily, birthday, vote, b, remember, tuesday, congratulation\n",
      "Topic 4: heaven, open, blessing, devotional, birthday, daily, happy, wan, congratulation, thanks\n",
      "Topic 5: devotional, mi, open, heaven, year, sure, happiest, daily, stay, ti\n",
      "Topic 6: devotional, open, please, birthday, heaven, happy, thanks, god, thank, daily\n",
      "Topic 7: heaven, open, devotional, pastor, daily, congratulation, thing, evening, birthday, k\n",
      "Topic 8: devotional, heaven, open, name, daily, birthday, dm, happy, right, na\n",
      "Topic 9: open, devotional, heaven, nah, daily, sir, birthday, first, wow, whats\n",
      "Topic 10: open, heaven, devotional, wish, daily, illegal, birthday, happy, heart, picture\n",
      "Topic 11: heaven, devotional, open, kiss, daily, happy, mind, birthday, celebration, lol\n",
      "Topic 12: devotional, heaven, open, university, daily, group, amin, statistic, opportunity, student\n",
      "Topic 13: heaven, devotional, open, daily, congratulation, march, birthday, olodo, master, head\n",
      "Topic 14: open, heaven, devotional, daily, congratulation, israel, simple, lie, taiwo, happy\n",
      "Topic 15: message, deleted, people, na, devotional, open, thank, wetin, heaven, sha\n",
      "Topic 16: heaven, devotional, open, man, well, birthday, god, go, thanks, better\n",
      "Topic 17: devotional, heaven, open, thank, day, want, birthday, morning, wedding, e\n",
      "Topic 18: devotional, heaven, open, daily, abi, congratulation, need, thanks, never, fit\n",
      "Topic 19: open, devotional, heaven, really, big, birthday, congratulation, get, daily, everybody\n",
      "Topic 20: happy, birthday, good, new, life, age, brother, prosperity, long, bless\n",
      "Topic 21: devotional, open, phd, heaven, jesus, happy, rest, birthday, daily, god\n",
      "Topic 22: dey, baba, na, una, person, like, heaven, wey, dis, ur\n",
      "Topic 23: open, heaven, devotional, daily, much, oh, lmao, paro, sha, birthday\n",
      "Topic 24: u, ni, see, open, e, devotional, love, go, help, god\n",
      "Topic 25: open, devotional, guy, heaven, still, everyone, home, god, congratulation, brother\n",
      "Topic 26: heaven, devotional, open, lol, daily, birthday, happy, study, babe, congratulation\n",
      "Topic 27: devotional, heaven, open, daily, dear, sister, much, congratulation, fine, getting\n",
      "Topic 28: devotional, open, heaven, say, abeg, make, daily, dem, birthday, school\n",
      "Topic 29: get, job, ahead, omo, join, open, miss, post, link, tech\n",
      "Topic 30: open, devotional, heaven, daily, congratulation, far, birthday, hope, bro, thanks\n",
      "Topic 31: allah, amen, bro, may, open, devotional, heaven, rahman, always, happy\n",
      "Topic 32: thanks, open, devotional, heaven, im, happy, appreciate, hi, congratulation, daily\n",
      "Topic 33: open, heaven, devotional, daily, bos, great, birthday, congratulation, happy, brother\n",
      "Topic 34: devotional, heaven, open, happy, daily, birthday, time, tell, cheer, mr\n"
     ]
    }
   ],
   "source": [
    "# Extract Top Words for Each Topic\n",
    "topics = lda_best.show_topics(num_topics=best_params[\"num_topics\"], num_words=10, formatted=False)\n",
    "\n",
    "for i, topic in topics:\n",
    "    words = [word[0] for word in topic]\n",
    "    print(f\"Topic {i}: {', '.join(words)}\")"
   ]
  },
  {
   "cell_type": "markdown",
   "metadata": {},
   "source": [
    "#### - Topic Labels with Word Weights"
   ]
  },
  {
   "cell_type": "code",
   "execution_count": 42,
   "metadata": {},
   "outputs": [
    {
     "name": "stdout",
     "output_type": "stream",
     "text": [
      "Topic 0:\n",
      "   bless: 0.0916\n",
      "   heaven: 0.0849\n",
      "   open: 0.0839\n",
      "   devotional: 0.0726\n",
      "   god: 0.0453\n",
      "   daily: 0.0328\n",
      "   dear: 0.0230\n",
      "   congratulation: 0.0219\n",
      "   yes: 0.0212\n",
      "   union: 0.0208\n",
      "Topic 1:\n",
      "   heaven: 0.1328\n",
      "   devotional: 0.1111\n",
      "   open: 0.1016\n",
      "   daily: 0.0466\n",
      "   dear: 0.0280\n",
      "   happy: 0.0191\n",
      "   birthday: 0.0171\n",
      "   give: 0.0114\n",
      "   call: 0.0105\n",
      "   invite: 0.0104\n",
      "Topic 2:\n",
      "   devotional: 0.0877\n",
      "   heaven: 0.0747\n",
      "   open: 0.0544\n",
      "   know: 0.0480\n",
      "   congratulation: 0.0352\n",
      "   even: 0.0338\n",
      "   welcome: 0.0322\n",
      "   edited: 0.0299\n",
      "   na: 0.0256\n",
      "   daily: 0.0238\n",
      "Topic 3:\n",
      "   devotional: 0.1370\n",
      "   open: 0.1328\n",
      "   heaven: 0.1232\n",
      "   daily: 0.0607\n",
      "   birthday: 0.0191\n",
      "   vote: 0.0172\n",
      "   b: 0.0167\n",
      "   remember: 0.0142\n",
      "   tuesday: 0.0127\n",
      "   congratulation: 0.0125\n",
      "Topic 4:\n",
      "   heaven: 0.1276\n",
      "   open: 0.1016\n",
      "   blessing: 0.0827\n",
      "   devotional: 0.0811\n",
      "   birthday: 0.0469\n",
      "   daily: 0.0293\n",
      "   happy: 0.0213\n",
      "   wan: 0.0184\n",
      "   congratulation: 0.0160\n",
      "   thanks: 0.0147\n",
      "Topic 5:\n",
      "   devotional: 0.0586\n",
      "   mi: 0.0572\n",
      "   open: 0.0570\n",
      "   heaven: 0.0447\n",
      "   year: 0.0297\n",
      "   sure: 0.0270\n",
      "   happiest: 0.0253\n",
      "   daily: 0.0244\n",
      "   stay: 0.0194\n",
      "   ti: 0.0181\n",
      "Topic 6:\n",
      "   devotional: 0.0595\n",
      "   open: 0.0572\n",
      "   please: 0.0455\n",
      "   birthday: 0.0445\n",
      "   heaven: 0.0390\n",
      "   happy: 0.0315\n",
      "   thanks: 0.0267\n",
      "   god: 0.0249\n",
      "   thank: 0.0214\n",
      "   daily: 0.0186\n",
      "Topic 7:\n",
      "   heaven: 0.1241\n",
      "   open: 0.1071\n",
      "   devotional: 0.0615\n",
      "   pastor: 0.0406\n",
      "   daily: 0.0370\n",
      "   congratulation: 0.0245\n",
      "   thing: 0.0185\n",
      "   evening: 0.0173\n",
      "   birthday: 0.0166\n",
      "   k: 0.0111\n",
      "Topic 8:\n",
      "   devotional: 0.1280\n",
      "   heaven: 0.0927\n",
      "   open: 0.0728\n",
      "   name: 0.0513\n",
      "   daily: 0.0328\n",
      "   birthday: 0.0233\n",
      "   dm: 0.0207\n",
      "   happy: 0.0203\n",
      "   right: 0.0113\n",
      "   na: 0.0101\n",
      "Topic 9:\n",
      "   open: 0.1156\n",
      "   devotional: 0.0992\n",
      "   heaven: 0.0907\n",
      "   nah: 0.0520\n",
      "   daily: 0.0420\n",
      "   sir: 0.0312\n",
      "   birthday: 0.0188\n",
      "   first: 0.0183\n",
      "   wow: 0.0156\n",
      "   whats: 0.0155\n",
      "Topic 10:\n",
      "   open: 0.1161\n",
      "   heaven: 0.1127\n",
      "   devotional: 0.0815\n",
      "   wish: 0.0566\n",
      "   daily: 0.0390\n",
      "   illegal: 0.0338\n",
      "   birthday: 0.0273\n",
      "   happy: 0.0230\n",
      "   heart: 0.0191\n",
      "   picture: 0.0111\n",
      "Topic 11:\n",
      "   heaven: 0.1027\n",
      "   devotional: 0.1021\n",
      "   open: 0.0917\n",
      "   kiss: 0.0533\n",
      "   daily: 0.0517\n",
      "   happy: 0.0277\n",
      "   mind: 0.0254\n",
      "   birthday: 0.0241\n",
      "   celebration: 0.0241\n",
      "   lol: 0.0233\n",
      "Topic 12:\n",
      "   devotional: 0.0410\n",
      "   heaven: 0.0379\n",
      "   open: 0.0364\n",
      "   university: 0.0316\n",
      "   daily: 0.0303\n",
      "   group: 0.0300\n",
      "   amin: 0.0265\n",
      "   statistic: 0.0262\n",
      "   opportunity: 0.0233\n",
      "   student: 0.0221\n",
      "Topic 13:\n",
      "   heaven: 0.1578\n",
      "   devotional: 0.1303\n",
      "   open: 0.1197\n",
      "   daily: 0.0901\n",
      "   congratulation: 0.0186\n",
      "   march: 0.0145\n",
      "   birthday: 0.0140\n",
      "   olodo: 0.0107\n",
      "   master: 0.0099\n",
      "   head: 0.0094\n",
      "Topic 14:\n",
      "   open: 0.1484\n",
      "   heaven: 0.1190\n",
      "   devotional: 0.1095\n",
      "   daily: 0.0574\n",
      "   congratulation: 0.0363\n",
      "   israel: 0.0347\n",
      "   simple: 0.0180\n",
      "   lie: 0.0113\n",
      "   taiwo: 0.0110\n",
      "   happy: 0.0102\n",
      "Topic 15:\n",
      "   message: 0.0809\n",
      "   deleted: 0.0570\n",
      "   people: 0.0376\n",
      "   na: 0.0292\n",
      "   devotional: 0.0289\n",
      "   open: 0.0288\n",
      "   thank: 0.0288\n",
      "   wetin: 0.0260\n",
      "   heaven: 0.0236\n",
      "   sha: 0.0210\n",
      "Topic 16:\n",
      "   heaven: 0.1051\n",
      "   devotional: 0.0991\n",
      "   open: 0.0693\n",
      "   man: 0.0377\n",
      "   well: 0.0304\n",
      "   birthday: 0.0258\n",
      "   god: 0.0250\n",
      "   go: 0.0216\n",
      "   thanks: 0.0207\n",
      "   better: 0.0197\n",
      "Topic 17:\n",
      "   devotional: 0.0593\n",
      "   heaven: 0.0494\n",
      "   open: 0.0489\n",
      "   thank: 0.0449\n",
      "   day: 0.0344\n",
      "   want: 0.0277\n",
      "   birthday: 0.0272\n",
      "   morning: 0.0270\n",
      "   wedding: 0.0171\n",
      "   e: 0.0154\n",
      "Topic 18:\n",
      "   devotional: 0.0909\n",
      "   heaven: 0.0874\n",
      "   open: 0.0703\n",
      "   daily: 0.0309\n",
      "   abi: 0.0304\n",
      "   congratulation: 0.0233\n",
      "   need: 0.0202\n",
      "   thanks: 0.0199\n",
      "   never: 0.0178\n",
      "   fit: 0.0178\n",
      "Topic 19:\n",
      "   open: 0.0602\n",
      "   devotional: 0.0532\n",
      "   heaven: 0.0421\n",
      "   really: 0.0264\n",
      "   big: 0.0250\n",
      "   birthday: 0.0239\n",
      "   congratulation: 0.0217\n",
      "   get: 0.0162\n",
      "   daily: 0.0156\n",
      "   everybody: 0.0151\n",
      "Topic 20:\n",
      "   happy: 0.1461\n",
      "   birthday: 0.1195\n",
      "   good: 0.0544\n",
      "   new: 0.0476\n",
      "   life: 0.0365\n",
      "   age: 0.0325\n",
      "   brother: 0.0319\n",
      "   prosperity: 0.0293\n",
      "   long: 0.0280\n",
      "   bless: 0.0213\n",
      "Topic 21:\n",
      "   devotional: 0.0498\n",
      "   open: 0.0460\n",
      "   phd: 0.0452\n",
      "   heaven: 0.0392\n",
      "   jesus: 0.0358\n",
      "   happy: 0.0175\n",
      "   rest: 0.0171\n",
      "   birthday: 0.0157\n",
      "   daily: 0.0153\n",
      "   god: 0.0149\n",
      "Topic 22:\n",
      "   dey: 0.1474\n",
      "   baba: 0.0280\n",
      "   na: 0.0276\n",
      "   una: 0.0270\n",
      "   person: 0.0248\n",
      "   like: 0.0242\n",
      "   heaven: 0.0234\n",
      "   wey: 0.0223\n",
      "   dis: 0.0208\n",
      "   ur: 0.0180\n",
      "Topic 23:\n",
      "   open: 0.1381\n",
      "   heaven: 0.1124\n",
      "   devotional: 0.1120\n",
      "   daily: 0.0530\n",
      "   much: 0.0321\n",
      "   oh: 0.0194\n",
      "   lmao: 0.0113\n",
      "   paro: 0.0106\n",
      "   sha: 0.0099\n",
      "   birthday: 0.0095\n",
      "Topic 24:\n",
      "   u: 0.0894\n",
      "   ni: 0.0522\n",
      "   see: 0.0356\n",
      "   open: 0.0325\n",
      "   e: 0.0311\n",
      "   devotional: 0.0296\n",
      "   love: 0.0294\n",
      "   go: 0.0288\n",
      "   help: 0.0213\n",
      "   god: 0.0207\n",
      "Topic 25:\n",
      "   open: 0.0462\n",
      "   devotional: 0.0408\n",
      "   guy: 0.0379\n",
      "   heaven: 0.0363\n",
      "   still: 0.0349\n",
      "   everyone: 0.0308\n",
      "   home: 0.0294\n",
      "   god: 0.0267\n",
      "   congratulation: 0.0257\n",
      "   brother: 0.0220\n",
      "Topic 26:\n",
      "   heaven: 0.1312\n",
      "   devotional: 0.0904\n",
      "   open: 0.0898\n",
      "   lol: 0.0504\n",
      "   daily: 0.0442\n",
      "   birthday: 0.0404\n",
      "   happy: 0.0238\n",
      "   study: 0.0182\n",
      "   babe: 0.0156\n",
      "   congratulation: 0.0148\n",
      "Topic 27:\n",
      "   devotional: 0.1235\n",
      "   heaven: 0.1198\n",
      "   open: 0.0910\n",
      "   daily: 0.0746\n",
      "   dear: 0.0340\n",
      "   sister: 0.0241\n",
      "   much: 0.0159\n",
      "   congratulation: 0.0156\n",
      "   fine: 0.0117\n",
      "   getting: 0.0116\n",
      "Topic 28:\n",
      "   devotional: 0.1229\n",
      "   open: 0.0873\n",
      "   heaven: 0.0724\n",
      "   say: 0.0636\n",
      "   abeg: 0.0402\n",
      "   make: 0.0344\n",
      "   daily: 0.0269\n",
      "   dem: 0.0152\n",
      "   birthday: 0.0149\n",
      "   school: 0.0108\n",
      "Topic 29:\n",
      "   get: 0.0550\n",
      "   job: 0.0412\n",
      "   ahead: 0.0343\n",
      "   omo: 0.0273\n",
      "   join: 0.0259\n",
      "   open: 0.0252\n",
      "   miss: 0.0236\n",
      "   post: 0.0234\n",
      "   link: 0.0225\n",
      "   tech: 0.0209\n",
      "Topic 30:\n",
      "   open: 0.1120\n",
      "   devotional: 0.0924\n",
      "   heaven: 0.0756\n",
      "   daily: 0.0400\n",
      "   congratulation: 0.0393\n",
      "   far: 0.0212\n",
      "   birthday: 0.0199\n",
      "   hope: 0.0173\n",
      "   bro: 0.0155\n",
      "   thanks: 0.0146\n",
      "Topic 31:\n",
      "   allah: 0.0582\n",
      "   amen: 0.0577\n",
      "   bro: 0.0502\n",
      "   may: 0.0381\n",
      "   open: 0.0335\n",
      "   devotional: 0.0334\n",
      "   heaven: 0.0226\n",
      "   rahman: 0.0198\n",
      "   always: 0.0189\n",
      "   happy: 0.0188\n",
      "Topic 32:\n",
      "   thanks: 0.0589\n",
      "   open: 0.0522\n",
      "   devotional: 0.0454\n",
      "   heaven: 0.0365\n",
      "   im: 0.0309\n",
      "   happy: 0.0290\n",
      "   appreciate: 0.0281\n",
      "   hi: 0.0278\n",
      "   congratulation: 0.0201\n",
      "   daily: 0.0181\n",
      "Topic 33:\n",
      "   open: 0.1352\n",
      "   heaven: 0.1255\n",
      "   devotional: 0.1073\n",
      "   daily: 0.0490\n",
      "   bos: 0.0455\n",
      "   great: 0.0261\n",
      "   birthday: 0.0250\n",
      "   congratulation: 0.0187\n",
      "   happy: 0.0134\n",
      "   brother: 0.0129\n",
      "Topic 34:\n",
      "   devotional: 0.0991\n",
      "   heaven: 0.0795\n",
      "   open: 0.0784\n",
      "   happy: 0.0265\n",
      "   daily: 0.0260\n",
      "   birthday: 0.0237\n",
      "   time: 0.0228\n",
      "   tell: 0.0228\n",
      "   cheer: 0.0210\n",
      "   mr: 0.0199\n"
     ]
    }
   ],
   "source": [
    "# Sort topics by topic ID before printing\n",
    "topic_sorted = sorted(topics, key=lambda x: x[0])\n",
    "\n",
    "for topic_id, topic_words in topic_sorted:\n",
    "    print(f\"Topic {topic_id}:\")\n",
    "    for word, weight in topic_words:\n",
    "        print(f\"   {word}: {weight:.4f}\")"
   ]
  },
  {
   "cell_type": "markdown",
   "metadata": {},
   "source": [
    "#### - Manually assigned topic labels"
   ]
  },
  {
   "cell_type": "code",
   "execution_count": null,
   "metadata": {},
   "outputs": [],
   "source": [
    "# Assign Meaningful Labels\n",
    "topic_labels = {\n",
    "    0: \"Blessings & Devotion\",\n",
    "    1: \"Religious Messages\",\n",
    "    2: \"Encouragement & Celebration\",\n",
    "    3: \"Faith & Reminders\",\n",
    "    4: \"Spiritual Blessings\",\n",
    "    5: \"Well-wishes & Faith\",\n",
    "    6: \"Prayers & Appreciation\",\n",
    "    7: \"Religious Leadership & Faith\",\n",
    "    8: \"Names & Recognition\",\n",
    "    9: \"Expressions of Faith\",\n",
    "    10: \"Faith & Reflection\",\n",
    "    11: \"Celebratory Messages\",\n",
    "    12: \"Education & Opportunities\",\n",
    "    13: \"Daily Devotionals & Encouragement\",\n",
    "    14: \"Religious Greetings\",\n",
    "    15: \"Casual Conversations\",\n",
    "    16: \"Moral & Spiritual Advice\",\n",
    "    17: \"Thanksgiving & Well-wishes\",\n",
    "    18: \"Support & Encouragement\",\n",
    "    19: \"Birthday & Congrats Messages\",\n",
    "    20: \"Birthday Wishes\",\n",
    "    21: \"Religion & Education\",\n",
    "    22: \"Casual & Conversational\",\n",
    "    23: \"Faith & Devotion\",\n",
    "    24: \"Casual & Encouraging Messages\",\n",
    "    25: \"Community & Togetherness\",\n",
    "    26: \"Faith & Humor\",\n",
    "    27: \"Daily Spiritual Growth\",\n",
    "    28: \"Faith & Social Topics\",\n",
    "    29: \"Career & Tech Discussions\",\n",
    "    30: \"Faith & Personal Growth\",\n",
    "    31: \"Islamic Prayers\",\n",
    "    32: \"Gratitude & Well-wishes\"\n",
    "}"
   ]
  },
  {
   "cell_type": "markdown",
   "metadata": {},
   "source": [
    "####  - Topic model visualization\n",
    "`pyLDAvis` is a LDA topic modeling visualization output. It commonly used in Natural Language Processing (NLP) to identify hidden topics in textual data. The plot uses multidimensional scaling (MDS) to display how topics relate to each other."
   ]
  },
  {
   "cell_type": "code",
   "execution_count": null,
   "metadata": {},
   "outputs": [],
   "source": [
    "vis = gensimvis.prepare(lda_best, corpus, dictionary)\n",
    "\n",
    "# Replace topic numbers with labels\n",
    "for i, label in topic_labels.items():\n",
    "    vis.topic_info.iloc[i, 0] = label\n",
    "\n",
    "#pyLDAvis.display(vis)\n",
    "pyLDAvis.save_html(vis, 'lda_visualization.html')"
   ]
  },
  {
   "cell_type": "code",
   "execution_count": 63,
   "metadata": {},
   "outputs": [
    {
     "data": {
      "text/html": [
       "\n",
       "<link rel=\"stylesheet\" type=\"text/css\" href=\"https://cdn.jsdelivr.net/gh/bmabey/pyLDAvis@3.4.0/pyLDAvis/js/ldavis.v1.0.0.css\">\n",
       "\n",
       "\n",
       "<div id=\"ldavis_el546421673668112326498844377\" style=\"background-color:white;\"></div>\n",
       "<script type=\"text/javascript\">\n",
       "\n",
       "var ldavis_el546421673668112326498844377_data = {\"mdsDat\": {\"x\": [-0.13342803399700665, -0.09654785813616379, -0.08505853583895275, -0.1657308988344226, -0.08927637054963163, -0.006960290677662164, -0.028673066095923364, -0.03868903121823964, -0.05230570414956311, 0.029826995793135042, -0.023089634951490887, -0.036011618957546336, -0.012444197902439386, 0.01801478064362529, -0.03953759453246868, 0.01729696900270007, 0.01253972717750126, 0.02092668097973453, -0.021724923994393366, 0.046718819117520745, 0.026353237904570417, 0.049484063754328574, 0.06164887914543375, 0.04890334200478021, 0.032544931416654106, 0.03394739445477089, 0.04133854464932655, 0.03693226486210857, 0.02011911060938809, 0.08079421388607237, 0.014642033131970263, 0.06432616209370076, 0.06602022470871477, 0.06880634410457646, 0.03829304039529224], \"y\": [-0.10175828369661274, -0.12595377417242679, -0.07773836040479914, 0.21950839564419147, -0.01804264207151743, -0.0585826174872714, 0.019394252447204576, -0.02633592123902148, 0.0022916826328993833, -0.011821989073494455, 0.021866857615517214, 0.005410577778097912, -0.03189709763508937, 0.029363345189707193, 0.0568680346185734, 0.005613106733930268, -0.03067530946811536, -0.023853551547670413, 0.002617426342674106, 0.007447125061148737, -0.006091457706141542, 0.0021509569483320204, 0.007040207121528901, 0.026723062283039535, 0.028690779588669515, -0.0036248646282226794, 0.018373510181331165, 0.015260636893949651, 0.024118772262308387, 0.0004502197133713867, 0.009556071658307283, -0.010457333677521819, -0.006566966722545309, -0.00038277924245552465, 0.031037928058123884], \"topics\": [1, 2, 3, 4, 5, 6, 7, 8, 9, 10, 11, 12, 13, 14, 15, 16, 17, 18, 19, 20, 21, 22, 23, 24, 25, 26, 27, 28, 29, 30, 31, 32, 33, 34, 35], \"cluster\": [1, 1, 1, 1, 1, 1, 1, 1, 1, 1, 1, 1, 1, 1, 1, 1, 1, 1, 1, 1, 1, 1, 1, 1, 1, 1, 1, 1, 1, 1, 1, 1, 1, 1, 1], \"Freq\": [3.25984759741385, 3.1843334717567506, 3.165223435501505, 3.1013531167154786, 3.0860915614464566, 2.9364274230719944, 2.9298109871027047, 2.904226695224739, 2.8909344335126934, 2.8882145718781027, 2.8417766460869043, 2.8403479024654645, 2.8326849674288876, 2.8052594661264036, 2.803061249140866, 2.801242598648992, 2.8000833919842267, 2.7996087788799158, 2.7958847471412542, 2.78507614964748, 2.7814423257477174, 2.7814205368336786, 2.7808260851464195, 2.7805074508022085, 2.7800327139573087, 2.7779891384225155, 2.776401579944678, 2.7759876900014016, 2.77265707148759, 2.7717417893977014, 2.7649379011535995, 2.7619192886104136, 2.7601951356073453, 2.7513500709211134, 2.7311020307916367]}, \"tinfo\": {\"Term\": [\"Blessings & Devotion\", \"Religious Messages\", \"Encouragement & Celebration\", \"Faith & Reminders\", \"Spiritual Blessings\", \"Well-wishes & Faith\", \"Prayers & Appreciation\", \"Religious Leadership & Faith\", \"Names & Recognition\", \"Expressions of Faith\", \"Faith & Reflection\", \"Celebratory Messages\", \"Education & Opportunities\", \"Daily Devotionals & Encouragement\", \"Religious Greetings\", \"Casual Conversations\", \"Moral & Spiritual Advice\", \"Thanksgiving & Well-wishes\", \"Support & Encouragement\", \"Birthday & Congrats Messages\", \"Birthday Wishes\", \"Religion & Education\", \"Casual & Conversational\", \"Faith & Devotion\", \"Casual & Encouraging Messages\", \"Community & Togetherness\", \"Faith & Humor\", \"Daily Spiritual Growth\", \"Faith & Social Topics\", \"Career & Tech Discussions\", \"Faith & Personal Growth\", \"Islamic Prayers\", \"Gratitude & Well-wishes\", \"dis\", \"dey\", \"ur\", \"use\", \"baba\", \"soon\", \"official\", \"washerey\", \"youve\", \"graduate\", \"like\", \"unity\", \"nau\", \"footstep\", \"ham\", \"jusy\", \"port\", \"wayray\", \"location\", \"issue\", \"born\", \"shege\", \"twitter\", \"though\", \"someone\", \"one\", \"daddy\", \"na\", \"go\", \"congratulation\", \"heaven\", \"open\", \"devotional\", \"daily\", \"birthday\", \"thanks\", \"happy\", \"thank\", \"job\", \"ahead\", \"omo\", \"join\", \"miss\", \"post\", \"link\", \"tech\", \"update\", \"share\", \"dont\", \"industry\", \"network\", \"click\", \"way\", \"today\", \"next\", \"hey\", \"career\", \"get\", \"community\", \"developer\", \"endless\", \"everevolving\", \"insight\", \"landscape\", \"likeminded\", \"thefullsnacksdevelopers\", \"unlock\", \"leader\", \"open\", \"daily\", \"devotional\", \"heaven\", \"u\", \"ni\", \"love\", \"help\", \"see\", \"unilorin\", \"find\", \"isreal\", \"rep\", \"shey\", \"come\", \"challenge\", \"gee\", \"carry\", \"e\", \"guide\", \"sleep\", \"vawulence\", \"grow\", \"body\", \"high\", \"sudden\", \"ameeen\", \"ahmed\", \"one\", \"go\", \"agent\", \"type\", \"ohhhh\", \"locate\", \"dear\", \"make\", \"god\", \"open\", \"devotional\", \"heaven\", \"dey\", \"congratulation\", \"birthday\", \"daily\", \"thanks\", \"new\", \"life\", \"age\", \"long\", \"prosperity\", \"health\", \"happiness\", \"good\", \"wishing\", \"mama\", \"padi\", \"condition\", \"youre\", \"tunde\", \"yall\", \"canada\", \"amadi\", \"egypt\", \"tgod\", \"jide\", \"mister\", \"fantasy\", \"happy\", \"wonderful\", \"fulfilled\", \"brother\", \"birthday\", \"bless\", \"wealth\", \"mr\", \"thank\", \"open\", \"devotional\", \"heaven\", \"daily\", \"deleted\", \"people\", \"wetin\", \"message\", \"marry\", \"number\", \"send\", \"merry\", \"cable\", \"wait\", \"tv\", \"customer\", \"wasnt\", \"balikis\", \"couldnt\", \"wale\", \"sha\", \"hr\", \"service\", \"data\", \"worry\", \"place\", \"idea\", \"afternoon\", \"water\", \"stupid\", \"someone\", \"much\", \"waec\", \"unavailable\", \"na\", \"thank\", \"year\", \"like\", \"brother\", \"devotional\", \"open\", \"heaven\", \"birthday\", \"daily\", \"happy\", \"thanks\", \"university\", \"statistic\", \"opportunity\", \"student\", \"baby\", \"looking\", \"department\", \"platform\", \"amin\", \"family\", \"move\", \"probability\", \"mathematical\", \"april\", \"position\", \"point\", \"group\", \"two\", \"add\", \"range\", \"advertisement\", \"deadline\", \"mathematics\", \"stockholm\", \"topic\", \"wide\", \"pw\", \"talented\", \"undertake\", \"warwick\", \"see\", \"daily\", \"devotional\", \"heaven\", \"open\", \"birthday\", \"congratulation\", \"sir\", \"morning\", \"want\", \"wedding\", \"day\", \"truly\", \"drop\", \"lion\", \"best\", \"think\", \"special\", \"made\", \"moment\", \"girl\", \"let\", \"hon\", \"urgently\", \"jare\", \"bashing\", \"top\", \"could\", \"lokoja\", \"bah\", \"word\", \"going\", \"tenks\", \"remain\", \"pascal\", \"thank\", \"e\", \"everyone\", \"good\", \"devotional\", \"birthday\", \"heaven\", \"open\", \"daily\", \"happy\", \"really\", \"big\", \"everybody\", \"ooo\", \"wahala\", \"marriage\", \"goal\", \"sticker\", \"popular\", \"saying\", \"based\", \"demand\", \"nontech\", \"profession\", \"provide\", \"adultery\", \"chance\", \"command\", \"enjoys\", \"fornication\", \"outside\", \"pleasure\", \"tight\", \"wife\", \"cupid\", \"work\", \"forget\", \"got\", \"simp\", \"chaii\", \"group\", \"hello\", \"get\", \"open\", \"devotional\", \"heaven\", \"congratulation\", \"na\", \"birthday\", \"make\", \"like\", \"happy\", \"daily\", \"god\", \"allah\", \"may\", \"rahman\", \"always\", \"blessed\", \"jesusname\", \"idayah\", \"neemah\", \"rahmah\", \"shekinah\", \"amen\", \"ya\", \"friend\", \"grant\", \"professor\", \"cost\", \"meet\", \"reach\", \"senior\", \"league\", \"msc\", \"email\", \"code\", \"prettygirl\", \"firdaos\", \"forgive\", \"jannatul\", \"almighty\", \"desire\", \"bro\", \"kiss\", \"open\", \"devotional\", \"happy\", \"heaven\", \"birthday\", \"daily\", \"abeg\", \"say\", \"dem\", \"school\", \"registration\", \"detail\", \"purpose\", \"ayokunle\", \"evangelist\", \"make\", \"aza\", \"address\", \"nin\", \"obi\", \"deserve\", \"correct\", \"bro\", \"world\", \"enter\", \"grace\", \"nah\", \"devotional\", \"thief\", \"alli\", \"huge\", \"sincerely\", \"sosong\", \"login\", \"open\", \"process\", \"thank\", \"heaven\", \"daily\", \"birthday\", \"na\", \"like\", \"god\", \"happy\", \"get\", \"thanks\", \"congratulation\", \"im\", \"hi\", \"appreciate\", \"support\", \"arrears\", \"alot\", \"government\", \"read\", \"business\", \"id\", \"yomi\", \"pay\", \"adhoc\", \"check\", \"development\", \"director\", \"expand\", \"manager\", \"marketing\", \"mission\", \"music\", \"onubejia\", \"sale\", \"specialist\", \"noble\", \"month\", \"panic\", \"testament\", \"agree\", \"odunsanya\", \"thanks\", \"joy\", \"happy\", \"open\", \"devotional\", \"congratulation\", \"heaven\", \"birthday\", \"daily\", \"thank\", \"guy\", \"home\", \"still\", \"would\", \"keep\", \"funded\", \"talk\", \"timi\", \"follow\", \"mouth\", \"everyone\", \"yi\", \"dammy\", \"bad\", \"walexshine\", \"light\", \"ori\", \"office\", \"longlife\", \"oyeyemis\", \"fe\", \"breakthrough\", \"shining\", \"touch\", \"answer\", \"stating\", \"confirm\", \"whenever\", \"brother\", \"online\", \"god\", \"congratulation\", \"amen\", \"open\", \"devotional\", \"heaven\", \"daily\", \"happy\", \"birthday\", \"mi\", \"sure\", \"happiest\", \"stay\", \"ti\", \"grace\", \"sign\", \"believe\", \"gbo\", \"seen\", \"nothing\", \"year\", \"falana\", \"paddy\", \"zoomed\", \"result\", \"set\", \"con\", \"mn\", \"uwc\", \"online\", \"normal\", \"connect\", \"signature\", \"ive\", \"self\", \"hmmm\", \"carrier\", \"arrive\", \"boost\", \"sir\", \"bro\", \"get\", \"devotional\", \"open\", \"heaven\", \"daily\", \"go\", \"thank\", \"congratulation\", \"birthday\", \"happy\", \"god\", \"dey\", \"yes\", \"union\", \"okay\", \"oooo\", \"bless\", \"godwin\", \"si\", \"portal\", \"chop\", \"lp\", \"giveaway\", \"men\", \"collect\", \"dear\", \"god\", \"lol\", \"congratulation\", \"heaven\", \"open\", \"birthdaygod\", \"daily\", \"deargod\", \"oo\", \"female\", \"brogod\", \"continue\", \"fair\", \"ademide\", \"serious\", \"awnnthank\", \"devotional\", \"birthday\", \"happy\", \"brother\", \"whizzy\", \"thanks\", \"na\", \"dearie\", \"amen\", \"group\", \"thank\", \"dey\", \"please\", \"boy\", \"hold\", \"maam\", \"transcript\", \"sent\", \"mo\", \"contact\", \"tag\", \"maybe\", \"pe\", \"alright\", \"correction\", \"nimc\", \"oya\", \"fam\", \"paraku\", \"george\", \"full\", \"wrong\", \"fellow\", \"release\", \"utme\", \"dr\", \"transfer\", \"academic\", \"brother\", \"god\", \"thank\", \"thanks\", \"birthday\", \"happy\", \"devotional\", \"open\", \"heaven\", \"daily\", \"congratulation\", \"bos\", \"name\", \"dm\", \"right\", \"pls\", \"phone\", \"circle\", \"part\", \"aburo\", \"future\", \"amazing\", \"catch\", \"celeb\", \"cafe\", \"kinda\", \"princex\", \"demon\", \"sha\", \"yoruba\", \"make\", \"amin\", \"na\", \"dealing\", \"healthy\", \"mighty\", \"reasonable\", \"sound\", \"devotional\", \"baba\", \"tv\", \"heaven\", \"happy\", \"open\", \"daily\", \"birthday\", \"thank\", \"congratulation\", \"dey\", \"god\", \"abi\", \"need\", \"never\", \"fit\", \"back\", \"since\", \"married\", \"seriously\", \"sey\", \"president\", \"protect\", \"gan\", \"yur\", \"inside\", \"give\", \"na\", \"thanks\", \"go\", \"dey\", \"congratulation\", \"cause\", \"consistent\", \"human\", \"inception\", \"show\", \"leave\", \"amen\", \"devotional\", \"bottom\", \"united\", \"heaven\", \"daily\", \"open\", \"bro\", \"happy\", \"thank\", \"birthday\", \"like\", \"make\", \"brother\", \"even\", \"welcome\", \"know\", \"edited\", \"beautiful\", \"program\", \"sorry\", \"whine\", \"ceremony\", \"completed\", \"convocation\", \"held\", \"successfully\", \"panic\", \"joyce\", \"feranmi\", \"day\", \"na\", \"high\", \"sir\", \"message\", \"congratulation\", \"time\", \"journey\", \"teewhizzy\", \"baba\", \"lol\", \"devotional\", \"memory\", \"whizzy\", \"heaven\", \"god\", \"open\", \"daily\", \"birthday\", \"happy\", \"thanks\", \"phd\", \"jesus\", \"rest\", \"change\", \"federal\", \"lord\", \"tinted\", \"soul\", \"application\", \"money\", \"peace\", \"fund\", \"child\", \"close\", \"form\", \"nigerian\", \"start\", \"perfect\", \"adedigba\", \"analysis\", \"bossman\", \"anything\", \"ongoing\", \"parent\", \"anifeyigba\", \"comfort\", \"funrawa\", \"cure\", \"extreme\", \"survival\", \"devotional\", \"open\", \"heaven\", \"god\", \"happy\", \"amen\", \"birthday\", \"daily\", \"congratulation\", \"call\", \"invite\", \"ehn\", \"unit\", \"soaring\", \"higher\", \"pascaltall\", \"choose\", \"video\", \"champion\", \"speaking\", \"give\", \"violence\", \"polling\", \"dear\", \"sir\", \"much\", \"heaven\", \"daily\", \"devotional\", \"thank\", \"open\", \"wen\", \"jagaban\", \"happy\", \"awnnthank\", \"sisbless\", \"ologo\", \"team\", \"broits\", \"disheartening\", \"birthday\", \"amen\", \"congratulation\", \"dearie\", \"whizzy\", \"thanks\", \"lol\", \"like\", \"bro\", \"pastor\", \"thing\", \"evening\", \"date\", \"k\", \"swear\", \"yin\", \"programme\", \"without\", \"shora\", \"ask\", \"roshan\", \"shes\", \"fuck\", \"turn\", \"leaf\", \"favor\", \"obvious\", \"e\", \"go\", \"congratulation\", \"heaven\", \"open\", \"build\", \"relationship\", \"hoping\", \"lacking\", \"thank\", \"l\", \"daily\", \"devotional\", \"bro\", \"birthday\", \"god\", \"happy\", \"na\", \"nah\", \"first\", \"wow\", \"whats\", \"oga\", \"fully\", \"wire\", \"ilorin\", \"sir\", \"haa\", \"class\", \"nko\", \"mhi\", \"focus\", \"corner\", \"cdt\", \"epsrc\", \"operational\", \"partnership\", \"research\", \"stori\", \"studentship\", \"graduated\", \"open\", \"bro\", \"daily\", \"devotional\", \"heaven\", \"park\", \"smile\", \"thanks\", \"birthday\", \"happy\", \"god\", \"congratulation\", \"brother\", \"vote\", \"b\", \"remember\", \"tuesday\", \"put\", \"ohhh\", \"harmony\", \"prayer\", \"july\", \"anonymous\", \"waa\", \"story\", \"daily\", \"devotional\", \"open\", \"heaven\", \"emoji\", \"nitori\", \"olohun\", \"brother\", \"october\", \"thief\", \"guarantee\", \"mimicking\", \"quality\", \"control\", \"safari\", \"expect\", \"confounding\", \"amenthanks\", \"whizzy\", \"birthday\", \"congratulation\", \"dearie\", \"thanks\", \"jagaban\", \"happy\", \"lol\", \"much\", \"thank\", \"government\", \"bro\", \"god\", \"good\", \"na\", \"go\", \"wish\", \"illegal\", \"heart\", \"picture\", \"dealing\", \"healthy\", \"mighty\", \"reasonable\", \"sound\", \"sef\", \"ever\", \"met\", \"young\", \"statistician\", \"fishy\", \"joy\", \"delete\", \"settle\", \"e\", \"open\", \"heaven\", \"happy\", \"nitori\", \"olohun\", \"birthday\", \"daily\", \"alli\", \"huge\", \"sincerely\", \"sosong\", \"devotional\", \"congratulation\", \"brother\", \"make\", \"bro\", \"thanks\", \"blessing\", \"wan\", \"also\", \"bring\", \"celebrity\", \"kudos\", \"play\", \"literal\", \"response\", \"closer\", \"dream\", \"fulfillment\", \"plan\", \"vex\", \"birthday\", \"thanks\", \"heaven\", \"cause\", \"consistent\", \"human\", \"inception\", \"open\", \"happy\", \"congratulation\", \"jade\", \"teminikan\", \"dolly\", \"pizzl\", \"emmy\", \"sire\", \"devotional\", \"daily\", \"dearie\", \"thank\", \"na\", \"god\", \"dey\", \"bless\", \"kiss\", \"brother\", \"celebration\", \"far\", \"hope\", \"werey\", \"pas\", \"successful\", \"recruitment\", \"staff\", \"milk\", \"glory\", \"austin\", \"round\", \"census\", \"population\", \"eh\", \"mumu\", \"geosciences\", \"httpswwwlinkedincompostsshujuanmaoaresearcherjacksonschoolofgeosciencesactivitytiqiutmsourceshareutmmediummemberdesktop\", \"ut\", \"canadian\", \"loud\", \"near\", \"journey\", \"teewhizzy\", \"completion\", \"degree\", \"inec\", \"jay\", \"bro\", \"congratulation\", \"sir\", \"open\", \"devotional\", \"heaven\", \"daily\", \"thanks\", \"birthday\", \"happy\", \"na\", \"god\", \"thank\", \"great\", \"bos\", \"take\", \"another\", \"something\", \"payment\", \"statistician\", \"year\", \"brother\", \"open\", \"bro\", \"heaven\", \"daily\", \"correct\", \"devotional\", \"congratulation\", \"check\", \"birthday\", \"whizzy\", \"save\", \"gallant\", \"redirected\", \"remita\", \"dearie\", \"chapter\", \"face\", \"encourage\", \"art\", \"revisit\", \"copy\", \"happy\", \"thank\", \"na\", \"thanks\", \"kiss\", \"nah\", \"go\", \"get\", \"bless\", \"e\", \"sha\", \"dey\", \"god\", \"mind\", \"celebration\", \"kiss\", \"ibadan\", \"try\", \"national\", \"success\", \"sha\", \"lol\", \"go\", \"daily\", \"happy\", \"calendar\", \"heaven\", \"devotional\", \"great\", \"open\", \"emoji\", \"birthday\", \"na\", \"reminder\", \"police\", \"rub\", \"meat\", \"anyday\", \"deal\", \"seal\", \"clarify\", \"night\", \"fun\", \"congratulation\", \"whizzy\", \"dearie\", \"thanks\", \"blessing\", \"joor\", \"much\", \"message\", \"thank\", \"welcome\", \"nah\", \"dey\", \"deleted\", \"ni\", \"bro\", \"tell\", \"cheer\", \"time\", \"mr\", \"posting\", \"christmas\", \"ayuba\", \"anyone\", \"decided\", \"real\", \"bruh\", \"hello\", \"kenny\", \"alabi\", \"isiaka\", \"leemao\", \"ooh\", \"pele\", \"question\", \"alli\", \"huge\", \"sincerely\", \"sosong\", \"thanks\", \"iyanu\", \"longest\", \"happy\", \"devotional\", \"cause\", \"consistent\", \"birthday\", \"heaven\", \"open\", \"congratulation\", \"daily\", \"message\", \"thank\", \"much\", \"blessing\", \"brother\", \"march\", \"olodo\", \"master\", \"head\", \"scholarship\", \"olowo\", \"anybody\", \"scholar\", \"saturday\", \"eiffel\", \"excellence\", \"france\", \"french\", \"daily\", \"range\", \"heaven\", \"devotional\", \"open\", \"congratulation\", \"whizzy\", \"haha\", \"friday\", \"dearie\", \"van\", \"bullion\", \"kan\", \"ijo\", \"ese\", \"oni\", \"coconut\", \"birthday\", \"happy\", \"thanks\", \"amin\", \"blessing\", \"popen\", \"god\", \"brother\", \"phd\", \"dey\", \"na\", \"new\", \"man\", \"well\", \"better\", \"abundantly\", \"calm\", \"couple\", \"congrats\", \"iwo\", \"haaa\", \"small\", \"ppl\", \"bride\", \"ministry\", \"go\", \"god\", \"thanks\", \"brogod\", \"block\", \"truth\", \"sir\", \"heaven\", \"devotional\", \"birthday\", \"eat\", \"education\", \"awww\", \"p\", \"ohhhhhhhh\", \"dearie\", \"nationwide\", \"open\", \"happy\", \"brother\", \"daily\", \"congratulation\", \"thank\", \"much\", \"na\", \"bless\", \"dey\", \"sister\", \"fine\", \"getting\", \"cant\", \"height\", \"idiot\", \"greater\", \"appreciation\", \"till\", \"sending\", \"ohh\", \"dear\", \"much\", \"daily\", \"devotional\", \"heaven\", \"thanks\", \"open\", \"congratulation\", \"northerner\", \"silent\", \"alfa\", \"xtains\", \"muslim\", \"meat\", \"whizzy\", \"awnnthank\", \"sisbless\", \"elephant\", \"miz\", \"guarantee\", \"dearie\", \"bro\", \"happy\", \"bless\", \"birthday\", \"good\", \"na\", \"god\", \"kiss\", \"brother\", \"like\", \"tell\", \"lol\", \"oh\", \"lmao\", \"paro\", \"bayi\", \"hl\", \"salary\", \"anointing\", \"toooooor\", \"sense\", \"rora\", \"earning\", \"preparing\", \"receive\", \"nice\", \"saari\", \"much\", \"finish\", \"fornicator\", \"sha\", \"year\", \"kiss\", \"open\", \"daily\", \"heaven\", \"devotional\", \"ema\", \"maa\", \"adorable\", \"babygirl\", \"e\", \"thanks\", \"thank\", \"birthday\", \"happy\", \"bro\", \"israel\", \"simple\", \"lie\", \"taiwo\", \"house\", \"country\", \"oshey\", \"woman\", \"ooooo\", \"dada\", \"iya\", \"easily\", \"member\", \"congratulation\", \"open\", \"daily\", \"heaven\", \"devotional\", \"brother\", \"blessing\", \"pastor\", \"whizzy\", \"town\", \"poverty\", \"centre\", \"access\", \"bank\", \"cruise\", \"activist\", \"weaponized\", \"rep\", \"disheartening\", \"happy\", \"put\", \"bless\", \"dearie\", \"birthday\", \"good\", \"bos\", \"lol\", \"god\", \"dey\", \"study\", \"babe\", \"th\", \"lol\", \"egbon\", \"sabi\", \"lo\", \"celebrant\", \"alone\", \"je\", \"sahur\", \"damilola\", \"ibinaye\", \"geophysics\", \"httpswwwlinkedincompostsettorebiondiiamhappytosharethatiwillbejoiningactivitywdcmutmsourceshareutmmediummemberandroid\", \"postdoc\", \"standford\", \"appreciate\", \"birthday\", \"heaven\", \"baba\", \"thanks\", \"daily\", \"happy\", \"thank\", \"devotional\", \"open\", \"dearie\", \"congratulation\", \"emoji\", \"whizzy\", \"bro\", \"far\", \"much\", \"god\"], \"Freq\": [687.0, 58.0, 686.0, 686.0, 28.0, 38.0, 162.0, 29.0, 29.0, 286.0, 194.0, 20.0, 25.0, 29.0, 58.0, 18.0, 17.0, 23.0, 16.0, 23.0, 23.0, 16.0, 21.0, 17.0, 69.0, 34.0, 14.0, 17.0, 15.0, 46.0, 7.38488657862882, 8.011823537838666, 6.618699569190861, 6.191641719018136, 43.8040869125004, 5.348319849358388, 5.020363251680107, 8.328620309033399, 2.7805500859223065, 2.3447221791049317, 1.9566809482881915, 1.9547949071589636, 2.140301206178555, 7.200550386447054, 1.611444476390184, 1.6074190763140046, 1.5070549722069415, 1.5070549722069415, 1.5070549722069415, 1.5070549722069415, 1.5070549722069415, 1.2228784762581484, 1.2225308909902224, 1.2201299087233264, 1.2186530520034928, 1.2175372077801752, 1.2072591487823647, 1.9648824933058517, 3.968881687269444, 0.8309694422698617, 8.207840588343277, 3.6437198910883453, 4.863381507911475, 6.961010843206825, 5.324664117934094, 3.940541929442889, 2.3091933169813896, 2.042089611396959, 1.7286478478241785, 1.7262276244771384, 1.5674365270497816, 11.952713291475604, 9.946218887394494, 7.923374952337917, 7.532480643030319, 6.841604784571658, 6.785596228545068, 6.522129064604864, 6.078831663525094, 5.389551923430485, 5.73965353635824, 5.155562918405658, 4.293042676206538, 4.292800364777498, 3.976988252990615, 3.6509552504122995, 3.612104561143991, 3.611082039365867, 3.6102639678559956, 3.2484381056166827, 15.972857859026647, 2.8801474501729145, 2.8801474501729145, 2.8801474501729145, 2.8801474501729145, 2.8801474501729145, 2.8801474501729145, 2.8801474501729145, 2.8801474501729145, 2.8801474501729145, 1.8315577219733188, 7.318930174346005, 5.771255706393793, 4.732245392747147, 3.8502628912821035, 25.807615994027586, 15.076900630759477, 8.478112954513739, 6.158425349156601, 10.266240429450052, 3.675692168018673, 3.2974629478872637, 2.862505393048868, 2.782376270817181, 2.459368414675676, 3.674154552517119, 2.087700269781012, 2.0471373276966576, 1.6851724237026662, 8.967040275828886, 1.2794056389567987, 1.2772122519489437, 1.2771099682604223, 1.2735274854301406, 1.2732320589552792, 1.288061043279664, 0.8725194459325487, 0.8715240280650217, 0.864051404897198, 3.421106319999033, 8.303245212274408, 0.6525365998418733, 1.208261755701894, 0.5560686328193057, 0.4567691817964333, 5.128363821598366, 3.5451660848401567, 5.984962965980579, 9.372091209162054, 8.53517891947771, 5.315869580479315, 1.9303749193612925, 2.08058019604156, 1.9168979345412898, 1.7757288370716409, 1.4834156303799095, 13.461796406108697, 10.313215424087048, 9.19306596167025, 7.92431632104148, 8.290323513808506, 6.00598743408223, 5.448598222876258, 15.39428564284928, 3.9089545219948234, 2.761984890365871, 2.487216369615394, 2.1955508815055897, 1.9610273643889726, 1.7134938514151685, 1.711561757262775, 1.403296405222708, 1.4032653252540648, 1.1007958605868309, 0.9357071663831024, 0.9229290850376979, 0.9229290850376979, 0.8746411518065336, 41.3281321126108, 0.6335515303822956, 0.5908629300612525, 9.014834457421298, 33.78980055604526, 6.0171335536843, 0.096057845035811, 0.24496401607465976, 1.457824629869869, 5.46598825550084, 3.3757020671150983, 2.8063167781815337, 1.864573710684699, 16.03476041211275, 10.58418866098175, 7.315518605162129, 22.780627308076568, 4.918918873340829, 3.711507328919026, 3.7102812557973466, 3.6659051667584452, 2.040438594645611, 1.6815954552779295, 1.607808812738365, 1.275705756790802, 1.2750602206431543, 1.2743975173750555, 1.2683235018566898, 1.2578185346078612, 5.914489723957403, 0.8682902158077066, 0.863957221501191, 0.8602669458378216, 0.8587916218527998, 0.8534320075339676, 0.8464050857838481, 0.8427843304059693, 0.8405448729907947, 0.8386408296580203, 1.308263528343009, 4.616483484560532, 0.4361905834102673, 0.43597376661037224, 8.20465855085107, 8.090992818550452, 2.227631496978214, 1.9276786572805469, 2.923527326945641, 8.141672779056353, 8.093766291353703, 6.653820727506949, 3.9534961071707087, 3.4375182518662712, 2.7903319639077844, 1.3929681973959958, 8.464834675457364, 7.009700592316495, 6.226390992890827, 5.922915482160875, 5.258431832605293, 4.803232781333953, 3.7650491505527697, 3.719263951928591, 7.098120785151742, 3.365323822402864, 3.3023067662314154, 2.9644505849026146, 2.962765255467545, 2.9579554080549686, 2.956786301160679, 2.637980726649637, 8.02757872167837, 2.263584967216897, 1.8875450265226272, 2.0025146443833615, 1.506169913400248, 1.506169913400248, 1.506169913400248, 1.506169913400248, 1.506169913400248, 1.506169913400248, 1.4927900236621061, 1.4927900236621061, 1.4927900236621061, 1.4927900236621061, 2.70598843281437, 8.115005871925506, 10.96596331024888, 10.136995697462703, 9.760171198259595, 1.9515288153894073, 1.5385238494150766, 1.5224162098455063, 7.224810004076292, 7.395171739481945, 4.566834407425351, 9.193117117147144, 4.0562908844249455, 3.7383372679224007, 3.6643782252386994, 3.300114799266429, 3.7769741856379184, 2.8883628989659935, 2.8883541902326084, 2.4790011727483456, 2.4785602620181044, 2.108295274638709, 2.0674078958059967, 2.067206475243846, 1.6974551787236971, 1.29234020413607, 1.2904450593409886, 1.2900760578664128, 1.2894579866170224, 1.2860492639596053, 0.8358949596926658, 0.8250870483302876, 0.831459104137711, 0.7992902871178067, 0.7271483838601516, 12.008408766592813, 4.125585280686616, 1.352570301869543, 2.0814418952456584, 15.846492880857056, 7.27921769148942, 13.193412587652375, 13.053189041462167, 3.9691017828035067, 3.28711017211289, 6.9869772334794105, 6.6237651426254756, 3.9870133106834453, 3.2282158194907686, 3.1971233538430894, 3.0885330532250523, 3.043769867277609, 2.0406862532037326, 1.999581969220834, 1.9976260494002243, 1.5495225986651364, 1.5495225986651364, 1.5495225986651364, 1.5495225986651364, 1.5495225986651364, 1.514788743071483, 1.514788743071483, 1.514788743071483, 1.514788743071483, 1.514788743071483, 1.514788743071483, 1.514788743071483, 1.514788743071483, 1.514788743071483, 1.5360890305605193, 1.2488895828484683, 1.2473496351309428, 1.2413669376317351, 0.8472722787048175, 0.845056083425103, 3.8197227238174114, 2.3846108287875576, 4.293355491202214, 15.950400346518512, 14.08583998684588, 11.139834046339416, 5.7477819094744795, 3.9042231463825914, 6.332147609946631, 2.891383734752032, 2.326045459076998, 3.963471484817397, 4.142267221236038, 2.2420691638281856, 15.340493962270823, 10.050486604453921, 5.2218330392329095, 4.974433579738285, 4.376229799619138, 4.343336600551267, 3.948213104936526, 3.948213104936526, 3.948213104936526, 3.948213104936526, 15.212083454234326, 3.3346091284245554, 3.0335963618639803, 2.611713475176297, 2.3642617200765446, 2.3640324050756534, 2.3640382975382033, 2.363044926560039, 2.0271540603698104, 1.7290622365989587, 1.6909372673448033, 1.686044927553307, 1.391912347577285, 1.276524672814095, 1.2246231261188216, 1.2246231261188216, 1.2246231261188216, 1.1802181421427236, 1.1802181421427236, 13.221936636628783, 4.261499625468782, 8.83990668970659, 8.804756186443651, 4.965391595955824, 5.9544772807310435, 3.488961202835955, 2.2928084916029348, 10.58642641390797, 16.739406447510145, 4.005074923954302, 2.8508468729552887, 2.8060422700071554, 2.00787616144319, 2.0077313187124433, 2.0059864605157207, 1.2505815808635072, 9.047589770170323, 1.454077523048916, 0.8517208804095034, 0.8454871853231242, 0.8132604749189623, 0.7289445901564936, 0.3448362935308109, 2.194705868638029, 0.14497533972408788, 0.11118380505721277, 0.3039444372801254, 0.8286023371508819, 32.36210168681156, 0.06741879517188383, 0.07091280411027072, 0.07091280411027072, 0.07091280411027072, 0.07091280411027072, 0.0646369577656159, 22.98263883288499, 0.06399090292348707, 1.7323897027525719, 19.073915108556502, 7.079224890541467, 3.9307371212308406, 1.0978058591324324, 0.4056155718183737, 1.3053403502431158, 2.6424408725773034, 0.5533842238411897, 0.897197695895504, 0.6033291493569857, 7.9987825360184255, 7.1915259486353476, 7.284014445495614, 3.8159900121012296, 3.47654799478599, 3.432188405044507, 3.374912543859924, 3.1293122416489334, 3.088137915753372, 2.321638611083119, 1.9800267866299226, 1.9798249020105019, 1.935817433798887, 1.8946977724177292, 1.5421261351793325, 1.5421261351793325, 1.5421261351793325, 1.5421261351793325, 1.5421261351793325, 1.5421261351793325, 1.5421261351793325, 1.5421261351793325, 1.5421261351793325, 1.5421261351793325, 1.3336785158803823, 1.2078523882557048, 2.020004647491679, 0.8225440075585786, 0.8191820795866368, 0.8145499558561644, 15.256407898361989, 1.1315984074678447, 7.512849032533965, 13.523830957016493, 11.774998019943926, 5.202643148655358, 9.470161567043048, 4.523037011476994, 4.701553697376067, 2.1760384099103356, 9.81089642862411, 7.617659381998309, 9.046953500235555, 5.4778952237573195, 5.1487106094653665, 4.7327643196638, 4.3770721818966996, 4.123695302365539, 3.7110921234390646, 3.6465690462904856, 7.964613936814435, 3.299358794993547, 2.6534480156026468, 2.6021562664437967, 2.4957033084574807, 2.2323344858807874, 1.8619880450859196, 1.861577242154952, 1.861514524150224, 1.860669037201873, 1.4556969508891169, 1.4557637696864616, 1.4557637696864616, 1.1628574203369775, 1.1565606532738446, 0.7788845281225948, 0.3492773824575737, 0.3492773824575737, 5.689294942724102, 0.5078992672352105, 6.904420100862733, 6.6591560364662215, 1.9072920339664694, 11.973643840920731, 10.564491851124943, 9.400984093323556, 3.280460171607367, 2.8515975911782814, 2.912608218839004, 14.785497701835332, 6.961607679815179, 6.523005880461995, 5.002052932437092, 4.6665686014706385, 4.072307380536307, 2.7497597031218577, 2.332617193739989, 1.9677094267220152, 1.9673682951968157, 1.9663910905033315, 7.661496981687006, 1.5003073938674014, 1.4692362781148287, 1.4184440072778002, 1.2251886679508057, 1.2244670713289185, 1.2227606919860128, 1.2183374093427959, 1.2130746496493787, 1.486957194788656, 0.8364141437855269, 0.8338851875966842, 0.8303101027496397, 0.823918457525899, 0.8078041428324413, 0.7720334471470243, 0.4265365570861255, 0.4201523696037679, 0.4133891905300765, 2.7510224671386223, 3.4187393132562094, 1.9772654397290508, 15.133977267447927, 14.726443937551986, 11.55142265040513, 6.304138010930226, 2.087129758344429, 2.370994009180333, 3.006823237150053, 2.8129946140257736, 2.6433168037951877, 1.7414386662921921, 1.5302618932770873, 5.42334752322332, 5.3224253514570945, 4.341634139320083, 3.2771819465804297, 23.439302448387725, 2.163387934176492, 1.846861091369521, 1.8071700243643003, 1.4776859716360247, 1.128380209718013, 1.1259836029644368, 1.1179234805544156, 0.7542164575510143, 5.8721828066985, 11.581482598166433, 1.38618226547834, 5.607032498996832, 21.729336216157815, 21.464042009606388, 0.058165768157796255, 8.395751706012236, 0.058052799966734986, 0.056541218043298425, 0.0554015597016697, 0.057502610963846255, 0.05577420545796152, 0.05529770803283168, 0.054565791638397525, 0.054992905729997904, 0.05560645251493635, 18.55958381416206, 5.296795155667074, 4.371637525981283, 0.6878896896309191, 0.06268002501903416, 1.0153176445973726, 0.7177657949005902, 0.061901695885082035, 0.10328814938756337, 0.09037558771760446, 0.10567638785124238, 0.08765679435789427, 11.635210381518013, 4.120708890648398, 4.192791428483488, 3.3492377188365436, 3.0179079088346517, 2.85000455912749, 2.641435932210372, 2.640042349810054, 2.266030686494159, 2.2657112147515512, 1.8904151179131223, 1.890161944889081, 1.8901552793087584, 1.8900988599324557, 1.8821677715742415, 1.557230372130008, 1.4941516049722012, 1.3826438259236113, 1.1768164189141908, 1.1739086785266468, 0.9499278610789904, 0.9499278610789904, 0.9499278610789904, 0.8043518248883649, 0.7870337544984235, 0.6413826710150579, 4.498819647806294, 6.356197888104093, 5.45788048469543, 6.816582855410439, 11.384368406138096, 8.042980598413694, 15.210074423430262, 14.62395185336863, 9.970611198635131, 4.752318333057675, 2.875844871530512, 1.6703465795161019, 13.115841058331617, 5.276980578279234, 2.8792808820745512, 2.486417867297971, 2.0809086965979704, 2.0766131383205417, 2.0708183217209846, 2.0318932744105993, 1.6757837376069888, 1.2717809622887273, 1.2708022335141735, 1.2686174606164795, 0.6617202730553533, 0.6617202730553533, 0.6617202730553533, 0.3072045011382109, 1.7726477916864474, 0.2116219061117746, 1.9195004060311363, 0.6085140884158307, 2.587648017594006, 0.22944443755064878, 0.22944443755064878, 0.22944443755064878, 0.22944443755064878, 0.22944443755064878, 32.699422567025586, 0.452634312911846, 0.13222806549730456, 23.684492186783896, 5.195844581413899, 18.5942384990879, 8.37577433747265, 5.955970453949031, 1.758630249758916, 1.269629614620208, 0.8421905792822509, 0.5546288720298885, 7.770280566082013, 5.16539867612509, 4.539876918653598, 4.534009829746553, 3.3045224921769867, 2.892491953028116, 2.526572709052747, 2.5183014263693466, 2.482024972146262, 2.070821989312101, 2.070415107457369, 1.7047066763190655, 1.2888314484581063, 1.2838544581964513, 1.7561019661226958, 3.468290655180184, 5.07869170105492, 1.600654786742489, 3.172611918040571, 5.9466722393098745, 0.08964584780923154, 0.08964584780923154, 0.08964584780923154, 0.08964584780923154, 0.0783716712153325, 0.06823803011852743, 0.7974157862941679, 23.220122977477835, 0.064238739380835, 0.06420014089395819, 22.322176815310073, 7.899270437155996, 17.95975650695488, 0.9913452260716455, 2.063321665701198, 0.9244273697296255, 2.123685478163725, 0.3560765555081757, 0.43543067488688436, 0.47155870997637184, 8.62288777324008, 8.223274355470059, 12.250671544900817, 7.62887103299118, 3.81166224616807, 2.896072896512802, 2.6845095091397178, 1.9112980130566575, 1.4095214202141644, 1.4095214202141644, 1.4095214202141644, 1.4095214202141644, 1.4095214202141644, 2.4798914235102196, 1.1937854070169363, 1.182518164140077, 1.9302806727826272, 6.524562111680204, 0.4260286749817124, 1.9102393722701962, 2.6297155459539354, 8.992867332939047, 0.43233938666149957, 0.1054209771445635, 0.1054209771445635, 0.435820359246381, 0.8620612973526556, 22.389533875406222, 0.05793429907656156, 0.06704935005108238, 19.069896957565263, 1.5791594226397663, 13.899527216761857, 6.063892047217293, 3.068233685701963, 1.4299225753768612, 0.7336695092049061, 11.514036695286284, 9.136324528464227, 4.354267668991876, 3.6676802888329565, 3.666374330557825, 3.6652702021979406, 3.3728609205628723, 3.2982472502593394, 3.2978003750822853, 3.3285231622282363, 2.9119773227088075, 2.2312686543636526, 2.2309476260749297, 2.2303981738115377, 2.2273251352666734, 2.224490968362679, 2.378335465089733, 1.8609859118468435, 1.859486790470472, 1.8596106190596504, 1.8572666614027482, 1.5283126306311925, 1.4793433506355416, 1.4793433506355416, 1.4427450572097738, 1.4427450572097738, 1.4427450572097738, 1.3966300083861627, 1.3966300083861627, 1.3966300083861627, 12.685673125222305, 11.734919354533272, 9.998916142809595, 3.7865153684611594, 4.450465980219826, 2.3604849150443568, 3.9994321571237625, 3.8915481312499356, 2.7130164790681794, 2.6683188137852794, 2.639143196431301, 2.263596383135504, 2.263194047282606, 1.8884600659435897, 1.8883868602137415, 1.8879146300371918, 1.8879120282180373, 1.8907794694553581, 1.554514448696828, 1.5506843343723262, 2.887717450521159, 1.1663146340589658, 0.8020400248534673, 7.112786976566596, 1.8375512166626968, 1.9173046609424063, 33.71832736968726, 11.834080182346817, 28.207997972055722, 2.2219689323659093, 25.809960862624685, 0.06296927152744758, 0.05956138736338484, 4.860951762125684, 0.05851690110770364, 0.05851690110770364, 0.056977973122747244, 0.05621469399440985, 0.056210806048741416, 0.05687793243710188, 4.350945536742244, 0.5778782259649146, 2.5744804215124497, 0.06530612644553377, 0.06487166699591516, 0.9969007277460883, 0.40927002617226943, 0.24740693905633424, 0.14576017705638913, 10.30952957542825, 4.685744452800991, 4.379744542527374, 2.782539341574228, 2.8083811450204244, 2.4124740957553676, 1.9903664242516903, 1.9755329640342811, 1.6400049128127112, 1.2563685686110118, 1.2440392808876666, 1.2434193204395323, 1.2416068012859662, 0.8314653467459535, 0.8245423763349866, 0.8215214717089759, 0.6915955846094566, 0.5038202065987549, 1.186680715029384, 1.4351133587185134, 6.212681642862311, 31.473821322315217, 27.171079906815013, 0.07047446752420224, 0.0696224279118356, 0.06925455892521526, 0.06873733958868718, 1.918553650033297, 0.06498565761790258, 9.383280083246895, 15.600371488595686, 0.9559976724348662, 4.203483019408256, 1.4469233158854768, 2.5936053024859502, 0.5972939784026413, 13.192855301853957, 4.6405314204366785, 3.961724338650705, 3.922017653471403, 3.2044667133269407, 3.2026738145119342, 2.485202480019732, 1.8471481772737008, 7.902958607602952, 1.123879094623986, 1.1230765420911817, 1.1157354600195917, 1.0858855844981536, 1.0016462691078518, 0.7563969630269957, 0.6474394430087878, 0.6474394430087878, 0.6474394430087878, 0.6474394430087878, 0.6474394430087878, 0.6474394430087878, 0.6474394430087878, 0.39608533417922553, 29.316513871795884, 1.3378672374402871, 10.6632796391463, 25.158303885882038, 23.013131398357057, 0.061432255417603734, 0.060298502328422175, 1.811447050092563, 4.761284927266518, 2.2867885807108888, 0.9681741592446464, 0.9923909899944431, 0.8574668502973, 4.362883386552081, 4.222239634309397, 3.612808172238187, 3.2105934066271673, 2.8249595287006986, 2.513306951101818, 2.1697303549757163, 1.8378877692844209, 1.1705637203174588, 0.7648743320130289, 0.6801602557728916, 0.46380503593995626, 15.387262152439803, 34.731650640975914, 33.680007461714375, 31.238566217391288, 0.07520952188374228, 0.07358617639012045, 0.07358617639012045, 1.2995800920078227, 0.05431422737868312, 0.054481220343177164, 0.05483288197596881, 0.05392467184143243, 0.053871906728971644, 0.05387101371846633, 0.05385630856613706, 0.05387124250628174, 0.05386690660816709, 0.05382856250832934, 0.06296099717308369, 4.8479012744848875, 3.1639754832748923, 0.06312962117329406, 1.5489281089575477, 0.0545634769430697, 1.9421467605405378, 0.3848085000514896, 0.3478178498876955, 0.5036152376198729, 0.10560589464645263, 0.21497900946147055, 0.17817750039875277, 0.13050167694851933, 0.1429957647876355, 0.11457042857570342, 14.344498803629525, 8.573401511095781, 4.837331993712693, 2.8135825491861453, 2.5808216647918765, 2.5808216647918765, 2.5808216647918765, 2.5808216647918765, 2.5808216647918765, 1.7995764181958094, 1.2874678070286247, 1.2874678070286247, 1.100560783328004, 1.459720746342927, 0.7437438704174559, 1.1722188344654054, 0.7506429070358536, 0.49529649315529134, 1.2068110124759222, 29.44720481916461, 28.580525763519486, 5.840135949553603, 0.07226660865005449, 0.07226660865005449, 6.932782585110378, 9.883833912961808, 0.06587555561364739, 0.06587555561364739, 0.06587555561364739, 0.06587555561364739, 20.66778822638279, 2.338689052262121, 0.611917444967816, 0.32360131889896837, 0.27179286754347975, 0.21790163774951005, 20.9693733245695, 4.659691218498776, 3.2427185334605997, 2.1516443646830337, 1.7947126558567297, 1.7928959791079595, 1.4772948763322078, 1.1400762764538792, 1.1150811228995632, 1.1174566499783536, 1.1174566499783536, 1.1174566499783536, 1.1174566499783536, 1.0845930868239477, 11.878722401521863, 3.732903936303026, 32.355098600147876, 0.0944889564682866, 0.0944889564682866, 0.0944889564682866, 0.0944889564682866, 25.761939649630158, 5.390425683059808, 4.063023224574522, 0.0612788270155377, 0.0612788270155377, 0.061267918425907696, 0.061267918425907696, 0.06120699707009106, 0.06120201313211672, 20.568136259066073, 7.424819376453344, 0.06901151561038991, 1.1132696403659432, 0.7379042522234251, 0.6895521887681209, 0.4013881404315704, 0.1657443951579874, 0.13112443471188076, 0.12937011805749857, 0.1027865602295984, 5.369707687543307, 4.388250813101241, 3.1984358346120567, 2.901414426461495, 2.7427296006906756, 2.20491978067955, 2.202413762669857, 1.8753234413828432, 1.838291846689051, 1.838469263893277, 1.836516730938257, 1.4246067124396204, 1.4246067124396204, 1.1477108324663197, 1.1438038791392138, 0.8773749064338512, 0.8773749064338512, 0.8773749064338512, 0.7871752448384929, 0.7871752448384929, 0.7871752448384929, 0.8039298461354587, 0.8039298461354587, 0.6589555128426852, 0.6589555128426852, 0.6344914026479836, 0.263936520505833, 3.934763237941219, 9.963166977462388, 1.3832023262940623, 28.363212810520444, 23.396897582146558, 19.14221219700875, 10.14133442997228, 3.68919163938055, 5.040960685926406, 2.4889574109043497, 1.3818134232604466, 1.1286423758097168, 0.9398596178650519, 6.602475541723047, 11.517370457158464, 2.575441700424543, 2.1854334447989947, 1.5002234787577127, 1.138228056487413, 1.1134873129655085, 1.5130476328119755, 3.2727408559016156, 34.23245528729365, 1.6905215458268967, 31.777449930491407, 12.417277452842976, 0.09730706366914738, 27.17127740999855, 4.728241254251089, 0.130258979514603, 6.3271238887098615, 0.06547275914409298, 0.05667216868733597, 0.056755602321188196, 0.054885050903221044, 0.054863674856960754, 0.0645128265599634, 0.05468798748330194, 0.054667477236916034, 0.05466283507588743, 0.05445239412684541, 0.05444659510981444, 0.0544451914087415, 3.401839501477335, 0.7812690399817104, 0.615138151649563, 0.6988957051824539, 0.26791007730308136, 0.1983529680417913, 0.2122747352814845, 0.19121789285572846, 0.21913525980099838, 0.15982469678752556, 0.08265710347127646, 0.08806654003281514, 0.08438666951140102, 6.433072028898844, 6.0911977483946345, 13.498964358041066, 2.603322458056267, 2.5764383623252223, 1.8425070046779448, 1.5055994201719622, 4.404091251653837, 5.889131704823878, 2.752337011918131, 13.097154007368466, 7.006104785981895, 0.07742490434558852, 26.00463666786769, 25.84460848272215, 0.2963574126722525, 23.220178686519905, 0.06581432120896605, 6.110186101225567, 1.4265209298714172, 0.060058439183292754, 0.060039652284951325, 0.058345810795666295, 0.05664268636837727, 0.055385828134513766, 0.05538559974476922, 0.05536460262309351, 0.05537114120045744, 0.05566696485892928, 0.055625784714505994, 3.3710316864231578, 0.06420365042375016, 0.0644888429079841, 0.5294866422545195, 0.2640260005115286, 0.05614494038979068, 0.1525725124461074, 0.14197991397279, 0.17402047547754426, 0.09505862602976049, 0.1070646696927644, 0.14043843054534835, 0.0893450587298221, 0.07862805415242889, 0.08248301518092242, 5.765369597821365, 5.3111641717076346, 5.76742623031564, 5.033988791673711, 4.5084530211094656, 3.47932156196192, 2.996146675206939, 2.7152272538793385, 2.323515528340162, 2.3197599488060203, 2.3184907423548933, 4.549761334819187, 1.5941243622497996, 1.337784101066598, 1.337784101066598, 1.2092795381072399, 1.20455403995117, 1.1919848930219947, 0.5827184661477152, 0.10605273646636833, 0.10605273646636833, 0.10605273646636833, 0.10605273646636833, 2.9747331137500583, 0.08500599245140737, 0.08500599245140737, 6.69130020856028, 25.067127874958285, 0.07140810247793439, 0.07140810247793439, 5.9803227791431, 20.111603356982464, 19.8312118690247, 3.6056525794394365, 6.566250642197241, 0.8490416012073387, 1.0328338214909718, 0.39560449828455907, 0.42986459539036004, 0.4573833872017463, 3.6762215469004356, 2.709109598793478, 2.5140997889114733, 2.3714850167612243, 2.03438277970173, 2.0341958748309, 1.6968563580361462, 1.6963689694529562, 1.0835755745141915, 1.0363845662936033, 1.0363845662936033, 1.0363845662936033, 1.0363845662936033, 22.764350390335665, 0.2835144155196741, 39.87246034865183, 32.939749099559386, 30.256640698898444, 4.694587565599462, 0.06248167010378892, 0.0523734695216934, 0.050874184676633474, 0.05994057892110367, 0.05046075475100492, 0.05045359354619727, 0.0504148781677662, 0.050410714591062424, 0.05040591102995365, 0.0504041786583746, 0.05036107166281958, 3.5413409642161566, 2.274897805320133, 0.942827497106612, 0.18411661325611028, 0.3453786330832067, 0.051515894097067694, 0.46295892193502314, 0.28024196192878553, 0.10280410086880791, 0.12353817585521627, 0.11431916372051058, 0.08173902153444916, 9.516952213225128, 7.656645465236911, 4.9707052719484, 4.455588596848171, 2.7086375366080473, 2.325559666439779, 1.9786483417637215, 1.9397684658826464, 1.939293662416936, 1.5972561178262161, 1.5948286792373034, 1.2041597066764769, 1.2046975589703492, 5.438909392159136, 6.291980936055538, 5.219598563658663, 0.09566298458752137, 0.08183915477069176, 0.07983011912453193, 0.7975170141069712, 26.498478035502426, 24.99399633106186, 6.503205546877869, 0.061161901922691046, 0.06092558622644757, 0.059520599740878796, 0.06006352998971938, 0.060170768767042145, 0.06955441494672347, 0.058920447103536576, 17.48325923885888, 4.07095411333955, 0.9960187353752686, 4.506027189740191, 1.5042594485155907, 0.6258516097425212, 0.29744197543149253, 0.4342060082517111, 0.3323111474578033, 0.21935742534158378, 6.078889145624747, 2.950597509614454, 2.915768986086644, 2.9153186263473243, 2.1900327965998554, 2.188228308331842, 1.8267654767125436, 1.8244236060680816, 1.5029557686111001, 1.1398010386586181, 1.135339545209801, 8.573480530687863, 4.009282543318957, 18.777813131894494, 31.111263621960173, 30.170163763194193, 2.912501063228206, 22.928525521850034, 3.9166609025558645, 0.055619695353669375, 0.05557251166808994, 0.055593812862791483, 0.055482047561273326, 0.05546860787081039, 0.05612266303324122, 0.06456508662212432, 0.05666435549313249, 0.05666435549313249, 0.05467350742673913, 0.0546650375263683, 0.05525964212457791, 0.06349673568387408, 0.7112527844639245, 1.9954748090277745, 0.5895827645929438, 1.9848331836874349, 0.20487200259033173, 0.22037977077807905, 0.23487094567925806, 0.14389106554399542, 0.11693982057379158, 0.0843579353705669, 0.07357915701781811, 0.08226308821593353, 4.874319806708085, 2.836734525680282, 2.679349541201727, 2.1303757821077056, 1.8068807347838836, 1.7784417449843901, 1.7780350333344592, 1.7780592953838932, 1.9642830660417436, 1.2720389748412881, 1.2251521540823718, 1.2251521540823718, 1.2251521540823718, 1.1072068304741747, 1.0921767838697893, 8.071712393006681, 0.8002109730331404, 0.37501820507999645, 2.4856017222281266, 1.6254033008015216, 1.910568060674754, 34.749889698024745, 13.34021713082763, 28.29923008045298, 28.19979834147441, 0.062223813055732304, 0.062223813055732304, 0.056144642306201684, 0.056144092893850375, 0.541323536400418, 1.9361870267574366, 1.0343991159062869, 2.380685587997811, 1.6442222121885182, 0.4947181905773255, 8.709707713863756, 4.52219987690321, 2.8380616654880115, 2.74783973358085, 2.4826786120173776, 2.167721896779087, 2.1313024416633737, 1.4619740908206924, 1.4570705192296003, 0.8654438757107299, 0.8654438757107299, 0.2528251416347446, 0.2528251416347446, 9.117591965138404, 37.22778186333531, 14.402282912490566, 29.846228321681572, 27.4606271316436, 1.2020579250466672, 0.9010635548066483, 0.4061451137555969, 0.06670356761371883, 0.05368474626804596, 0.05362233587398062, 0.052870322389295045, 0.0528685662526655, 0.052862929090594785, 0.05286119486003546, 0.0528180033915791, 0.05282308559987084, 0.12450986797398929, 0.0533966522365198, 2.5583703351699, 0.11675855106604678, 0.5391509151725024, 0.06001903251349628, 1.5696379279203474, 0.24882176348934987, 0.1315212416419391, 0.12824092445841848, 0.15087718241814446, 0.1180381211378896, 4.541451465308087, 3.873374318945486, 2.141678416476502, 12.54439649654845, 1.8261295818799728, 1.8244570254931145, 1.786952308559596, 1.7841337112481135, 1.113292358708786, 1.1181030168340989, 1.1181030168340989, 1.0989615124128185, 1.0989615124128185, 0.675244541044253, 0.675244541044253, 0.675244541044253, 0.675244541044253, 1.690324892037679, 10.058184917197153, 32.6754994860798, 0.4836147446272222, 2.9333871920000365, 11.012332990625316, 5.936731356935904, 1.8427189939528132, 22.514235366414695, 22.375504340744527, 0.06898254241984972, 3.6907339912312582, 0.0578015038434975, 0.06397394811278195, 0.37340601252132394, 0.11318912564739152, 0.17805933876480085, 0.18727424364472922], \"Total\": [687.0, 58.0, 686.0, 686.0, 28.0, 38.0, 162.0, 29.0, 29.0, 286.0, 194.0, 20.0, 25.0, 29.0, 58.0, 18.0, 17.0, 23.0, 16.0, 23.0, 23.0, 16.0, 21.0, 17.0, 69.0, 34.0, 14.0, 17.0, 15.0, 46.0, 9.256628987351059, 10.079471980947883, 8.521951484964058, 8.04357829272204, 58.22612478610702, 7.261930019506517, 6.8753833666081805, 11.423018908401804, 4.628383710288599, 4.192333409511378, 3.803229043781566, 3.8030170589409336, 4.197115373929128, 15.19770893636776, 3.4587842347836064, 3.4593922708368297, 3.3558911710959953, 3.3558911710959953, 3.3558911710959953, 3.3558911710959953, 3.3558911710959953, 3.0690316084070512, 3.0690536676357, 3.067787231440394, 3.068490506461253, 3.0673288856549177, 3.0677937689520602, 5.068674033003697, 11.417289366697563, 2.676758174546715, 46.13356920537092, 28.94432825430877, 126.22292321249566, 687.0613462287636, 686.517466919746, 686.6622027751854, 286.0229805780765, 194.68654562176897, 69.83662042288418, 162.18635033072783, 54.32803587497881, 13.969623967360684, 11.802450233296394, 9.794417133786558, 9.38806708334949, 8.701484081904866, 8.659204760200014, 8.379038720992002, 7.929389172910371, 7.242644462314034, 8.052681461973929, 7.29426302705178, 6.142690973964629, 6.1425206873649465, 5.827158857705196, 5.504621590324317, 5.462457408819258, 5.462584229266252, 5.4624898617765965, 5.097882661886964, 25.154452361628355, 4.729378591842432, 4.729378591842432, 4.729378591842432, 4.729378591842432, 4.729378591842432, 4.729378591842432, 4.729378591842432, 4.729378591842432, 4.729378591842432, 3.6811977231895163, 686.517466919746, 286.0229805780765, 686.6622027751854, 687.0613462287636, 28.21447549264027, 17.218104882018583, 10.361475485852727, 8.012901661311332, 14.879800464790948, 5.520994743175386, 5.159940701830096, 4.706280965789579, 4.836833952357142, 4.340036232989751, 6.734285350485225, 3.9370283451128625, 3.8907371872245355, 3.530348780031473, 19.261641163814428, 3.1229950507266775, 3.121866193214432, 3.121645131395171, 3.11983879482767, 3.1196485741238305, 3.5031072897613873, 2.7155888034923596, 2.7145945304096926, 2.708740507655845, 11.417289366697563, 28.94432825430877, 2.5047529839258673, 4.962682845849669, 2.4144374112595814, 2.299858824971325, 29.396514794746757, 22.877873400008436, 58.996290546495885, 686.517466919746, 686.6622027751854, 687.0613462287636, 58.22612478610702, 126.22292321249566, 194.68654562176897, 286.0229805780765, 69.83662042288418, 15.748918281822963, 12.328349082720708, 11.257648915302045, 9.810938579078922, 10.398520043481518, 7.887633062593541, 7.315194699022779, 21.934296698203568, 5.78160071851552, 4.630309356026183, 4.349383618623395, 4.058333581041773, 3.8235889144537327, 3.577338294746461, 3.577550538090451, 3.2650029936718643, 3.265469770691792, 2.96368586736739, 2.8087807468918253, 2.797083054276693, 2.797083054276693, 2.7379865365710465, 162.18635033072783, 2.5295391587706395, 2.453165277829371, 38.87048110250609, 194.68654562176897, 38.28478114829019, 1.9673892493190013, 7.087547703705416, 54.32803587497881, 686.517466919746, 686.6622027751854, 687.0613462287636, 286.0229805780765, 18.341278760146125, 13.237198429627181, 9.167662820587758, 29.16041468723731, 6.7765334095316305, 5.558387650814866, 5.55812275488356, 5.510831281842172, 3.927937363279691, 3.5258883092722546, 3.5256893454075438, 3.1194612391058083, 3.1190379767247856, 3.119014827099005, 3.116123030967633, 3.1154016670729305, 16.799686100709046, 2.71159419684085, 2.711502006085906, 2.7053411729825583, 2.7029563719520744, 2.6980525460730798, 2.690951737897107, 2.68755729065535, 2.68563411246026, 2.6834424153864407, 5.068674033003697, 23.21193593923877, 2.2800545350216797, 2.2798491747827874, 46.13356920537092, 54.32803587497881, 15.868914993472146, 15.19770893636776, 38.87048110250609, 686.6622027751854, 686.517466919746, 687.0613462287636, 194.68654562176897, 286.0229805780765, 162.18635033072783, 69.83662042288418, 10.320592097078002, 8.862230137610382, 8.110840388580508, 7.779669471175086, 7.115490866625658, 6.652367938504191, 5.6134441867229015, 5.569567065756828, 10.760142602257153, 5.23879906783115, 5.192491173148613, 4.812206951900657, 4.8106576219086765, 4.806228826791689, 4.805968610096563, 4.486577646983367, 13.957524522390958, 4.111274765734255, 3.735321898218573, 4.084738600415381, 3.353827530615714, 3.353827530615714, 3.353827530615714, 3.353827530615714, 3.353827530615714, 3.353827530615714, 3.340996825734285, 3.340996825734285, 3.340996825734285, 3.340996825734285, 14.879800464790948, 286.0229805780765, 686.6622027751854, 687.0613462287636, 686.517466919746, 194.68654562176897, 126.22292321249566, 20.16624058763125, 9.196596069853697, 9.631423344621869, 6.4245016120298954, 13.087269662435611, 5.91662664065352, 5.601010153678393, 5.5068984673583, 5.143861340324701, 5.94415435783785, 4.732540348332873, 4.7328436768590825, 4.321721646456815, 4.321082592127538, 3.9568591728504656, 3.909753216865737, 3.9095697933077553, 3.544905149771222, 3.134901509709776, 3.133704315310071, 3.133732547595302, 3.132966346176074, 3.131635953340007, 2.6807687539539313, 2.670071829302822, 2.7081369632706047, 2.645581493635338, 2.576624393432815, 54.32803587497881, 19.261641163814428, 12.297930539852517, 21.934296698203568, 686.6622027751854, 194.68654562176897, 687.0613462287636, 686.517466919746, 286.0229805780765, 162.18635033072783, 8.918216152448146, 9.647376459998998, 5.832795996311452, 5.083288212675549, 5.07975802162177, 4.954349143307666, 4.946165825698195, 3.889410668286466, 3.8440822093924307, 3.844212559253799, 3.4063949653062373, 3.4063949653062373, 3.4063949653062373, 3.4063949653062373, 3.4063949653062373, 3.365992662491779, 3.365992662491779, 3.365992662491779, 3.365992662491779, 3.365992662491779, 3.365992662491779, 3.365992662491779, 3.365992662491779, 3.365992662491779, 3.4939348776638464, 3.0939463609985998, 3.0933159962245806, 3.0936375406232015, 2.6919510540722142, 2.6899994288356863, 13.957524522390958, 8.732426253134646, 25.154452361628355, 686.517466919746, 686.6622027751854, 687.0613462287636, 126.22292321249566, 46.13356920537092, 194.68654562176897, 22.877873400008436, 15.19770893636776, 162.18635033072783, 286.0229805780765, 58.996290546495885, 17.297854460378765, 13.19162854963612, 7.095781491822412, 6.831954040006872, 6.2379761432393765, 6.198198762422331, 5.803704722897566, 5.803704722897566, 5.803704722897566, 5.803704722897566, 23.040122642489017, 5.188376199563251, 4.891098327082955, 4.471812132169479, 4.217927279712866, 4.2177027090548505, 4.217751140079302, 4.218070838043554, 3.881198358801675, 3.5841244082639974, 3.5442815175853877, 3.545817965987922, 3.2473544007908193, 3.153743553025461, 3.0840418988809235, 3.0840418988809235, 3.0840418988809235, 3.049525299916045, 3.049525299916045, 34.44549056658902, 23.085542542018008, 686.517466919746, 686.6622027751854, 162.18635033072783, 687.0613462287636, 194.68654562176897, 286.0229805780765, 12.542249280725871, 20.101176370552743, 5.851220466153286, 4.698495025713531, 4.651864454173067, 3.8521166547599344, 3.8524616117545616, 3.852498595686605, 3.0972958862976103, 22.877873400008436, 3.849305305093357, 2.697186238520352, 2.690300996020463, 2.659954892613699, 2.579579926140609, 2.254527191069964, 34.44549056658902, 2.527327181839337, 1.9891088017244751, 6.166518989044594, 17.34129221527745, 686.6622027751854, 1.9268330043498052, 2.048220446273633, 2.048220446273633, 2.048220446273633, 2.048220446273633, 1.9245819884281914, 686.517466919746, 1.9239918492455723, 54.32803587497881, 687.0613462287636, 286.0229805780765, 194.68654562176897, 46.13356920537092, 15.19770893636776, 58.996290546495885, 162.18635033072783, 25.154452361628355, 69.83662042288418, 126.22292321249566, 9.856505764485792, 9.041328468616554, 10.784626373246775, 5.664066554671616, 5.323636279245954, 5.278539441533359, 5.274556899061271, 4.9829382596512914, 4.9386082940542595, 4.168093326241205, 3.8273240872101013, 3.827133052729867, 3.7822044036092475, 3.8218400571800593, 3.3884548777084706, 3.3884548777084706, 3.3884548777084706, 3.3884548777084706, 3.3884548777084706, 3.3884548777084706, 3.3884548777084706, 3.3884548777084706, 3.3884548777084706, 3.3884548777084706, 3.189181308173402, 3.056188507400235, 6.29905546688448, 2.6690080427908125, 2.6657465080120124, 2.6614778826684082, 69.83662042288418, 4.1017634438491415, 162.18635033072783, 686.517466919746, 686.6622027751854, 126.22292321249566, 687.0613462287636, 194.68654562176897, 286.0229805780765, 54.32803587497881, 11.731326366943385, 9.605222613082384, 11.426446307013853, 7.327786214173111, 7.000945964022967, 6.586519370255969, 6.349730434953064, 6.107991951703942, 5.562120102928879, 5.5200309115046435, 12.297930539852517, 5.14849532463389, 4.525945603901962, 4.451184610865415, 4.385705424972021, 4.08080678561043, 3.7102910607877635, 3.7099256387244433, 3.709813079606177, 3.709715913310138, 3.305392488911196, 3.306318743465003, 3.306318743465003, 3.0118007246700014, 3.008154633531823, 2.628396022612393, 2.3167518546553345, 2.3167518546553345, 38.87048110250609, 3.78637517883951, 58.996290546495885, 126.22292321249566, 23.040122642489017, 686.517466919746, 686.6622027751854, 687.0613462287636, 286.0229805780765, 162.18635033072783, 194.68654562176897, 16.797159444144167, 8.810708107163036, 8.372669705679677, 6.85199345398022, 6.553920149188494, 6.166518989044594, 4.5957564302533624, 4.197036391112657, 3.8130300534152086, 3.812668649754264, 3.8123560192824457, 15.868914993472146, 3.3486434179881597, 3.3188052287230874, 3.271890295812577, 3.072515269257771, 3.0747169701981694, 3.0725339849656215, 3.068421949864903, 3.0694178149595284, 3.78637517883951, 2.682072600839554, 2.6796292291666255, 2.676355867046154, 2.6701930262546187, 2.656261936544297, 2.620998938459935, 2.2724928285044466, 2.266404271239008, 2.2598938600553895, 20.16624058763125, 34.44549056658902, 25.154452361628355, 686.6622027751854, 686.517466919746, 687.0613462287636, 286.0229805780765, 28.94432825430877, 54.32803587497881, 126.22292321249566, 194.68654562176897, 162.18635033072783, 58.996290546495885, 58.22612478610702, 7.303440320351874, 7.176094187744927, 6.222219086500688, 5.142005180613812, 38.28478114829019, 4.019944956868277, 3.7013149269571364, 3.659291163585884, 3.3421842109305047, 2.9796123785397968, 2.980345976101227, 2.9804890902920147, 2.605526351947273, 29.396514794746757, 58.996290546495885, 23.891642795669853, 126.22292321249566, 687.0613462287636, 686.517466919746, 1.9784561401676315, 286.0229805780765, 1.9799692739562957, 1.9397090106346457, 1.9188068819767825, 2.012012055644005, 1.9539193803200137, 1.9402173496864503, 1.9193407775262656, 1.939543549635605, 1.977292247764116, 686.6622027751854, 194.68654562176897, 162.18635033072783, 38.87048110250609, 2.2490952266640845, 69.83662042288418, 46.13356920537092, 2.2642763014905793, 23.040122642489017, 13.957524522390958, 54.32803587497881, 58.22612478610702, 13.727720027442468, 5.9951234758851095, 6.252307459617805, 5.197810450424037, 4.866117235618583, 4.719354621903034, 4.490058797241231, 4.4900472353747, 4.114123118944058, 4.113901156020435, 3.7380765595116965, 3.7377974654698995, 3.737830788114345, 3.737820402795992, 3.737329962534419, 3.4052203283640217, 3.342582925150219, 3.235928709779434, 3.026390302224839, 3.026057382048199, 2.839168265505152, 2.839168265505152, 2.839168265505152, 2.6521826791119625, 2.6358526327860536, 2.5065322412560302, 38.87048110250609, 58.996290546495885, 54.32803587497881, 69.83662042288418, 194.68654562176897, 162.18635033072783, 686.6622027751854, 686.517466919746, 687.0613462287636, 286.0229805780765, 126.22292321249566, 18.113155150342582, 14.981910808741127, 7.1640134184473565, 4.735854859327335, 4.331549022797591, 3.9263379713629267, 3.926162804767529, 3.9258121658905547, 3.879251303370974, 3.521013247162685, 3.115574206496292, 3.115038307216038, 3.114329090905213, 2.54770884585218, 2.54770884585218, 2.54770884585218, 2.1551518578913624, 16.799686100709046, 2.062452761095897, 22.877873400008436, 10.760142602257153, 46.13356920537092, 4.610476302864717, 4.610476302864717, 4.610476302864717, 4.610476302864717, 4.610476302864717, 686.6622027751854, 11.423018908401804, 3.5256893454075438, 687.0613462287636, 162.18635033072783, 686.517466919746, 286.0229805780765, 194.68654562176897, 54.32803587497881, 126.22292321249566, 58.22612478610702, 58.996290546495885, 9.63288012667008, 7.207923571746403, 6.385611168668273, 6.385096730663466, 5.149478117695425, 4.737229599350416, 4.372946948972842, 4.371769169602955, 4.325413469845294, 3.9132505805401543, 3.913172324068359, 3.5488219111066317, 3.1333495733004586, 3.1350753250910404, 6.563164672769336, 46.13356920537092, 69.83662042288418, 28.94432825430877, 58.22612478610702, 126.22292321249566, 2.059814065403015, 2.059814065403015, 2.059814065403015, 2.059814065403015, 1.9673875129200493, 1.9451739416193512, 23.040122642489017, 686.6622027751854, 1.9198312990290223, 1.9197954500243186, 687.0613462287636, 286.0229805780765, 686.517466919746, 34.44549056658902, 162.18635033072783, 54.32803587497881, 194.68654562176897, 15.19770893636776, 22.877873400008436, 38.87048110250609, 10.563488964559584, 10.133439226832605, 15.125515576906203, 9.662259947844648, 5.659973541990095, 4.761988811765122, 4.561498930257806, 3.758343481368105, 3.2634160198426767, 3.2634160198426767, 3.2634160198426767, 3.2634160198426767, 3.2634160198426767, 6.29905546688448, 3.04117893966175, 3.0385901873338677, 13.087269662435611, 46.13356920537092, 3.5031072897613873, 20.16624058763125, 29.16041468723731, 126.22292321249566, 8.019966572797713, 2.7301774943845505, 2.7301774943845505, 11.423018908401804, 23.891642795669853, 686.6622027751854, 1.9399947426102468, 2.2490952266640845, 687.0613462287636, 58.996290546495885, 686.517466919746, 286.0229805780765, 194.68654562176897, 162.18635033072783, 69.83662042288418, 13.770820821140521, 11.290262018976822, 6.203416418322501, 5.516804996917499, 5.517095012425617, 5.517116715609239, 5.232659374268121, 5.146932298137943, 5.146685812438642, 5.234572346415916, 4.76108399962195, 4.079647888165546, 4.0795776660126934, 4.079202429455313, 4.0789477101656, 4.079622335787096, 4.517969127092572, 3.7093262558702684, 3.7088011345593315, 3.7095239002396587, 3.708932179566298, 3.3811056639874955, 3.328002139970746, 3.328002139970746, 3.293590553035203, 3.293590553035203, 3.293590553035203, 3.2490867146326505, 3.2490867146326505, 3.2490867146326505, 686.6622027751854, 686.517466919746, 687.0613462287636, 58.996290546495885, 162.18635033072783, 23.040122642489017, 194.68654562176897, 286.0229805780765, 126.22292321249566, 4.531365320001284, 4.487115903397578, 4.111431117272441, 4.111435590051269, 3.7360553004429384, 3.7360448902319203, 3.735611203169319, 3.735660487028384, 3.781445967260873, 3.4032058835725767, 3.4028337896024765, 6.563164672769336, 3.0253146974616683, 2.649821036361929, 29.396514794746757, 20.16624058763125, 23.21193593923877, 687.0613462287636, 286.0229805780765, 686.6622027751854, 54.32803587497881, 686.517466919746, 1.945377045663231, 1.9443558952855808, 162.18635033072783, 1.977292247764116, 1.977292247764116, 1.9426545809820486, 1.9174418080197317, 1.9174382192160142, 1.9409293179322633, 194.68654562176897, 23.040122642489017, 126.22292321249566, 2.2642763014905793, 2.2490952266640845, 69.83662042288418, 23.891642795669853, 15.19770893636776, 34.44549056658902, 13.509432966087065, 6.559993416796496, 6.256289273816253, 4.62781640993071, 4.672007505209476, 4.276056374400092, 3.835606949828606, 3.8328535945078404, 3.4852126639115077, 3.1156570566342032, 3.089242343654331, 3.0885939373194393, 3.0879775770537936, 2.6771359860833006, 2.6707108466607776, 2.667741514637167, 2.5452947239219372, 2.3695842113454066, 19.261641163814428, 28.94432825430877, 126.22292321249566, 687.0613462287636, 686.517466919746, 1.9293621678415829, 1.9285520181553808, 1.9279544055015503, 1.9274833256445991, 54.32803587497881, 1.9423334651739959, 286.0229805780765, 686.6622027751854, 34.44549056658902, 194.68654562176897, 58.996290546495885, 162.18635033072783, 46.13356920537092, 17.34129221527745, 6.493924768055161, 5.816590228688188, 5.774055695645836, 5.0547936120658665, 5.054628813878319, 4.506489130301327, 3.6996048861580357, 20.16624058763125, 2.977337473133685, 2.9775657766864305, 2.9718079640880686, 2.9533230812882545, 2.87267337886645, 2.607260469833328, 2.5641837395597395, 2.5641837395597395, 2.5641837395597395, 2.5641837395597395, 2.5641837395597395, 2.5641837395597395, 2.5641837395597395, 2.2649811882632727, 686.517466919746, 34.44549056658902, 286.0229805780765, 686.6622027751854, 687.0613462287636, 1.9265260961902686, 2.020131993056076, 69.83662042288418, 194.68654562176897, 162.18635033072783, 58.996290546495885, 126.22292321249566, 38.87048110250609, 6.227602894423191, 6.1963630266699, 5.464126550050099, 5.0613930549694155, 4.741830628977321, 4.38256065628966, 4.02206168118401, 3.7026821043734603, 3.0343588961269754, 2.615223137469961, 2.566659681600811, 2.330113511612795, 286.0229805780765, 686.6622027751854, 686.517466919746, 687.0613462287636, 2.0047774313190274, 2.025660642268269, 2.025660642268269, 38.87048110250609, 1.9185712386280884, 1.9268330043498052, 1.9409165527566103, 1.9173794501318557, 1.9178147066589917, 1.9178157505873787, 1.917341933172532, 1.9179093579000224, 1.917809820312378, 1.9176850684815545, 2.2490952266640845, 194.68654562176897, 126.22292321249566, 2.2642763014905793, 69.83662042288418, 1.9443558952855808, 162.18635033072783, 23.891642795669853, 23.21193593923877, 54.32803587497881, 5.274556899061271, 34.44549056658902, 58.996290546495885, 21.934296698203568, 46.13356920537092, 28.94432825430877, 16.274546139295655, 10.470528872278127, 6.6907420327586555, 4.667420158665632, 4.610476302864717, 4.610476302864717, 4.610476302864717, 4.610476302864717, 4.610476302864717, 3.655529819358048, 3.1450293149711226, 3.1450293149711226, 2.9525585406023147, 4.396496171503427, 2.5956164281203797, 4.1017634438491415, 2.6342406562865266, 2.3612637795135063, 19.261641163814428, 686.517466919746, 687.0613462287636, 162.18635033072783, 2.025660642268269, 2.025660642268269, 194.68654562176897, 286.0229805780765, 2.048220446273633, 2.048220446273633, 2.048220446273633, 2.048220446273633, 686.6622027751854, 126.22292321249566, 38.87048110250609, 22.877873400008436, 34.44549056658902, 69.83662042288418, 29.36013298878635, 6.545586176976485, 5.116218708931721, 4.002066918672868, 3.6449055740143543, 3.644635793382862, 3.3289490734841394, 3.004806838134936, 2.969597491693644, 2.9846997979138936, 2.9846997979138936, 2.9846997979138936, 2.9846997979138936, 2.9722488792459085, 194.68654562176897, 69.83662042288418, 687.0613462287636, 2.059814065403015, 2.059814065403015, 2.059814065403015, 2.059814065403015, 686.517466919746, 162.18635033072783, 126.22292321249566, 1.9813012672841452, 1.9813012672841452, 1.9812919546089849, 1.9812919546089849, 1.98115976375203, 1.981155898225675, 686.6622027751854, 286.0229805780765, 2.2642763014905793, 54.32803587497881, 46.13356920537092, 58.996290546495885, 58.22612478610702, 38.28478114829019, 23.085542542018008, 38.87048110250609, 8.006177776752459, 7.302426129825956, 6.25000283132907, 5.15651987812059, 4.788235722172485, 4.6157904479528735, 4.05406439926164, 4.054334159941649, 3.729642318449129, 3.687631204944737, 3.6879878301014655, 3.687326212412812, 3.2759684444332446, 3.2759684444332446, 2.9975854627755205, 2.994974528323968, 2.7569473577827113, 2.7569473577827113, 2.7569473577827113, 2.669161422913907, 2.669161422913907, 2.669161422913907, 2.7301774943845505, 2.7301774943845505, 2.574492291439231, 2.574492291439231, 2.493378686891899, 2.1355844479022457, 34.44549056658902, 126.22292321249566, 20.16624058763125, 686.517466919746, 686.6622027751854, 687.0613462287636, 286.0229805780765, 69.83662042288418, 194.68654562176897, 162.18635033072783, 46.13356920537092, 58.996290546495885, 54.32803587497881, 8.712226915588401, 18.113155150342582, 4.440098568593276, 4.035311931833617, 3.3517033256317705, 2.9885492053125957, 4.396496171503427, 15.868914993472146, 38.87048110250609, 686.517466919746, 34.44549056658902, 687.0613462287636, 286.0229805780765, 2.254527191069964, 686.6622027751854, 126.22292321249566, 3.8218400571800593, 194.68654562176897, 2.2490952266640845, 1.9615599713589151, 1.9788009700495321, 1.922383981342582, 1.9223624608153074, 2.2642763014905793, 1.9254476802643101, 1.9259919812728843, 1.92591033505271, 1.9238811787750891, 1.923829393350375, 1.923798801446812, 162.18635033072783, 54.32803587497881, 46.13356920537092, 69.83662042288418, 23.085542542018008, 17.34129221527745, 28.94432825430877, 25.154452361628355, 38.28478114829019, 19.261641163814428, 16.799686100709046, 58.22612478610702, 58.996290546495885, 8.42765879118259, 8.006177776752459, 23.085542542018008, 4.468639965578845, 4.425907726996666, 3.6919119331292793, 3.3671024249438544, 16.799686100709046, 23.891642795669853, 28.94432825430877, 286.0229805780765, 162.18635033072783, 1.9961975677106278, 687.0613462287636, 686.6622027751854, 8.712226915588401, 686.517466919746, 2.0047774313190274, 194.68654562176897, 46.13356920537092, 1.9795734899157598, 1.9795632181426361, 1.9430171048172458, 1.9449893931808795, 1.9186742275642776, 1.9186683338687531, 1.918652140924689, 1.918994992453572, 1.9400668683945927, 1.941261245630786, 126.22292321249566, 2.2490952266640845, 2.2642763014905793, 69.83662042288418, 29.36013298878635, 1.9768543880937044, 23.21193593923877, 29.16041468723731, 54.32803587497881, 10.133439226832605, 17.34129221527745, 58.22612478610702, 18.341278760146125, 17.218104882018583, 34.44549056658902, 7.639511453476712, 7.164657480767259, 8.019966572797713, 7.087547703705416, 6.368699037859025, 5.327016912382146, 4.845863229063288, 4.6014906826437185, 4.170192944914292, 4.169769913110192, 4.169553027625163, 8.732426253134646, 3.443006977353778, 3.1932841896113806, 3.1932841896113806, 3.056452290372452, 3.05388214962791, 3.0564372987303803, 2.441122073521163, 2.048220446273633, 2.048220446273633, 2.048220446273633, 2.048220446273633, 69.83662042288418, 1.997513694020342, 1.997513694020342, 162.18635033072783, 686.6622027751854, 2.059814065403015, 2.059814065403015, 194.68654562176897, 687.0613462287636, 686.517466919746, 126.22292321249566, 286.0229805780765, 29.16041468723731, 54.32803587497881, 23.21193593923877, 29.36013298878635, 38.87048110250609, 5.537790148884363, 4.563224775399284, 4.417173606665752, 4.225683232357838, 3.8882683333709385, 3.887929407534368, 3.549970920536358, 3.549943874470976, 2.951651085597334, 2.914609112941022, 2.914609112941022, 2.914609112941022, 2.914609112941022, 286.0229805780765, 4.084738600415381, 687.0613462287636, 686.6622027751854, 686.517466919746, 126.22292321249566, 2.2490952266640845, 1.9404810736239326, 1.9184517759512913, 2.2642763014905793, 1.9172918726986612, 1.9172861361994828, 1.9179579028675966, 1.9179468276756608, 1.9179574329707054, 1.917942997448439, 1.917828855860243, 194.68654562176897, 162.18635033072783, 69.83662042288418, 10.760142602257153, 29.36013298878635, 1.9785497694471705, 58.996290546495885, 38.87048110250609, 13.770820821140521, 58.22612478610702, 46.13356920537092, 15.748918281822963, 11.370722462501726, 9.529957585980926, 6.82836986888121, 6.450567705839321, 4.558023356768549, 4.172056335349141, 3.8305431872222933, 3.785893154586455, 3.7859041622600635, 3.4447127884731645, 3.44441352446521, 3.0542416193955475, 3.0577035108575803, 28.94432825430877, 58.996290546495885, 69.83662042288418, 2.012012055644005, 1.9410803743893623, 1.9391537211206782, 20.16624058763125, 687.0613462287636, 686.6622027751854, 194.68654562176897, 1.939747549291057, 1.9432811968951567, 1.919125627138139, 1.938741017886346, 1.9432916217589724, 2.2642763014905793, 1.9198746738471628, 686.517466919746, 162.18635033072783, 38.87048110250609, 286.0229805780765, 126.22292321249566, 54.32803587497881, 23.21193593923877, 46.13356920537092, 38.28478114829019, 58.22612478610702, 7.953173240155756, 4.808241754983796, 4.7657858484008075, 4.765955597874878, 4.039460419840336, 4.039070051810934, 3.6760843803879304, 3.675655539726434, 3.354428204578391, 2.990072059270044, 2.988219605756948, 29.396514794746757, 23.21193593923877, 286.0229805780765, 686.6622027751854, 687.0613462287636, 69.83662042288418, 686.517466919746, 126.22292321249566, 1.9196713404945833, 1.9196044741903686, 1.92037807379487, 1.920287122440425, 1.9202929732844563, 1.9449893931808795, 2.2490952266640845, 1.977292247764116, 1.977292247764116, 1.9193194044695676, 1.9193103331119945, 1.9409165527566103, 2.2642763014905793, 34.44549056658902, 162.18635033072783, 38.28478114829019, 194.68654562176897, 21.934296698203568, 46.13356920537092, 58.996290546495885, 23.085542542018008, 38.87048110250609, 15.19770893636776, 7.639511453476712, 23.891642795669853, 6.731306003016632, 4.690875686971293, 4.539645410695623, 3.9830125748648113, 3.6713115711621875, 3.6293564839375807, 3.628827559114347, 3.6290629098997025, 4.045782814406573, 3.130033199495789, 3.0886879996867407, 3.0886879996867407, 3.0886879996867407, 2.9597287308929285, 2.9600126052615883, 23.21193593923877, 2.682756980723474, 2.286730249867698, 16.799686100709046, 15.868914993472146, 23.085542542018008, 686.517466919746, 286.0229805780765, 687.0613462287636, 686.6622027751854, 1.9805287274325936, 1.9805287274325936, 1.9792646083295706, 1.9792633606214194, 19.261641163814428, 69.83662042288418, 54.32803587497881, 194.68654562176897, 162.18635033072783, 34.44549056658902, 10.58071746899823, 6.376167036320185, 4.6898772966492395, 4.609805245053837, 4.3365113841992295, 4.023611137030226, 3.982633837716578, 3.3157852164868853, 3.3155708847238183, 2.746064165316387, 2.746064165316387, 2.295488798533792, 2.295488798533792, 126.22292321249566, 686.517466919746, 286.0229805780765, 687.0613462287636, 686.6622027751854, 38.87048110250609, 29.36013298878635, 13.509432966087065, 2.2490952266640845, 1.9400397526018336, 1.940142883035661, 1.9173259144080201, 1.917334811854223, 1.9173299895437472, 1.9173180757886061, 1.9176195250617643, 1.9179754864262117, 4.836833952357142, 1.9409293179322633, 162.18635033072783, 4.741830628977321, 38.28478114829019, 2.2642763014905793, 194.68654562176897, 21.934296698203568, 18.113155150342582, 23.891642795669853, 58.996290546495885, 58.22612478610702, 6.398581908835542, 5.729452652241694, 3.992767158516207, 23.891642795669853, 3.678513148806238, 3.678480398878505, 3.637458875078405, 3.6370543726058244, 2.9660672538951514, 2.983533219311755, 2.983533219311755, 2.9658838773194143, 2.9658838773194143, 2.5641991100268617, 2.5641991100268617, 2.5641991100268617, 2.5641991100268617, 10.784626373246775, 194.68654562176897, 687.0613462287636, 11.423018908401804, 69.83662042288418, 286.0229805780765, 162.18635033072783, 54.32803587497881, 686.6622027751854, 686.517466919746, 2.2642763014905793, 126.22292321249566, 2.0047774313190274, 2.2490952266640845, 34.44549056658902, 7.302426129825956, 23.21193593923877, 58.996290546495885], \"Category\": [\"Default\", \"Default\", \"Default\", \"Default\", \"Default\", \"Default\", \"Default\", \"Default\", \"Default\", \"Default\", \"Default\", \"Default\", \"Default\", \"Default\", \"Default\", \"Default\", \"Default\", \"Default\", \"Default\", \"Default\", \"Default\", \"Default\", \"Default\", \"Default\", \"Default\", \"Default\", \"Default\", \"Default\", \"Default\", \"Default\", \"Topic1\", \"Topic1\", \"Topic1\", \"Topic1\", \"Topic1\", \"Topic1\", \"Topic1\", \"Topic1\", \"Topic1\", \"Topic1\", \"Topic1\", \"Topic1\", \"Topic1\", \"Topic1\", \"Topic1\", \"Topic1\", \"Topic1\", \"Topic1\", \"Topic1\", \"Topic1\", \"Topic1\", \"Topic1\", \"Topic1\", \"Topic1\", \"Topic1\", \"Topic1\", \"Topic1\", \"Topic1\", \"Topic1\", \"Topic1\", \"Topic1\", \"Topic1\", \"Topic1\", \"Topic1\", \"Topic1\", \"Topic1\", \"Topic1\", \"Topic1\", \"Topic1\", \"Topic1\", \"Topic1\", \"Topic2\", \"Topic2\", \"Topic2\", \"Topic2\", \"Topic2\", \"Topic2\", \"Topic2\", \"Topic2\", \"Topic2\", \"Topic2\", \"Topic2\", \"Topic2\", \"Topic2\", \"Topic2\", \"Topic2\", \"Topic2\", \"Topic2\", \"Topic2\", \"Topic2\", \"Topic2\", \"Topic2\", \"Topic2\", \"Topic2\", \"Topic2\", \"Topic2\", \"Topic2\", \"Topic2\", \"Topic2\", \"Topic2\", \"Topic2\", \"Topic2\", \"Topic2\", \"Topic2\", \"Topic2\", \"Topic3\", \"Topic3\", \"Topic3\", \"Topic3\", \"Topic3\", \"Topic3\", \"Topic3\", \"Topic3\", \"Topic3\", \"Topic3\", \"Topic3\", \"Topic3\", \"Topic3\", \"Topic3\", \"Topic3\", \"Topic3\", \"Topic3\", \"Topic3\", \"Topic3\", \"Topic3\", \"Topic3\", \"Topic3\", \"Topic3\", \"Topic3\", \"Topic3\", \"Topic3\", \"Topic3\", \"Topic3\", \"Topic3\", \"Topic3\", \"Topic3\", \"Topic3\", \"Topic3\", \"Topic3\", \"Topic3\", \"Topic3\", \"Topic3\", \"Topic3\", \"Topic3\", \"Topic3\", \"Topic3\", \"Topic4\", \"Topic4\", \"Topic4\", \"Topic4\", \"Topic4\", \"Topic4\", \"Topic4\", \"Topic4\", \"Topic4\", \"Topic4\", \"Topic4\", \"Topic4\", \"Topic4\", \"Topic4\", \"Topic4\", \"Topic4\", \"Topic4\", \"Topic4\", \"Topic4\", \"Topic4\", \"Topic4\", \"Topic4\", \"Topic4\", \"Topic4\", \"Topic4\", \"Topic4\", \"Topic4\", \"Topic4\", \"Topic4\", \"Topic4\", \"Topic4\", \"Topic4\", \"Topic4\", \"Topic4\", \"Topic4\", \"Topic5\", \"Topic5\", \"Topic5\", \"Topic5\", \"Topic5\", \"Topic5\", \"Topic5\", \"Topic5\", \"Topic5\", \"Topic5\", \"Topic5\", \"Topic5\", \"Topic5\", \"Topic5\", \"Topic5\", \"Topic5\", \"Topic5\", \"Topic5\", \"Topic5\", \"Topic5\", \"Topic5\", \"Topic5\", \"Topic5\", \"Topic5\", \"Topic5\", \"Topic5\", \"Topic5\", \"Topic5\", \"Topic5\", \"Topic5\", \"Topic5\", \"Topic5\", \"Topic5\", \"Topic5\", \"Topic5\", \"Topic5\", \"Topic5\", \"Topic5\", \"Topic5\", \"Topic5\", \"Topic5\", \"Topic5\", \"Topic6\", \"Topic6\", \"Topic6\", \"Topic6\", \"Topic6\", \"Topic6\", \"Topic6\", \"Topic6\", \"Topic6\", \"Topic6\", \"Topic6\", \"Topic6\", \"Topic6\", \"Topic6\", \"Topic6\", \"Topic6\", \"Topic6\", \"Topic6\", \"Topic6\", \"Topic6\", \"Topic6\", \"Topic6\", \"Topic6\", \"Topic6\", \"Topic6\", \"Topic6\", \"Topic6\", \"Topic6\", \"Topic6\", \"Topic6\", \"Topic6\", \"Topic6\", \"Topic6\", \"Topic6\", \"Topic6\", \"Topic6\", \"Topic6\", \"Topic6\", \"Topic7\", \"Topic7\", \"Topic7\", \"Topic7\", \"Topic7\", \"Topic7\", \"Topic7\", \"Topic7\", \"Topic7\", \"Topic7\", \"Topic7\", \"Topic7\", \"Topic7\", \"Topic7\", \"Topic7\", \"Topic7\", \"Topic7\", \"Topic7\", \"Topic7\", \"Topic7\", \"Topic7\", \"Topic7\", \"Topic7\", \"Topic7\", \"Topic7\", \"Topic7\", \"Topic7\", \"Topic7\", \"Topic7\", \"Topic7\", \"Topic7\", \"Topic7\", \"Topic7\", \"Topic7\", \"Topic7\", \"Topic7\", \"Topic7\", \"Topic8\", \"Topic8\", \"Topic8\", \"Topic8\", \"Topic8\", \"Topic8\", \"Topic8\", \"Topic8\", \"Topic8\", \"Topic8\", \"Topic8\", \"Topic8\", \"Topic8\", \"Topic8\", \"Topic8\", \"Topic8\", \"Topic8\", \"Topic8\", \"Topic8\", \"Topic8\", \"Topic8\", \"Topic8\", \"Topic8\", \"Topic8\", \"Topic8\", \"Topic8\", \"Topic8\", \"Topic8\", \"Topic8\", \"Topic8\", \"Topic8\", \"Topic8\", \"Topic8\", \"Topic8\", \"Topic8\", \"Topic8\", \"Topic8\", \"Topic8\", \"Topic8\", \"Topic8\", \"Topic8\", \"Topic8\", \"Topic8\", \"Topic8\", \"Topic9\", \"Topic9\", \"Topic9\", \"Topic9\", \"Topic9\", \"Topic9\", \"Topic9\", \"Topic9\", \"Topic9\", \"Topic9\", \"Topic9\", \"Topic9\", \"Topic9\", \"Topic9\", \"Topic9\", \"Topic9\", \"Topic9\", \"Topic9\", \"Topic9\", \"Topic9\", \"Topic9\", \"Topic9\", \"Topic9\", \"Topic9\", \"Topic9\", \"Topic9\", \"Topic9\", \"Topic9\", \"Topic9\", \"Topic9\", \"Topic9\", \"Topic9\", \"Topic9\", \"Topic9\", \"Topic9\", \"Topic9\", \"Topic9\", \"Topic10\", \"Topic10\", \"Topic10\", \"Topic10\", \"Topic10\", \"Topic10\", \"Topic10\", \"Topic10\", \"Topic10\", \"Topic10\", \"Topic10\", \"Topic10\", \"Topic10\", \"Topic10\", \"Topic10\", \"Topic10\", \"Topic10\", \"Topic10\", \"Topic10\", \"Topic10\", \"Topic10\", \"Topic10\", \"Topic10\", \"Topic10\", \"Topic10\", \"Topic10\", \"Topic10\", \"Topic10\", \"Topic10\", \"Topic10\", \"Topic10\", \"Topic10\", \"Topic10\", \"Topic10\", \"Topic10\", \"Topic10\", \"Topic10\", \"Topic10\", \"Topic10\", \"Topic10\", \"Topic10\", \"Topic11\", \"Topic11\", \"Topic11\", \"Topic11\", \"Topic11\", \"Topic11\", \"Topic11\", \"Topic11\", \"Topic11\", \"Topic11\", \"Topic11\", \"Topic11\", \"Topic11\", \"Topic11\", \"Topic11\", \"Topic11\", \"Topic11\", \"Topic11\", \"Topic11\", \"Topic11\", \"Topic11\", \"Topic11\", \"Topic11\", \"Topic11\", \"Topic11\", \"Topic11\", \"Topic11\", \"Topic11\", \"Topic11\", \"Topic11\", \"Topic11\", \"Topic11\", \"Topic11\", \"Topic11\", \"Topic11\", \"Topic11\", \"Topic11\", \"Topic11\", \"Topic11\", \"Topic11\", \"Topic12\", \"Topic12\", \"Topic12\", \"Topic12\", \"Topic12\", \"Topic12\", \"Topic12\", \"Topic12\", \"Topic12\", \"Topic12\", \"Topic12\", \"Topic12\", \"Topic12\", \"Topic12\", \"Topic12\", \"Topic12\", \"Topic12\", \"Topic12\", \"Topic12\", \"Topic12\", \"Topic12\", \"Topic12\", \"Topic12\", \"Topic12\", \"Topic12\", \"Topic12\", \"Topic12\", \"Topic12\", \"Topic12\", \"Topic12\", \"Topic12\", \"Topic12\", \"Topic12\", \"Topic12\", \"Topic12\", \"Topic12\", \"Topic12\", \"Topic12\", \"Topic12\", \"Topic13\", \"Topic13\", \"Topic13\", \"Topic13\", \"Topic13\", \"Topic13\", \"Topic13\", \"Topic13\", \"Topic13\", \"Topic13\", \"Topic13\", \"Topic13\", \"Topic13\", \"Topic13\", \"Topic13\", \"Topic13\", \"Topic13\", \"Topic13\", \"Topic13\", \"Topic13\", \"Topic13\", \"Topic13\", \"Topic13\", \"Topic13\", \"Topic13\", \"Topic13\", \"Topic13\", \"Topic13\", \"Topic13\", \"Topic13\", \"Topic13\", \"Topic13\", \"Topic13\", \"Topic13\", \"Topic13\", \"Topic13\", \"Topic13\", \"Topic13\", \"Topic13\", \"Topic13\", \"Topic13\", \"Topic13\", \"Topic13\", \"Topic13\", \"Topic14\", \"Topic14\", \"Topic14\", \"Topic14\", \"Topic14\", \"Topic14\", \"Topic14\", \"Topic14\", \"Topic14\", \"Topic14\", \"Topic14\", \"Topic14\", \"Topic14\", \"Topic14\", \"Topic14\", \"Topic14\", \"Topic14\", \"Topic14\", \"Topic14\", \"Topic14\", \"Topic14\", \"Topic14\", \"Topic14\", \"Topic14\", \"Topic14\", \"Topic14\", \"Topic14\", \"Topic14\", \"Topic14\", \"Topic14\", \"Topic14\", \"Topic14\", \"Topic14\", \"Topic14\", \"Topic14\", \"Topic14\", \"Topic14\", \"Topic14\", \"Topic14\", \"Topic14\", \"Topic14\", \"Topic14\", \"Topic15\", \"Topic15\", \"Topic15\", \"Topic15\", \"Topic15\", \"Topic15\", \"Topic15\", \"Topic15\", \"Topic15\", \"Topic15\", \"Topic15\", \"Topic15\", \"Topic15\", \"Topic15\", \"Topic15\", \"Topic15\", \"Topic15\", \"Topic15\", \"Topic15\", \"Topic15\", \"Topic15\", \"Topic15\", \"Topic15\", \"Topic15\", \"Topic15\", \"Topic15\", \"Topic15\", \"Topic15\", \"Topic15\", \"Topic15\", \"Topic15\", \"Topic15\", \"Topic15\", \"Topic15\", \"Topic15\", \"Topic15\", \"Topic15\", \"Topic15\", \"Topic16\", \"Topic16\", \"Topic16\", \"Topic16\", \"Topic16\", \"Topic16\", \"Topic16\", \"Topic16\", \"Topic16\", \"Topic16\", \"Topic16\", \"Topic16\", \"Topic16\", \"Topic16\", \"Topic16\", \"Topic16\", \"Topic16\", \"Topic16\", \"Topic16\", \"Topic16\", \"Topic16\", \"Topic16\", \"Topic16\", \"Topic16\", \"Topic16\", \"Topic16\", \"Topic16\", \"Topic16\", \"Topic16\", \"Topic16\", \"Topic16\", \"Topic16\", \"Topic16\", \"Topic16\", \"Topic16\", \"Topic16\", \"Topic16\", \"Topic16\", \"Topic17\", \"Topic17\", \"Topic17\", \"Topic17\", \"Topic17\", \"Topic17\", \"Topic17\", \"Topic17\", \"Topic17\", \"Topic17\", \"Topic17\", \"Topic17\", \"Topic17\", \"Topic17\", \"Topic17\", \"Topic17\", \"Topic17\", \"Topic17\", \"Topic17\", \"Topic17\", \"Topic17\", \"Topic17\", \"Topic17\", \"Topic17\", \"Topic17\", \"Topic17\", \"Topic17\", \"Topic17\", \"Topic17\", \"Topic17\", \"Topic17\", \"Topic17\", \"Topic17\", \"Topic17\", \"Topic17\", \"Topic17\", \"Topic17\", \"Topic17\", \"Topic17\", \"Topic17\", \"Topic18\", \"Topic18\", \"Topic18\", \"Topic18\", \"Topic18\", \"Topic18\", \"Topic18\", \"Topic18\", \"Topic18\", \"Topic18\", \"Topic18\", \"Topic18\", \"Topic18\", \"Topic18\", \"Topic18\", \"Topic18\", \"Topic18\", \"Topic18\", \"Topic18\", \"Topic18\", \"Topic18\", \"Topic18\", \"Topic18\", \"Topic18\", \"Topic18\", \"Topic18\", \"Topic18\", \"Topic18\", \"Topic18\", \"Topic18\", \"Topic18\", \"Topic18\", \"Topic18\", \"Topic18\", \"Topic18\", \"Topic18\", \"Topic18\", \"Topic19\", \"Topic19\", \"Topic19\", \"Topic19\", \"Topic19\", \"Topic19\", \"Topic19\", \"Topic19\", \"Topic19\", \"Topic19\", \"Topic19\", \"Topic19\", \"Topic19\", \"Topic19\", \"Topic19\", \"Topic19\", \"Topic19\", \"Topic19\", \"Topic19\", \"Topic19\", \"Topic19\", \"Topic19\", \"Topic19\", \"Topic19\", \"Topic19\", \"Topic19\", \"Topic19\", \"Topic19\", \"Topic19\", \"Topic19\", \"Topic19\", \"Topic19\", \"Topic19\", \"Topic19\", \"Topic19\", \"Topic19\", \"Topic19\", \"Topic19\", \"Topic19\", \"Topic20\", \"Topic20\", \"Topic20\", \"Topic20\", \"Topic20\", \"Topic20\", \"Topic20\", \"Topic20\", \"Topic20\", \"Topic20\", \"Topic20\", \"Topic20\", \"Topic20\", \"Topic20\", \"Topic20\", \"Topic20\", \"Topic20\", \"Topic20\", \"Topic20\", \"Topic20\", \"Topic20\", \"Topic20\", \"Topic20\", \"Topic20\", \"Topic20\", \"Topic20\", \"Topic20\", \"Topic20\", \"Topic20\", \"Topic20\", \"Topic20\", \"Topic20\", \"Topic20\", \"Topic20\", \"Topic20\", \"Topic20\", \"Topic20\", \"Topic20\", \"Topic20\", \"Topic20\", \"Topic21\", \"Topic21\", \"Topic21\", \"Topic21\", \"Topic21\", \"Topic21\", \"Topic21\", \"Topic21\", \"Topic21\", \"Topic21\", \"Topic21\", \"Topic21\", \"Topic21\", \"Topic21\", \"Topic21\", \"Topic21\", \"Topic21\", \"Topic21\", \"Topic21\", \"Topic21\", \"Topic21\", \"Topic21\", \"Topic21\", \"Topic21\", \"Topic21\", \"Topic21\", \"Topic21\", \"Topic21\", \"Topic21\", \"Topic21\", \"Topic21\", \"Topic21\", \"Topic21\", \"Topic21\", \"Topic21\", \"Topic21\", \"Topic22\", \"Topic22\", \"Topic22\", \"Topic22\", \"Topic22\", \"Topic22\", \"Topic22\", \"Topic22\", \"Topic22\", \"Topic22\", \"Topic22\", \"Topic22\", \"Topic22\", \"Topic22\", \"Topic22\", \"Topic22\", \"Topic22\", \"Topic22\", \"Topic22\", \"Topic22\", \"Topic22\", \"Topic22\", \"Topic22\", \"Topic22\", \"Topic22\", \"Topic22\", \"Topic22\", \"Topic22\", \"Topic22\", \"Topic22\", \"Topic22\", \"Topic22\", \"Topic22\", \"Topic22\", \"Topic22\", \"Topic22\", \"Topic23\", \"Topic23\", \"Topic23\", \"Topic23\", \"Topic23\", \"Topic23\", \"Topic23\", \"Topic23\", \"Topic23\", \"Topic23\", \"Topic23\", \"Topic23\", \"Topic23\", \"Topic23\", \"Topic23\", \"Topic23\", \"Topic23\", \"Topic23\", \"Topic23\", \"Topic23\", \"Topic23\", \"Topic23\", \"Topic23\", \"Topic23\", \"Topic23\", \"Topic23\", \"Topic23\", \"Topic23\", \"Topic23\", \"Topic23\", \"Topic23\", \"Topic23\", \"Topic23\", \"Topic23\", \"Topic23\", \"Topic23\", \"Topic23\", \"Topic23\", \"Topic23\", \"Topic23\", \"Topic23\", \"Topic23\", \"Topic23\", \"Topic23\", \"Topic23\", \"Topic23\", \"Topic24\", \"Topic24\", \"Topic24\", \"Topic24\", \"Topic24\", \"Topic24\", \"Topic24\", \"Topic24\", \"Topic24\", \"Topic24\", \"Topic24\", \"Topic24\", \"Topic24\", \"Topic24\", \"Topic24\", \"Topic24\", \"Topic24\", \"Topic24\", \"Topic24\", \"Topic24\", \"Topic24\", \"Topic24\", \"Topic24\", \"Topic24\", \"Topic24\", \"Topic24\", \"Topic24\", \"Topic24\", \"Topic24\", \"Topic24\", \"Topic24\", \"Topic24\", \"Topic24\", \"Topic24\", \"Topic24\", \"Topic24\", \"Topic25\", \"Topic25\", \"Topic25\", \"Topic25\", \"Topic25\", \"Topic25\", \"Topic25\", \"Topic25\", \"Topic25\", \"Topic25\", \"Topic25\", \"Topic25\", \"Topic25\", \"Topic25\", \"Topic25\", \"Topic25\", \"Topic25\", \"Topic25\", \"Topic25\", \"Topic25\", \"Topic25\", \"Topic25\", \"Topic25\", \"Topic25\", \"Topic25\", \"Topic25\", \"Topic25\", \"Topic25\", \"Topic25\", \"Topic25\", \"Topic25\", \"Topic25\", \"Topic25\", \"Topic25\", \"Topic25\", \"Topic25\", \"Topic25\", \"Topic25\", \"Topic25\", \"Topic25\", \"Topic25\", \"Topic26\", \"Topic26\", \"Topic26\", \"Topic26\", \"Topic26\", \"Topic26\", \"Topic26\", \"Topic26\", \"Topic26\", \"Topic26\", \"Topic26\", \"Topic26\", \"Topic26\", \"Topic26\", \"Topic26\", \"Topic26\", \"Topic26\", \"Topic26\", \"Topic26\", \"Topic26\", \"Topic26\", \"Topic26\", \"Topic26\", \"Topic26\", \"Topic26\", \"Topic26\", \"Topic26\", \"Topic26\", \"Topic26\", \"Topic26\", \"Topic26\", \"Topic26\", \"Topic26\", \"Topic26\", \"Topic26\", \"Topic26\", \"Topic26\", \"Topic26\", \"Topic26\", \"Topic26\", \"Topic27\", \"Topic27\", \"Topic27\", \"Topic27\", \"Topic27\", \"Topic27\", \"Topic27\", \"Topic27\", \"Topic27\", \"Topic27\", \"Topic27\", \"Topic27\", \"Topic27\", \"Topic27\", \"Topic27\", \"Topic27\", \"Topic27\", \"Topic27\", \"Topic27\", \"Topic27\", \"Topic27\", \"Topic27\", \"Topic27\", \"Topic27\", \"Topic27\", \"Topic27\", \"Topic27\", \"Topic27\", \"Topic27\", \"Topic27\", \"Topic27\", \"Topic27\", \"Topic27\", \"Topic27\", \"Topic27\", \"Topic27\", \"Topic27\", \"Topic27\", \"Topic27\", \"Topic27\", \"Topic27\", \"Topic27\", \"Topic27\", \"Topic28\", \"Topic28\", \"Topic28\", \"Topic28\", \"Topic28\", \"Topic28\", \"Topic28\", \"Topic28\", \"Topic28\", \"Topic28\", \"Topic28\", \"Topic28\", \"Topic28\", \"Topic28\", \"Topic28\", \"Topic28\", \"Topic28\", \"Topic28\", \"Topic28\", \"Topic28\", \"Topic28\", \"Topic28\", \"Topic28\", \"Topic28\", \"Topic28\", \"Topic28\", \"Topic28\", \"Topic28\", \"Topic28\", \"Topic28\", \"Topic28\", \"Topic28\", \"Topic28\", \"Topic28\", \"Topic28\", \"Topic28\", \"Topic28\", \"Topic28\", \"Topic28\", \"Topic28\", \"Topic28\", \"Topic28\", \"Topic28\", \"Topic28\", \"Topic28\", \"Topic29\", \"Topic29\", \"Topic29\", \"Topic29\", \"Topic29\", \"Topic29\", \"Topic29\", \"Topic29\", \"Topic29\", \"Topic29\", \"Topic29\", \"Topic29\", \"Topic29\", \"Topic29\", \"Topic29\", \"Topic29\", \"Topic29\", \"Topic29\", \"Topic29\", \"Topic29\", \"Topic29\", \"Topic29\", \"Topic29\", \"Topic29\", \"Topic29\", \"Topic29\", \"Topic29\", \"Topic29\", \"Topic29\", \"Topic29\", \"Topic29\", \"Topic29\", \"Topic29\", \"Topic29\", \"Topic29\", \"Topic29\", \"Topic29\", \"Topic29\", \"Topic29\", \"Topic29\", \"Topic30\", \"Topic30\", \"Topic30\", \"Topic30\", \"Topic30\", \"Topic30\", \"Topic30\", \"Topic30\", \"Topic30\", \"Topic30\", \"Topic30\", \"Topic30\", \"Topic30\", \"Topic30\", \"Topic30\", \"Topic30\", \"Topic30\", \"Topic30\", \"Topic30\", \"Topic30\", \"Topic30\", \"Topic30\", \"Topic30\", \"Topic30\", \"Topic30\", \"Topic30\", \"Topic30\", \"Topic30\", \"Topic30\", \"Topic30\", \"Topic30\", \"Topic30\", \"Topic30\", \"Topic30\", \"Topic30\", \"Topic30\", \"Topic30\", \"Topic30\", \"Topic30\", \"Topic30\", \"Topic30\", \"Topic30\", \"Topic31\", \"Topic31\", \"Topic31\", \"Topic31\", \"Topic31\", \"Topic31\", \"Topic31\", \"Topic31\", \"Topic31\", \"Topic31\", \"Topic31\", \"Topic31\", \"Topic31\", \"Topic31\", \"Topic31\", \"Topic31\", \"Topic31\", \"Topic31\", \"Topic31\", \"Topic31\", \"Topic31\", \"Topic31\", \"Topic31\", \"Topic31\", \"Topic31\", \"Topic31\", \"Topic31\", \"Topic31\", \"Topic31\", \"Topic31\", \"Topic31\", \"Topic31\", \"Topic31\", \"Topic31\", \"Topic31\", \"Topic31\", \"Topic31\", \"Topic31\", \"Topic31\", \"Topic31\", \"Topic32\", \"Topic32\", \"Topic32\", \"Topic32\", \"Topic32\", \"Topic32\", \"Topic32\", \"Topic32\", \"Topic32\", \"Topic32\", \"Topic32\", \"Topic32\", \"Topic32\", \"Topic32\", \"Topic32\", \"Topic32\", \"Topic32\", \"Topic32\", \"Topic32\", \"Topic32\", \"Topic32\", \"Topic32\", \"Topic32\", \"Topic32\", \"Topic32\", \"Topic32\", \"Topic32\", \"Topic32\", \"Topic32\", \"Topic32\", \"Topic32\", \"Topic32\", \"Topic32\", \"Topic32\", \"Topic32\", \"Topic32\", \"Topic32\", \"Topic32\", \"Topic32\", \"Topic32\", \"Topic32\", \"Topic32\", \"Topic32\", \"Topic32\", \"Topic33\", \"Topic33\", \"Topic33\", \"Topic33\", \"Topic33\", \"Topic33\", \"Topic33\", \"Topic33\", \"Topic33\", \"Topic33\", \"Topic33\", \"Topic33\", \"Topic33\", \"Topic33\", \"Topic33\", \"Topic33\", \"Topic33\", \"Topic33\", \"Topic33\", \"Topic33\", \"Topic33\", \"Topic33\", \"Topic33\", \"Topic33\", \"Topic33\", \"Topic33\", \"Topic33\", \"Topic33\", \"Topic33\", \"Topic33\", \"Topic33\", \"Topic33\", \"Topic33\", \"Topic33\", \"Topic33\", \"Topic34\", \"Topic34\", \"Topic34\", \"Topic34\", \"Topic34\", \"Topic34\", \"Topic34\", \"Topic34\", \"Topic34\", \"Topic34\", \"Topic34\", \"Topic34\", \"Topic34\", \"Topic34\", \"Topic34\", \"Topic34\", \"Topic34\", \"Topic34\", \"Topic34\", \"Topic34\", \"Topic34\", \"Topic34\", \"Topic34\", \"Topic34\", \"Topic34\", \"Topic34\", \"Topic34\", \"Topic34\", \"Topic34\", \"Topic34\", \"Topic34\", \"Topic34\", \"Topic34\", \"Topic34\", \"Topic34\", \"Topic34\", \"Topic34\", \"Topic34\", \"Topic34\", \"Topic34\", \"Topic34\", \"Topic34\", \"Topic35\", \"Topic35\", \"Topic35\", \"Topic35\", \"Topic35\", \"Topic35\", \"Topic35\", \"Topic35\", \"Topic35\", \"Topic35\", \"Topic35\", \"Topic35\", \"Topic35\", \"Topic35\", \"Topic35\", \"Topic35\", \"Topic35\", \"Topic35\", \"Topic35\", \"Topic35\", \"Topic35\", \"Topic35\", \"Topic35\", \"Topic35\", \"Topic35\", \"Topic35\", \"Topic35\", \"Topic35\", \"Topic35\", \"Topic35\", \"Topic35\", \"Topic35\", \"Topic35\", \"Topic35\", \"Topic35\"], \"logprob\": [30.0, 29.0, 28.0, 27.0, 26.0, 25.0, 24.0, 23.0, 22.0, 21.0, 20.0, 19.0, 18.0, 17.0, 16.0, 15.0, 14.0, 13.0, 12.0, 11.0, 10.0, 9.0, 8.0, 7.0, 6.0, 5.0, 4.0, 3.0, 2.0, 1.0, -3.6952, -3.6137, -3.8047, -3.8714, -1.9149, -4.0178, -4.0811, -3.5749, -4.672, -4.8425, -5.0234, -5.0243, -4.9337, -3.7205, -5.2175, -5.22, -5.2845, -5.2845, -5.2845, -5.2845, -5.2845, -5.4934, -5.4937, -5.4957, -5.4969, -5.4978, -5.5063, -5.0192, -4.3161, -5.8798, -3.5895, -4.4016, -4.1129, -3.7543, -4.0223, -4.3233, -4.8577, -4.9807, -5.1473, -5.1487, -5.2452, -3.1902, -3.374, -3.6014, -3.652, -3.7482, -3.7564, -3.796, -3.8664, -3.9867, -3.9238, -4.0311, -4.2142, -4.2142, -4.2907, -4.3762, -4.3869, -4.3872, -4.3874, -4.493, -2.9003, -4.6133, -4.6133, -4.6133, -4.6133, -4.6133, -4.6133, -4.6133, -4.6133, -4.6133, -5.066, -3.6807, -3.9183, -4.1168, -4.323, -2.4145, -2.952, -3.5277, -3.8473, -3.3363, -4.3634, -4.472, -4.6135, -4.6419, -4.7653, -4.3638, -4.9291, -4.9487, -5.1433, -3.4716, -5.4188, -5.4205, -5.4206, -5.4234, -5.4236, -5.412, -5.8015, -5.8027, -5.8113, -4.4352, -3.5485, -6.0921, -5.476, -6.252, -6.4487, -4.0304, -4.3996, -3.8759, -3.4274, -3.521, -3.9945, -5.0075, -4.9325, -5.0145, -5.091, -5.2708, -3.0449, -3.3114, -3.4263, -3.5748, -3.5297, -3.852, -3.9494, -2.9108, -4.2815, -4.6288, -4.7336, -4.8584, -4.9713, -5.1062, -5.1074, -5.306, -5.306, -5.5488, -5.7112, -5.725, -5.725, -5.7787, -1.9232, -6.1012, -6.171, -3.4459, -2.1246, -3.8502, -7.9876, -7.0514, -5.2678, -3.9462, -4.4282, -4.6129, -5.0218, -2.8651, -3.2805, -3.6499, -2.5139, -4.0468, -4.3284, -4.3287, -4.3408, -4.9267, -5.1201, -5.165, -5.3964, -5.3969, -5.3974, -5.4022, -5.4105, -3.8624, -5.7811, -5.7861, -5.7904, -5.7921, -5.7983, -5.8066, -5.8109, -5.8136, -5.8158, -5.3711, -4.1102, -6.4695, -6.47, -3.5351, -3.5491, -4.8389, -4.9835, -4.5671, -3.5429, -3.5488, -3.7447, -4.2653, -4.4051, -4.6137, -5.3084, -3.4542, -3.6428, -3.7613, -3.8113, -3.9303, -4.0208, -4.2644, -4.2766, -3.6303, -4.3766, -4.3955, -4.5034, -4.504, -4.5056, -4.506, -4.6201, -3.5073, -4.7732, -4.9549, -4.8957, -5.1806, -5.1806, -5.1806, -5.1806, -5.1806, -5.1806, -5.1895, -5.1895, -5.1895, -5.1895, -4.5947, -3.4964, -3.1953, -3.2739, -3.3118, -4.9215, -5.1593, -5.1698, -3.6104, -3.5871, -4.0691, -3.3694, -4.1876, -4.2692, -4.2892, -4.3939, -4.259, -4.5272, -4.5272, -4.68, -4.6802, -4.842, -4.8616, -4.8617, -5.0588, -5.3314, -5.3329, -5.3332, -5.3337, -5.3363, -5.7671, -5.7801, -5.7725, -5.8119, -5.9065, -3.1023, -4.1707, -5.2859, -4.8548, -2.8249, -3.6029, -3.0082, -3.0189, -4.2093, -4.3979, -3.6351, -3.6884, -4.1961, -4.4072, -4.4169, -4.4514, -4.466, -4.8658, -4.8862, -4.8872, -5.1412, -5.1412, -5.1412, -5.1412, -5.1412, -5.1638, -5.1638, -5.1638, -5.1638, -5.1638, -5.1638, -5.1638, -5.1638, -5.1638, -5.1499, -5.3569, -5.3581, -5.3629, -5.7448, -5.7475, -4.2389, -4.7101, -4.122, -2.8096, -2.9339, -3.1686, -3.8303, -4.2171, -3.7335, -4.5174, -4.7349, -4.202, -4.1579, -4.7717, -2.844, -3.2669, -3.9217, -3.9702, -4.0983, -4.1059, -4.2013, -4.2013, -4.2013, -4.2013, -2.8524, -4.3702, -4.4648, -4.6145, -4.7141, -4.7142, -4.7142, -4.7146, -4.8679, -5.0269, -5.0492, -5.0521, -5.2438, -5.3304, -5.3719, -5.3719, -5.3719, -5.4088, -5.4088, -2.9926, -4.1249, -3.3952, -3.3992, -3.972, -3.7904, -4.3249, -4.7447, -3.214, -2.7558, -4.186, -4.526, -4.5418, -4.8765, -4.8766, -4.8774, -5.35, -3.3711, -5.1992, -5.7341, -5.7414, -5.7803, -5.8897, -6.6383, -4.7875, -7.5048, -7.7702, -6.7645, -5.7616, -2.0966, -8.2704, -8.2199, -8.2199, -8.2199, -8.2199, -8.3126, -2.4388, -8.3226, -5.0241, -2.6253, -3.6164, -4.2048, -5.4803, -6.4759, -5.3071, -4.6019, -6.1653, -5.6821, -6.0789, -3.4781, -3.5845, -3.5717, -4.2182, -4.3113, -4.3242, -4.341, -4.4166, -4.4298, -4.7151, -4.8743, -4.8744, -4.8968, -4.9183, -5.1242, -5.1242, -5.1242, -5.1242, -5.1242, -5.1242, -5.1242, -5.1242, -5.1242, -5.1242, -5.2694, -5.3685, -4.8543, -5.7527, -5.7568, -5.7625, -2.8324, -5.4337, -3.5408, -2.9529, -3.0914, -3.9082, -3.3092, -4.0482, -4.0095, -4.7799, -3.2734, -3.5264, -3.3544, -3.8562, -3.9181, -4.0024, -4.0805, -4.1401, -4.2455, -4.2631, -3.4819, -4.3631, -4.581, -4.6005, -4.6423, -4.7538, -4.9352, -4.9354, -4.9355, -4.9359, -5.1814, -5.1813, -5.1813, -5.406, -5.4114, -5.8068, -6.6088, -6.6088, -3.8183, -6.2343, -3.6247, -3.6609, -4.9112, -3.0742, -3.1994, -3.3161, -4.3689, -4.509, -4.4878, -2.8605, -3.6138, -3.6788, -3.9443, -4.0137, -4.15, -4.5427, -4.7072, -4.8773, -4.8775, -4.878, -3.518, -5.1485, -5.1694, -5.2046, -5.3511, -5.3517, -5.3531, -5.3567, -5.361, -5.1574, -5.7328, -5.7358, -5.7401, -5.7479, -5.7676, -5.8129, -6.4062, -6.4213, -6.4375, -4.5422, -4.3249, -4.8725, -2.8372, -2.8645, -3.1074, -3.713, -4.8184, -4.6909, -4.4533, -4.5199, -4.5821, -4.9995, -5.1287, -3.8537, -3.8725, -4.0762, -4.3575, -2.39, -4.7728, -4.931, -4.9527, -5.154, -5.4237, -5.4258, -5.433, -5.8265, -3.7742, -3.095, -5.2179, -3.8204, -2.4658, -2.4781, -8.3889, -3.4167, -8.3908, -8.4172, -8.4376, -8.4004, -8.4309, -8.4395, -8.4528, -8.445, -8.4339, -2.6235, -3.8773, -4.0693, -5.9186, -8.3142, -5.5292, -5.8761, -8.3266, -7.8147, -7.9482, -7.7918, -7.9788, -3.0896, -4.1276, -4.1103, -4.3349, -4.4391, -4.4963, -4.5723, -4.5729, -4.7256, -4.7258, -4.9069, -4.907, -4.907, -4.907, -4.9112, -5.1007, -5.1421, -5.2197, -5.3808, -5.3833, -5.595, -5.595, -5.595, -5.7614, -5.7831, -5.9878, -4.0398, -3.6942, -3.8466, -3.6243, -3.1114, -3.4589, -2.8217, -2.861, -3.244, -3.985, -4.4873, -5.0306, -2.9692, -3.8797, -4.4855, -4.6322, -4.8102, -4.8123, -4.8151, -4.834, -5.0267, -5.3026, -5.3034, -5.3051, -5.9559, -5.9559, -5.9559, -6.7232, -4.9705, -7.096, -4.8909, -6.0397, -4.5923, -7.0151, -7.0151, -7.0151, -7.0151, -7.0151, -2.0557, -6.3357, -7.5662, -2.3782, -3.8951, -2.6202, -3.4177, -3.7586, -4.9785, -5.3043, -5.7148, -6.1325, -3.4923, -3.9006, -4.0297, -4.031, -4.3473, -4.4805, -4.6157, -4.619, -4.6335, -4.8146, -4.8148, -5.0092, -5.2889, -5.2927, -4.9795, -4.2989, -3.9175, -5.0722, -4.388, -3.7598, -7.9545, -7.9545, -7.9545, -7.9545, -8.0889, -8.2273, -5.769, -2.3976, -8.2877, -8.2883, -2.437, -3.4758, -2.6545, -5.5513, -4.8183, -5.6212, -4.7894, -6.5752, -6.374, -6.2943, -3.388, -3.4355, -3.0368, -3.5105, -4.2044, -4.4791, -4.5549, -4.8946, -5.1992, -5.1992, -5.1992, -5.1992, -5.1992, -4.6342, -5.3653, -5.3748, -4.8848, -3.6669, -6.3957, -4.8952, -4.5755, -3.346, -6.381, -7.7922, -7.7922, -6.373, -5.6909, -2.4338, -8.3909, -8.2448, -2.5943, -5.0855, -2.9106, -3.7401, -4.4213, -5.1848, -5.8521, -3.0975, -3.3288, -4.0699, -4.2415, -4.2419, -4.2422, -4.3253, -4.3477, -4.3478, -4.3386, -4.4723, -4.7385, -4.7387, -4.7389, -4.7403, -4.7416, -4.6747, -4.92, -4.9208, -4.9207, -4.922, -5.1169, -5.1495, -5.1495, -5.1745, -5.1745, -5.1745, -5.207, -5.207, -5.207, -3.0006, -3.0785, -3.2386, -4.2096, -4.0481, -4.6822, -4.1549, -4.1823, -4.543, -4.5558, -4.5668, -4.7203, -4.7204, -4.9015, -4.9015, -4.9017, -4.9017, -4.9002, -5.0961, -5.0985, -4.4768, -5.3834, -5.7578, -3.5753, -4.9288, -4.8863, -2.0192, -3.0662, -2.1976, -4.7388, -2.2865, -8.3023, -8.358, -3.956, -8.3757, -8.3757, -8.4023, -8.4158, -8.4159, -8.4041, -4.0668, -6.0856, -4.5916, -8.2659, -8.2726, -5.5403, -6.4306, -6.9339, -7.463, -3.2028, -3.9914, -4.0589, -4.5126, -4.5033, -4.6553, -4.8476, -4.8551, -5.0412, -5.3077, -5.3176, -5.318, -5.3195, -5.7205, -5.7288, -5.7325, -5.9047, -6.2215, -5.3648, -5.1747, -3.7093, -2.0868, -2.2338, -8.1884, -8.2006, -8.2059, -8.2134, -4.8843, -8.2695, -3.297, -2.7886, -5.5809, -4.1, -5.1665, -4.5829, -6.0513, -2.9562, -4.0011, -4.1592, -4.1693, -4.3714, -4.3719, -4.6256, -4.9223, -3.4687, -5.4191, -5.4198, -5.4264, -5.4535, -5.5343, -5.8151, -5.9706, -5.9706, -5.9706, -5.9706, -5.9706, -5.9706, -5.9706, -6.462, -2.1578, -5.2448, -3.1691, -2.3107, -2.3998, -8.3257, -8.3444, -4.9418, -3.9754, -4.7088, -5.5683, -5.5435, -5.6897, -4.0626, -4.0953, -4.2512, -4.3692, -4.4972, -4.6141, -4.7611, -4.9271, -5.3782, -5.8037, -5.9211, -6.304, -2.8022, -1.988, -2.0188, -2.094, -8.1232, -8.145, -8.145, -5.2737, -8.4487, -8.4456, -8.4392, -8.4559, -8.4568, -8.4569, -8.4571, -8.4569, -8.4569, -8.4576, -8.3009, -3.9571, -4.3839, -8.2983, -5.0981, -8.4441, -4.8719, -6.4907, -6.5918, -6.2216, -7.7837, -7.0729, -7.2607, -7.5721, -7.4806, -7.7023, -2.8722, -3.3869, -3.9592, -4.5011, -4.5875, -4.5875, -4.5875, -4.5875, -4.5875, -4.948, -5.2829, -5.2829, -5.4398, -5.1573, -5.8316, -5.3767, -5.8224, -6.2382, -5.3476, -2.153, -2.1829, -3.7708, -8.163, -8.163, -3.5993, -3.2447, -8.2556, -8.2556, -8.2556, -8.2556, -2.507, -4.686, -6.0267, -6.6638, -6.8383, -7.0593, -2.4923, -3.9965, -4.359, -4.7692, -4.9506, -4.9516, -5.1452, -5.4043, -5.4265, -5.4244, -5.4244, -5.4244, -5.4244, -5.4542, -3.0607, -4.2182, -2.0586, -7.8947, -7.8947, -7.8947, -7.8947, -2.2865, -3.8508, -4.1335, -8.3277, -8.3277, -8.3279, -8.3279, -8.3289, -8.329, -2.5117, -3.5306, -8.2089, -5.4281, -5.8393, -5.9071, -6.4482, -7.3327, -7.567, -7.5805, -7.8105, -3.8539, -4.0557, -4.372, -4.4695, -4.5257, -4.744, -4.7451, -4.9059, -4.9258, -4.9257, -4.9268, -5.1808, -5.1808, -5.3969, -5.4003, -5.6655, -5.6655, -5.6655, -5.774, -5.774, -5.774, -5.7529, -5.7529, -5.9518, -5.9518, -5.9896, -6.8667, -4.1648, -3.2358, -5.2103, -2.1896, -2.3821, -2.5828, -3.2181, -4.2293, -3.9171, -4.6228, -5.2113, -5.4137, -5.5967, -3.6467, -3.0902, -4.5881, -4.7523, -5.1285, -5.4046, -5.4266, -5.12, -4.3485, -2.0009, -5.0091, -2.0753, -3.015, -7.864, -2.2319, -3.9805, -7.5723, -3.6893, -8.2602, -8.4046, -8.4031, -8.4366, -8.437, -8.275, -8.4402, -8.4406, -8.4407, -8.4445, -8.4446, -8.4447, -4.3098, -5.7809, -6.02, -5.8924, -6.8512, -7.1518, -7.084, -7.1884, -7.0522, -7.3678, -8.0272, -7.9638, -8.0064, -3.6725, -3.7271, -2.9313, -4.5772, -4.5875, -4.9228, -5.1248, -4.0514, -3.7608, -4.5215, -2.9616, -3.5872, -8.0924, -2.2757, -2.2818, -6.7501, -2.3889, -8.2549, -3.724, -5.1787, -8.3464, -8.3467, -8.3753, -8.4049, -8.4274, -8.4274, -8.4278, -8.4276, -8.4223, -8.4231, -4.3187, -8.2796, -8.2752, -6.1698, -6.8657, -8.4138, -7.4141, -7.486, -7.2825, -7.8872, -7.7683, -7.4969, -7.9492, -8.077, -8.0291, -3.7809, -3.8629, -3.7805, -3.9165, -4.0268, -4.2859, -4.4354, -4.5339, -4.6897, -4.6913, -4.6918, -4.0177, -5.0664, -5.2417, -5.2417, -5.3427, -5.3466, -5.3571, -6.0728, -7.7766, -7.7766, -7.7766, -7.7766, -4.4426, -7.9978, -7.9978, -3.6319, -2.3112, -8.1721, -8.1721, -3.7443, -2.5315, -2.5455, -4.2502, -3.6508, -5.6964, -5.5004, -6.4601, -6.377, -6.315, -4.2305, -4.5358, -4.6105, -4.6689, -4.8222, -4.8223, -5.0036, -5.0039, -5.4522, -5.4967, -5.4967, -5.4967, -5.4967, -2.4072, -6.7929, -1.8467, -2.0377, -2.1227, -3.986, -8.3053, -8.4818, -8.5108, -8.3468, -8.519, -8.5191, -8.5199, -8.52, -8.5201, -8.5201, -8.521, -4.2679, -4.7105, -5.5913, -7.2246, -6.5955, -8.4983, -6.3025, -6.8045, -7.8074, -7.6236, -7.7012, -8.0366, -3.2769, -3.4944, -3.9264, -4.0358, -4.5335, -4.686, -4.8475, -4.8674, -4.8676, -5.0617, -5.0632, -5.3442, -5.3437, -3.8364, -3.6907, -3.8775, -7.8769, -8.033, -8.0578, -5.7562, -2.2529, -2.3113, -3.6577, -8.3242, -8.3281, -8.3514, -8.3423, -8.3405, -8.1956, -8.3615, -2.6687, -4.1261, -5.534, -4.0245, -5.1217, -5.9986, -6.7425, -6.3642, -6.6316, -7.047, -3.724, -4.4469, -4.4587, -4.4589, -4.745, -4.7458, -4.9263, -4.9276, -5.1214, -5.398, -5.4019, -3.3802, -4.1403, -2.5962, -2.0913, -2.122, -4.4599, -2.3965, -4.1636, -8.4181, -8.4189, -8.4186, -8.4206, -8.4208, -8.4091, -8.269, -8.3995, -8.3995, -8.4352, -8.4354, -8.4246, -8.2856, -5.8696, -4.838, -6.0572, -4.8433, -7.1142, -7.0413, -6.9776, -7.4676, -7.675, -8.0016, -8.1383, -8.0267, -3.9443, -4.4856, -4.5427, -4.7719, -4.9366, -4.9525, -4.9527, -4.9527, -4.8531, -5.2876, -5.3252, -5.3252, -5.3252, -5.4264, -5.4401, -3.4399, -5.7511, -6.509, -4.6177, -5.0425, -4.8808, -1.9801, -2.9375, -2.1854, -2.1889, -8.3053, -8.3053, -8.4081, -8.4081, -6.142, -4.8675, -5.4944, -4.6609, -5.031, -6.232, -3.3606, -4.016, -4.4819, -4.5142, -4.6157, -4.7514, -4.7683, -5.1452, -5.1486, -5.6695, -5.6695, -6.9001, -6.9001, -3.3148, -1.908, -2.8577, -2.129, -2.2123, -5.341, -5.6292, -6.4261, -8.2325, -8.4497, -8.4508, -8.465, -8.465, -8.4651, -8.4651, -8.4659, -8.4658, -7.6084, -8.455, -4.5857, -7.6727, -6.1428, -8.3381, -5.0742, -6.9161, -7.5536, -7.5789, -7.4163, -7.6618, -4.0044, -4.1635, -4.7561, -2.9884, -4.9155, -4.9164, -4.9371, -4.9387, -5.4103, -5.406, -5.406, -5.4233, -5.4233, -5.9103, -5.9103, -5.9103, -5.9103, -4.9927, -3.2093, -2.031, -6.2441, -4.4415, -3.1186, -3.7365, -4.9064, -2.4035, -2.4097, -8.1916, -4.2118, -8.3684, -8.2669, -6.5027, -7.6963, -7.2433, -7.1928], \"loglift\": [30.0, 29.0, 28.0, 27.0, 26.0, 25.0, 24.0, 23.0, 22.0, 21.0, 20.0, 19.0, 18.0, 17.0, 16.0, 15.0, 14.0, 13.0, 12.0, 11.0, 10.0, 9.0, 8.0, 7.0, 6.0, 5.0, 4.0, 3.0, 2.0, 1.0, 3.1976, 3.1939, 3.1707, 3.1618, 3.1389, 3.1176, 3.109, 3.1076, 2.9139, 2.8424, 2.7589, 2.758, 2.75, 2.6765, 2.6597, 2.657, 2.6229, 2.6229, 2.6229, 2.6229, 2.6229, 2.5033, 2.503, 2.5015, 2.5001, 2.4995, 2.4909, 2.4758, 2.3668, 2.2537, 1.697, 1.3511, 0.1672, -1.1686, -1.4358, -1.737, -1.3957, -1.1339, -0.2753, -1.1193, -0.1221, 3.291, 3.2758, 3.2349, 3.2267, 3.2065, 3.2031, 3.1964, 3.1812, 3.1514, 3.1083, 3.0999, 3.0887, 3.0886, 3.0649, 3.0363, 3.0333, 3.033, 3.0328, 2.9963, 2.9928, 2.951, 2.951, 2.951, 2.951, 2.951, 2.951, 2.951, 2.951, 2.951, 2.7489, -1.0942, -0.4563, -1.5305, -1.7374, 3.3638, 3.3201, 3.2523, 3.1897, 3.0818, 3.0461, 3.0052, 2.9557, 2.9, 2.885, 2.8471, 2.8186, 2.8108, 2.7134, 2.6884, 2.5605, 2.5592, 2.5592, 2.557, 2.5568, 2.4524, 2.3176, 2.3168, 2.3103, 2.2478, 2.2042, 2.1079, 2.0402, 1.9846, 1.8365, 1.7069, 1.5884, 1.1647, -0.8409, -0.9347, -1.4088, 0.0463, -0.6525, -1.1677, -1.6289, -0.3989, 3.3164, 3.2949, 3.2707, 3.2598, 3.2468, 3.2008, 3.1787, 3.1193, 3.0819, 2.9567, 2.9145, 2.859, 2.8056, 2.7372, 2.7361, 2.6289, 2.6287, 2.4829, 2.3741, 2.3646, 2.3646, 2.3322, 2.1061, 2.0889, 2.0498, 2.012, 1.7221, 1.6229, 0.4538, 0.1083, -0.1448, -1.3598, -1.8419, -2.0272, -1.5597, 3.3439, 3.2546, 3.2526, 3.2314, 3.1579, 3.0744, 3.0741, 3.0706, 2.8233, 2.7379, 2.6931, 2.5841, 2.5837, 2.5832, 2.5794, 2.5713, 2.4343, 2.3395, 2.3345, 2.3325, 2.3317, 2.3272, 2.3216, 2.3186, 2.3166, 2.3152, 2.1239, 1.8632, 1.8244, 1.824, 1.7514, 1.574, 1.5148, 1.4134, 0.8908, -0.9566, -0.9623, -1.159, -0.4185, -0.9431, -0.5843, -0.4365, 3.3298, 3.2935, 3.2636, 3.2553, 3.2255, 3.2023, 3.1286, 3.1242, 3.112, 3.0854, 3.0754, 3.0435, 3.0433, 3.0426, 3.0422, 2.9969, 2.9748, 2.9312, 2.8454, 2.8151, 2.7274, 2.7274, 2.7274, 2.7274, 2.7274, 2.7274, 2.7224, 2.7224, 2.7224, 2.7224, 1.8234, -0.0344, -0.6091, -0.6883, -0.7253, -1.0748, -0.8792, 0.9443, 3.2889, 3.266, 3.1889, 3.177, 3.1527, 3.1259, 3.1229, 3.0864, 3.0767, 3.0365, 3.0364, 2.9744, 2.9744, 2.9007, 2.8931, 2.893, 2.7939, 2.6441, 2.643, 2.6427, 2.6425, 2.6403, 2.3649, 2.3559, 2.3494, 2.3333, 2.2651, 2.0208, 1.9893, 1.3228, 1.1752, -0.2387, 0.2439, -0.4225, -0.4324, -0.7473, -0.3685, 3.295, 3.163, 3.1585, 3.085, 3.076, 3.0664, 3.0535, 2.894, 2.8854, 2.8844, 2.7513, 2.7513, 2.7513, 2.7513, 2.7513, 2.7406, 2.7406, 2.7406, 2.7406, 2.7406, 2.7406, 2.7406, 2.7406, 2.7406, 2.7172, 2.6318, 2.6308, 2.6259, 2.383, 2.3811, 2.2432, 2.241, 1.771, -0.2231, -0.3477, -0.5829, 0.4498, 1.0695, 0.1133, 1.4706, 1.662, -0.1726, -0.6958, 0.2689, 3.4235, 3.2716, 3.2369, 3.2263, 3.1891, 3.188, 3.1584, 3.1584, 3.1584, 3.1584, 3.1284, 3.1015, 3.0659, 3.0058, 2.9647, 2.9647, 2.9647, 2.9642, 2.8941, 2.8147, 2.8035, 2.8002, 2.6964, 2.6391, 2.62, 2.62, 2.62, 2.5943, 2.5943, 2.5861, 1.854, -0.8088, -0.813, 0.0573, -1.2047, -0.4782, -1.2827, 3.375, 3.3615, 3.1654, 3.0449, 3.039, 2.893, 2.8928, 2.8919, 2.6376, 2.6169, 2.571, 2.3918, 2.387, 2.3595, 2.2807, 1.6669, 0.7912, 0.6862, 0.6603, 0.5345, 0.5034, 0.4897, 0.1918, 0.1813, 0.1813, 0.1813, 0.1813, 0.1509, 0.1476, 0.1411, 0.099, -0.0396, -0.1544, -0.358, -0.1937, -0.079, -0.2665, -0.5725, -0.2722, -0.8101, -1.7988, 3.3519, 3.3318, 3.1683, 3.1658, 3.1346, 3.1303, 3.1142, 3.0955, 3.0912, 2.9756, 2.9017, 2.9016, 2.891, 2.8591, 2.7735, 2.7735, 2.7735, 2.7735, 2.7735, 2.7735, 2.7735, 2.7735, 2.7735, 2.7735, 2.6889, 2.6324, 2.4234, 2.3837, 2.3808, 2.3767, 2.0396, 2.273, 0.4886, -0.3664, -0.5051, 0.3719, -0.7235, -0.2015, -0.5474, 0.3432, 3.3825, 3.3294, 3.3277, 3.2703, 3.2539, 3.2307, 3.1892, 3.1684, 3.1566, 3.1466, 3.1268, 3.1163, 3.0273, 3.0244, 2.9975, 2.958, 2.8718, 2.8717, 2.8717, 2.8712, 2.7412, 2.7409, 2.7409, 2.6096, 2.6054, 2.345, 1.6692, 1.6692, 1.6396, 1.5524, 1.4159, 0.6192, 1.0697, -0.4877, -0.6131, -0.7304, -0.9068, -0.4796, -0.6411, 3.4364, 3.3284, 3.3143, 3.2493, 3.2243, 3.149, 3.0503, 2.9766, 2.9024, 2.9023, 2.9019, 2.8358, 2.7611, 2.7491, 2.7281, 2.6445, 2.6432, 2.6426, 2.6403, 2.6356, 2.6293, 2.3987, 2.3966, 2.3935, 2.3881, 2.3736, 2.3417, 1.891, 1.8786, 1.8653, 1.5719, 1.2538, 1.0206, -0.251, -0.278, -0.5217, -0.2509, 0.9344, 0.4322, -0.1732, -0.6732, -0.5528, 0.0412, -0.075, 3.276, 3.2748, 3.2138, 3.1232, 3.083, 2.9541, 2.8785, 2.8682, 2.7575, 2.6027, 2.6003, 2.5931, 2.334, 1.963, 1.9456, 0.7267, 0.4596, 0.1199, 0.1084, 0.0469, 0.0453, 0.0442, 0.0384, 0.0288, 0.0186, 0.0174, 0.0159, 0.0133, 0.0107, 0.0025, -0.0372, -0.0306, -0.0399, -0.4607, -0.0066, -0.6573, -0.5895, -0.0258, -1.8338, -1.4661, -2.6687, -2.925, 3.4091, 3.1995, 3.1749, 3.135, 3.0967, 3.0701, 3.0439, 3.0434, 2.9781, 2.978, 2.8927, 2.8926, 2.8926, 2.8926, 2.8885, 2.7921, 2.7693, 2.7241, 2.6299, 2.6275, 2.4796, 2.4796, 2.4796, 2.3814, 2.3658, 2.2114, 1.418, 1.3464, 1.2765, 1.2477, 0.7353, 0.5705, -0.2354, -0.2745, -0.6583, -0.523, -0.2072, 1.1909, 3.4421, 3.2694, 3.0775, 3.02, 2.9402, 2.9382, 2.9355, 2.9284, 2.8326, 2.6791, 2.6785, 2.677, 2.227, 2.227, 2.227, 1.627, 1.3262, 1.2983, 1.097, 0.7025, 0.6943, 0.5747, 0.5747, 0.5747, 0.5747, 0.5747, 0.5306, 0.3468, 0.2918, 0.2075, 0.1342, -0.0337, 0.0444, 0.0881, 0.1446, -1.0242, -0.661, -1.0918, 3.3606, 3.2423, 3.2344, 3.2332, 3.1319, 3.0822, 3.0269, 3.0239, 3.0201, 2.9391, 2.9389, 2.8423, 2.6872, 2.6827, 2.2571, 0.9876, 0.9544, 0.6806, 0.6657, 0.5203, 0.441, 0.441, 0.441, 0.441, 0.3525, 0.2254, 0.2119, 0.1887, 0.1781, 0.1776, 0.1487, -0.0138, -0.068, 0.0275, -0.7889, -0.4981, -0.9427, -0.1782, -0.3861, -0.8364, 3.3727, 3.3668, 3.3649, 3.3394, 3.1803, 3.0784, 3.0455, 2.8995, 2.7362, 2.7362, 2.7362, 2.7362, 2.7362, 2.6435, 2.6406, 2.6319, 1.6617, 1.6197, 1.4688, 1.2189, 1.1698, 0.9341, 0.6552, 0.3215, 0.3215, 0.3095, 0.2537, 0.1524, 0.0646, 0.0628, -0.0086, -0.0449, -0.3241, -0.278, -0.5746, -1.1554, -0.9802, 3.398, 3.3653, 3.2231, 3.1688, 3.1684, 3.1681, 3.1379, 3.132, 3.1319, 3.1243, 3.0854, 2.9736, 2.9735, 2.9733, 2.972, 2.9705, 2.9354, 2.8873, 2.8866, 2.8865, 2.8854, 2.783, 2.7662, 2.7662, 2.7516, 2.7516, 2.7516, 2.7327, 2.7327, 2.7327, -0.4143, -0.492, -0.6529, 0.831, -0.0187, 1.2987, -0.3082, -0.7202, -0.263, 3.0513, 3.0501, 2.9841, 2.9839, 2.8986, 2.8986, 2.8985, 2.8984, 2.8878, 2.7973, 2.795, 2.7599, 2.6277, 2.3858, 2.1619, 1.1853, 1.0871, 0.5665, 0.3958, 0.3887, 0.3842, 0.3, 0.1503, 0.0952, 0.0734, 0.0607, 0.0607, 0.0517, 0.0513, 0.0513, 0.0509, -0.2201, -0.1047, -0.3115, 0.035, 0.035, -0.6684, -0.486, -0.537, -1.8843, 3.3119, 3.2457, 3.2256, 3.0735, 3.0732, 3.0098, 2.9262, 2.9194, 2.8284, 2.674, 2.6726, 2.6723, 2.6711, 2.4129, 2.4069, 2.4044, 2.2792, 2.034, 0.7952, 0.5781, 0.5707, 0.4989, 0.3527, 0.2725, 0.2608, 0.2558, 0.2485, 0.2387, 0.1847, 0.1651, -0.2023, -0.0022, -0.2533, -0.1258, -0.5535, -0.7647, 3.3088, 3.2462, 3.1982, 3.1954, 3.1264, 3.1259, 2.987, 2.8876, 2.6454, 2.608, 2.6072, 2.6026, 2.5817, 2.5286, 2.3447, 2.2058, 2.2058, 2.2058, 2.2058, 2.2058, 2.2058, 2.2058, 1.8385, 0.4287, 0.3339, 0.2929, 0.2756, 0.1858, 0.1367, 0.0706, -0.0698, -0.1287, -0.6794, -0.5276, -1.2635, -0.2318, 3.2266, 3.1988, 3.1687, 3.1272, 3.0645, 3.0264, 2.9652, 2.882, 2.6299, 2.353, 2.2544, 1.9682, 0.6599, 0.5982, 0.5677, 0.4917, 0.2994, 0.2672, 0.2672, 0.1842, 0.0179, 0.0166, 0.0158, 0.0113, 0.0101, 0.0101, 0.01, 0.01, 0.01, 0.0094, 0.0067, -0.1104, -0.1038, 0.0026, -0.2262, 0.0091, -0.8425, -0.5461, -0.6183, -1.0986, -0.3285, -1.4942, -2.22, -1.542, -2.1941, -1.9495, 3.4563, 3.3826, 3.2582, 3.0764, 3.0023, 3.0023, 3.0023, 3.0023, 3.0023, 2.8738, 2.6894, 2.6894, 2.5957, 2.48, 2.3327, 2.33, 2.3271, 2.0207, 0.8124, 0.4335, 0.4028, 0.2585, 0.2492, 0.2492, 0.2474, 0.2174, 0.1456, 0.1456, 0.1456, 0.1456, 0.0793, -0.4059, -0.5689, -0.6759, -1.2596, -2.1873, 3.2461, 3.2429, 3.1267, 2.9621, 2.8742, 2.8733, 2.7703, 2.6136, 2.6032, 2.6003, 2.6003, 2.6003, 2.6003, 2.5746, 0.7861, 0.6537, 0.5271, 0.5008, 0.5008, 0.5008, 0.5008, 0.3, 0.1786, 0.1466, 0.1066, 0.1066, 0.1065, 0.1065, 0.1055, 0.1055, 0.0746, -0.0685, 0.092, -0.305, -0.5528, -0.8665, -1.3945, -1.8597, -1.5881, -2.1226, -0.7726, 3.276, 3.2298, 3.1058, 3.0825, 3.0629, 2.9744, 2.9732, 2.8959, 2.8873, 2.8873, 2.8864, 2.7507, 2.7507, 2.6234, 2.6209, 2.4385, 2.4385, 2.4385, 2.3624, 2.3624, 2.3624, 2.3608, 2.3608, 2.2207, 2.2207, 2.2149, 1.4927, 1.4139, 1.0443, 0.9038, 0.3969, 0.2042, 0.0029, 0.244, 0.6427, -0.0704, -0.5934, 0.0753, -0.373, -0.4736, 3.3067, 3.1312, 3.0394, 2.9707, 2.7802, 2.6187, 2.2107, 1.2338, 1.1094, 0.5856, 0.5697, 0.5103, 0.447, 0.4412, 0.3543, 0.2995, 0.2051, 0.1575, 0.0474, 0.0398, 0.0325, 0.0279, 0.0276, 0.0259, 0.0227, 0.0221, 0.022, 0.0192, 0.0192, 0.0192, -0.2804, -0.6579, -0.7334, -1.0204, -0.8723, -0.8868, -1.3312, -1.2954, -1.5791, -1.2078, -1.7304, -2.91, -2.9658, 3.3141, 3.3108, 3.0476, 3.0439, 3.0431, 2.8891, 2.7793, 2.2453, 2.1837, 1.2312, 0.5005, 0.4422, 0.3345, 0.31, 0.3044, 0.2032, 0.1976, 0.1677, 0.1227, 0.1079, 0.0888, 0.0885, 0.0786, 0.0479, 0.0391, 0.0391, 0.0387, 0.0387, 0.0331, 0.0317, -0.0387, 0.0279, 0.0256, -1.2978, -1.1272, 0.0228, -1.4406, -1.7407, -2.1595, -1.0849, -1.5032, -2.4432, -1.7402, -1.8048, -2.4504, 3.3039, 3.286, 3.2557, 3.2432, 3.2399, 3.1594, 3.1046, 3.0579, 3.0005, 2.999, 2.9985, 2.9334, 2.8153, 2.7153, 2.7153, 2.6581, 2.6551, 2.6437, 2.1529, 0.6246, 0.6246, 0.6246, 0.6246, 0.4294, 0.4284, 0.4284, 0.3974, 0.2751, 0.2234, 0.2234, 0.1024, 0.0542, 0.041, 0.0298, -0.1888, 0.0489, -0.3774, -0.4866, -0.6386, -0.8571, 3.176, 3.0643, 3.0221, 3.008, 2.9379, 2.9379, 2.8475, 2.8473, 2.5836, 2.5517, 2.5517, 2.5517, 2.5517, 1.0548, 0.9179, 0.739, 0.5485, 0.4638, 0.2941, 0.0023, -0.0266, -0.0442, -0.046, -0.0518, -0.0519, -0.053, -0.0531, -0.0532, -0.0532, -0.054, -0.4212, -0.6811, -0.7193, -0.4823, -0.8571, -0.0625, -1.2619, -1.3466, -1.3118, -2.5698, -2.4146, -1.6753, 3.4102, 3.3693, 3.2706, 3.2181, 3.0677, 3.0037, 2.9276, 2.9194, 2.9192, 2.8196, 2.8182, 2.6574, 2.6567, 1.9164, 1.35, 0.9944, 0.5421, 0.4219, 0.398, 0.3579, 0.3328, 0.2749, 0.1891, 0.1314, 0.1257, 0.1148, 0.1138, 0.1132, 0.1053, 0.1043, -0.0822, -0.0967, -0.0761, -0.5625, -0.8416, -0.8755, -0.7691, -1.0776, -1.1586, -1.9932, 3.3205, 3.1009, 3.0979, 3.0977, 2.977, 2.9763, 2.8899, 2.8888, 2.7864, 2.6248, 2.6215, 2.357, 1.8332, 0.8658, 0.495, 0.4637, 0.4121, 0.19, 0.1164, 0.0479, 0.0471, 0.047, 0.0451, 0.0448, 0.0438, 0.0386, 0.0369, 0.0369, 0.0309, 0.0307, 0.0304, 0.0152, -0.2909, -0.8086, -0.5841, -0.9966, -1.0842, -1.7547, -1.9369, -1.4887, -2.2171, -1.6046, -1.0535, -2.0821, 3.2671, 3.0869, 3.0626, 2.9641, 2.8809, 2.8766, 2.8765, 2.8764, 2.8673, 2.6894, 2.6652, 2.6652, 2.6652, 2.6066, 2.5928, 2.5336, 2.3801, 1.782, 1.679, 1.3113, 1.0981, 0.6064, 0.5246, 0.4003, 0.3973, 0.1295, 0.1295, 0.0273, 0.0273, 0.018, 0.0044, -0.3714, -0.8141, -1.0016, -0.6533, 3.3985, 3.2495, 3.0908, 3.0757, 3.0353, 2.9746, 2.9679, 2.7742, 2.7709, 2.4384, 2.4384, 1.3871, 1.3871, 0.9652, 0.6785, 0.6044, 0.4567, 0.374, 0.1169, 0.1093, 0.0886, 0.0751, 0.0057, 0.0045, 0.0022, 0.0022, 0.0021, 0.0021, 0.0011, 0.001, -0.0666, -0.0001, -0.5563, -0.111, -0.6697, -0.0373, -1.2275, -0.886, -1.3321, -1.6343, -2.3757, -2.608, 3.2576, 3.209, 2.9776, 2.9562, 2.9002, 2.8992, 2.8897, 2.8882, 2.6205, 2.619, 2.619, 2.6077, 2.6077, 2.2661, 2.2661, 2.2661, 2.2661, 1.7473, 0.6375, 0.5547, 0.4384, 0.4305, 0.3434, 0.2929, 0.2167, 0.1828, 0.1768, 0.1093, 0.0682, 0.0542, 0.0407, -0.924, -0.5664, -1.2698, -2.1522]}, \"token.table\": {\"Topic\": [10, 17, 31, 16, 15, 6, 10, 19, 11, 8, 6, 5, 4, 3, 11, 2, 3, 29, 9, 9, 35, 11, 15, 25, 9, 4, 16, 3, 9, 12, 17, 19, 20, 1, 6, 16, 19, 19, 33, 23, 27, 12, 30, 29, 19, 19, 11, 35, 32, 6, 11, 21, 26, 10, 29, 8, 10, 23, 1, 35, 6, 17, 12, 7, 5, 8, 7, 33, 18, 13, 7, 31, 6, 8, 1, 2, 3, 4, 5, 6, 7, 8, 9, 10, 11, 12, 13, 14, 15, 16, 17, 18, 19, 20, 21, 22, 23, 24, 25, 26, 27, 28, 29, 30, 31, 32, 33, 34, 35, 3, 4, 5, 6, 12, 14, 15, 32, 34, 9, 2, 6, 19, 22, 25, 26, 34, 3, 1, 11, 15, 19, 27, 19, 15, 12, 31, 25, 1, 8, 9, 10, 13, 17, 21, 22, 26, 27, 32, 1, 4, 5, 7, 8, 11, 12, 14, 15, 22, 23, 24, 27, 31, 34, 29, 11, 5, 16, 20, 31, 4, 26, 32, 2, 3, 16, 22, 16, 35, 28, 25, 26, 18, 8, 3, 20, 8, 19, 11, 29, 19, 20, 14, 29, 16, 22, 2, 19, 25, 9, 14, 1, 3, 19, 8, 2, 18, 26, 13, 4, 31, 1, 2, 3, 4, 5, 6, 7, 8, 9, 10, 11, 12, 13, 14, 15, 16, 17, 18, 19, 20, 21, 22, 23, 24, 25, 26, 27, 28, 29, 30, 31, 32, 34, 35, 13, 15, 18, 22, 15, 9, 7, 5, 34, 31, 8, 19, 5, 34, 1, 1, 2, 3, 4, 5, 6, 7, 8, 9, 10, 11, 12, 13, 14, 15, 16, 17, 18, 19, 20, 21, 22, 23, 24, 25, 26, 27, 28, 29, 30, 31, 32, 33, 34, 35, 35, 12, 5, 21, 7, 18, 6, 24, 3, 14, 20, 32, 29, 26, 24, 5, 10, 8, 6, 10, 9, 10, 2, 11, 1, 2, 3, 4, 5, 6, 7, 8, 9, 10, 11, 12, 13, 14, 15, 16, 17, 18, 19, 20, 21, 22, 23, 24, 25, 26, 27, 28, 29, 30, 31, 32, 33, 34, 35, 1, 3, 5, 8, 13, 16, 17, 19, 11, 1, 16, 2, 15, 25, 7, 3, 5, 7, 12, 21, 24, 33, 33, 18, 35, 4, 26, 20, 30, 9, 2, 8, 22, 10, 18, 21, 24, 2, 8, 7, 8, 12, 30, 11, 19, 13, 15, 6, 4, 26, 21, 12, 19, 15, 18, 3, 32, 33, 9, 22, 24, 17, 22, 12, 1, 8, 9, 19, 8, 30, 30, 9, 21, 4, 25, 15, 22, 19, 12, 19, 16, 17, 13, 3, 35, 15, 26, 2, 8, 10, 13, 32, 7, 17, 20, 14, 26, 1, 3, 5, 11, 13, 17, 21, 28, 31, 8, 3, 5, 6, 8, 9, 10, 12, 13, 14, 15, 16, 18, 19, 21, 22, 25, 26, 31, 14, 7, 4, 7, 15, 8, 11, 13, 1, 9, 27, 32, 6, 8, 3, 3, 12, 22, 31, 1, 13, 4, 1, 2, 3, 4, 5, 7, 8, 9, 10, 11, 12, 13, 14, 15, 16, 17, 18, 19, 20, 21, 22, 23, 24, 25, 26, 27, 28, 29, 30, 31, 32, 33, 34, 35, 23, 30, 4, 24, 24, 1, 2, 3, 4, 5, 6, 7, 8, 9, 10, 11, 12, 13, 14, 15, 16, 17, 18, 19, 20, 21, 22, 23, 24, 25, 26, 27, 28, 29, 30, 31, 32, 33, 34, 35, 32, 18, 8, 29, 3, 2, 11, 3, 20, 33, 13, 15, 12, 7, 26, 34, 5, 35, 26, 28, 35, 11, 9, 5, 32, 24, 22, 11, 2, 26, 17, 2, 20, 29, 34, 3, 1, 13, 31, 34, 9, 7, 35, 19, 9, 4, 2, 2, 26, 11, 24, 18, 23, 1, 21, 12, 29, 16, 9, 18, 28, 33, 12, 18, 25, 2, 2, 21, 9, 29, 7, 34, 4, 12, 1, 5, 6, 8, 2, 2, 7, 25, 33, 35, 1, 7, 14, 18, 28, 35, 4, 12, 6, 19, 26, 3, 14, 15, 7, 3, 6, 7, 8, 10, 16, 19, 4, 31, 11, 30, 11, 8, 17, 5, 30, 6, 6, 9, 19, 15, 9, 14, 5, 5, 18, 29, 24, 22, 13, 24, 26, 28, 31, 2, 11, 4, 13, 15, 7, 19, 11, 7, 12, 6, 29, 9, 5, 11, 20, 32, 33, 26, 11, 1, 2, 5, 8, 10, 12, 13, 14, 16, 17, 18, 21, 25, 26, 27, 28, 1, 10, 22, 16, 28, 1, 26, 17, 9, 2, 17, 4, 2, 3, 33, 19, 15, 10, 22, 11, 8, 13, 13, 5, 10, 21, 11, 12, 1, 22, 33, 32, 23, 3, 14, 30, 30, 2, 1, 3, 7, 8, 19, 12, 13, 11, 29, 8, 14, 34, 1, 2, 3, 4, 5, 6, 7, 8, 9, 10, 11, 12, 13, 14, 15, 16, 17, 18, 19, 20, 21, 22, 23, 24, 25, 26, 27, 28, 29, 30, 31, 32, 33, 34, 35, 22, 6, 12, 34, 8, 15, 12, 13, 4, 11, 18, 15, 19, 33, 16, 22, 26, 7, 20, 8, 21, 11, 27, 15, 19, 29, 5, 19, 1, 19, 16, 24, 5, 25, 6, 25, 15, 8, 16, 6, 20, 8, 26, 1, 14, 6, 2, 35, 29, 31, 23, 33, 17, 9, 16, 6, 8, 9, 18, 21, 4, 17, 8, 10, 23, 6, 29, 9, 9, 6, 9, 11, 29, 8, 24, 33, 26, 10, 15, 7, 23, 3, 22, 25, 19, 13, 16, 33, 21, 26, 33, 35, 35, 33, 11, 30, 10, 13, 8, 30, 30, 10, 3, 6, 13, 24, 13, 5, 32, 9, 33, 15, 17, 5, 13, 17, 5, 16, 28, 33, 2, 8, 1, 9, 21, 3, 12, 21, 14, 13, 13, 8, 34, 17, 6, 13, 18, 20, 22, 26, 31, 32, 3, 31, 20, 1, 5, 27, 1, 18, 19, 24, 20, 7, 11, 26, 35, 19, 12, 6, 24, 27, 13, 8, 12, 13, 6, 22, 6, 22, 35, 5, 28, 26, 18, 3, 11, 13, 19, 21, 15, 34, 27, 6, 12, 2, 26, 29, 7, 11, 4, 35, 1, 4, 5, 6, 7, 8, 10, 11, 12, 13, 15, 16, 17, 18, 19, 20, 21, 22, 23, 25, 26, 27, 29, 31, 33, 35, 1, 2, 3, 5, 6, 10, 11, 14, 15, 17, 18, 19, 20, 22, 23, 25, 26, 27, 28, 29, 30, 31, 32, 33, 35, 2, 21, 7, 1, 13, 8, 32, 29, 12, 19, 2, 33, 7, 6, 12, 15, 15, 7, 28, 23, 4, 21, 5, 1, 6, 2, 3, 3, 1, 6, 3, 14, 20, 1, 6, 2, 2, 1, 7, 1, 26, 15, 13, 3, 25, 20, 20, 23, 23, 8, 5, 5, 12, 25, 7, 6, 1, 5, 5, 2, 1, 7, 18, 31, 26, 5, 1, 22, 18, 6, 8, 22, 24, 4, 21, 34, 4, 7, 8, 11, 5, 12, 22, 15, 9, 4, 3, 5, 13, 27, 33, 14, 12, 21, 11, 24, 4, 1, 17, 13], \"Freq\": [0.8770356699020565, 0.8304888978998912, 0.6201004597438818, 0.5155634022116714, 0.39895756517334774, 0.5354290887095507, 0.3707567485397632, 0.5392578160537135, 0.5287921504431273, 0.5941783600084971, 0.5963335865493444, 0.37208509134931, 0.799456446697914, 0.39924096564310024, 0.3751294419759937, 0.8472816917108089, 0.3691752669455237, 0.31315722016013203, 0.8671595679312676, 0.32791988970464697, 0.3371467719374071, 0.5683390326488746, 0.5350744705876055, 0.5863705542459906, 0.7318550404058296, 0.306234652353909, 0.3209681213546117, 0.36837914053008786, 0.6510382011742432, 0.0868050934898991, 0.04340254674494955, 0.0868050934898991, 0.04340254674494955, 0.0929355712990486, 0.6505489990933402, 0.0929355712990486, 0.5391527467637525, 0.3036200110175965, 0.5511421988010146, 0.3823765496994752, 0.4956246341757314, 0.33242971915506786, 0.5633848966001739, 0.651962637089682, 0.5915224777806284, 0.5828993859989516, 0.649072091858905, 0.18544916910254428, 0.5441206278401303, 0.62419000595163, 0.5635245990969397, 0.3237039664609409, 0.542301138760801, 0.5191436026061818, 0.6190847446967471, 0.2597871357922198, 0.2597871357922198, 0.645539969621456, 0.7003402571728108, 0.6981469684429573, 0.7026922096761996, 0.582583308722284, 0.6739778872970019, 0.3193219182879359, 0.32061405778250174, 0.5871309758174794, 0.3189892878301553, 0.5021324844970851, 0.7067170845101806, 0.47652672353164643, 0.5832194535420016, 0.7322391868059751, 0.10365512366458475, 0.7255858656520933, 0.010272923553153686, 0.005136461776576843, 0.010272923553153686, 0.17463970040361265, 0.02054584710630737, 0.010272923553153686, 0.0359552324360379, 0.030818770659461057, 0.015409385329730529, 0.02054584710630737, 0.025682308882884215, 0.015409385329730529, 0.015409385329730529, 0.025682308882884215, 0.05650107954234527, 0.030818770659461057, 0.010272923553153686, 0.015409385329730529, 0.02054584710630737, 0.02054584710630737, 0.02054584710630737, 0.025682308882884215, 0.025682308882884215, 0.0359552324360379, 0.061637541318922115, 0.025682308882884215, 0.030818770659461057, 0.030818770659461057, 0.030818770659461057, 0.02054584710630737, 0.0359552324360379, 0.010272923553153686, 0.010272923553153686, 0.010272923553153686, 0.05136461776576843, 0.026120039608602028, 0.15672023765161217, 0.026120039608602028, 0.026120039608602028, 0.026120039608602028, 0.6007609109978466, 0.026120039608602028, 0.026120039608602028, 0.026120039608602028, 0.6412336161841752, 0.034059791227169664, 0.034059791227169664, 0.034059791227169664, 0.034059791227169664, 0.715255615770563, 0.034059791227169664, 0.034059791227169664, 0.3205489260215328, 0.3259678473628948, 0.05520849303723248, 0.11041698607446496, 0.05520849303723248, 0.6625019164467897, 0.5392387628489527, 0.6672089434170406, 0.30245117836158947, 0.3274135201516591, 0.4997417686017163, 0.029031376344222155, 0.029031376344222155, 0.37740789247488804, 0.05806275268844431, 0.08709412903266647, 0.029031376344222155, 0.029031376344222155, 0.029031376344222155, 0.11612550537688862, 0.05806275268844431, 0.029031376344222155, 0.025726463157553437, 0.23153816841798092, 0.07717938947266031, 0.025726463157553437, 0.025726463157553437, 0.025726463157553437, 0.15435877894532063, 0.025726463157553437, 0.10290585263021375, 0.025726463157553437, 0.025726463157553437, 0.025726463157553437, 0.07717938947266031, 0.025726463157553437, 0.025726463157553437, 0.4796677213958189, 0.6074585837495537, 0.5091730888320657, 0.39250952934753863, 0.6620521163363517, 0.6581800410357871, 0.30627843280333017, 0.3746495028046323, 0.6294645299124668, 0.5884796098640607, 0.5665162635806681, 0.3210233394830116, 0.3899876536038311, 0.32109644511246543, 0.549895545984667, 0.7494212803295728, 0.5487110596934558, 0.3052532455553014, 0.30642737362311784, 0.3717472908285451, 0.5079973585871316, 0.5876811654722647, 0.5941783600084971, 0.7250573479097031, 0.5233081369385453, 0.6978700675394398, 0.4902468254648439, 0.5353805590590341, 0.29920553054183324, 0.5631669749399113, 0.5094032263693714, 0.33584480579060294, 0.6864408707016523, 0.49029192215573764, 0.33504207046180434, 0.3079429826804468, 0.38379961087426245, 0.14849385613396188, 0.5939754245358475, 0.3036200110175965, 0.5941783600084971, 0.634332807522454, 0.30642737362311784, 0.3884260999053002, 0.3254642600840716, 0.49281311160395064, 0.5221191622826459, 0.03961245606380487, 0.007922491212760974, 0.015844982425521948, 0.007922491212760974, 0.007922491212760974, 0.015844982425521948, 0.007922491212760974, 0.04753494727656584, 0.007922491212760974, 0.007922491212760974, 0.03961245606380487, 0.05545743848932682, 0.02376747363828292, 0.04753494727656584, 0.02376747363828292, 0.007922491212760974, 0.04753494727656584, 0.07130242091484876, 0.02376747363828292, 0.02376747363828292, 0.04753494727656584, 0.007922491212760974, 0.02376747363828292, 0.015844982425521948, 0.031689964851043896, 0.07922491212760974, 0.03961245606380487, 0.02376747363828292, 0.031689964851043896, 0.03961245606380487, 0.015844982425521948, 0.031689964851043896, 0.07130242091484876, 0.031689964851043896, 0.37318595763750634, 0.6681444186966657, 0.30642737362311784, 0.38354434149186717, 0.5350697004154532, 0.4741917906414466, 0.31910827896508237, 0.3209115911220859, 0.4970659270707192, 0.47937991226396726, 0.5724205144136122, 0.3077787968835613, 0.32056817615295946, 0.36415755051549764, 0.3735862318490317, 0.006992445138351582, 0.020977335415054747, 0.006992445138351582, 0.006992445138351582, 0.010488667707527374, 0.027969780553406327, 0.013984890276703164, 0.013984890276703164, 0.006992445138351582, 0.024473557984230537, 0.017481112845878954, 0.010488667707527374, 0.020977335415054747, 0.027969780553406327, 0.017481112845878954, 0.027969780553406327, 0.027969780553406327, 0.020977335415054747, 0.013984890276703164, 0.041954670830109494, 0.03146600312258212, 0.038458448260933704, 0.052443338537636865, 0.03496222569175791, 0.024473557984230537, 0.03496222569175791, 0.041954670830109494, 0.045450893399285285, 0.024473557984230537, 0.08041311909104319, 0.017481112845878954, 0.06642822881434003, 0.045450893399285285, 0.048947115968461075, 0.038458448260933704, 0.33716761726484273, 0.6628449085675276, 0.36963914569692874, 0.6482538921730729, 0.6876911863314545, 0.1528202636292121, 0.5963335865493444, 0.6506919899221587, 0.1700881902127226, 0.2041058282552671, 0.23812346629781161, 0.30615874238290064, 0.47959411624804454, 0.3884260999053002, 0.37961603759076973, 0.8723492079934195, 0.6836180627850591, 0.5871309758174794, 0.7125750015402181, 0.3876600177673625, 0.32791988970464697, 0.5191950761742029, 0.634332807522454, 0.5902395257370378, 0.005825280587505423, 0.007281600734381779, 0.013106881321887202, 0.004368960440629068, 0.011650561175010846, 0.016019521615639912, 0.023301122350021693, 0.020388482056268982, 0.013106881321887202, 0.046602244700043385, 0.01747584176251627, 0.016019521615639912, 0.021844802203145337, 0.02767008279065076, 0.021844802203145337, 0.04805856484691974, 0.03349536337815618, 0.032039043231279825, 0.018932161909392627, 0.040776964112537964, 0.023301122350021693, 0.0364080036719089, 0.05097120514067245, 0.030582723084403473, 0.030582723084403473, 0.03349536337815618, 0.03932064396566161, 0.03786432381878525, 0.0364080036719089, 0.04805856484691974, 0.0364080036719089, 0.04514592455316703, 0.040776964112537964, 0.03932064396566161, 0.03349536337815618, 0.7556745389055768, 0.03434884267752622, 0.01717442133876311, 0.03434884267752622, 0.03434884267752622, 0.01717442133876311, 0.05152326401628933, 0.01717442133876311, 0.5902395257370378, 0.7459366691847703, 0.6979328077645673, 0.685470208773225, 0.3770479340943561, 0.33504207046180434, 0.7141568913909306, 0.4672499047956363, 0.05191665608840403, 0.20766662435361613, 0.05191665608840403, 0.05191665608840403, 0.05191665608840403, 0.05191665608840403, 0.3237620634073178, 0.8279636485856038, 0.543697934218081, 0.33741767675542794, 0.333601831346647, 0.4864486216485167, 0.34309918114231713, 0.5640447476955484, 0.634332807522454, 0.5941783600084971, 0.3899876536038311, 0.3228622762274617, 0.8519912341646708, 0.6393566257782791, 0.31796206007993344, 0.634332807522454, 0.6857774560484411, 0.08131449407356894, 0.08131449407356894, 0.6505159525885515, 0.34309918114231713, 0.5902395257370378, 0.3077787968835613, 0.5972567844209538, 0.5873335077148635, 0.5726503271372828, 0.3652318908961339, 0.684703947853447, 0.39288181073944245, 0.3025359328293876, 0.7250192340337058, 0.3522158274835738, 0.3290999899125667, 0.5814020302473589, 0.6239286942863193, 0.3727508705355505, 0.32424981008295, 0.7699504041986969, 0.38526493713254534, 0.7830734929963163, 0.34810779650647145, 0.7191502387540492, 0.5959668827242759, 0.3232776739332512, 0.32424981008295, 0.4903225395646963, 0.5941783600084971, 0.34309918114231713, 0.34309918114231713, 0.6133591678965891, 0.37353350939151153, 0.40763661912124727, 0.33504207046180434, 0.33042664697440177, 0.5935153916273742, 0.49023838694552624, 0.7591262879419252, 0.3036200110175965, 0.5680183116640208, 0.5635673048964969, 0.5245172400906372, 0.5140414023766801, 0.38998531591781277, 0.3090302938312141, 0.3627200197265482, 0.6360702976148693, 0.15901757440371733, 0.03975439360092933, 0.07950878720185867, 0.6294869504064415, 0.46284697349773996, 0.3047310405448196, 0.4570965608172294, 0.33553151480358034, 0.5423535838720001, 0.13819633210539423, 0.27639266421078845, 0.03454908302634856, 0.03454908302634856, 0.06909816605269711, 0.06909816605269711, 0.03454908302634856, 0.10364724907904567, 0.17274541513174277, 0.6065304127923216, 0.1017013094284514, 0.016950218238075233, 0.016950218238075233, 0.033900436476150465, 0.033900436476150465, 0.016950218238075233, 0.11865152766652663, 0.033900436476150465, 0.2034026188569028, 0.1017013094284514, 0.016950218238075233, 0.033900436476150465, 0.06780087295230093, 0.016950218238075233, 0.016950218238075233, 0.016950218238075233, 0.016950218238075233, 0.1017013094284514, 0.4975192500043813, 0.37452175968655804, 0.6838605407042073, 0.09118140542722764, 0.04559070271361382, 0.32324407331783084, 0.5687681557732213, 0.64866418267849, 0.4765177560815301, 0.6708689701918591, 0.8034685124506125, 0.5440571524065353, 0.5731675403590536, 0.2865837701795268, 0.32052938172891615, 0.32020543861166667, 0.8524185319895345, 0.3358705585186779, 0.5282753905756727, 0.5959668827242759, 0.8360535224805878, 0.6835088067673631, 0.01233149396309635, 0.006165746981548175, 0.006165746981548175, 0.2527956262434752, 0.018497240944644524, 0.018497240944644524, 0.0246629879261927, 0.030828734907740876, 0.018497240944644524, 0.0493259758523854, 0.018497240944644524, 0.018497240944644524, 0.0246629879261927, 0.0493259758523854, 0.030828734907740876, 0.01233149396309635, 0.006165746981548175, 0.0246629879261927, 0.030828734907740876, 0.018497240944644524, 0.01233149396309635, 0.01233149396309635, 0.03699448188928905, 0.030828734907740876, 0.01233149396309635, 0.018497240944644524, 0.043160228870837224, 0.043160228870837224, 0.01233149396309635, 0.0246629879261927, 0.01233149396309635, 0.01233149396309635, 0.018497240944644524, 0.03699448188928905, 0.49725741635350607, 0.47329624347730487, 0.7606844730714607, 0.6506919899221587, 0.747301267261451, 0.010188318755555903, 0.005821896431746231, 0.007277370539682788, 0.004366422323809673, 0.010188318755555903, 0.014554741079365576, 0.018921163403175248, 0.016010215187302133, 0.008732844647619345, 0.027654008050794595, 0.013099266971429019, 0.013099266971429019, 0.01746568929523869, 0.03202043037460427, 0.014554741079365576, 0.03493137859047738, 0.03202043037460427, 0.027654008050794595, 0.014554741079365576, 0.04948611966984296, 0.045119697346033286, 0.03347590448254083, 0.045119697346033286, 0.04220874913016017, 0.046575171453969846, 0.027654008050794595, 0.046575171453969846, 0.037842326806350496, 0.029109482158731152, 0.058218964317462304, 0.037842326806350496, 0.043664223238096725, 0.04075327502222361, 0.043664223238096725, 0.0480306455619064, 0.49511563231978695, 0.30642737362311784, 0.2290314217405578, 0.5725785543513945, 0.7487924167308556, 0.7322668052877735, 0.7742225077097653, 0.28546085440281066, 0.5353254735319434, 0.5447644421437328, 0.3815339202646099, 0.6397638033374184, 0.8328802280026223, 0.5115412377877151, 0.6399997100720346, 0.4612002189795509, 0.3687867458799892, 0.38998531591781277, 0.3627200197265482, 0.6713452019201541, 0.33716761726484273, 0.47983570507131706, 0.6892149395917155, 0.37161573205377074, 0.49516348425383006, 0.8595554350486045, 0.5405982696917019, 0.8116466617231624, 0.6511804056159952, 0.4010622234228456, 0.3189716023716147, 0.634332807522454, 0.6685809024296528, 0.31315722016013203, 0.8506039431040691, 0.6374460049893527, 0.3258333376654074, 0.37450476058004806, 0.5282769265627799, 0.36415755051549764, 0.32424981008295, 0.5641899897177994, 0.33517307383313844, 0.7971471330667685, 0.6453487784629791, 0.35751530454950803, 0.8590066581632684, 0.8521455938665647, 0.36627655236950984, 0.2437975796726075, 0.2437975796726075, 0.32881984909155765, 0.3295589065869531, 0.5959668827242759, 0.6421222561511041, 0.7141892003872632, 0.5808875826145312, 0.39250952934753863, 0.173268615745963, 0.04331715393649075, 0.5631230011743797, 0.0866343078729815, 0.06611344882198995, 0.7933613858638794, 0.548751675992198, 0.634332807522454, 0.5433014334984243, 0.3748489104035282, 0.5580163443513719, 0.3271767084832011, 0.5054513978467493, 0.6396755842937297, 0.8111386149842156, 0.4900991654523601, 0.4605957404046056, 0.13159878297274447, 0.06579939148637223, 0.13159878297274447, 0.634332807522454, 0.8354180274239458, 0.7263616759433064, 0.33280009460464804, 0.6395394378777446, 0.5498343950230613, 0.3258356796523968, 0.31918632040862643, 0.04185564000568605, 0.04185564000568605, 0.2511338400341163, 0.5441233200739186, 0.815416377904902, 0.5391107198889693, 0.7516120644890649, 0.7250163819596287, 0.3746495028046323, 0.77209080993561, 0.3356141245761856, 0.5771661026529469, 0.6338683896677797, 0.17484142560201968, 0.04371035640050492, 0.04371035640050492, 0.13113106920151477, 0.39339320760454427, 0.08742071280100984, 0.04371035640050492, 0.647904874022209, 0.8794515944767728, 0.5902395257370378, 0.7223097828663363, 0.5902395257370378, 0.6055285796828428, 0.6860362211127824, 0.7378403820701567, 0.6791673289618589, 0.6236153631755901, 0.5963335865493444, 0.758056517614411, 0.0758056517614411, 0.4861565516889306, 0.4741863456558502, 0.3355154035816399, 0.7258433066495318, 0.7887404979211922, 0.10287919538102507, 0.03429306512700835, 0.31796206007993344, 0.33860162687104145, 0.8930081333025214, 0.6506919899221587, 0.5362444516748314, 0.7119414951015197, 0.3270428268957753, 0.8044604729619422, 0.5902395257370378, 0.35751530454950803, 0.3259004192836087, 0.6681426982299767, 0.46277853217124937, 0.5731127208613487, 0.32720494746269957, 0.7611511853767171, 0.7246336232761574, 0.5777573615365177, 0.7054626238897789, 0.5642892614699917, 0.21540641905476385, 0.04308128381095277, 0.08616256762190554, 0.17232513524381107, 0.34465027048762215, 0.3338926560285689, 0.5902395257370378, 0.17340951801033924, 0.021676189751292405, 0.17340951801033924, 0.08670475900516962, 0.021676189751292405, 0.021676189751292405, 0.021676189751292405, 0.021676189751292405, 0.06502856925387722, 0.06502856925387722, 0.15173332825904684, 0.021676189751292405, 0.021676189751292405, 0.021676189751292405, 0.021676189751292405, 0.021676189751292405, 0.05766582948870519, 0.05766582948870519, 0.7496557833531674, 0.8677130818597057, 0.5417247313114514, 0.5781362283948789, 0.3746495028046323, 0.6936810511697133, 0.6892149395917155, 0.651198458025209, 0.7830104069807865, 0.8254535179729963, 0.7322541551981323, 0.8711760151760359, 0.3378688018135727, 0.4902414575132805, 0.5350711870757475, 0.3717056201069011, 0.33649549771862897, 0.3135600968929384, 0.5871309758174794, 0.3728459847384354, 0.5246099760579118, 0.7196331474674307, 0.3759462247938309, 0.4220149658374953, 0.37573109531062343, 0.5390943632734497, 0.47706129370877076, 0.593496041626498, 0.7427979054524118, 0.33464742620437005, 0.6845313129196583, 0.41417515953677697, 0.6428574668285361, 0.657429810640327, 0.5144126321131823, 0.816791840772578, 0.3503458545657405, 0.2627593909243054, 0.08758646364143513, 0.08758646364143513, 0.30048057601573247, 0.26410483715100075, 0.26410483715100075, 0.5902395257370378, 0.3274520597076222, 0.5901691728828756, 0.5834299839507131, 0.301607184635203, 0.007283135886452983, 0.010196390241034175, 0.013109644595615368, 0.007283135886452983, 0.011653017418324772, 0.014566271772905965, 0.018936153304777752, 0.023306034836649545, 0.013109644595615368, 0.033502425077683716, 0.02039278048206835, 0.01747952612748716, 0.021849407659358947, 0.030589170723102525, 0.021849407659358947, 0.027675916368521333, 0.026219289191230736, 0.02039278048206835, 0.01747952612748716, 0.037872306609555505, 0.039328933786846106, 0.0422421881414273, 0.04952532402788028, 0.0422421881414273, 0.037872306609555505, 0.0407855609641367, 0.04952532402788028, 0.033502425077683716, 0.02913254354581193, 0.043698815318717894, 0.02476266201394014, 0.033502425077683716, 0.05098195120517088, 0.053895205559752066, 0.03204579790039312, 0.3899876536038311, 0.7397507178722907, 0.5390412685239209, 0.5021802358679023, 0.5941783600084971, 0.5351414031004443, 0.539124840482845, 0.3013132531386154, 0.45983527216047493, 0.31750792011825263, 0.31750792011825263, 0.2991698403279132, 0.30048057601573247, 0.660844565730146, 0.5094487243625697, 0.3899876536038311, 0.6265355705250996, 0.3881046855524442, 0.5353876223262168, 0.07402235182707632, 0.7402235182707633, 0.5225843921400679, 0.3346105187836123, 0.5350345206041631, 0.6301086055692806, 0.32717831326537994, 0.8309915469258256, 0.5391814744887592, 0.7562148174638216, 0.8714077509147448, 0.5093805002491295, 0.6427533622466227, 0.37063770364867976, 0.33504207046180434, 0.718188676565735, 0.30039510305676786, 0.8741437016497524, 0.5941783600084971, 0.46172858473347533, 0.6686611123329393, 0.37738397660732204, 0.5202802362325405, 0.3052532455553014, 0.5959668827242759, 0.5465539391623926, 0.6242238023980192, 0.808388321312581, 0.38998531591781277, 0.7850896973270789, 0.5806503736541118, 0.5401489902786091, 0.3237620634073178, 0.5110840614055274, 0.317083486081383, 0.39250952934753863, 0.6234145850304927, 0.5871309758174794, 0.4741665437475606, 0.6299888803997405, 0.5218044338729331, 0.7693402490496646, 0.5110942821758192, 0.5871309758174794, 0.5191485864252705, 0.6326670509205883, 0.2993118677328344, 0.4096476824518504, 0.6892149395917155, 0.7046440206427281, 0.489627414541684, 0.47415040590632895, 0.6020544192353572, 0.4796427720656219, 0.7849103318804876, 0.6506919899221587, 0.3237620634073178, 0.4933320744397293, 0.644902711494265, 0.3522158274835738, 0.377988734199181, 0.7320474669393089, 0.6202404361096592, 0.3899876536038311, 0.33674597409148277, 0.6448059795221133, 0.3254662425946448, 0.6334653592880821, 0.31948542915170614, 0.3237719235011807, 0.5423984439638972, 0.3378363991499374, 0.5437027748223859, 0.33517307383313844, 0.5510618780082328, 0.5902395257370378, 0.33879343154058034, 0.8457216476595958, 0.04974833221527034, 0.5202625945294296, 0.5633891888778232, 0.5143677926842302, 0.6385023254429025, 0.6720520227177988, 0.20161560681533966, 0.5245669591898328, 0.5471163138675265, 0.3764688964752342, 0.7196674446395522, 0.3344401004984898, 0.5153047628870745, 0.49434190903135655, 0.6356801385673957, 0.6862210431555014, 0.3687992845867428, 0.32523318721448, 0.4623835418146819, 0.357149530296686, 0.11904984343222867, 0.23809968686445734, 0.11904984343222867, 0.7450934236419229, 0.12418223727365382, 0.3258931379759272, 0.6892149395917155, 0.3238365483709533, 0.46082564583158936, 0.30245117836158947, 0.3209595863160513, 0.5403485084270326, 0.6527761089015353, 0.3736423890084849, 0.3714777794667785, 0.7841701717534679, 0.6332815281765887, 0.09917564909082156, 0.14876347363623232, 0.09917564909082156, 0.09917564909082156, 0.39670259636328625, 0.04958782454541078, 0.04958782454541078, 0.7544158562655043, 0.3203212239440504, 0.5805999288801319, 0.5353239818915112, 0.39458051296599156, 0.19729025648299578, 0.5967115241689881, 0.648174435782235, 0.657678549500492, 0.5828714710479754, 0.6506919899221587, 0.5877454273879309, 0.6339090169736866, 0.5902395257370378, 0.493299249914019, 0.38998531591781277, 0.4426767743955459, 0.3804601709167436, 0.7898689033466564, 0.22745385438560262, 0.22745385438560262, 0.7297146492595633, 0.5142167208794971, 0.7876464613915495, 0.08751627348794995, 0.5963335865493444, 0.3899876536038311, 0.7712409919510019, 0.3899876536038311, 0.7814231451965479, 0.37265565836857756, 0.5939825249103758, 0.6499428502718348, 0.30642737362311784, 0.3682442639010584, 0.7062063910073364, 0.7944877885931841, 0.3077787968835613, 0.46772068113358056, 0.48613032283616375, 0.6507867123494853, 0.675660675918388, 0.2993118677328344, 0.629948001883889, 0.7566787137271741, 0.36627655236950984, 0.7853905366251429, 0.36925754256989446, 0.37467103282100395, 0.35602636521437003, 0.5009057429592865, 0.03681340522971336, 0.01840670261485668, 0.14725362091885344, 0.01840670261485668, 0.22088043137828017, 0.01840670261485668, 0.03681340522971336, 0.03681340522971336, 0.01840670261485668, 0.03681340522971336, 0.0920335130742834, 0.03681340522971336, 0.01840670261485668, 0.01840670261485668, 0.01840670261485668, 0.03681340522971336, 0.03681340522971336, 0.01840670261485668, 0.01840670261485668, 0.01840670261485668, 0.01840670261485668, 0.01840670261485668, 0.01840670261485668, 0.01840670261485668, 0.01840670261485668, 0.03681340522971336, 0.028638270120881118, 0.014319135060440559, 0.014319135060440559, 0.014319135060440559, 0.014319135060440559, 0.014319135060440559, 0.21478702590660836, 0.014319135060440559, 0.1002339454230839, 0.07159567530220279, 0.014319135060440559, 0.014319135060440559, 0.014319135060440559, 0.028638270120881118, 0.028638270120881118, 0.057276540241762236, 0.057276540241762236, 0.014319135060440559, 0.014319135060440559, 0.04295740518132168, 0.014319135060440559, 0.07159567530220279, 0.04295740518132168, 0.028638270120881118, 0.04295740518132168, 0.634332807522454, 0.7621958868430843, 0.6729300349890267, 0.32596715272082777, 0.7629021846747858, 0.5941783600084971, 0.5962268017154878, 0.7481327940132472, 0.6548797103251132, 0.5733222412207182, 0.7322711557516058, 0.551106456309757, 0.31911115388723355, 0.5963335865493444, 0.33202727916521385, 0.6165079579342766, 0.37938388040420007, 0.6760609115531718, 0.6778270549340487, 0.5927221947433063, 0.5590748861904175, 0.37443214837364824, 0.5672649527687796, 0.3260165561889155, 0.48646712126106434, 0.4030078209959792, 0.2015039104979896, 0.9215127889505543, 0.793692369513157, 0.2993118677328344, 0.7245071198346061, 0.6967578559014482, 0.48644809244720777, 0.578237861699149, 0.7751493252276664, 0.634332807522454, 0.6903555774436695, 0.6885221954176548, 0.5115652375418697, 0.727232175049846, 0.3627200197265482, 0.3522158274835738, 0.325794681690536, 0.3203439077500348, 0.336445580645222, 0.5288982091283773, 0.3305441251579648, 0.6423017118805044, 0.38961144992011787, 0.5905793124850889, 0.5672329423312904, 0.32098589744273587, 0.45602697997272795, 0.7638735271085504, 0.7267876978856671, 0.2993118677328344, 0.5258689332082382, 0.32061167817202146, 0.3723515408746124, 0.7266621209768447, 0.5959668827242759, 0.7782704872604417, 0.7894654342838101, 0.839458090744121, 0.5817877310488363, 0.7635533872690156, 0.8214081026336097, 0.6927539689331997, 0.53214933917428, 0.5963335865493444, 0.5941783600084971, 0.44380446555437925, 0.8602390432379766, 0.6918499209379919, 0.5738530737907308, 0.30158768880075776, 0.3953289264302205, 0.3730273260329059, 0.32321180890713336, 0.3956749277203676, 0.36996527593887885, 0.6823343167857708, 0.6876881201415004, 0.3304629997872499, 0.5782155889645271, 0.559041718266688, 0.06301628059708941, 0.12603256119417883, 0.5041302447767153, 0.12603256119417883, 0.12603256119417883, 0.6846088666004331, 0.5826945176867439, 0.5214298613389909, 0.5225583082142085, 0.3386893049700557, 0.5230687829540732, 0.5258982457882956, 0.31914728203998877, 0.30563371922335464], \"Term\": [\"abeg\", \"abi\", \"abundantly\", \"aburo\", \"academic\", \"add\", \"address\", \"adedigba\", \"adhoc\", \"adultery\", \"advertisement\", \"afternoon\", \"age\", \"agent\", \"agree\", \"ahead\", \"ahmed\", \"alabi\", \"allah\", \"almighty\", \"alone\", \"alot\", \"alright\", \"also\", \"always\", \"amadi\", \"amazing\", \"ameeen\", \"amen\", \"amen\", \"amen\", \"amen\", \"amen\", \"amin\", \"amin\", \"amin\", \"analysis\", \"anifeyigba\", \"anointing\", \"anonymous\", \"another\", \"answer\", \"anybody\", \"anyone\", \"anything\", \"application\", \"appreciate\", \"appreciate\", \"appreciation\", \"april\", \"arrears\", \"ask\", \"austin\", \"ayokunle\", \"ayuba\", \"aza\", \"aza\", \"b\", \"baba\", \"babe\", \"baby\", \"back\", \"bad\", \"bah\", \"balikis\", \"based\", \"bashing\", \"bayi\", \"beautiful\", \"believe\", \"best\", \"better\", \"big\", \"big\", \"birthday\", \"birthday\", \"birthday\", \"birthday\", \"birthday\", \"birthday\", \"birthday\", \"birthday\", \"birthday\", \"birthday\", \"birthday\", \"birthday\", \"birthday\", \"birthday\", \"birthday\", \"birthday\", \"birthday\", \"birthday\", \"birthday\", \"birthday\", \"birthday\", \"birthday\", \"birthday\", \"birthday\", \"birthday\", \"birthday\", \"birthday\", \"birthday\", \"birthday\", \"birthday\", \"birthday\", \"birthday\", \"birthday\", \"birthday\", \"birthday\", \"bless\", \"bless\", \"bless\", \"bless\", \"bless\", \"bless\", \"bless\", \"bless\", \"bless\", \"blessed\", \"blessing\", \"blessing\", \"blessing\", \"blessing\", \"blessing\", \"blessing\", \"blessing\", \"body\", \"born\", \"bos\", \"bos\", \"bos\", \"bos\", \"bossman\", \"boy\", \"breakthrough\", \"bride\", \"bring\", \"bro\", \"bro\", \"bro\", \"bro\", \"bro\", \"bro\", \"bro\", \"bro\", \"bro\", \"bro\", \"bro\", \"brother\", \"brother\", \"brother\", \"brother\", \"brother\", \"brother\", \"brother\", \"brother\", \"brother\", \"brother\", \"brother\", \"brother\", \"brother\", \"brother\", \"brother\", \"bruh\", \"business\", \"cable\", \"cafe\", \"call\", \"calm\", \"canada\", \"canadian\", \"cant\", \"career\", \"carry\", \"catch\", \"cdt\", \"celeb\", \"celebrant\", \"celebration\", \"celebrity\", \"census\", \"ceremony\", \"chaii\", \"challenge\", \"champion\", \"chance\", \"change\", \"check\", \"cheer\", \"child\", \"choose\", \"chop\", \"christmas\", \"circle\", \"class\", \"click\", \"close\", \"closer\", \"code\", \"collect\", \"come\", \"come\", \"comfort\", \"command\", \"community\", \"completed\", \"completion\", \"con\", \"condition\", \"congrats\", \"congratulation\", \"congratulation\", \"congratulation\", \"congratulation\", \"congratulation\", \"congratulation\", \"congratulation\", \"congratulation\", \"congratulation\", \"congratulation\", \"congratulation\", \"congratulation\", \"congratulation\", \"congratulation\", \"congratulation\", \"congratulation\", \"congratulation\", \"congratulation\", \"congratulation\", \"congratulation\", \"congratulation\", \"congratulation\", \"congratulation\", \"congratulation\", \"congratulation\", \"congratulation\", \"congratulation\", \"congratulation\", \"congratulation\", \"congratulation\", \"congratulation\", \"congratulation\", \"congratulation\", \"congratulation\", \"connect\", \"contact\", \"convocation\", \"corner\", \"correction\", \"cost\", \"could\", \"couldnt\", \"country\", \"couple\", \"cupid\", \"cure\", \"customer\", \"dada\", \"daddy\", \"daily\", \"daily\", \"daily\", \"daily\", \"daily\", \"daily\", \"daily\", \"daily\", \"daily\", \"daily\", \"daily\", \"daily\", \"daily\", \"daily\", \"daily\", \"daily\", \"daily\", \"daily\", \"daily\", \"daily\", \"daily\", \"daily\", \"daily\", \"daily\", \"daily\", \"daily\", \"daily\", \"daily\", \"daily\", \"daily\", \"daily\", \"daily\", \"daily\", \"daily\", \"daily\", \"damilola\", \"dammy\", \"data\", \"date\", \"day\", \"day\", \"deadline\", \"dealing\", \"dear\", \"dear\", \"dear\", \"dear\", \"decided\", \"degree\", \"delete\", \"deleted\", \"dem\", \"demand\", \"department\", \"deserve\", \"desire\", \"detail\", \"developer\", \"development\", \"devotional\", \"devotional\", \"devotional\", \"devotional\", \"devotional\", \"devotional\", \"devotional\", \"devotional\", \"devotional\", \"devotional\", \"devotional\", \"devotional\", \"devotional\", \"devotional\", \"devotional\", \"devotional\", \"devotional\", \"devotional\", \"devotional\", \"devotional\", \"devotional\", \"devotional\", \"devotional\", \"devotional\", \"devotional\", \"devotional\", \"devotional\", \"devotional\", \"devotional\", \"devotional\", \"devotional\", \"devotional\", \"devotional\", \"devotional\", \"devotional\", \"dey\", \"dey\", \"dey\", \"dey\", \"dey\", \"dey\", \"dey\", \"dey\", \"director\", \"dis\", \"dm\", \"dont\", \"dr\", \"dream\", \"drop\", \"e\", \"e\", \"e\", \"e\", \"e\", \"e\", \"e\", \"earning\", \"edited\", \"egbon\", \"egypt\", \"eh\", \"ehn\", \"eiffel\", \"email\", \"endless\", \"enjoys\", \"epsrc\", \"evangelist\", \"even\", \"evening\", \"ever\", \"everevolving\", \"everybody\", \"everyone\", \"everyone\", \"everyone\", \"excellence\", \"expand\", \"extreme\", \"falana\", \"fam\", \"family\", \"fantasy\", \"far\", \"favor\", \"fe\", \"federal\", \"fellow\", \"feranmi\", \"find\", \"fine\", \"finish\", \"firdaos\", \"first\", \"fishy\", \"fit\", \"focus\", \"follow\", \"footstep\", \"forget\", \"forgive\", \"form\", \"fornication\", \"france\", \"french\", \"friend\", \"fuck\", \"fulfilled\", \"fulfillment\", \"full\", \"fully\", \"fund\", \"funded\", \"funrawa\", \"future\", \"gan\", \"gbo\", \"gee\", \"geophysics\", \"george\", \"geosciences\", \"get\", \"get\", \"get\", \"get\", \"getting\", \"girl\", \"give\", \"give\", \"giveaway\", \"glory\", \"go\", \"go\", \"go\", \"go\", \"go\", \"go\", \"go\", \"go\", \"go\", \"goal\", \"god\", \"god\", \"god\", \"god\", \"god\", \"god\", \"god\", \"god\", \"god\", \"god\", \"god\", \"god\", \"god\", \"god\", \"god\", \"god\", \"god\", \"god\", \"godwin\", \"going\", \"good\", \"good\", \"good\", \"got\", \"government\", \"grace\", \"graduate\", \"grant\", \"great\", \"greater\", \"group\", \"group\", \"grow\", \"guide\", \"guy\", \"haa\", \"haaa\", \"ham\", \"happiest\", \"happiness\", \"happy\", \"happy\", \"happy\", \"happy\", \"happy\", \"happy\", \"happy\", \"happy\", \"happy\", \"happy\", \"happy\", \"happy\", \"happy\", \"happy\", \"happy\", \"happy\", \"happy\", \"happy\", \"happy\", \"happy\", \"happy\", \"happy\", \"happy\", \"happy\", \"happy\", \"happy\", \"happy\", \"happy\", \"happy\", \"happy\", \"happy\", \"happy\", \"happy\", \"happy\", \"harmony\", \"head\", \"health\", \"healthy\", \"heart\", \"heaven\", \"heaven\", \"heaven\", \"heaven\", \"heaven\", \"heaven\", \"heaven\", \"heaven\", \"heaven\", \"heaven\", \"heaven\", \"heaven\", \"heaven\", \"heaven\", \"heaven\", \"heaven\", \"heaven\", \"heaven\", \"heaven\", \"heaven\", \"heaven\", \"heaven\", \"heaven\", \"heaven\", \"heaven\", \"heaven\", \"heaven\", \"heaven\", \"heaven\", \"heaven\", \"heaven\", \"heaven\", \"heaven\", \"heaven\", \"heaven\", \"height\", \"held\", \"hello\", \"hello\", \"help\", \"hey\", \"hi\", \"high\", \"higher\", \"hl\", \"hmmm\", \"hold\", \"home\", \"hon\", \"hope\", \"house\", \"hr\", \"httpswwwlinkedincompostsettorebiondiiamhappytosharethatiwillbejoiningactivitywdcmutmsourceshareutmmediummemberandroid\", \"httpswwwlinkedincompostsshujuanmaoaresearcherjacksonschoolofgeosciencesactivitytiqiutmsourceshareutmmediummemberdesktop\", \"ibadan\", \"ibinaye\", \"id\", \"idayah\", \"idea\", \"idiot\", \"illegal\", \"ilorin\", \"im\", \"industry\", \"inec\", \"inside\", \"insight\", \"invite\", \"isiaka\", \"israel\", \"isreal\", \"issue\", \"ive\", \"iwo\", \"iya\", \"jannatul\", \"jare\", \"je\", \"jesus\", \"jesusname\", \"jide\", \"job\", \"join\", \"journey\", \"joy\", \"joy\", \"joyce\", \"july\", \"jusy\", \"k\", \"keep\", \"kenny\", \"kinda\", \"kiss\", \"kiss\", \"kiss\", \"kiss\", \"know\", \"know\", \"kudos\", \"landscape\", \"leader\", \"leaf\", \"league\", \"leemao\", \"let\", \"lie\", \"life\", \"light\", \"like\", \"like\", \"like\", \"like\", \"likeminded\", \"link\", \"lion\", \"literal\", \"lmao\", \"lo\", \"location\", \"lokoja\", \"lol\", \"lol\", \"lol\", \"lol\", \"long\", \"longlife\", \"looking\", \"lord\", \"loud\", \"love\", \"lp\", \"maam\", \"made\", \"make\", \"make\", \"make\", \"make\", \"make\", \"make\", \"make\", \"mama\", \"man\", \"manager\", \"march\", \"marketing\", \"marriage\", \"married\", \"marry\", \"master\", \"mathematical\", \"mathematics\", \"may\", \"may\", \"maybe\", \"meet\", \"men\", \"merry\", \"message\", \"message\", \"message\", \"met\", \"mhi\", \"mi\", \"mighty\", \"milk\", \"mind\", \"ministry\", \"miss\", \"mission\", \"mister\", \"mn\", \"mo\", \"moment\", \"money\", \"month\", \"morning\", \"mouth\", \"move\", \"mr\", \"msc\", \"much\", \"much\", \"much\", \"much\", \"much\", \"mumu\", \"music\", \"na\", \"na\", \"na\", \"na\", \"na\", \"na\", \"na\", \"na\", \"na\", \"na\", \"na\", \"na\", \"na\", \"na\", \"na\", \"na\", \"nah\", \"nah\", \"nah\", \"name\", \"national\", \"nau\", \"near\", \"need\", \"neemah\", \"network\", \"never\", \"new\", \"next\", \"ni\", \"nice\", \"nigerian\", \"nimc\", \"nin\", \"nko\", \"noble\", \"nontech\", \"normal\", \"nothing\", \"number\", \"obi\", \"obvious\", \"odunsanya\", \"office\", \"official\", \"oga\", \"oh\", \"ohh\", \"ohhh\", \"ohhhh\", \"okay\", \"olodo\", \"olowo\", \"omo\", \"one\", \"one\", \"one\", \"one\", \"ongoing\", \"online\", \"online\", \"onubejia\", \"ooh\", \"ooo\", \"oooo\", \"ooooo\", \"open\", \"open\", \"open\", \"open\", \"open\", \"open\", \"open\", \"open\", \"open\", \"open\", \"open\", \"open\", \"open\", \"open\", \"open\", \"open\", \"open\", \"open\", \"open\", \"open\", \"open\", \"open\", \"open\", \"open\", \"open\", \"open\", \"open\", \"open\", \"open\", \"open\", \"open\", \"open\", \"open\", \"open\", \"open\", \"operational\", \"opportunity\", \"ori\", \"oshey\", \"outside\", \"oya\", \"oyeyemis\", \"paddy\", \"padi\", \"panic\", \"panic\", \"paraku\", \"parent\", \"paro\", \"part\", \"partnership\", \"pas\", \"pascal\", \"pascaltall\", \"pastor\", \"pastor\", \"pay\", \"payment\", \"pe\", \"peace\", \"pele\", \"people\", \"perfect\", \"person\", \"phd\", \"phone\", \"picture\", \"place\", \"plan\", \"platform\", \"play\", \"please\", \"pleasure\", \"pls\", \"point\", \"polling\", \"popular\", \"population\", \"port\", \"portal\", \"position\", \"post\", \"postdoc\", \"posting\", \"ppl\", \"prayer\", \"preparing\", \"president\", \"prettygirl\", \"princex\", \"probability\", \"profession\", \"professor\", \"program\", \"programme\", \"prosperity\", \"protect\", \"provide\", \"purpose\", \"put\", \"pw\", \"question\", \"rahmah\", \"rahman\", \"range\", \"reach\", \"read\", \"real\", \"really\", \"reasonable\", \"receive\", \"recruitment\", \"registration\", \"release\", \"remain\", \"remember\", \"rep\", \"research\", \"response\", \"rest\", \"result\", \"right\", \"rora\", \"roshan\", \"round\", \"saari\", \"sabi\", \"sahur\", \"salary\", \"sale\", \"saturday\", \"say\", \"say\", \"saying\", \"scholar\", \"scholarship\", \"school\", \"see\", \"see\", \"seen\", \"sef\", \"self\", \"send\", \"sending\", \"senior\", \"sense\", \"sent\", \"seriously\", \"service\", \"set\", \"sey\", \"sha\", \"sha\", \"sha\", \"sha\", \"share\", \"share\", \"shege\", \"shekinah\", \"shes\", \"shey\", \"shining\", \"shora\", \"si\", \"sign\", \"signature\", \"simp\", \"simple\", \"since\", \"sir\", \"sir\", \"sir\", \"sir\", \"sir\", \"sir\", \"sir\", \"sister\", \"sleep\", \"small\", \"soaring\", \"someone\", \"someone\", \"something\", \"soon\", \"sorry\", \"soul\", \"sound\", \"speaking\", \"special\", \"specialist\", \"staff\", \"standford\", \"start\", \"stating\", \"statistic\", \"statistician\", \"statistician\", \"stay\", \"sticker\", \"still\", \"still\", \"stockholm\", \"stori\", \"student\", \"studentship\", \"study\", \"stupid\", \"success\", \"successful\", \"successfully\", \"sudden\", \"support\", \"sure\", \"survival\", \"swear\", \"tag\", \"taiwo\", \"take\", \"talented\", \"talk\", \"tech\", \"teewhizzy\", \"tell\", \"tenks\", \"testament\", \"tgod\", \"th\", \"thank\", \"thank\", \"thank\", \"thank\", \"thank\", \"thank\", \"thank\", \"thank\", \"thank\", \"thank\", \"thank\", \"thank\", \"thank\", \"thank\", \"thank\", \"thank\", \"thank\", \"thank\", \"thank\", \"thank\", \"thank\", \"thank\", \"thank\", \"thank\", \"thank\", \"thank\", \"thanks\", \"thanks\", \"thanks\", \"thanks\", \"thanks\", \"thanks\", \"thanks\", \"thanks\", \"thanks\", \"thanks\", \"thanks\", \"thanks\", \"thanks\", \"thanks\", \"thanks\", \"thanks\", \"thanks\", \"thanks\", \"thanks\", \"thanks\", \"thanks\", \"thanks\", \"thanks\", \"thanks\", \"thanks\", \"thefullsnacksdevelopers\", \"thing\", \"think\", \"though\", \"ti\", \"tight\", \"till\", \"time\", \"timi\", \"tinted\", \"today\", \"toooooor\", \"top\", \"topic\", \"touch\", \"transcript\", \"transfer\", \"truly\", \"try\", \"tuesday\", \"tunde\", \"turn\", \"tv\", \"twitter\", \"two\", \"type\", \"type\", \"u\", \"una\", \"undertake\", \"unilorin\", \"union\", \"unit\", \"unity\", \"university\", \"unlock\", \"update\", \"ur\", \"urgently\", \"use\", \"ut\", \"utme\", \"uwc\", \"vawulence\", \"vex\", \"video\", \"violence\", \"vote\", \"waa\", \"wahala\", \"wait\", \"wale\", \"walexshine\", \"wan\", \"want\", \"warwick\", \"washerey\", \"wasnt\", \"water\", \"way\", \"wayray\", \"wedding\", \"welcome\", \"well\", \"werey\", \"wetin\", \"wey\", \"whats\", \"whine\", \"wide\", \"wife\", \"wire\", \"wish\", \"wishing\", \"without\", \"woman\", \"wonderful\", \"word\", \"work\", \"world\", \"worry\", \"would\", \"wow\", \"wrong\", \"ya\", \"yall\", \"year\", \"year\", \"year\", \"year\", \"year\", \"yes\", \"yi\", \"yin\", \"yomi\", \"young\", \"youre\", \"youve\", \"yur\", \"zoomed\"]}, \"R\": 30, \"lambda.step\": 0.01, \"plot.opts\": {\"xlab\": \"PC1\", \"ylab\": \"PC2\"}, \"topic.order\": [23, 30, 25, 21, 16, 13, 18, 20, 32, 29, 33, 26, 6, 1, 7, 9, 19, 3, 22, 2, 8, 10, 4, 11, 5, 31, 34, 12, 35, 14, 17, 28, 24, 15, 27]};\n",
       "\n",
       "function LDAvis_load_lib(url, callback){\n",
       "  var s = document.createElement('script');\n",
       "  s.src = url;\n",
       "  s.async = true;\n",
       "  s.onreadystatechange = s.onload = callback;\n",
       "  s.onerror = function(){console.warn(\"failed to load library \" + url);};\n",
       "  document.getElementsByTagName(\"head\")[0].appendChild(s);\n",
       "}\n",
       "\n",
       "if(typeof(LDAvis) !== \"undefined\"){\n",
       "   // already loaded: just create the visualization\n",
       "   !function(LDAvis){\n",
       "       new LDAvis(\"#\" + \"ldavis_el546421673668112326498844377\", ldavis_el546421673668112326498844377_data);\n",
       "   }(LDAvis);\n",
       "}else if(typeof define === \"function\" && define.amd){\n",
       "   // require.js is available: use it to load d3/LDAvis\n",
       "   require.config({paths: {d3: \"https://d3js.org/d3.v5\"}});\n",
       "   require([\"d3\"], function(d3){\n",
       "      window.d3 = d3;\n",
       "      LDAvis_load_lib(\"https://cdn.jsdelivr.net/gh/bmabey/pyLDAvis@3.4.0/pyLDAvis/js/ldavis.v3.0.0.js\", function(){\n",
       "        new LDAvis(\"#\" + \"ldavis_el546421673668112326498844377\", ldavis_el546421673668112326498844377_data);\n",
       "      });\n",
       "    });\n",
       "}else{\n",
       "    // require.js not available: dynamically load d3 & LDAvis\n",
       "    LDAvis_load_lib(\"https://d3js.org/d3.v5.js\", function(){\n",
       "         LDAvis_load_lib(\"https://cdn.jsdelivr.net/gh/bmabey/pyLDAvis@3.4.0/pyLDAvis/js/ldavis.v3.0.0.js\", function(){\n",
       "                 new LDAvis(\"#\" + \"ldavis_el546421673668112326498844377\", ldavis_el546421673668112326498844377_data);\n",
       "            })\n",
       "         });\n",
       "}\n",
       "</script>"
      ],
      "text/plain": [
       "<IPython.core.display.HTML object>"
      ]
     },
     "execution_count": 63,
     "metadata": {},
     "output_type": "execute_result"
    }
   ],
   "source": [
    "pyLDAvis.display(vis)"
   ]
  },
  {
   "cell_type": "markdown",
   "metadata": {},
   "source": [
    "\n",
    "\n",
    "\n",
    "#### - Quick explainer\n",
    "\n",
    "(i) Overview\n",
    "\n",
    "* With most of the topics clustered together, Topic 4 appears to standout separately from the rest, suggesting a unique discussion theme.\n",
    "\n",
    "* Looking at the bar chart, terms like `Blessings & Devotion`, `Religious Messages` and `Encouragement & Celebration` appear most frequently, indicating the dataset heavily revolves around faith-based conversations.\n",
    "\n",
    "*  Some less frequent but still relevant themes include `Career & Tech Discussions` and `Faith and Social Topics`, showing that while faith dominates, other discussions exist.\n",
    "\n",
    "(ii) On Topic 4\n",
    "\n",
    "*  This topic likely represents messages related to *birthday celebrations, well-wishing, and encouragement*\n",
    "\n",
    "*  It is more distinct from others, which could indicate that birthday greetings have a unique conversational structure compared to general religious discussions/posts.\n",
    "\n",
    "*  The presence of personal names like `tunde`, `amadi`, and `jide` suggests that these messages might be directed at individuals rather than general community-wide blessings.\n",
    "\n",
    "\n",
    "\n"
   ]
  },
  {
   "cell_type": "markdown",
   "metadata": {},
   "source": [
    " #### - export model"
   ]
  },
  {
   "cell_type": "code",
   "execution_count": 40,
   "metadata": {},
   "outputs": [],
   "source": [
    "lda_best.save(\"lda_best_model.gensim\")  # Save the best LDA model\n",
    "dictionary.save(\"lda_dictionary.gensim\")  # Save the dictionary\n",
    "gensim.corpora.MmCorpus.serialize(\"lda_corpus.mm\", corpus)  # Save the corpus"
   ]
  },
  {
   "cell_type": "markdown",
   "metadata": {},
   "source": [
    "## Interaction Network"
   ]
  },
  {
   "cell_type": "code",
   "execution_count": null,
   "metadata": {},
   "outputs": [
    {
     "data": {
      "application/vnd.plotly.v1+json": {
       "config": {
        "plotlyServerURL": "https://plot.ly"
       },
       "data": [
        {
         "hoverinfo": "none",
         "line": {
          "color": "gray",
          "width": 1
         },
         "mode": "lines",
         "type": "scatter",
         "x": [
          0.04728916244836371,
          0.7170671791256852,
          null,
          0.04728916244836371,
          -0.7014035736658122,
          null,
          0.04728916244836371,
          0.6812955846531752,
          null,
          0.04728916244836371,
          -0.7466950455837361,
          null,
          0.04728916244836371,
          -0.7876752978555891,
          null,
          0.04728916244836371,
          -0.12517611529065611,
          null,
          0.04728916244836371,
          0.8887355396774943,
          null,
          0.04728916244836371,
          0.6991559842993146,
          null,
          0.04728916244836371,
          -0.041069330902982,
          null,
          0.04728916244836371,
          -0.7525826069810534,
          null,
          0.04728916244836371,
          -0.5982558276025887,
          null,
          0.04728916244836371,
          0.46442588153932735,
          null,
          0.04728916244836371,
          0.020677154156104906,
          null,
          0.04728916244836371,
          0.5556925504757954,
          null,
          0.04728916244836371,
          0.804867191930998,
          null,
          0.04728916244836371,
          0.9111044081572474,
          null,
          0.04728916244836371,
          -0.860208500840427,
          null,
          0.04728916244836371,
          -0.8179106929860788,
          null,
          0.04728916244836371,
          -0.2915112567203984,
          null,
          0.04728916244836371,
          -0.6000578583990837,
          null,
          0.04728916244836371,
          0.07823716519383601,
          null,
          0.04728916244836371,
          0.5043096171316995,
          null,
          0.04728916244836371,
          0.9107067450611314,
          null,
          0.04728916244836371,
          -0.42356297103877283,
          null,
          0.04728916244836371,
          0.4013234193212713,
          null,
          0.04728916244836371,
          -0.9999999999999999,
          null,
          0.04728916244836371,
          -0.8984456369097105,
          null,
          0.04728916244836371,
          0.9102394196461762,
          null,
          0.04728916244836371,
          0.21351734459075766,
          null,
          0.04728916244836371,
          0.7674975127391301,
          null,
          0.04728916244836371,
          0.879030924818761,
          null,
          0.04728916244836371,
          0.7640987621105452,
          null,
          0.04728916244836371,
          -0.9550078305659393,
          null,
          0.04728916244836371,
          0.8309308125333121,
          null,
          0.04728916244836371,
          0.3208040422939738,
          null,
          0.04728916244836371,
          -0.6142546688319697,
          null,
          0.04728916244836371,
          0.6049492774240948,
          null,
          0.04728916244836371,
          -0.8964766771728978,
          null,
          0.04728916244836371,
          -0.6272228121526519,
          null,
          0.04728916244836371,
          -0.9789194908770158,
          null,
          0.04728916244836371,
          0.30748394957900865,
          null,
          0.04728916244836371,
          0.7333615389161362,
          null,
          0.04728916244836371,
          0.6109841080049889,
          null,
          0.04728916244836371,
          0.10896183031580838,
          null,
          0.04728916244836371,
          0.6065216193713474,
          null,
          0.04728916244836371,
          0.059473872404400906,
          null,
          0.04728916244836371,
          0.8521677113513462,
          null,
          0.04728916244836371,
          0.8920056944990616,
          null,
          0.04728916244836371,
          0.7290322256913548,
          null,
          0.04728916244836371,
          -0.9387620563400728,
          null,
          0.04728916244836371,
          0.22675506445046203,
          null,
          0.04728916244836371,
          0.8135234466471505,
          null,
          0.04728916244836371,
          0.8828912659747163,
          null,
          0.04728916244836371,
          -0.8852652159766382,
          null,
          0.04728916244836371,
          -0.3253708774112619,
          null,
          0.04728916244836371,
          0.37480179918206213,
          null,
          0.041518794970327476,
          0.10896183031580838,
          null,
          0.041518794970327476,
          -0.7451791065092579,
          null,
          0.041518794970327476,
          0.8144592194855478,
          null,
          -0.29048578472618297,
          -0.7466950455837361,
          null,
          -0.29048578472618297,
          -0.7876752978555891,
          null,
          -0.29048578472618297,
          -0.7525826069810534,
          null,
          -0.29048578472618297,
          0.6812955846531752,
          null,
          -0.09117509451570237,
          0.13673609562873615,
          null,
          -0.09117509451570237,
          -0.8179106929860788,
          null,
          -0.09117509451570237,
          0.804867191930998,
          null,
          -0.09117509451570237,
          0.7170671791256852,
          null,
          -0.09117509451570237,
          -0.17744551533276529,
          null,
          -0.09117509451570237,
          -0.23921690144468033,
          null,
          -0.09117509451570237,
          -0.7876752978555891,
          null,
          -0.09117509451570237,
          0.866607345687004,
          null,
          -0.09117509451570237,
          -0.7451791065092579,
          null,
          -0.09117509451570237,
          -0.8984456369097105,
          null,
          0.0816999021252957,
          -0.7466950455837361,
          null,
          0.0816999021252957,
          0.9107067450611314,
          null,
          -0.10030832754980218,
          -0.7451791065092579,
          null,
          -0.10030832754980218,
          0.020677154156104906,
          null,
          -0.10030832754980218,
          -0.04802744379105575,
          null,
          -0.10030832754980218,
          0.7799777867378795,
          null,
          -0.10030832754980218,
          0.5556925504757954,
          null,
          -0.10030832754980218,
          -0.7525826069810534,
          null,
          -0.10030832754980218,
          -0.8179106929860788,
          null,
          -0.10030832754980218,
          0.8920056944990616,
          null,
          -0.10030832754980218,
          -0.860208500840427,
          null,
          -0.36609098823655023,
          -0.7466950455837361,
          null,
          -0.36609098823655023,
          0.020677154156104906,
          null,
          -0.36609098823655023,
          -0.7451791065092579,
          null,
          -0.36609098823655023,
          -0.7014035736658122,
          null,
          -0.36609098823655023,
          0.2336863722575924,
          null,
          -0.09726362016004805,
          -0.7466950455837361,
          null,
          -0.09726362016004805,
          -0.7451791065092579,
          null,
          -0.09726362016004805,
          0.020677154156104906,
          null,
          -0.09726362016004805,
          -0.5982558276025887,
          null,
          -0.09726362016004805,
          0.6812955846531752,
          null,
          -0.09726362016004805,
          0.879030924818761,
          null,
          -0.09726362016004805,
          -0.04802744379105575,
          null,
          0.04667038738462824,
          0.7799777867378795,
          null,
          0.04667038738462824,
          0.8887355396774943,
          null,
          0.04667038738462824,
          0.7170671791256852,
          null,
          0.04667038738462824,
          0.8521677113513462,
          null,
          0.04667038738462824,
          -0.8179106929860788,
          null,
          0.04667038738462824,
          -0.8326503280525275,
          null,
          0.04667038738462824,
          -0.7451791065092579,
          null,
          -0.018350291306725868,
          -0.860208500840427,
          null,
          -0.018350291306725868,
          -0.3664571964109581,
          null,
          -0.018350291306725868,
          0.5556925504757954,
          null,
          -0.018350291306725868,
          0.6812955846531752,
          null,
          0.08039534881794745,
          -0.7876752978555891,
          null,
          0.08039534881794745,
          0.8887355396774943,
          null,
          0.08039534881794745,
          -0.7451791065092579,
          null,
          0.08039534881794745,
          0.879030924818761,
          null,
          0.08039534881794745,
          0.7640987621105452,
          null,
          0.08039534881794745,
          -0.4795913570486459,
          null,
          0.08039534881794745,
          0.2336863722575924,
          null,
          -0.15038274838679178,
          -0.7451791065092579,
          null,
          -0.15038274838679178,
          -0.9593859557574609,
          null,
          -0.15038274838679178,
          0.020677154156104906,
          null,
          -0.15038274838679178,
          0.9111044081572474,
          null,
          -0.400643764701989,
          -0.8937852858851667,
          null,
          -0.400643764701989,
          -0.9139836694357724,
          null,
          -0.400643764701989,
          -0.5155051760576855,
          null,
          -0.400643764701989,
          -0.20804902202968575,
          null,
          -0.400643764701989,
          -0.47277644026647025,
          null,
          -0.400643764701989,
          -0.9696178153242557,
          null,
          -0.400643764701989,
          -0.7451791065092579,
          null,
          -0.400643764701989,
          0.517389346172403,
          null,
          -0.4111818062342515,
          -0.5982558276025887,
          null,
          0.04417050399392098,
          -0.5982558276025887,
          null,
          0.04417050399392098,
          -0.7525826069810534,
          null,
          0.04417050399392098,
          0.5556925504757954,
          null,
          0.04417050399392098,
          0.21351734459075766,
          null,
          0.04417050399392098,
          0.879030924818761,
          null,
          -0.5013063948028149,
          -0.7525826069810534,
          null,
          -0.5013063948028149,
          -0.7451791065092579,
          null,
          -0.5930687242925372,
          -0.7525826069810534,
          null,
          -0.5785029391393437,
          -0.7525826069810534,
          null,
          -0.36613764174456853,
          -0.7525826069810534,
          null,
          -0.36613764174456853,
          0.020677154156104906,
          null,
          -0.44938429231023,
          0.020677154156104906,
          null,
          -0.44938429231023,
          -0.9207448797551053,
          null,
          -0.01627749505562043,
          -0.7451791065092579,
          null,
          -0.01627749505562043,
          -0.5982558276025887,
          null,
          -0.01627749505562043,
          -0.7014035736658122,
          null,
          -0.01627749505562043,
          0.6812955846531752,
          null,
          -0.01627749505562043,
          0.9111044081572474,
          null,
          -0.01627749505562043,
          -0.8964766771728978,
          null,
          -0.01627749505562043,
          -0.0664146363708346,
          null,
          -0.01627749505562043,
          0.43656781707458725,
          null,
          -0.01627749505562043,
          -0.7876752978555891,
          null,
          -0.01627749505562043,
          0.6936538617538907,
          null,
          -0.01627749505562043,
          0.4013234193212713,
          null,
          -0.01627749505562043,
          -0.38575762180445744,
          null,
          -0.01627749505562043,
          -0.04802744379105575,
          null,
          -0.01627749505562043,
          -0.2915112567203984,
          null,
          -0.01627749505562043,
          0.7799777867378795,
          null,
          -0.01627749505562043,
          0.22675506445046203,
          null,
          0.0016756206543275837,
          0.6812955846531752,
          null,
          0.0016756206543275837,
          -0.860208500840427,
          null,
          0.0016756206543275837,
          0.7799777867378795,
          null,
          0.0016756206543275837,
          0.020677154156104906,
          null,
          0.0016756206543275837,
          -0.04802744379105575,
          null,
          0.0016756206543275837,
          -0.9593859557574609,
          null,
          0.0016756206543275837,
          0.9111044081572474,
          null,
          0.1251768557440503,
          -0.7451791065092579,
          null,
          0.1251768557440503,
          0.6812955846531752,
          null,
          0.1251768557440503,
          0.7170671791256852,
          null,
          0.1251768557440503,
          -0.7525826069810534,
          null,
          0.1251768557440503,
          0.07823716519383601,
          null,
          0.1251768557440503,
          0.8920056944990616,
          null,
          0.1251768557440503,
          0.22675506445046203,
          null,
          -0.014129930442265461,
          -0.7451791065092579,
          null,
          -0.014129930442265461,
          0.7170671791256852,
          null,
          -0.5539452762704514,
          -0.7451791065092579,
          null,
          0.8764803650483401,
          0.9107067450611314,
          null,
          0.5966079026792831,
          0.6812955846531752,
          null,
          -0.7950232242866349,
          -0.8179106929860788,
          null,
          0.32140985610252176,
          -0.24922456692573766,
          null,
          0.32140985610252176,
          0.8920056944990616,
          null,
          -0.34314516691637464,
          -0.7451791065092579,
          null,
          -0.34314516691637464,
          0.059473872404400906,
          null,
          0.4778103307897367,
          0.07823716519383601,
          null,
          0.4778103307897367,
          0.8920056944990616,
          null,
          0.4778103307897367,
          0.6812955846531752,
          null,
          0.04357575313623274,
          0.059473872404400906,
          null,
          0.3161457778317188,
          0.4013234193212713,
          null,
          -0.5541617665770213,
          -0.8179106929860788,
          null,
          0.647008266853144,
          0.6812955846531752,
          null,
          0.20799310830493054,
          0.22675506445046203,
          null,
          0.7107320011273437,
          0.9340345836307611,
          null,
          0.7945095302555764,
          0.879030924818761,
          null,
          0.7945095302555764,
          0.7170671791256852,
          null
         ],
         "y": [
          0.013595060777192093,
          0.49218587017636684,
          null,
          0.013595060777192093,
          -0.7025487772953672,
          null,
          0.013595060777192093,
          -0.6454378138249578,
          null,
          0.013595060777192093,
          -0.6345429642915956,
          null,
          0.013595060777192093,
          0.47840477396186143,
          null,
          0.013595060777192093,
          -0.9119880909896605,
          null,
          0.013595060777192093,
          0.365019820229589,
          null,
          0.013595060777192093,
          0.6901684808204382,
          null,
          0.013595060777192093,
          0.9454975016707708,
          null,
          0.013595060777192093,
          0.631638971477253,
          null,
          0.013595060777192093,
          0.8406758212000965,
          null,
          0.013595060777192093,
          0.7652908572917526,
          null,
          0.013595060777192093,
          -0.9642693568429495,
          null,
          0.013595060777192093,
          0.6767519525599778,
          null,
          0.013595060777192093,
          0.3291406659103526,
          null,
          0.013595060777192093,
          -0.0649912734898771,
          null,
          0.013595060777192093,
          0.5706726787276951,
          null,
          0.013595060777192093,
          -0.6351156251853411,
          null,
          0.013595060777192093,
          0.8570702084709919,
          null,
          0.013595060777192093,
          -0.7936495443627474,
          null,
          0.013595060777192093,
          0.9281056104642266,
          null,
          0.013595060777192093,
          -0.7921391650928427,
          null,
          0.013595060777192093,
          0.08770889730121961,
          null,
          0.013595060777192093,
          -0.8703348746968382,
          null,
          0.013595060777192093,
          0.858293077873011,
          null,
          0.013595060777192093,
          0.001172363237439962,
          null,
          0.013595060777192093,
          -0.3764931751846752,
          null,
          0.013595060777192093,
          -0.2401275257272294,
          null,
          0.013595060777192093,
          -0.829683602991834,
          null,
          0.013595060777192093,
          0.24364821435006342,
          null,
          0.013595060777192093,
          -0.32537593815965365,
          null,
          0.013595060777192093,
          -0.5641407205064772,
          null,
          0.013595060777192093,
          0.02866835800455665,
          null,
          0.013595060777192093,
          -0.5000890590349619,
          null,
          0.013595060777192093,
          0.8409889351983636,
          null,
          0.013595060777192093,
          0.7046225794558446,
          null,
          0.013595060777192093,
          0.5702380555107817,
          null,
          0.013595060777192093,
          0.44631724535745876,
          null,
          0.013595060777192093,
          -0.7112052156987018,
          null,
          0.013595060777192093,
          0.1537987334944463,
          null,
          0.013595060777192093,
          -0.8689360747544522,
          null,
          0.013595060777192093,
          -0.45946197844359377,
          null,
          0.013595060777192093,
          -0.7618108562893519,
          null,
          0.013595060777192093,
          0.8708032814156814,
          null,
          0.013595060777192093,
          0.7630531747190131,
          null,
          0.013595060777192093,
          -0.8854483446229582,
          null,
          0.013595060777192093,
          -0.19594973610108943,
          null,
          0.013595060777192093,
          0.23566173664319184,
          null,
          0.013595060777192093,
          0.6012088873744814,
          null,
          0.013595060777192093,
          0.2709378215167931,
          null,
          0.013595060777192093,
          0.8969015748201153,
          null,
          0.013595060777192093,
          0.4280908733178093,
          null,
          0.013595060777192093,
          -0.0037874557886027555,
          null,
          0.013595060777192093,
          0.3496842392937314,
          null,
          0.013595060777192093,
          -0.9385706825957153,
          null,
          0.013595060777192093,
          -0.8292726661007548,
          null,
          0.6600486681327078,
          0.8708032814156814,
          null,
          0.6600486681327078,
          0.7350790967045675,
          null,
          0.6600486681327078,
          0.5263956694854697,
          null,
          -0.08304385148250895,
          -0.6345429642915956,
          null,
          -0.08304385148250895,
          0.47840477396186143,
          null,
          -0.08304385148250895,
          0.631638971477253,
          null,
          -0.08304385148250895,
          -0.6454378138249578,
          null,
          0.09344216130634032,
          -0.9247835741983675,
          null,
          0.09344216130634032,
          -0.6351156251853411,
          null,
          0.09344216130634032,
          0.3291406659103526,
          null,
          0.09344216130634032,
          0.49218587017636684,
          null,
          0.09344216130634032,
          0.8610616475146746,
          null,
          0.09344216130634032,
          0.9451896797167469,
          null,
          0.09344216130634032,
          0.47840477396186143,
          null,
          0.09344216130634032,
          -0.4124032955820696,
          null,
          0.09344216130634032,
          0.7350790967045675,
          null,
          0.09344216130634032,
          -0.3764931751846752,
          null,
          -0.27356002340286123,
          -0.6345429642915956,
          null,
          -0.27356002340286123,
          0.08770889730121961,
          null,
          -0.0011075096520443447,
          0.7350790967045675,
          null,
          -0.0011075096520443447,
          -0.9642693568429495,
          null,
          -0.0011075096520443447,
          -0.9227736983491913,
          null,
          -0.0011075096520443447,
          -0.34231271828112914,
          null,
          -0.0011075096520443447,
          0.6767519525599778,
          null,
          -0.0011075096520443447,
          0.631638971477253,
          null,
          -0.0011075096520443447,
          -0.6351156251853411,
          null,
          -0.0011075096520443447,
          0.23566173664319184,
          null,
          -0.0011075096520443447,
          0.5706726787276951,
          null,
          -0.34646930135492143,
          -0.6345429642915956,
          null,
          -0.34646930135492143,
          -0.9642693568429495,
          null,
          -0.34646930135492143,
          0.7350790967045675,
          null,
          -0.34646930135492143,
          -0.7025487772953672,
          null,
          -0.34646930135492143,
          -0.9233109050577895,
          null,
          -0.17160929687744222,
          -0.6345429642915956,
          null,
          -0.17160929687744222,
          0.7350790967045675,
          null,
          -0.17160929687744222,
          -0.9642693568429495,
          null,
          -0.17160929687744222,
          0.8406758212000965,
          null,
          -0.17160929687744222,
          -0.6454378138249578,
          null,
          -0.17160929687744222,
          -0.32537593815965365,
          null,
          -0.17160929687744222,
          -0.9227736983491913,
          null,
          0.024969570080147722,
          -0.34231271828112914,
          null,
          0.024969570080147722,
          0.365019820229589,
          null,
          0.024969570080147722,
          0.49218587017636684,
          null,
          0.024969570080147722,
          -0.19594973610108943,
          null,
          0.024969570080147722,
          -0.6351156251853411,
          null,
          0.024969570080147722,
          -0.24108362852972867,
          null,
          0.024969570080147722,
          0.7350790967045675,
          null,
          -0.030390747587106352,
          0.5706726787276951,
          null,
          -0.030390747587106352,
          -0.8282425705657844,
          null,
          -0.030390747587106352,
          0.6767519525599778,
          null,
          -0.030390747587106352,
          -0.6454378138249578,
          null,
          0.06776491350798121,
          0.47840477396186143,
          null,
          0.06776491350798121,
          0.365019820229589,
          null,
          0.06776491350798121,
          0.7350790967045675,
          null,
          0.06776491350798121,
          -0.32537593815965365,
          null,
          0.06776491350798121,
          -0.5641407205064772,
          null,
          0.06776491350798121,
          0.7363341139494973,
          null,
          0.06776491350798121,
          -0.9233109050577895,
          null,
          -0.10285381906662842,
          0.7350790967045675,
          null,
          -0.10285381906662842,
          -0.2727965715043226,
          null,
          -0.10285381906662842,
          -0.9642693568429495,
          null,
          -0.10285381906662842,
          -0.0649912734898771,
          null,
          0.06826991834458368,
          0.16391555427218588,
          null,
          0.06826991834458368,
          -0.18435465500410458,
          null,
          0.06826991834458368,
          -0.8507468061341458,
          null,
          0.06826991834458368,
          -0.9325514127899418,
          null,
          0.06826991834458368,
          0.8653632632495988,
          null,
          0.06826991834458368,
          -0.11479588697164785,
          null,
          0.06826991834458368,
          0.7350790967045675,
          null,
          0.06826991834458368,
          0.8504487204994546,
          null,
          0.5648461913984953,
          0.8406758212000965,
          null,
          0.15862826786891251,
          0.8406758212000965,
          null,
          0.15862826786891251,
          0.631638971477253,
          null,
          0.15862826786891251,
          0.6767519525599778,
          null,
          0.15862826786891251,
          -0.829683602991834,
          null,
          0.15862826786891251,
          -0.32537593815965365,
          null,
          0.4511049567919391,
          0.631638971477253,
          null,
          0.4511049567919391,
          0.7350790967045675,
          null,
          0.4888909032050913,
          0.631638971477253,
          null,
          0.49727219161110564,
          0.631638971477253,
          null,
          -0.16604154521715536,
          0.631638971477253,
          null,
          -0.16604154521715536,
          -0.9642693568429495,
          null,
          -0.7130220369039536,
          -0.9642693568429495,
          null,
          -0.7130220369039536,
          -0.46442442698838815,
          null,
          0.11467263948285587,
          0.7350790967045675,
          null,
          0.11467263948285587,
          0.8406758212000965,
          null,
          0.11467263948285587,
          -0.7025487772953672,
          null,
          0.11467263948285587,
          -0.6454378138249578,
          null,
          0.11467263948285587,
          -0.0649912734898771,
          null,
          0.11467263948285587,
          0.44631724535745876,
          null,
          0.11467263948285587,
          0.8694804244780862,
          null,
          0.11467263948285587,
          -0.7789858171721236,
          null,
          0.11467263948285587,
          0.47840477396186143,
          null,
          0.11467263948285587,
          -0.5758435068475298,
          null,
          0.11467263948285587,
          0.858293077873011,
          null,
          0.11467263948285587,
          0.8309990381713284,
          null,
          0.11467263948285587,
          -0.9227736983491913,
          null,
          0.11467263948285587,
          0.8570702084709919,
          null,
          0.11467263948285587,
          -0.34231271828112914,
          null,
          0.11467263948285587,
          0.8969015748201153,
          null,
          -0.27684515769092,
          -0.6454378138249578,
          null,
          -0.27684515769092,
          0.5706726787276951,
          null,
          -0.27684515769092,
          -0.34231271828112914,
          null,
          -0.27684515769092,
          -0.9642693568429495,
          null,
          -0.27684515769092,
          -0.9227736983491913,
          null,
          -0.27684515769092,
          -0.2727965715043226,
          null,
          -0.27684515769092,
          -0.0649912734898771,
          null,
          0.36608770304113897,
          0.7350790967045675,
          null,
          0.36608770304113897,
          -0.6454378138249578,
          null,
          0.36608770304113897,
          0.49218587017636684,
          null,
          0.36608770304113897,
          0.631638971477253,
          null,
          0.36608770304113897,
          0.9281056104642266,
          null,
          0.36608770304113897,
          0.23566173664319184,
          null,
          0.36608770304113897,
          0.8969015748201153,
          null,
          0.6128096882281515,
          0.7350790967045675,
          null,
          0.6128096882281515,
          0.49218587017636684,
          null,
          0.5525875124409362,
          0.7350790967045675,
          null,
          0.0986503470797524,
          0.08770889730121961,
          null,
          -0.5734570626220604,
          -0.6454378138249578,
          null,
          -0.5976389391599722,
          -0.6351156251853411,
          null,
          -0.31893502281921,
          -0.8744455440176475,
          null,
          -0.31893502281921,
          0.23566173664319184,
          null,
          -0.07475600074700975,
          0.7350790967045675,
          null,
          -0.07475600074700975,
          -0.8854483446229582,
          null,
          0.16794157302546878,
          0.9281056104642266,
          null,
          0.16794157302546878,
          0.23566173664319184,
          null,
          0.16794157302546878,
          -0.6454378138249578,
          null,
          -0.6551558215941495,
          -0.8854483446229582,
          null,
          0.656753478937801,
          0.858293077873011,
          null,
          -0.4284544210246494,
          -0.6351156251853411,
          null,
          -0.6546797728152118,
          -0.6454378138249578,
          null,
          0.8121278691003375,
          0.8969015748201153,
          null,
          -0.10708721023144653,
          -0.13564021183859962,
          null,
          0.08282120390607008,
          -0.32537593815965365,
          null,
          0.08282120390607008,
          0.49218587017636684,
          null
         ]
        },
        {
         "hoverinfo": "text",
         "hovertext": [
          "@STA14_1",
          "@1163",
          "@4811",
          "@STA14_13",
          "@2633",
          "@6702",
          "@3499",
          "@1550",
          "@STA14_20",
          "@STA14_21",
          "@Joy",
          "@STA14_22",
          "@STA14_11",
          "@STA14_24",
          "@5874",
          "@6862",
          "@STA14_27",
          "@Joyce",
          "@STA14_6",
          "@3766",
          "@STA14_5",
          "@8080",
          "@8536",
          "@STA14_9",
          "@2793",
          "@5889",
          "@6025",
          "@0948",
          "@STA14_18",
          "@9207",
          "@3330",
          "@STA14_29",
          "@2348100983330.",
          "@4554",
          "@6751",
          "@STA14_48",
          "@STA14_46",
          "@8225",
          "@STA14_25",
          "@STA14_50",
          "@STA14_12",
          "@STA14_2",
          "@STA14_3",
          "@2230",
          "@8725",
          "@STA14_52",
          "@3641",
          "@7155",
          "@STA14_4",
          "@5756",
          "@STA14_43",
          "@0670",
          "@0872",
          "@4891",
          "@2348143216957🎉🎉",
          "@STA14_17",
          "@STA14_55",
          "@2007",
          "@⁨Caezer",
          "@3536",
          "@STA14_39",
          "@⁨~Jadesola⁩",
          "@2347030166234.",
          "@7704",
          "@3811",
          "@STA14_16",
          "@6653",
          "@⁨Praiz",
          "@3507",
          "@6088",
          "@6977",
          "@6050",
          "@2349030594986.",
          "@⁨~Pascal⁩",
          "@STA14_45",
          "@9341",
          "@⁨Joyce⁩",
          "@⁨Illegal⁩",
          "@HLS",
          "@⁨Pascal(Tall)⁩",
          "@2348060078225,",
          "@⁨Tinted",
          "@5591",
          "@2990",
          "@⁨Taiwo",
          "@STA14_73",
          "@",
          "@⁨~Olawunmi⁩",
          "@⁨~Olamilekan",
          "@6957",
          "@2347065866702.",
          "@William",
          "@STA14_77",
          "@STA14_19",
          "@5856",
          "@STA14_68",
          "@6234",
          "@STA14_36",
          "@STA14_41",
          "@⁨~Teewhizzy⁩",
          "@4023",
          "@2347063234023.",
          "@STA14_79",
          "@⁨Isreal",
          "@2348108886050.",
          "@8077",
          "@0053",
          "@3576",
          "@6062",
          "@4916",
          "@STA14_26",
          "@2348034432727.",
          "@STA14_8",
          "@2727",
          "@⁨Emmanuel⁩",
          "@⁨Jidet⁩",
          "@STA14_64",
          "@⁨Muyiwa⁩",
          "@2045",
          "@⁨Damilola",
          "@2348171185591."
         ],
         "marker": {
          "color": [
           0.4666666666666667,
           0.05,
           0.025,
           0.025,
           0.016666666666666666,
           0.125,
           0.08333333333333333,
           0.041666666666666664,
           0.03333333333333333,
           0.08333333333333333,
           0.008333333333333333,
           0.016666666666666666,
           0.075,
           0.041666666666666664,
           0.06666666666666667,
           0.03333333333333333,
           0.058333333333333334,
           0.008333333333333333,
           0.058333333333333334,
           0.03333333333333333,
           0.03333333333333333,
           0.03333333333333333,
           0.041666666666666664,
           0.058333333333333334,
           0.008333333333333333,
           0.025,
           0.008333333333333333,
           0.008333333333333333,
           0.03333333333333333,
           0.016666666666666666,
           0.008333333333333333,
           0.06666666666666667,
           0.008333333333333333,
           0.075,
           0.041666666666666664,
           0.008333333333333333,
           0.041666666666666664,
           0.008333333333333333,
           0.016666666666666666,
           0.008333333333333333,
           0.008333333333333333,
           0.016666666666666666,
           0.016666666666666666,
           0.03333333333333333,
           0.03333333333333333,
           0.13333333333333333,
           0.016666666666666666,
           0.016666666666666666,
           0.058333333333333334,
           0.05,
           0.058333333333333334,
           0.008333333333333333,
           0.041666666666666664,
           0.016666666666666666,
           0.008333333333333333,
           0.016666666666666666,
           0.008333333333333333,
           0.025,
           0.008333333333333333,
           0.025,
           0.008333333333333333,
           0.008333333333333333,
           0.008333333333333333,
           0.025,
           0.008333333333333333,
           0.008333333333333333,
           0.016666666666666666,
           0.008333333333333333,
           0.008333333333333333,
           0.008333333333333333,
           0.008333333333333333,
           0.016666666666666666,
           0.008333333333333333,
           0.008333333333333333,
           0.008333333333333333,
           0.016666666666666666,
           0.008333333333333333,
           0.008333333333333333,
           0.008333333333333333,
           0.008333333333333333,
           0.008333333333333333,
           0.008333333333333333,
           0.016666666666666666,
           0.008333333333333333,
           0.008333333333333333,
           0.016666666666666666,
           0.008333333333333333,
           0.008333333333333333,
           0.008333333333333333,
           0.008333333333333333,
           0.008333333333333333,
           0.008333333333333333,
           0.016666666666666666,
           0.025,
           0.025,
           0.008333333333333333,
           0.041666666666666664,
           0.008333333333333333,
           0.008333333333333333,
           0.008333333333333333,
           0.016666666666666666,
           0.008333333333333333,
           0.008333333333333333,
           0.008333333333333333,
           0.008333333333333333,
           0.008333333333333333,
           0.008333333333333333,
           0.008333333333333333,
           0.008333333333333333,
           0.03333333333333333,
           0.008333333333333333,
           0.008333333333333333,
           0.008333333333333333,
           0.008333333333333333,
           0.008333333333333333,
           0.008333333333333333,
           0.016666666666666666,
           0.008333333333333333,
           0.008333333333333333,
           0.008333333333333333,
           0.008333333333333333
          ],
          "colorbar": {
           "thickness": 15,
           "title": {
            "text": "Node Centrality"
           },
           "xanchor": "left"
          },
          "colorscale": [
           [
            0,
            "rgb(210, 251, 212)"
           ],
           [
            0.16666666666666666,
            "rgb(165, 219, 194)"
           ],
           [
            0.3333333333333333,
            "rgb(123, 188, 176)"
           ],
           [
            0.5,
            "rgb(85, 156, 158)"
           ],
           [
            0.6666666666666666,
            "rgb(58, 124, 137)"
           ],
           [
            0.8333333333333334,
            "rgb(35, 93, 114)"
           ],
           [
            1,
            "rgb(18, 63, 90)"
           ]
          ],
          "line": {
           "color": "green",
           "width": 2
          },
          "showscale": true,
          "size": [
           33.33333333333333,
           12.5,
           11.25,
           11.25,
           10.833333333333334,
           16.25,
           14.166666666666666,
           12.083333333333332,
           11.666666666666666,
           14.166666666666666,
           10.416666666666666,
           10.833333333333334,
           13.75,
           12.083333333333332,
           13.333333333333334,
           11.666666666666666,
           12.916666666666666,
           10.416666666666666,
           12.916666666666666,
           11.666666666666666,
           11.666666666666666,
           11.666666666666666,
           12.083333333333332,
           12.916666666666666,
           10.416666666666666,
           11.25,
           10.416666666666666,
           10.416666666666666,
           11.666666666666666,
           10.833333333333334,
           10.416666666666666,
           13.333333333333334,
           10.416666666666666,
           13.75,
           12.083333333333332,
           10.416666666666666,
           12.083333333333332,
           10.416666666666666,
           10.833333333333334,
           10.416666666666666,
           10.416666666666666,
           10.833333333333334,
           10.833333333333334,
           11.666666666666666,
           11.666666666666666,
           16.666666666666668,
           10.833333333333334,
           10.833333333333334,
           12.916666666666666,
           12.5,
           12.916666666666666,
           10.416666666666666,
           12.083333333333332,
           10.833333333333334,
           10.416666666666666,
           10.833333333333334,
           10.416666666666666,
           11.25,
           10.416666666666666,
           11.25,
           10.416666666666666,
           10.416666666666666,
           10.416666666666666,
           11.25,
           10.416666666666666,
           10.416666666666666,
           10.833333333333334,
           10.416666666666666,
           10.416666666666666,
           10.416666666666666,
           10.416666666666666,
           10.833333333333334,
           10.416666666666666,
           10.416666666666666,
           10.416666666666666,
           10.833333333333334,
           10.416666666666666,
           10.416666666666666,
           10.416666666666666,
           10.416666666666666,
           10.416666666666666,
           10.416666666666666,
           10.833333333333334,
           10.416666666666666,
           10.416666666666666,
           10.833333333333334,
           10.416666666666666,
           10.416666666666666,
           10.416666666666666,
           10.416666666666666,
           10.416666666666666,
           10.416666666666666,
           10.833333333333334,
           11.25,
           11.25,
           10.416666666666666,
           12.083333333333332,
           10.416666666666666,
           10.416666666666666,
           10.416666666666666,
           10.833333333333334,
           10.416666666666666,
           10.416666666666666,
           10.416666666666666,
           10.416666666666666,
           10.416666666666666,
           10.416666666666666,
           10.416666666666666,
           10.416666666666666,
           11.666666666666666,
           10.416666666666666,
           10.416666666666666,
           10.416666666666666,
           10.416666666666666,
           10.416666666666666,
           10.416666666666666,
           10.833333333333334,
           10.416666666666666,
           10.416666666666666,
           10.416666666666666,
           10.416666666666666
          ]
         },
         "mode": "markers+text",
         "text": [
          "STA14_1",
          "1163",
          "4811",
          "STA14_13",
          "2633",
          "6702",
          "3499",
          "1550",
          "STA14_20",
          "STA14_21",
          "Joy",
          "STA14_22",
          "STA14_11",
          "STA14_24",
          "5874",
          "6862",
          "STA14_27",
          "Joyce",
          "STA14_6",
          "3766",
          "STA14_5",
          "8080",
          "8536",
          "STA14_9",
          "2793",
          "5889",
          "6025",
          "0948",
          "STA14_18",
          "9207",
          "3330",
          "STA14_29",
          "2348100983330.",
          "4554",
          "6751",
          "STA14_48",
          "STA14_46",
          "8225",
          "STA14_25",
          "STA14_50",
          "STA14_12",
          "STA14_2",
          "STA14_3",
          "2230",
          "8725",
          "STA14_52",
          "3641",
          "7155",
          "STA14_4",
          "5756",
          "STA14_43",
          "0670",
          "0872",
          "4891",
          "2348143216957🎉🎉",
          "STA14_17",
          "STA14_55",
          "2007",
          "⁨Caezer",
          "3536",
          "STA14_39",
          "⁨~Jadesola⁩",
          "2347030166234.",
          "7704",
          "3811",
          "STA14_16",
          "6653",
          "⁨Praiz",
          "3507",
          "6088",
          "6977",
          "6050",
          "2349030594986.",
          "⁨~Pascal⁩",
          "STA14_45",
          "9341",
          "⁨Joyce⁩",
          "⁨Illegal⁩",
          "HLS",
          "⁨Pascal(Tall)⁩",
          "2348060078225,",
          "⁨Tinted",
          "5591",
          "2990",
          "⁨Taiwo",
          "STA14_73",
          "",
          "⁨~Olawunmi⁩",
          "⁨~Olamilekan",
          "6957",
          "2347065866702.",
          "William",
          "STA14_77",
          "STA14_19",
          "5856",
          "STA14_68",
          "6234",
          "STA14_36",
          "STA14_41",
          "⁨~Teewhizzy⁩",
          "4023",
          "2347063234023.",
          "STA14_79",
          "⁨Isreal",
          "2348108886050.",
          "8077",
          "0053",
          "3576",
          "6062",
          "4916",
          "STA14_26",
          "2348034432727.",
          "STA14_8",
          "2727",
          "⁨Emmanuel⁩",
          "⁨Jidet⁩",
          "STA14_64",
          "⁨Muyiwa⁩",
          "2045",
          "⁨Damilola",
          "2348171185591."
         ],
         "textposition": "top center",
         "type": "scatter",
         "x": [
          0.04728916244836371,
          0.7170671791256852,
          -0.7014035736658122,
          0.041518794970327476,
          0.10896183031580838,
          -0.7451791065092579,
          0.6812955846531752,
          -0.7466950455837361,
          -0.29048578472618297,
          -0.09117509451570237,
          0.13673609562873615,
          0.0816999021252957,
          -0.10030832754980218,
          -0.36609098823655023,
          0.020677154156104906,
          -0.04802744379105575,
          -0.09726362016004805,
          0.8144592194855478,
          0.04667038738462824,
          0.7799777867378795,
          -0.018350291306725868,
          -0.860208500840427,
          -0.7876752978555891,
          0.08039534881794745,
          -0.12517611529065611,
          0.8887355396774943,
          0.6991559842993146,
          -0.041069330902982,
          -0.15038274838679178,
          -0.9593859557574609,
          -0.3664571964109581,
          -0.400643764701989,
          -0.8937852858851667,
          -0.7525826069810534,
          -0.5982558276025887,
          -0.4111818062342515,
          0.04417050399392098,
          0.46442588153932735,
          -0.5013063948028149,
          -0.5930687242925372,
          -0.5785029391393437,
          -0.36613764174456853,
          -0.44938429231023,
          0.5556925504757954,
          0.9111044081572474,
          -0.01627749505562043,
          0.804867191930998,
          0.8521677113513462,
          0.0016756206543275837,
          -0.8179106929860788,
          0.1251768557440503,
          -0.8326503280525275,
          0.879030924818761,
          -0.2915112567203984,
          -0.6000578583990837,
          -0.014129930442265461,
          -0.5539452762704514,
          0.07823716519383601,
          0.5043096171316995,
          0.9107067450611314,
          0.8764803650483401,
          -0.42356297103877283,
          -0.9139836694357724,
          0.4013234193212713,
          -0.9999999999999999,
          0.5966079026792831,
          -0.8984456369097105,
          0.9102394196461762,
          -0.17744551533276529,
          -0.23921690144468033,
          0.866607345687004,
          0.21351734459075766,
          -0.5155051760576855,
          0.7674975127391301,
          -0.7950232242866349,
          0.7640987621105452,
          -0.9550078305659393,
          0.8309308125333121,
          0.3208040422939738,
          -0.6142546688319697,
          -0.4795913570486459,
          0.6049492774240948,
          -0.8964766771728978,
          -0.6272228121526519,
          -0.9789194908770158,
          0.32140985610252176,
          -0.24922456692573766,
          0.30748394957900865,
          0.7333615389161362,
          0.6109841080049889,
          -0.20804902202968575,
          0.6065216193713474,
          -0.34314516691637464,
          0.4778103307897367,
          0.059473872404400906,
          0.04357575313623274,
          0.8920056944990616,
          0.3161457778317188,
          -0.5541617665770213,
          0.7290322256913548,
          0.2336863722575924,
          -0.47277644026647025,
          0.647008266853144,
          -0.9387620563400728,
          -0.9207448797551053,
          -0.0664146363708346,
          0.43656781707458725,
          0.6936538617538907,
          -0.38575762180445744,
          0.22675506445046203,
          0.20799310830493054,
          -0.9696178153242557,
          0.7107320011273437,
          0.9340345836307611,
          0.8135234466471505,
          0.8828912659747163,
          0.7945095302555764,
          -0.8852652159766382,
          -0.3253708774112619,
          0.37480179918206213,
          0.517389346172403
         ],
         "y": [
          0.013595060777192093,
          0.49218587017636684,
          -0.7025487772953672,
          0.6600486681327078,
          0.8708032814156814,
          0.7350790967045675,
          -0.6454378138249578,
          -0.6345429642915956,
          -0.08304385148250895,
          0.09344216130634032,
          -0.9247835741983675,
          -0.27356002340286123,
          -0.0011075096520443447,
          -0.34646930135492143,
          -0.9642693568429495,
          -0.9227736983491913,
          -0.17160929687744222,
          0.5263956694854697,
          0.024969570080147722,
          -0.34231271828112914,
          -0.030390747587106352,
          0.5706726787276951,
          0.47840477396186143,
          0.06776491350798121,
          -0.9119880909896605,
          0.365019820229589,
          0.6901684808204382,
          0.9454975016707708,
          -0.10285381906662842,
          -0.2727965715043226,
          -0.8282425705657844,
          0.06826991834458368,
          0.16391555427218588,
          0.631638971477253,
          0.8406758212000965,
          0.5648461913984953,
          0.15862826786891251,
          0.7652908572917526,
          0.4511049567919391,
          0.4888909032050913,
          0.49727219161110564,
          -0.16604154521715536,
          -0.7130220369039536,
          0.6767519525599778,
          -0.0649912734898771,
          0.11467263948285587,
          0.3291406659103526,
          -0.19594973610108943,
          -0.27684515769092,
          -0.6351156251853411,
          0.36608770304113897,
          -0.24108362852972867,
          -0.32537593815965365,
          0.8570702084709919,
          -0.7936495443627474,
          0.6128096882281515,
          0.5525875124409362,
          0.9281056104642266,
          -0.7921391650928427,
          0.08770889730121961,
          0.0986503470797524,
          -0.8703348746968382,
          -0.18435465500410458,
          0.858293077873011,
          0.001172363237439962,
          -0.5734570626220604,
          -0.3764931751846752,
          -0.2401275257272294,
          0.8610616475146746,
          0.9451896797167469,
          -0.4124032955820696,
          -0.829683602991834,
          -0.8507468061341458,
          0.24364821435006342,
          -0.5976389391599722,
          -0.5641407205064772,
          0.02866835800455665,
          -0.5000890590349619,
          0.8409889351983636,
          0.7046225794558446,
          0.7363341139494973,
          0.5702380555107817,
          0.44631724535745876,
          -0.7112052156987018,
          0.1537987334944463,
          -0.31893502281921,
          -0.8744455440176475,
          -0.8689360747544522,
          -0.45946197844359377,
          -0.7618108562893519,
          -0.9325514127899418,
          0.7630531747190131,
          -0.07475600074700975,
          0.16794157302546878,
          -0.8854483446229582,
          -0.6551558215941495,
          0.23566173664319184,
          0.656753478937801,
          -0.4284544210246494,
          0.6012088873744814,
          -0.9233109050577895,
          0.8653632632495988,
          -0.6546797728152118,
          0.2709378215167931,
          -0.46442442698838815,
          0.8694804244780862,
          -0.7789858171721236,
          -0.5758435068475298,
          0.8309990381713284,
          0.8969015748201153,
          0.8121278691003375,
          -0.11479588697164785,
          -0.10708721023144653,
          -0.13564021183859962,
          0.4280908733178093,
          -0.0037874557886027555,
          0.08282120390607008,
          0.3496842392937314,
          -0.9385706825957153,
          -0.8292726661007548,
          0.8504487204994546
         ]
        }
       ],
       "layout": {
        "font": {
         "color": "rgb(200,200,200)",
         "size": 12
        },
        "hoverlabel": {
         "bgcolor": "rgba(0,0,0,0.8)",
         "font": {
          "color": "green"
         }
        },
        "hovermode": "closest",
        "margin": {
         "b": 0,
         "l": 0,
         "r": 0,
         "t": 40
        },
        "paper_bgcolor": "rgb(18, 18, 18)",
        "plot_bgcolor": "rgb(18, 18, 18)",
        "showlegend": false,
        "template": {
         "data": {
          "bar": [
           {
            "error_x": {
             "color": "#2a3f5f"
            },
            "error_y": {
             "color": "#2a3f5f"
            },
            "marker": {
             "line": {
              "color": "#E5ECF6",
              "width": 0.5
             },
             "pattern": {
              "fillmode": "overlay",
              "size": 10,
              "solidity": 0.2
             }
            },
            "type": "bar"
           }
          ],
          "barpolar": [
           {
            "marker": {
             "line": {
              "color": "#E5ECF6",
              "width": 0.5
             },
             "pattern": {
              "fillmode": "overlay",
              "size": 10,
              "solidity": 0.2
             }
            },
            "type": "barpolar"
           }
          ],
          "carpet": [
           {
            "aaxis": {
             "endlinecolor": "#2a3f5f",
             "gridcolor": "white",
             "linecolor": "white",
             "minorgridcolor": "white",
             "startlinecolor": "#2a3f5f"
            },
            "baxis": {
             "endlinecolor": "#2a3f5f",
             "gridcolor": "white",
             "linecolor": "white",
             "minorgridcolor": "white",
             "startlinecolor": "#2a3f5f"
            },
            "type": "carpet"
           }
          ],
          "choropleth": [
           {
            "colorbar": {
             "outlinewidth": 0,
             "ticks": ""
            },
            "type": "choropleth"
           }
          ],
          "contour": [
           {
            "colorbar": {
             "outlinewidth": 0,
             "ticks": ""
            },
            "colorscale": [
             [
              0,
              "#0d0887"
             ],
             [
              0.1111111111111111,
              "#46039f"
             ],
             [
              0.2222222222222222,
              "#7201a8"
             ],
             [
              0.3333333333333333,
              "#9c179e"
             ],
             [
              0.4444444444444444,
              "#bd3786"
             ],
             [
              0.5555555555555556,
              "#d8576b"
             ],
             [
              0.6666666666666666,
              "#ed7953"
             ],
             [
              0.7777777777777778,
              "#fb9f3a"
             ],
             [
              0.8888888888888888,
              "#fdca26"
             ],
             [
              1,
              "#f0f921"
             ]
            ],
            "type": "contour"
           }
          ],
          "contourcarpet": [
           {
            "colorbar": {
             "outlinewidth": 0,
             "ticks": ""
            },
            "type": "contourcarpet"
           }
          ],
          "heatmap": [
           {
            "colorbar": {
             "outlinewidth": 0,
             "ticks": ""
            },
            "colorscale": [
             [
              0,
              "#0d0887"
             ],
             [
              0.1111111111111111,
              "#46039f"
             ],
             [
              0.2222222222222222,
              "#7201a8"
             ],
             [
              0.3333333333333333,
              "#9c179e"
             ],
             [
              0.4444444444444444,
              "#bd3786"
             ],
             [
              0.5555555555555556,
              "#d8576b"
             ],
             [
              0.6666666666666666,
              "#ed7953"
             ],
             [
              0.7777777777777778,
              "#fb9f3a"
             ],
             [
              0.8888888888888888,
              "#fdca26"
             ],
             [
              1,
              "#f0f921"
             ]
            ],
            "type": "heatmap"
           }
          ],
          "histogram": [
           {
            "marker": {
             "pattern": {
              "fillmode": "overlay",
              "size": 10,
              "solidity": 0.2
             }
            },
            "type": "histogram"
           }
          ],
          "histogram2d": [
           {
            "colorbar": {
             "outlinewidth": 0,
             "ticks": ""
            },
            "colorscale": [
             [
              0,
              "#0d0887"
             ],
             [
              0.1111111111111111,
              "#46039f"
             ],
             [
              0.2222222222222222,
              "#7201a8"
             ],
             [
              0.3333333333333333,
              "#9c179e"
             ],
             [
              0.4444444444444444,
              "#bd3786"
             ],
             [
              0.5555555555555556,
              "#d8576b"
             ],
             [
              0.6666666666666666,
              "#ed7953"
             ],
             [
              0.7777777777777778,
              "#fb9f3a"
             ],
             [
              0.8888888888888888,
              "#fdca26"
             ],
             [
              1,
              "#f0f921"
             ]
            ],
            "type": "histogram2d"
           }
          ],
          "histogram2dcontour": [
           {
            "colorbar": {
             "outlinewidth": 0,
             "ticks": ""
            },
            "colorscale": [
             [
              0,
              "#0d0887"
             ],
             [
              0.1111111111111111,
              "#46039f"
             ],
             [
              0.2222222222222222,
              "#7201a8"
             ],
             [
              0.3333333333333333,
              "#9c179e"
             ],
             [
              0.4444444444444444,
              "#bd3786"
             ],
             [
              0.5555555555555556,
              "#d8576b"
             ],
             [
              0.6666666666666666,
              "#ed7953"
             ],
             [
              0.7777777777777778,
              "#fb9f3a"
             ],
             [
              0.8888888888888888,
              "#fdca26"
             ],
             [
              1,
              "#f0f921"
             ]
            ],
            "type": "histogram2dcontour"
           }
          ],
          "mesh3d": [
           {
            "colorbar": {
             "outlinewidth": 0,
             "ticks": ""
            },
            "type": "mesh3d"
           }
          ],
          "parcoords": [
           {
            "line": {
             "colorbar": {
              "outlinewidth": 0,
              "ticks": ""
             }
            },
            "type": "parcoords"
           }
          ],
          "pie": [
           {
            "automargin": true,
            "type": "pie"
           }
          ],
          "scatter": [
           {
            "fillpattern": {
             "fillmode": "overlay",
             "size": 10,
             "solidity": 0.2
            },
            "type": "scatter"
           }
          ],
          "scatter3d": [
           {
            "line": {
             "colorbar": {
              "outlinewidth": 0,
              "ticks": ""
             }
            },
            "marker": {
             "colorbar": {
              "outlinewidth": 0,
              "ticks": ""
             }
            },
            "type": "scatter3d"
           }
          ],
          "scattercarpet": [
           {
            "marker": {
             "colorbar": {
              "outlinewidth": 0,
              "ticks": ""
             }
            },
            "type": "scattercarpet"
           }
          ],
          "scattergeo": [
           {
            "marker": {
             "colorbar": {
              "outlinewidth": 0,
              "ticks": ""
             }
            },
            "type": "scattergeo"
           }
          ],
          "scattergl": [
           {
            "marker": {
             "colorbar": {
              "outlinewidth": 0,
              "ticks": ""
             }
            },
            "type": "scattergl"
           }
          ],
          "scattermap": [
           {
            "marker": {
             "colorbar": {
              "outlinewidth": 0,
              "ticks": ""
             }
            },
            "type": "scattermap"
           }
          ],
          "scattermapbox": [
           {
            "marker": {
             "colorbar": {
              "outlinewidth": 0,
              "ticks": ""
             }
            },
            "type": "scattermapbox"
           }
          ],
          "scatterpolar": [
           {
            "marker": {
             "colorbar": {
              "outlinewidth": 0,
              "ticks": ""
             }
            },
            "type": "scatterpolar"
           }
          ],
          "scatterpolargl": [
           {
            "marker": {
             "colorbar": {
              "outlinewidth": 0,
              "ticks": ""
             }
            },
            "type": "scatterpolargl"
           }
          ],
          "scatterternary": [
           {
            "marker": {
             "colorbar": {
              "outlinewidth": 0,
              "ticks": ""
             }
            },
            "type": "scatterternary"
           }
          ],
          "surface": [
           {
            "colorbar": {
             "outlinewidth": 0,
             "ticks": ""
            },
            "colorscale": [
             [
              0,
              "#0d0887"
             ],
             [
              0.1111111111111111,
              "#46039f"
             ],
             [
              0.2222222222222222,
              "#7201a8"
             ],
             [
              0.3333333333333333,
              "#9c179e"
             ],
             [
              0.4444444444444444,
              "#bd3786"
             ],
             [
              0.5555555555555556,
              "#d8576b"
             ],
             [
              0.6666666666666666,
              "#ed7953"
             ],
             [
              0.7777777777777778,
              "#fb9f3a"
             ],
             [
              0.8888888888888888,
              "#fdca26"
             ],
             [
              1,
              "#f0f921"
             ]
            ],
            "type": "surface"
           }
          ],
          "table": [
           {
            "cells": {
             "fill": {
              "color": "#EBF0F8"
             },
             "line": {
              "color": "white"
             }
            },
            "header": {
             "fill": {
              "color": "#C8D4E3"
             },
             "line": {
              "color": "white"
             }
            },
            "type": "table"
           }
          ]
         },
         "layout": {
          "annotationdefaults": {
           "arrowcolor": "#2a3f5f",
           "arrowhead": 0,
           "arrowwidth": 1
          },
          "autotypenumbers": "strict",
          "coloraxis": {
           "colorbar": {
            "outlinewidth": 0,
            "ticks": ""
           }
          },
          "colorscale": {
           "diverging": [
            [
             0,
             "#8e0152"
            ],
            [
             0.1,
             "#c51b7d"
            ],
            [
             0.2,
             "#de77ae"
            ],
            [
             0.3,
             "#f1b6da"
            ],
            [
             0.4,
             "#fde0ef"
            ],
            [
             0.5,
             "#f7f7f7"
            ],
            [
             0.6,
             "#e6f5d0"
            ],
            [
             0.7,
             "#b8e186"
            ],
            [
             0.8,
             "#7fbc41"
            ],
            [
             0.9,
             "#4d9221"
            ],
            [
             1,
             "#276419"
            ]
           ],
           "sequential": [
            [
             0,
             "#0d0887"
            ],
            [
             0.1111111111111111,
             "#46039f"
            ],
            [
             0.2222222222222222,
             "#7201a8"
            ],
            [
             0.3333333333333333,
             "#9c179e"
            ],
            [
             0.4444444444444444,
             "#bd3786"
            ],
            [
             0.5555555555555556,
             "#d8576b"
            ],
            [
             0.6666666666666666,
             "#ed7953"
            ],
            [
             0.7777777777777778,
             "#fb9f3a"
            ],
            [
             0.8888888888888888,
             "#fdca26"
            ],
            [
             1,
             "#f0f921"
            ]
           ],
           "sequentialminus": [
            [
             0,
             "#0d0887"
            ],
            [
             0.1111111111111111,
             "#46039f"
            ],
            [
             0.2222222222222222,
             "#7201a8"
            ],
            [
             0.3333333333333333,
             "#9c179e"
            ],
            [
             0.4444444444444444,
             "#bd3786"
            ],
            [
             0.5555555555555556,
             "#d8576b"
            ],
            [
             0.6666666666666666,
             "#ed7953"
            ],
            [
             0.7777777777777778,
             "#fb9f3a"
            ],
            [
             0.8888888888888888,
             "#fdca26"
            ],
            [
             1,
             "#f0f921"
            ]
           ]
          },
          "colorway": [
           "#636efa",
           "#EF553B",
           "#00cc96",
           "#ab63fa",
           "#FFA15A",
           "#19d3f3",
           "#FF6692",
           "#B6E880",
           "#FF97FF",
           "#FECB52"
          ],
          "font": {
           "color": "#2a3f5f"
          },
          "geo": {
           "bgcolor": "white",
           "lakecolor": "white",
           "landcolor": "#E5ECF6",
           "showlakes": true,
           "showland": true,
           "subunitcolor": "white"
          },
          "hoverlabel": {
           "align": "left"
          },
          "hovermode": "closest",
          "mapbox": {
           "style": "light"
          },
          "paper_bgcolor": "white",
          "plot_bgcolor": "#E5ECF6",
          "polar": {
           "angularaxis": {
            "gridcolor": "white",
            "linecolor": "white",
            "ticks": ""
           },
           "bgcolor": "#E5ECF6",
           "radialaxis": {
            "gridcolor": "white",
            "linecolor": "white",
            "ticks": ""
           }
          },
          "scene": {
           "xaxis": {
            "backgroundcolor": "#E5ECF6",
            "gridcolor": "white",
            "gridwidth": 2,
            "linecolor": "white",
            "showbackground": true,
            "ticks": "",
            "zerolinecolor": "white"
           },
           "yaxis": {
            "backgroundcolor": "#E5ECF6",
            "gridcolor": "white",
            "gridwidth": 2,
            "linecolor": "white",
            "showbackground": true,
            "ticks": "",
            "zerolinecolor": "white"
           },
           "zaxis": {
            "backgroundcolor": "#E5ECF6",
            "gridcolor": "white",
            "gridwidth": 2,
            "linecolor": "white",
            "showbackground": true,
            "ticks": "",
            "zerolinecolor": "white"
           }
          },
          "shapedefaults": {
           "line": {
            "color": "#2a3f5f"
           }
          },
          "ternary": {
           "aaxis": {
            "gridcolor": "white",
            "linecolor": "white",
            "ticks": ""
           },
           "baxis": {
            "gridcolor": "white",
            "linecolor": "white",
            "ticks": ""
           },
           "bgcolor": "#E5ECF6",
           "caxis": {
            "gridcolor": "white",
            "linecolor": "white",
            "ticks": ""
           }
          },
          "title": {
           "x": 0.05
          },
          "xaxis": {
           "automargin": true,
           "gridcolor": "white",
           "linecolor": "white",
           "ticks": "",
           "title": {
            "standoff": 15
           },
           "zerolinecolor": "white",
           "zerolinewidth": 2
          },
          "yaxis": {
           "automargin": true,
           "gridcolor": "white",
           "linecolor": "white",
           "ticks": "",
           "title": {
            "standoff": 15
           },
           "zerolinecolor": "white",
           "zerolinewidth": 2
          }
         }
        },
        "title": {
         "font": {
          "color": "white",
          "size": 18
         },
         "text": "WhatsApp Interaction Network"
        },
        "xaxis": {
         "showgrid": false,
         "zeroline": false
        },
        "yaxis": {
         "showgrid": false,
         "zeroline": false
        }
       }
      }
     },
     "metadata": {},
     "output_type": "display_data"
    }
   ],
   "source": [
    "\n",
    "# Create a directed graph\n",
    "G = nx.DiGraph()\n",
    "\n",
    "# Add edges based on messages sent by each member\n",
    "for index, row in df.iterrows():\n",
    "    sender = row[\"member\"]\n",
    "    \n",
    "    # Extract last four digits if the mention is a number, otherwise keep it as is\n",
    "    mentioned_users = [word.strip(\"@\")[-4:] if word.strip(\"@\").isdigit() else word.strip(\"@\") \n",
    "                       for word in row[\"message\"].split() if word.startswith(\"@\")]\n",
    "    \n",
    "    for mentioned in mentioned_users:\n",
    "        G.add_edge(sender, mentioned, weight=1)\n",
    "\n",
    "# Compute positions using a layout algorithm\n",
    "pos = nx.spring_layout(G, seed=42)  # Consistent node positioning\n",
    "\n",
    "# Create edge coordinates\n",
    "edge_x = []\n",
    "edge_y = []\n",
    "for edge in G.edges():\n",
    "    x0, y0 = pos[edge[0]]\n",
    "    x1, y1 = pos[edge[1]]\n",
    "    edge_x.extend([x0, x1, None])  # 'None' to separate edges\n",
    "    edge_y.extend([y0, y1, None])\n",
    "\n",
    "# Create node coordinates\n",
    "node_x = []\n",
    "node_y = []\n",
    "node_text = []\n",
    "node_hover_text = []\n",
    "for node in G.nodes():\n",
    "    x, y = pos[node]\n",
    "    node_x.append(x)\n",
    "    node_y.append(y)\n",
    "    \n",
    "    # Default text (no @)\n",
    "    node_text.append(node)\n",
    "    \n",
    "    # Hover text (with @)\n",
    "    node_hover_text.append(f\"@{node}\")  \n",
    "\n",
    "# Compute degree centrality for node coloring\n",
    "centrality = nx.degree_centrality(G)\n",
    "node_color = [centrality[node] for node in G.nodes()]\n",
    "node_size = [10 + (cent * 50) for cent in centrality.values()]  # Adjust node size dynamically\n",
    "\n",
    "# Create edge trace (gray edges)\n",
    "edge_trace = go.Scatter(\n",
    "    x=edge_x, y=edge_y,\n",
    "    line=dict(width=1, color='gray'),  \n",
    "    hoverinfo='none',\n",
    "    mode='lines'\n",
    ")\n",
    "\n",
    "# Create node trace (green nodes with dark theme)\n",
    "node_trace = go.Scatter(\n",
    "    x=node_x, y=node_y,\n",
    "    mode='markers+text',\n",
    "    text=node_text,  # Show names without \"@\"\n",
    "    textposition=\"top center\",\n",
    "    hoverinfo='text',\n",
    "    hovertext=node_hover_text,  # Show full mention with \"@\" on hover\n",
    "    marker=dict(\n",
    "        showscale=True,\n",
    "        colorscale='darkmint',  \n",
    "        color=node_color,\n",
    "        size=node_size,\n",
    "        colorbar=dict(\n",
    "            thickness=15,\n",
    "            title=dict(text=\"Node Centrality\"),\n",
    "            xanchor='left'\n",
    "        ),\n",
    "        line=dict(width=2, color='green')  # Black outline for node visibility\n",
    "    )\n",
    ")\n",
    "\n",
    "# Create the figure with layout inside go.Figure()\n",
    "fig = go.Figure(\n",
    "    data=[edge_trace, node_trace],\n",
    "    layout=go.Layout(\n",
    "        title='WhatsApp Interaction Network',\n",
    "        title_font=dict(color='white', size=18),\n",
    "        showlegend=False,\n",
    "        hovermode='closest',\n",
    "        plot_bgcolor='rgb(18, 18, 18)',  \n",
    "        paper_bgcolor='rgb(18, 18, 18)',  \n",
    "        font=dict(color='rgb(200,200,200)', size=12),  # Dimmer font color\n",
    "        xaxis=dict(showgrid=False, zeroline=False),\n",
    "        yaxis=dict(showgrid=False, zeroline=False),\n",
    "        margin=dict(l=0, r=0, b=0, t=40),\n",
    "        hoverlabel=dict(\n",
    "            bgcolor=\"rgba(0,0,0,0.8)\",  \n",
    "            font=dict(color=\"green\")\n",
    "        )\n",
    "    )\n",
    ")\n",
    "\n",
    "# Show\n",
    "fig.show()\n"
   ]
  },
  {
   "cell_type": "markdown",
   "metadata": {},
   "source": [
    "#### - Interpretation \n",
    "\n",
    "* The most active participants `@STA14_1` and `@STA14_6` forms the core of the network. `@STA14_1` has the largest node in the network indicating an alumnus with more direct connections (i.e., interact with many group members).\n",
    "\n",
    "* The central region contains handful of clustered nodes one of such containing `@STA14_1`, `@STA14_6`, `@STA14_9`, `@STA14_46`, `@STA14_52`, and `@STA14_5`, showing high activity levels among certain members.\n",
    "\n",
    "* Nodes like `@Damilola`, `@~Jadesola`, `@Muyiwa` and many others have only one or two connections, suggesting minimal engagement (e.g., occasional messages or replies).\n",
    "\n",
    "* Many nodes are sparsed out or positioned toward the outer edges, indicating members or stats alumni with fewer interactions in the chat group.\n",
    "\n",
    "* Also, nodes that are loosely connected indicate alumni that interact with only a few members in the chat."
   ]
  },
  {
   "cell_type": "markdown",
   "metadata": {},
   "source": [
    "#### *Let's call it the end*"
   ]
  },
  {
   "cell_type": "markdown",
   "metadata": {},
   "source": []
  }
 ],
 "metadata": {
  "kernelspec": {
   "display_name": "base",
   "language": "python",
   "name": "python3"
  },
  "language_info": {
   "codemirror_mode": {
    "name": "ipython",
    "version": 3
   },
   "file_extension": ".py",
   "mimetype": "text/x-python",
   "name": "python",
   "nbconvert_exporter": "python",
   "pygments_lexer": "ipython3",
   "version": "3.11.7"
  }
 },
 "nbformat": 4,
 "nbformat_minor": 2
}
